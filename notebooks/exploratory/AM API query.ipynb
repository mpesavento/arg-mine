{
 "cells": [
  {
   "cell_type": "markdown",
   "metadata": {},
   "source": [
    "# Argument Mining API query testing\n",
    "\n",
    "Load the target datafile, and see how the query results work"
   ]
  },
  {
   "cell_type": "code",
   "execution_count": 1,
   "metadata": {},
   "outputs": [],
   "source": [
    "# reload local package definitions for each cell\n",
    "%load_ext autoreload\n",
    "%autoreload 2"
   ]
  },
  {
   "cell_type": "code",
   "execution_count": 31,
   "metadata": {},
   "outputs": [],
   "source": [
    "import os\n",
    "from dotenv import find_dotenv, load_dotenv\n",
    "import requests\n",
    "import pandas as pd\n",
    "\n",
    "from arg_mine import DATA_DIR\n",
    "from arg_mine.data.loaders import get_gdelt_df\n",
    "from arg_mine.api import classify\n",
    "from arg_mine import utils"
   ]
  },
  {
   "cell_type": "code",
   "execution_count": 3,
   "metadata": {},
   "outputs": [],
   "source": [
    "# load the env variables to get the API key\n",
    "load_dotenv(find_dotenv())\n",
    "am_user_id = os.getenv(\"ARGUMENTEXT_USERID\")\n",
    "am_user_key = os.getenv(\"ARGUMENTEXT_KEY\")"
   ]
  },
  {
   "cell_type": "code",
   "execution_count": 4,
   "metadata": {},
   "outputs": [
    {
     "name": "stderr",
     "output_type": "stream",
     "text": [
      "INFO:2020-06-16 21:45:27,146:arg_mine.data.loaders: reading data from: /opt/workspace/data/raw/2020-climate-change-narrative/WebNewsEnglishSnippets.2020.csv\n"
     ]
    },
    {
     "data": {
      "text/html": [
       "<div>\n",
       "<style scoped>\n",
       "    .dataframe tbody tr th:only-of-type {\n",
       "        vertical-align: middle;\n",
       "    }\n",
       "\n",
       "    .dataframe tbody tr th {\n",
       "        vertical-align: top;\n",
       "    }\n",
       "\n",
       "    .dataframe thead th {\n",
       "        text-align: right;\n",
       "    }\n",
       "</style>\n",
       "<table border=\"1\" class=\"dataframe\">\n",
       "  <thead>\n",
       "    <tr style=\"text-align: right;\">\n",
       "      <th></th>\n",
       "      <th>datetime</th>\n",
       "      <th>title</th>\n",
       "      <th>headline_image_url</th>\n",
       "      <th>content_url</th>\n",
       "      <th>snippit</th>\n",
       "      <th>timestamp</th>\n",
       "    </tr>\n",
       "  </thead>\n",
       "  <tbody>\n",
       "    <tr>\n",
       "      <th>0</th>\n",
       "      <td>20200115111500</td>\n",
       "      <td>Liberal MPs back Science Minister Karen Andrew...</td>\n",
       "      <td>https://static.ffx.io/images/$zoom_0.2627%2C$m...</td>\n",
       "      <td>https://www.smh.com.au/politics/federal/libera...</td>\n",
       "      <td>the science in her interview with The Age and...</td>\n",
       "      <td>2020-01-15 11:15:00</td>\n",
       "    </tr>\n",
       "    <tr>\n",
       "      <th>1</th>\n",
       "      <td>20200117184500</td>\n",
       "      <td>Several crowd-pullers on day two of KLF</td>\n",
       "      <td>https://www.thehindu.com/news/cities/kozhikode...</td>\n",
       "      <td>https://www.thehindu.com/news/cities/kozhikode...</td>\n",
       "      <td>Guha, who talked about patriotism and jingois...</td>\n",
       "      <td>2020-01-17 18:45:00</td>\n",
       "    </tr>\n",
       "    <tr>\n",
       "      <th>2</th>\n",
       "      <td>20200106233000</td>\n",
       "      <td>Seven arrested after gas rig protest</td>\n",
       "      <td>https://www.stourbridgenews.co.uk/resources/im...</td>\n",
       "      <td>https://www.stourbridgenews.co.uk/news/nationa...</td>\n",
       "      <td>three demands for the Scottish and UK Governm...</td>\n",
       "      <td>2020-01-06 23:30:00</td>\n",
       "    </tr>\n",
       "    <tr>\n",
       "      <th>3</th>\n",
       "      <td>20200101111500</td>\n",
       "      <td>Australia sending aid to wildfire towns as dea...</td>\n",
       "      <td>https://bloximages.newyork1.vip.townnews.com/h...</td>\n",
       "      <td>https://www.heraldmailmedia.com/news/nation/au...</td>\n",
       "      <td>this season the worst on record and reignited ...</td>\n",
       "      <td>2020-01-01 11:15:00</td>\n",
       "    </tr>\n",
       "    <tr>\n",
       "      <th>4</th>\n",
       "      <td>20200107101500</td>\n",
       "      <td>A hot, dry country caught between fire and a c...</td>\n",
       "      <td>NaN</td>\n",
       "      <td>http://global.chinadaily.com.cn/a/202001/07/WS...</td>\n",
       "      <td>, which is burned to generate electricity, wit...</td>\n",
       "      <td>2020-01-07 10:15:00</td>\n",
       "    </tr>\n",
       "  </tbody>\n",
       "</table>\n",
       "</div>"
      ],
      "text/plain": [
       "         datetime                                              title  \\\n",
       "0  20200115111500  Liberal MPs back Science Minister Karen Andrew...   \n",
       "1  20200117184500            Several crowd-pullers on day two of KLF   \n",
       "2  20200106233000               Seven arrested after gas rig protest   \n",
       "3  20200101111500  Australia sending aid to wildfire towns as dea...   \n",
       "4  20200107101500  A hot, dry country caught between fire and a c...   \n",
       "\n",
       "                                  headline_image_url  \\\n",
       "0  https://static.ffx.io/images/$zoom_0.2627%2C$m...   \n",
       "1  https://www.thehindu.com/news/cities/kozhikode...   \n",
       "2  https://www.stourbridgenews.co.uk/resources/im...   \n",
       "3  https://bloximages.newyork1.vip.townnews.com/h...   \n",
       "4                                                NaN   \n",
       "\n",
       "                                         content_url  \\\n",
       "0  https://www.smh.com.au/politics/federal/libera...   \n",
       "1  https://www.thehindu.com/news/cities/kozhikode...   \n",
       "2  https://www.stourbridgenews.co.uk/news/nationa...   \n",
       "3  https://www.heraldmailmedia.com/news/nation/au...   \n",
       "4  http://global.chinadaily.com.cn/a/202001/07/WS...   \n",
       "\n",
       "                                             snippit           timestamp  \n",
       "0   the science in her interview with The Age and... 2020-01-15 11:15:00  \n",
       "1   Guha, who talked about patriotism and jingois... 2020-01-17 18:45:00  \n",
       "2   three demands for the Scottish and UK Governm... 2020-01-06 23:30:00  \n",
       "3  this season the worst on record and reignited ... 2020-01-01 11:15:00  \n",
       "4  , which is burned to generate electricity, wit... 2020-01-07 10:15:00  "
      ]
     },
     "execution_count": 4,
     "metadata": {},
     "output_type": "execute_result"
    }
   ],
   "source": [
    "csv_datapath = os.path.join(DATA_DIR, \"raw\", \"2020-climate-change-narrative\")\n",
    "csv_filepath = os.path.join(csv_datapath, \"WebNewsEnglishSnippets.2020.csv\")\n",
    "\n",
    "url_df = get_gdelt_df(csv_filepath)\n",
    "url_df.head()"
   ]
  },
  {
   "cell_type": "markdown",
   "metadata": {},
   "source": [
    "## Build the `classify` request"
   ]
  },
  {
   "cell_type": "code",
   "execution_count": 5,
   "metadata": {},
   "outputs": [],
   "source": [
    "url = url_df.iloc[0].content_url"
   ]
  },
  {
   "cell_type": "code",
   "execution_count": 42,
   "metadata": {},
   "outputs": [
    {
     "name": "stderr",
     "output_type": "stream",
     "text": [
      "DEBUG:2020-06-16 23:12:21,852:urllib3.connectionpool: Starting new HTTPS connection (1): api.argumentsearch.com:443\n",
      "DEBUG:2020-06-16 23:12:23,867:urllib3.connectionpool: https://api.argumentsearch.com:443 \"POST /en/classify HTTP/1.1\" 200 4463\n"
     ]
    }
   ],
   "source": [
    "CLASSIFY_BASE_URL = \"https://api.argumentsearch.com/en/classify\"\n",
    "timeout = 5\n",
    "\n",
    "topic = \"climate change\"\n",
    "\n",
    "\n",
    "payload = {\n",
    "    \"topic\": topic,\n",
    "    \"userID\": am_user_id,\n",
    "    \"apiKey\": am_user_key,\n",
    "    \"targetUrl\": url,\n",
    "    \"topicRelevance\": \"word2vec\",\n",
    "    \"predictStance\": True,\n",
    "    \"computeAttention\": True,\n",
    "    \"showOnlyArguments\": False,\n",
    "}\n",
    "\n",
    "response = requests.post(\n",
    "    CLASSIFY_BASE_URL,\n",
    "    json=payload,\n",
    "    timeout=timeout,\n",
    ")\n",
    "response.raise_for_status()"
   ]
  },
  {
   "cell_type": "code",
   "execution_count": 8,
   "metadata": {},
   "outputs": [],
   "source": [
    "out = response.json()"
   ]
  },
  {
   "cell_type": "code",
   "execution_count": 9,
   "metadata": {},
   "outputs": [
    {
     "data": {
      "text/plain": [
       "{'computeAttention': True,\n",
       " 'language': 'en',\n",
       " 'modelVersion': 0.1,\n",
       " 'predictStance': True,\n",
       " 'removeDuplicates': True,\n",
       " 'showOnlyArguments': False,\n",
       " 'sortBy': 'argumentConfidence',\n",
       " 'timeArgumentPrediction': 0.5229649543762207,\n",
       " 'timeAttentionComputation': -1,\n",
       " 'timeLogging': 0.12923741340637207,\n",
       " 'timePreprocessing': 3.552436828613281e-05,\n",
       " 'timeStancePrediction': -1,\n",
       " 'timeTotal': 1.2727065086364746,\n",
       " 'topic': 'climate change',\n",
       " 'totalArguments': 5,\n",
       " 'totalClassifiedSentences': 37,\n",
       " 'totalContraArguments': 3,\n",
       " 'totalNonArguments': 32,\n",
       " 'totalProArguments': 2,\n",
       " 'userMetadata': ''}"
      ]
     },
     "execution_count": 9,
     "metadata": {},
     "output_type": "execute_result"
    }
   ],
   "source": [
    "out['metadata']"
   ]
  },
  {
   "cell_type": "code",
   "execution_count": 10,
   "metadata": {},
   "outputs": [
    {
     "data": {
      "text/plain": [
       "float"
      ]
     },
     "execution_count": 10,
     "metadata": {},
     "output_type": "execute_result"
    }
   ],
   "source": [
    "type(out['metadata']['modelVersion'])"
   ]
  },
  {
   "cell_type": "code",
   "execution_count": 20,
   "metadata": {},
   "outputs": [
    {
     "data": {
      "text/plain": [
       "'https://www.smh.com.au/politics/federal/liberals-speak-out-to-back-science-minister-on-climate-change-action-20200115-p53rs1.html'"
      ]
     },
     "execution_count": 20,
     "metadata": {},
     "output_type": "execute_result"
    }
   ],
   "source": [
    "url"
   ]
  },
  {
   "cell_type": "code",
   "execution_count": 21,
   "metadata": {},
   "outputs": [
    {
     "data": {
      "text/plain": [
       "'climate change'"
      ]
     },
     "execution_count": 21,
     "metadata": {},
     "output_type": "execute_result"
    }
   ],
   "source": [
    "topic"
   ]
  },
  {
   "cell_type": "code",
   "execution_count": 41,
   "metadata": {},
   "outputs": [
    {
     "name": "stderr",
     "output_type": "stream",
     "text": [
      "DEBUG:2020-06-16 22:43:11,670:urllib3.connectionpool: Starting new HTTPS connection (1): api.argumentsearch.com:443\n",
      "DEBUG:2020-06-16 22:43:13,538:urllib3.connectionpool: https://api.argumentsearch.com:443 \"POST /en/classify HTTP/1.1\" 200 4202\n"
     ]
    },
    {
     "data": {
      "text/plain": [
       "{'metadata': {'computeAttention': False,\n",
       "  'language': 'en',\n",
       "  'modelVersion': 0.1,\n",
       "  'predictStance': True,\n",
       "  'removeDuplicates': True,\n",
       "  'showOnlyArguments': False,\n",
       "  'sortBy': 'argumentConfidence',\n",
       "  'timeArgumentPrediction': 0.49022936820983887,\n",
       "  'timeAttentionComputation': -1,\n",
       "  'timeLogging': 0.036528825759887695,\n",
       "  'timePreprocessing': 4.482269287109375e-05,\n",
       "  'timeStancePrediction': -1,\n",
       "  'timeTotal': 1.1283648014068604,\n",
       "  'topic': 'climate change',\n",
       "  'totalArguments': 5,\n",
       "  'totalClassifiedSentences': 37,\n",
       "  'totalContraArguments': 3,\n",
       "  'totalNonArguments': 32,\n",
       "  'totalProArguments': 2,\n",
       "  'userMetadata': 'https://www.smh.com.au/politics/federal/liberals-speak-out-to-back-science-minister-on-climate-change-action-20200115-p53rs1.html'},\n",
       " 'sentences': [{'argumentConfidence': 0.8324097394943237,\n",
       "   'argumentLabel': 'argument',\n",
       "   'sentenceOriginal': '\"So she\\'s right - there is no point wasting time discussing climate change - because we are not going to stop it from happening,\" he said of the minister\\'s comments.',\n",
       "   'sentencePreprocessed': '\"So she\\'s right - there is no point wasting time discussing climate change - because we are not going to stop it from happening,\" he said of the minister\\'s comments.',\n",
       "   'sortConfidence': 0.9131057365821765,\n",
       "   'stanceConfidence': 0.9938017336700293,\n",
       "   'stanceLabel': 'pro'},\n",
       "  {'argumentConfidence': 0.8321625888347626,\n",
       "   'argumentLabel': 'argument',\n",
       "   'sentenceOriginal': 'Mr Zimmerman said climate change clearly underlined the bushfires being experienced this summer.',\n",
       "   'sentencePreprocessed': 'Mr Zimmerman said climate change clearly underlined the bushfires being experienced this summer.',\n",
       "   'sortConfidence': 0.8809053269273679,\n",
       "   'stanceConfidence': 0.9296480650199731,\n",
       "   'stanceLabel': 'contra'},\n",
       "  {'argumentConfidence': 0.8090184926986694,\n",
       "   'argumentLabel': 'argument',\n",
       "   'sentenceOriginal': 'NSW Liberal senator Andrew Bragg said climate change was not a matter of personal belief when it should be based on the science.',\n",
       "   'sentencePreprocessed': 'NSW Liberal senator Andrew Bragg said climate change was not a matter of personal belief when it should be based on the science.',\n",
       "   'sortConfidence': 0.8656550159382224,\n",
       "   'stanceConfidence': 0.9222915391777753,\n",
       "   'stanceLabel': 'contra'},\n",
       "  {'argumentConfidence': 0.8042505085468292,\n",
       "   'argumentLabel': 'argument',\n",
       "   'sentenceOriginal': '\"Karen is correct when she says every second spent discussing whether the climate is changing is wasted time – it\\'s time that would be much better spent on mitigation and adaption strategy development.\"',\n",
       "   'sentencePreprocessed': '\"Karen is correct when she says every second spent discussing whether the climate is changing is wasted time – it\\'s time that would be much better spent on mitigation and adaption strategy development.\"',\n",
       "   'sortConfidence': 0.793566440312085,\n",
       "   'stanceConfidence': 0.7828823720773408,\n",
       "   'stanceLabel': 'contra'},\n",
       "  {'argumentConfidence': 0.8910331651568413,\n",
       "   'argumentLabel': 'argument',\n",
       "   'sentenceOriginal': 'Mr Kelly said the only \"denial\" he had seen was coming from those who denied that Australia only made up 1.3 per cent of global emissions and could not have any measurable effect on global temperatures.',\n",
       "   'sentencePreprocessed': 'Mr Kelly said the only \"denial\" he had seen was coming from those who denied that Australia only made up 1.3 per cent of global emissions and could not have any measurable effect on global temperatures.',\n",
       "   'sortConfidence': 0.7078584677645311,\n",
       "   'stanceConfidence': 0.5246837703722209,\n",
       "   'stanceLabel': 'pro'},\n",
       "  {'argumentConfidence': 0.37853556871414185,\n",
       "   'argumentLabel': 'no argument',\n",
       "   'sentenceOriginal': '\"What I have been seeking to stress, particularly in response to these most recent disasters, is there are a broader range of responses that go beyond just emissions reduction and that goes to climate resilience,\" Mr Morrison said.',\n",
       "   'sentencePreprocessed': '\"What I have been seeking to stress, particularly in response to these most recent disasters, is there are a broader range of responses that go beyond just emissions reduction and that goes to climate resilience,\" Mr Morrison said.',\n",
       "   'sortConfidence': 0.37853556871414185},\n",
       "  {'argumentConfidence': 0.3381425142288208,\n",
       "   'argumentLabel': 'no argument',\n",
       "   'sentenceOriginal': '\"Debate on whether science is real or not is entirely unproductive to meeting the challenges that Australia and the world face.\"',\n",
       "   'sentencePreprocessed': '\"Debate on whether science is real or not is entirely unproductive to meeting the challenges that Australia and the world face.\"',\n",
       "   'sortConfidence': 0.3381425142288208},\n",
       "  {'argumentConfidence': 0.06029713153839111,\n",
       "   'argumentLabel': 'no argument',\n",
       "   'sentenceOriginal': 'Mr Morrison said Ms Andrews had \"well set out\" the government policy and signalled again that he would bring forward future policies to adapt to a changing climate while also doing more to reduce greenhouse gas emissions.',\n",
       "   'sentencePreprocessed': 'Mr Morrison said Ms Andrews had \"well set out\" the government policy and signalled again that he would bring forward future policies to adapt to a changing climate while also doing more to reduce greenhouse gas emissions.',\n",
       "   'sortConfidence': 0.06029713153839111},\n",
       "  {'argumentConfidence': 0.05076223611831665,\n",
       "   'argumentLabel': 'no argument',\n",
       "   'sentenceOriginal': '\"We have no time for conspiracy theories when there is so much to be done.',\n",
       "   'sentencePreprocessed': '\"We have no time for conspiracy theories when there is so much to be done.',\n",
       "   'sortConfidence': 0.05076223611831665},\n",
       "  {'argumentConfidence': 0.04784893989562988,\n",
       "   'argumentLabel': 'no argument',\n",
       "   'sentenceOriginal': '\"We have to make sure that we\\'re able to respond to the impact that we\\'re already experiencing as well as playing our part in reducing emissions to avoid temperature increases reaching catastrophic levels,\" he said.',\n",
       "   'sentencePreprocessed': '\"We have to make sure that we\\'re able to respond to the impact that we\\'re already experiencing as well as playing our part in reducing emissions to avoid temperature increases reaching catastrophic levels,\" he said.',\n",
       "   'sortConfidence': 0.04784893989562988},\n",
       "  {'argumentConfidence': 0.03235971927642822,\n",
       "   'argumentLabel': 'no argument',\n",
       "   'sentenceOriginal': 'We shouldn\\'t waste time on belief because science is not a matter of belief,\" he said.',\n",
       "   'sentencePreprocessed': 'We shouldn\\'t waste time on belief because science is not a matter of belief,\" he said.',\n",
       "   'sortConfidence': 0.03235971927642822},\n",
       "  {'argumentConfidence': 0.03175872564315796,\n",
       "   'argumentLabel': 'no argument',\n",
       "   'sentenceOriginal': '\"And we are in for longer, hotter, drier summers.',\n",
       "   'sentencePreprocessed': '\"And we are in for longer, hotter, drier summers.',\n",
       "   'sortConfidence': 0.03175872564315796},\n",
       "  {'argumentConfidence': 0.02860867977142334,\n",
       "   'argumentLabel': 'no argument',\n",
       "   'sentenceOriginal': 'Liberal backbenchers have stepped up calls for greater action on climate change ahead of talks of new policy measures within weeks, backing a blunt warning from a senior minister to \"move on\" from arguments about whether global warming is real.',\n",
       "   'sentencePreprocessed': 'Liberal backbenchers have stepped up calls for greater action on climate change ahead of talks of new policy measures within weeks, backing a blunt warning from a senior minister to \"move on\" from arguments about whether global warming is real.',\n",
       "   'sortConfidence': 0.02860867977142334},\n",
       "  {'argumentConfidence': 0.025478720664978027,\n",
       "   'argumentLabel': 'no argument',\n",
       "   'sentenceOriginal': '\"It may be argued that by Australia committing to a \\'unilateral Co2 disarmament\\' we\\'d influence others, China and India and others to follow the same, but that\\'s a separate argument.\"',\n",
       "   'sentencePreprocessed': '\"It may be argued that by Australia committing to a \\'unilateral Co2 disarmament\\' we\\'d influence others, China and India and others to follow the same, but that\\'s a separate argument.\"',\n",
       "   'sortConfidence': 0.025478720664978027},\n",
       "  {'argumentConfidence': 0.01574045419692993,\n",
       "   'argumentLabel': 'no argument',\n",
       "   'sentenceOriginal': 'The Liberal MP for Wentworth in Sydney\\'s east, Dave Sharma, said he welcomed Ms Andrews\\' \"common sense proposition\", while the MP for Mackellar on the Sydney northern beaches, Jason Falinski, said there was no debate about whether climate change was real.',\n",
       "   'sentencePreprocessed': 'The Liberal MP for Wentworth in Sydney\\'s east, Dave Sharma, said he welcomed Ms Andrews\\' \"common sense proposition\", while the MP for Mackellar on the Sydney northern beaches, Jason Falinski, said there was no debate about whether climate change was real.',\n",
       "   'sortConfidence': 0.01574045419692993},\n",
       "  {'argumentConfidence': 0.009373068809509277,\n",
       "   'argumentLabel': 'no argument',\n",
       "   'sentenceOriginal': 'Liberal MPs are speaking out about the need for action on climate change as smoke blankets major Australian cities.',\n",
       "   'sentencePreprocessed': 'Liberal MPs are speaking out about the need for action on climate change as smoke blankets major Australian cities.',\n",
       "   'sortConfidence': 0.009373068809509277},\n",
       "  {'argumentConfidence': 0.009337961673736572,\n",
       "   'argumentLabel': 'no argument',\n",
       "   'sentenceOriginal': '\"Overwhelmingly, Australians accept the science of climate change and they now have lived experience of the climatic conditions this summer,\" he said.',\n",
       "   'sentencePreprocessed': '\"Overwhelmingly, Australians accept the science of climate change and they now have lived experience of the climatic conditions this summer,\" he said.',\n",
       "   'sortConfidence': 0.009337961673736572},\n",
       "  {'argumentConfidence': 0.00898897647857666,\n",
       "   'argumentLabel': 'no argument',\n",
       "   'sentenceOriginal': 'Science has underpinned our policies over the long run.\"',\n",
       "   'sentencePreprocessed': 'Science has underpinned our policies over the long run.\"',\n",
       "   'sortConfidence': 0.00898897647857666},\n",
       "  {'argumentConfidence': 0.005464673042297363,\n",
       "   'argumentLabel': 'no argument',\n",
       "   'sentenceOriginal': 'North Sydney MP Trent Zimmerman said he strongly backed Ms Andrews for defending the science in her interview with The Age and The Sydney Morning Herald on Wednesday.',\n",
       "   'sentencePreprocessed': 'North Sydney MP Trent Zimmerman said he strongly backed Ms Andrews for defending the science in her interview with The Age and The Sydney Morning Herald on Wednesday.',\n",
       "   'sortConfidence': 0.005464673042297363},\n",
       "  {'argumentConfidence': 0.00445246696472168,\n",
       "   'argumentLabel': 'no argument',\n",
       "   'sentenceOriginal': 'Government MPs have been reluctant to speak in public on the climate change debate out of concern their opponents would claim they were \"using\" the fires to argue for policy change, but some spoke of a palpable shift in the party room when major cities were shrouded in bushfire smoke.',\n",
       "   'sentencePreprocessed': 'Government MPs have been reluctant to speak in public on the climate change debate out of concern their opponents would claim they were \"using\" the fires to argue for policy change, but some spoke of a palpable shift in the party room when major cities were shrouded in bushfire smoke.',\n",
       "   'sortConfidence': 0.00445246696472168},\n",
       "  {'argumentConfidence': 0.004189014434814453,\n",
       "   'argumentLabel': 'no argument',\n",
       "   'sentenceOriginal': '\"The science minister is right.',\n",
       "   'sentencePreprocessed': '\"The science minister is right.',\n",
       "   'sortConfidence': 0.004189014434814453},\n",
       "  {'argumentConfidence': 0.003976345062255859,\n",
       "   'argumentLabel': 'no argument',\n",
       "   'sentenceOriginal': '\"We know it is real.',\n",
       "   'sentencePreprocessed': '\"We know it is real.',\n",
       "   'sortConfidence': 0.003976345062255859},\n",
       "  {'argumentConfidence': 0.0038951635360717773,\n",
       "   'argumentLabel': 'no argument',\n",
       "   'sentenceOriginal': 'The vocal support counters a smaller group of conservatives within the Morrison government party room who oppose climate action, setting the scene for a clash over policy when Parliament resumes next month.',\n",
       "   'sentencePreprocessed': 'The vocal support counters a smaller group of conservatives within the Morrison government party room who oppose climate action, setting the scene for a clash over policy when Parliament resumes next month.',\n",
       "   'sortConfidence': 0.0038951635360717773},\n",
       "  {'argumentConfidence': 0.003233671188354492,\n",
       "   'argumentLabel': 'no argument',\n",
       "   'sentenceOriginal': 'Fiona Martin, the Liberal member for Reid in western Sydney and a former psychologist, also backed Ms Andrews.',\n",
       "   'sentencePreprocessed': 'Fiona Martin, the Liberal member for Reid in western Sydney and a former psychologist, also backed Ms Andrews.',\n",
       "   'sortConfidence': 0.003233671188354492},\n",
       "  {'argumentConfidence': 0.003215789794921875,\n",
       "   'argumentLabel': 'no argument',\n",
       "   'sentenceOriginal': '\"Whether you\\'re a farmer who\\'s facing another season without a crop or a family who just lost your home in these awful bushfires, it\\'s time we all look at moving forward and getting prepared for the future,\" said NSW Liberal senator Hollie Hughes.',\n",
       "   'sentencePreprocessed': '\"Whether you\\'re a farmer who\\'s facing another season without a crop or a family who just lost your home in these awful bushfires, it\\'s time we all look at moving forward and getting prepared for the future,\" said NSW Liberal senator Hollie Hughes.',\n",
       "   'sortConfidence': 0.003215789794921875},\n",
       "  {'argumentConfidence': 0.0025895237922668457,\n",
       "   'argumentLabel': 'no argument',\n",
       "   'sentenceOriginal': \"Mr Morrison's remarks last Sunday on climate action and Ms Andrews' comments on the science are encouraging MPs to speak up in the knowledge the government is working on a technology roadmap with further climate policies.\",\n",
       "   'sentencePreprocessed': \"Mr Morrison's remarks last Sunday on climate action and Ms Andrews' comments on the science are encouraging MPs to speak up in the knowledge the government is working on a technology roadmap with further climate policies.\",\n",
       "   'sortConfidence': 0.0025895237922668457},\n",
       "  {'argumentConfidence': 0.0019148588180541992,\n",
       "   'argumentLabel': 'no argument',\n",
       "   'sentenceOriginal': 'That is an acknowledged position, always acknowledged by the government.\"',\n",
       "   'sentencePreprocessed': 'That is an acknowledged position, always acknowledged by the government.\"',\n",
       "   'sortConfidence': 0.0019148588180541992},\n",
       "  {'argumentConfidence': 0.0017796158790588379,\n",
       "   'argumentLabel': 'no argument',\n",
       "   'sentenceOriginal': '\"Australians want us to get on with the job of meeting our Paris emissions but looking at what more we can do to reduce our emissions further.',\n",
       "   'sentencePreprocessed': '\"Australians want us to get on with the job of meeting our Paris emissions but looking at what more we can do to reduce our emissions further.',\n",
       "   'sortConfidence': 0.0017796158790588379},\n",
       "  {'argumentConfidence': 0.0017527341842651367,\n",
       "   'argumentLabel': 'no argument',\n",
       "   'sentenceOriginal': '\"It is good to see minister Andrews working towards practical strategies to respond to climate change and engaging with the experts.\"',\n",
       "   'sentencePreprocessed': '\"It is good to see minister Andrews working towards practical strategies to respond to climate change and engaging with the experts.\"',\n",
       "   'sortConfidence': 0.0017527341842651367},\n",
       "  {'argumentConfidence': 0.001714169979095459,\n",
       "   'argumentLabel': 'no argument',\n",
       "   'sentenceOriginal': 'We now need to work on sensible and practical measures to reducing our carbon emissions,\" he tweeted.',\n",
       "   'sentencePreprocessed': 'We now need to work on sensible and practical measures to reducing our carbon emissions,\" he tweeted.',\n",
       "   'sortConfidence': 0.001714169979095459},\n",
       "  {'argumentConfidence': 0.0016959905624389648,\n",
       "   'argumentLabel': 'no argument',\n",
       "   'sentenceOriginal': '\"The job of the government is to develop public policy informed by a myriad of factors, including science, and properly consider trade-offs and costs of different forms of action, and the minister is right – that is where our focus should be,\" he said.',\n",
       "   'sentencePreprocessed': '\"The job of the government is to develop public policy informed by a myriad of factors, including science, and properly consider trade-offs and costs of different forms of action, and the minister is right – that is where our focus should be,\" he said.',\n",
       "   'sortConfidence': 0.0016959905624389648},\n",
       "  {'argumentConfidence': 0.0013790130615234375,\n",
       "   'argumentLabel': 'no argument',\n",
       "   'sentenceOriginal': \"The member for Goldstein in bayside Melbourne, Tim Wilson, also backed the minister's comments on the science.\",\n",
       "   'sentencePreprocessed': \"The member for Goldstein in bayside Melbourne, Tim Wilson, also backed the minister's comments on the science.\",\n",
       "   'sortConfidence': 0.0013790130615234375},\n",
       "  {'argumentConfidence': 0.0013248324394226074,\n",
       "   'argumentLabel': 'no argument',\n",
       "   'sentenceOriginal': \"Liberal MP Trent Zimmerman says it's time for the coalition to take action on climate change.Credit:Alex Ellinghausen\",\n",
       "   'sentencePreprocessed': \"Liberal MP Trent Zimmerman says it's time for the coalition to take action on climate change.Credit:Alex Ellinghausen\",\n",
       "   'sortConfidence': 0.0013248324394226074},\n",
       "  {'argumentConfidence': 0.0011194348335266113,\n",
       "   'argumentLabel': 'no argument',\n",
       "   'sentenceOriginal': 'Liberals speak out to back Science Minister on climate change action',\n",
       "   'sentencePreprocessed': 'Liberals speak out to back Science Minister on climate change action',\n",
       "   'sortConfidence': 0.0011194348335266113},\n",
       "  {'argumentConfidence': 0.0008811354637145996,\n",
       "   'argumentLabel': 'no argument',\n",
       "   'sentenceOriginal': 'Advertisement',\n",
       "   'sentencePreprocessed': 'Advertisement',\n",
       "   'sortConfidence': 0.0008811354637145996},\n",
       "  {'argumentConfidence': 0.0008710026741027832,\n",
       "   'argumentLabel': 'no argument',\n",
       "   'sentenceOriginal': \"While conservative Liberals, such as southern Sydney MP Craig Kelly, gain headlines for questioning the science, many on the moderate side of the party back Ms Andrews and see Mr Morrison's latest comments as a sign of further policy action once Parliament returns on February 4.\",\n",
       "   'sentencePreprocessed': \"While conservative Liberals, such as southern Sydney MP Craig Kelly, gain headlines for questioning the science, many on the moderate side of the party back Ms Andrews and see Mr Morrison's latest comments as a sign of further policy action once Parliament returns on February 4.\",\n",
       "   'sortConfidence': 0.0008710026741027832},\n",
       "  {'argumentConfidence': 0.000870048999786377,\n",
       "   'argumentLabel': 'no argument',\n",
       "   'sentenceOriginal': 'Loading',\n",
       "   'sentencePreprocessed': 'Loading',\n",
       "   'sortConfidence': 0.000870048999786377}]}"
      ]
     },
     "execution_count": 41,
     "metadata": {},
     "output_type": "execute_result"
    }
   ],
   "source": [
    "response = classify.classify_url_sentences(topic, url, am_user_id, am_user_key)\n",
    "response"
   ]
  },
  {
   "cell_type": "code",
   "execution_count": 39,
   "metadata": {},
   "outputs": [
    {
     "data": {
      "text/plain": [
       "ClassifiedSentence(url='https://www.smh.com.au/politics/federal/liberals-speak-out-to-back-science-minister-on-climate-change-action-20200115-p53rs1.html', doc_id='657f9dd95eb97597e34d0c05b5a93ba6', topic='climate change', argument_confidence=0.8324097394943237, argument_label='argument', sentence_original='\"So she\\'s right - there is no point wasting time discussing climate change - because we are not going to stop it from happening,\" he said of the minister\\'s comments.', sentence_preprocessed='\"So she\\'s right - there is no point wasting time discussing climate change - because we are not going to stop it from happening,\" he said of the minister\\'s comments.', sort_confidence=0.9131057365821765, stance_confidence=0.9938017336700293, stance_label='pro')"
      ]
     },
     "execution_count": 39,
     "metadata": {},
     "output_type": "execute_result"
    }
   ],
   "source": [
    "classify.ClassifiedSentence.from_dict(url, topic, response['sentences'][0])"
   ]
  },
  {
   "cell_type": "code",
   "execution_count": 40,
   "metadata": {},
   "outputs": [
    {
     "data": {
      "text/plain": [
       "{'argumentConfidence': 0.8324097394943237,\n",
       " 'argumentLabel': 'argument',\n",
       " 'sentenceOriginal': '\"So she\\'s right - there is no point wasting time discussing climate change - because we are not going to stop it from happening,\" he said of the minister\\'s comments.',\n",
       " 'sentencePreprocessed': '\"So she\\'s right - there is no point wasting time discussing climate change - because we are not going to stop it from happening,\" he said of the minister\\'s comments.',\n",
       " 'sortConfidence': 0.9131057365821765,\n",
       " 'stanceConfidence': 0.9938017336700293,\n",
       " 'stanceLabel': 'pro'}"
      ]
     },
     "execution_count": 40,
     "metadata": {},
     "output_type": "execute_result"
    }
   ],
   "source": [
    "response['sentences'][0]"
   ]
  },
  {
   "cell_type": "code",
   "execution_count": null,
   "metadata": {},
   "outputs": [],
   "source": []
  },
  {
   "cell_type": "code",
   "execution_count": null,
   "metadata": {},
   "outputs": [],
   "source": []
  },
  {
   "cell_type": "code",
   "execution_count": 66,
   "metadata": {},
   "outputs": [
    {
     "name": "stderr",
     "output_type": "stream",
     "text": [
      "DEBUG:2020-06-16 23:49:53,049:urllib3.connectionpool: Starting new HTTPS connection (1): api.argumentsearch.com:443\n",
      "DEBUG:2020-06-16 23:49:54,187:urllib3.connectionpool: https://api.argumentsearch.com:443 \"POST /en/classify HTTP/1.1\" 400 103\n"
     ]
    },
    {
     "name": "stdout",
     "output_type": "stream",
     "text": [
      "{'error': 'Website could not be crawled or returned an empty result. Please contact an administrator.'}\n"
     ]
    },
    {
     "ename": "Refused",
     "evalue": "Website could not be crawled or returned an empty result. Please contact an administrator.",
     "output_type": "error",
     "traceback": [
      "\u001b[0;31m----------------------------------------------------\u001b[0m",
      "\u001b[0;31mHTTPError\u001b[0m          Traceback (most recent call last)",
      "\u001b[0;32m/opt/workspace/arg_mine/api/classify.py\u001b[0m in \u001b[0;36mclassify_url_sentences\u001b[0;34m(topic, url, user_id, api_key, only_arguments, topic_relevance, timeout)\u001b[0m\n\u001b[1;32m    194\u001b[0m         )\n\u001b[0;32m--> 195\u001b[0;31m         \u001b[0mresponse\u001b[0m\u001b[0;34m.\u001b[0m\u001b[0mraise_for_status\u001b[0m\u001b[0;34m(\u001b[0m\u001b[0;34m)\u001b[0m\u001b[0;34m\u001b[0m\u001b[0;34m\u001b[0m\u001b[0m\n\u001b[0m\u001b[1;32m    196\u001b[0m \u001b[0;34m\u001b[0m\u001b[0m\n",
      "\u001b[0;32m/usr/local/lib/python3.8/site-packages/requests/models.py\u001b[0m in \u001b[0;36mraise_for_status\u001b[0;34m(self)\u001b[0m\n\u001b[1;32m    940\u001b[0m         \u001b[0;32mif\u001b[0m \u001b[0mhttp_error_msg\u001b[0m\u001b[0;34m:\u001b[0m\u001b[0;34m\u001b[0m\u001b[0;34m\u001b[0m\u001b[0m\n\u001b[0;32m--> 941\u001b[0;31m             \u001b[0;32mraise\u001b[0m \u001b[0mHTTPError\u001b[0m\u001b[0;34m(\u001b[0m\u001b[0mhttp_error_msg\u001b[0m\u001b[0;34m,\u001b[0m \u001b[0mresponse\u001b[0m\u001b[0;34m=\u001b[0m\u001b[0mself\u001b[0m\u001b[0;34m)\u001b[0m\u001b[0;34m\u001b[0m\u001b[0;34m\u001b[0m\u001b[0m\n\u001b[0m\u001b[1;32m    942\u001b[0m \u001b[0;34m\u001b[0m\u001b[0m\n",
      "\u001b[0;31mHTTPError\u001b[0m: 400 Client Error: BAD REQUEST for url: https://api.argumentsearch.com/en/classify",
      "\nDuring handling of the above exception, another exception occurred:\n",
      "\u001b[0;31mRefused\u001b[0m            Traceback (most recent call last)",
      "\u001b[0;32m<ipython-input-66-7056682efa16>\u001b[0m in \u001b[0;36m<module>\u001b[0;34m\u001b[0m\n\u001b[1;32m      1\u001b[0m \u001b[0;31m# good example of a link that is no longer valid\u001b[0m\u001b[0;34m\u001b[0m\u001b[0;34m\u001b[0m\u001b[0;34m\u001b[0m\u001b[0m\n\u001b[1;32m      2\u001b[0m \u001b[0;34m\u001b[0m\u001b[0m\n\u001b[0;32m----> 3\u001b[0;31m \u001b[0mresponse\u001b[0m \u001b[0;34m=\u001b[0m \u001b[0mclassify\u001b[0m\u001b[0;34m.\u001b[0m\u001b[0mclassify_url_sentences\u001b[0m\u001b[0;34m(\u001b[0m\u001b[0mtopic\u001b[0m\u001b[0;34m,\u001b[0m \u001b[0murl_df\u001b[0m\u001b[0;34m.\u001b[0m\u001b[0mcontent_url\u001b[0m\u001b[0;34m.\u001b[0m\u001b[0mvalues\u001b[0m\u001b[0;34m[\u001b[0m\u001b[0;36m3\u001b[0m\u001b[0;34m]\u001b[0m\u001b[0;34m,\u001b[0m \u001b[0mam_user_id\u001b[0m\u001b[0;34m,\u001b[0m \u001b[0mam_user_key\u001b[0m\u001b[0;34m)\u001b[0m\u001b[0;34m\u001b[0m\u001b[0;34m\u001b[0m\u001b[0m\n\u001b[0m",
      "\u001b[0;32m/opt/workspace/arg_mine/api/classify.py\u001b[0m in \u001b[0;36mclassify_url_sentences\u001b[0;34m(topic, url, user_id, api_key, only_arguments, topic_relevance, timeout)\u001b[0m\n\u001b[1;32m    203\u001b[0m             \u001b[0mmessage\u001b[0m \u001b[0;34m=\u001b[0m \u001b[0merror\u001b[0m\u001b[0;34m[\u001b[0m\u001b[0;34m'error'\u001b[0m\u001b[0;34m]\u001b[0m\u001b[0;34m\u001b[0m\u001b[0;34m\u001b[0m\u001b[0m\n\u001b[1;32m    204\u001b[0m             \u001b[0;32mif\u001b[0m \u001b[0;34m\"Website could not be crawled\"\u001b[0m \u001b[0;32min\u001b[0m \u001b[0mmessage\u001b[0m\u001b[0;34m:\u001b[0m\u001b[0;34m\u001b[0m\u001b[0;34m\u001b[0m\u001b[0m\n\u001b[0;32m--> 205\u001b[0;31m                 \u001b[0;32mraise\u001b[0m \u001b[0merrors\u001b[0m\u001b[0;34m.\u001b[0m\u001b[0mRefused\u001b[0m\u001b[0;34m(\u001b[0m\u001b[0mmessage\u001b[0m\u001b[0;34m)\u001b[0m\u001b[0;34m\u001b[0m\u001b[0;34m\u001b[0m\u001b[0m\n\u001b[0m\u001b[1;32m    206\u001b[0m             \u001b[0;32mraise\u001b[0m \u001b[0merrors\u001b[0m\u001b[0;34m.\u001b[0m\u001b[0mArgumenTextGatewayError\u001b[0m\u001b[0;34m(\u001b[0m\u001b[0mmessage\u001b[0m\u001b[0;34m)\u001b[0m \u001b[0;32mfrom\u001b[0m \u001b[0me\u001b[0m\u001b[0;34m\u001b[0m\u001b[0;34m\u001b[0m\u001b[0m\n\u001b[1;32m    207\u001b[0m \u001b[0;34m\u001b[0m\u001b[0m\n",
      "\u001b[0;31mRefused\u001b[0m: Website could not be crawled or returned an empty result. Please contact an administrator."
     ]
    }
   ],
   "source": [
    "# good example of a link that is no longer valid\n",
    "\n",
    "response = classify.classify_url_sentences(topic, url_df.content_url.values[3], am_user_id, am_user_key)"
   ]
  },
  {
   "cell_type": "code",
   "execution_count": null,
   "metadata": {},
   "outputs": [],
   "source": []
  },
  {
   "cell_type": "code",
   "execution_count": null,
   "metadata": {},
   "outputs": [],
   "source": []
  },
  {
   "cell_type": "code",
   "execution_count": null,
   "metadata": {},
   "outputs": [],
   "source": []
  },
  {
   "cell_type": "markdown",
   "metadata": {},
   "source": [
    "## run a batch of urls"
   ]
  },
  {
   "cell_type": "code",
   "execution_count": 76,
   "metadata": {},
   "outputs": [
    {
     "name": "stderr",
     "output_type": "stream",
     "text": [
      "DEBUG:2020-06-16 23:59:56,794:arg_mine.api.classify: Attempting url 0, try #1\n",
      "DEBUG:2020-06-16 23:59:56,796:urllib3.connectionpool: Starting new HTTPS connection (1): api.argumentsearch.com:443\n",
      "DEBUG:2020-06-16 23:59:58,660:urllib3.connectionpool: https://api.argumentsearch.com:443 \"POST /en/classify HTTP/1.1\" 200 1211\n",
      "DEBUG:2020-06-16 23:59:58,664:arg_mine.api.classify: Attempting url 1, try #1\n",
      "DEBUG:2020-06-16 23:59:58,666:urllib3.connectionpool: Starting new HTTPS connection (1): api.argumentsearch.com:443\n",
      "DEBUG:2020-06-17 00:00:00,154:urllib3.connectionpool: https://api.argumentsearch.com:443 \"POST /en/classify HTTP/1.1\" 200 432\n",
      "DEBUG:2020-06-17 00:00:00,158:arg_mine.api.classify: Attempting url 2, try #1\n",
      "DEBUG:2020-06-17 00:00:00,162:urllib3.connectionpool: Starting new HTTPS connection (1): api.argumentsearch.com:443\n",
      "DEBUG:2020-06-17 00:00:02,447:urllib3.connectionpool: https://api.argumentsearch.com:443 \"POST /en/classify HTTP/1.1\" 200 1085\n",
      "DEBUG:2020-06-17 00:00:02,451:arg_mine.api.classify: Attempting url 3, try #1\n",
      "DEBUG:2020-06-17 00:00:02,453:urllib3.connectionpool: Starting new HTTPS connection (1): api.argumentsearch.com:443\n",
      "DEBUG:2020-06-17 00:00:03,537:urllib3.connectionpool: https://api.argumentsearch.com:443 \"POST /en/classify HTTP/1.1\" 400 103\n",
      "WARNING:2020-06-17 00:00:03,541:arg_mine.api.classify: Refused: Website could not be crawled or returned an empty result. Please contact an administrator., url=https://www.heraldmailmedia.com/news/nation/australia-sending-aid-to-wildfire-towns-as-death-toll-rises/article_883fa793-6c0a-547e-8f77-b5964f1d7182.html\n",
      "INFO:2020-06-17 00:00:03,542:arg_mine.api.classify: Skipping 3: https://www.heraldmailmedia.com/news/nation/australia-sending-aid-to-wildfire-towns-as-death-toll-rises/article_883fa793-6c0a-547e-8f77-b5964f1d7182.html\n",
      "DEBUG:2020-06-17 00:00:03,544:arg_mine.api.classify: Attempting url 4, try #1\n",
      "DEBUG:2020-06-17 00:00:03,550:urllib3.connectionpool: Starting new HTTPS connection (1): api.argumentsearch.com:443\n",
      "ERROR:2020-06-17 00:00:09,082:arg_mine.api.classify: Server not responding\n",
      "DEBUG:2020-06-17 00:00:09,083:arg_mine.api.classify: Attempting url 4, try #2\n",
      "DEBUG:2020-06-17 00:00:09,086:urllib3.connectionpool: Starting new HTTPS connection (1): api.argumentsearch.com:443\n",
      "ERROR:2020-06-17 00:00:14,642:arg_mine.api.classify: Server not responding\n",
      "DEBUG:2020-06-17 00:00:14,643:arg_mine.api.classify: Attempting url 4, try #3\n",
      "DEBUG:2020-06-17 00:00:14,648:urllib3.connectionpool: Starting new HTTPS connection (1): api.argumentsearch.com:443\n",
      "ERROR:2020-06-17 00:00:20,157:arg_mine.api.classify: Server not responding\n",
      "ERROR:2020-06-17 00:00:20,159:arg_mine.api.classify: Failing attempts\n",
      "INFO:2020-06-17 00:00:20,160:arg_mine.api.classify: Skipping 4: http://global.chinadaily.com.cn/a/202001/07/WS5e13ea37a310cf3e35582e46.html\n",
      "DEBUG:2020-06-17 00:00:20,161:arg_mine.api.classify: Attempting url 5, try #1\n",
      "DEBUG:2020-06-17 00:00:20,165:urllib3.connectionpool: Starting new HTTPS connection (1): api.argumentsearch.com:443\n",
      "DEBUG:2020-06-17 00:00:23,670:urllib3.connectionpool: https://api.argumentsearch.com:443 \"POST /en/classify HTTP/1.1\" 200 1354\n",
      "DEBUG:2020-06-17 00:00:23,674:arg_mine.api.classify: Attempting url 6, try #1\n",
      "DEBUG:2020-06-17 00:00:23,676:urllib3.connectionpool: Starting new HTTPS connection (1): api.argumentsearch.com:443\n",
      "DEBUG:2020-06-17 00:00:24,477:urllib3.connectionpool: https://api.argumentsearch.com:443 \"POST /en/classify HTTP/1.1\" 400 103\n",
      "WARNING:2020-06-17 00:00:24,482:arg_mine.api.classify: Refused: Website could not be crawled or returned an empty result. Please contact an administrator., url=https://www.seattlepi.com/news/world/article/Cooler-weather-brings-respite-in-Australian-14950114.php\n",
      "INFO:2020-06-17 00:00:24,483:arg_mine.api.classify: Skipping 6: https://www.seattlepi.com/news/world/article/Cooler-weather-brings-respite-in-Australian-14950114.php\n",
      "DEBUG:2020-06-17 00:00:24,484:arg_mine.api.classify: Attempting url 7, try #1\n",
      "DEBUG:2020-06-17 00:00:24,487:urllib3.connectionpool: Starting new HTTPS connection (1): api.argumentsearch.com:443\n",
      "DEBUG:2020-06-17 00:00:25,474:urllib3.connectionpool: https://api.argumentsearch.com:443 \"POST /en/classify HTTP/1.1\" 400 103\n",
      "WARNING:2020-06-17 00:00:25,477:arg_mine.api.classify: Refused: Website could not be crawled or returned an empty result. Please contact an administrator., url=https://www.airdrietoday.com/national-business/starbucks-goals-for-sustainability-will-require-significant-consumer-buy-in-2037947\n",
      "INFO:2020-06-17 00:00:25,478:arg_mine.api.classify: Skipping 7: https://www.airdrietoday.com/national-business/starbucks-goals-for-sustainability-will-require-significant-consumer-buy-in-2037947\n",
      "DEBUG:2020-06-17 00:00:25,479:arg_mine.api.classify: Attempting url 8, try #1\n",
      "DEBUG:2020-06-17 00:00:25,482:urllib3.connectionpool: Starting new HTTPS connection (1): api.argumentsearch.com:443\n",
      "DEBUG:2020-06-17 00:00:26,642:urllib3.connectionpool: https://api.argumentsearch.com:443 \"POST /en/classify HTTP/1.1\" 400 103\n",
      "WARNING:2020-06-17 00:00:26,645:arg_mine.api.classify: Refused: Website could not be crawled or returned an empty result. Please contact an administrator., url=https://www.heraldbulletin.com/news/nation_world/davos-chief-welcomes-views-of-trump-greta-thunberg-at-forum/article_24dbb151-7132-5c48-a7df-c13b67004ec0.html\n",
      "INFO:2020-06-17 00:00:26,646:arg_mine.api.classify: Skipping 8: https://www.heraldbulletin.com/news/nation_world/davos-chief-welcomes-views-of-trump-greta-thunberg-at-forum/article_24dbb151-7132-5c48-a7df-c13b67004ec0.html\n",
      "DEBUG:2020-06-17 00:00:26,648:arg_mine.api.classify: Attempting url 9, try #1\n",
      "DEBUG:2020-06-17 00:00:26,651:urllib3.connectionpool: Starting new HTTPS connection (1): api.argumentsearch.com:443\n",
      "DEBUG:2020-06-17 00:00:27,929:urllib3.connectionpool: https://api.argumentsearch.com:443 \"POST /en/classify HTTP/1.1\" 200 2018\n"
     ]
    }
   ],
   "source": [
    "doc_list, sentence_list, refused_doc_list = classify.collect_sentences_by_topic(topic, url_df.content_url.values[:10])"
   ]
  },
  {
   "cell_type": "code",
   "execution_count": 78,
   "metadata": {},
   "outputs": [
    {
     "name": "stdout",
     "output_type": "stream",
     "text": [
      "4\n"
     ]
    },
    {
     "data": {
      "text/plain": [
       "['https://www.heraldmailmedia.com/news/nation/australia-sending-aid-to-wildfire-towns-as-death-toll-rises/article_883fa793-6c0a-547e-8f77-b5964f1d7182.html',\n",
       " 'https://www.seattlepi.com/news/world/article/Cooler-weather-brings-respite-in-Australian-14950114.php',\n",
       " 'https://www.airdrietoday.com/national-business/starbucks-goals-for-sustainability-will-require-significant-consumer-buy-in-2037947',\n",
       " 'https://www.heraldbulletin.com/news/nation_world/davos-chief-welcomes-views-of-trump-greta-thunberg-at-forum/article_24dbb151-7132-5c48-a7df-c13b67004ec0.html']"
      ]
     },
     "execution_count": 78,
     "metadata": {},
     "output_type": "execute_result"
    }
   ],
   "source": [
    "print(len(refused_doc_list))\n",
    "refused_doc_list"
   ]
  },
  {
   "cell_type": "code",
   "execution_count": null,
   "metadata": {},
   "outputs": [],
   "source": []
  },
  {
   "cell_type": "code",
   "execution_count": null,
   "metadata": {},
   "outputs": [],
   "source": []
  },
  {
   "cell_type": "code",
   "execution_count": 62,
   "metadata": {},
   "outputs": [
    {
     "data": {
      "text/plain": [
       "[ClassifiedSentence(url='https://www.smh.com.au/politics/federal/liberals-speak-out-to-back-science-minister-on-climate-change-action-20200115-p53rs1.html', doc_id='657f9dd95eb97597e34d0c05b5a93ba6', topic='climate change', sentence_id='c68493474ee7757287eeff11ac1bd1ea', argument_confidence=0.8324097394943237, argument_label='argument', sentence_original='\"So she\\'s right - there is no point wasting time discussing climate change - because we are not going to stop it from happening,\" he said of the minister\\'s comments.', sentence_preprocessed='\"So she\\'s right - there is no point wasting time discussing climate change - because we are not going to stop it from happening,\" he said of the minister\\'s comments.', sort_confidence=0.9131057365821765, stance_confidence=0.9938017336700293, stance_label='pro'),\n",
       " ClassifiedSentence(url='https://www.smh.com.au/politics/federal/liberals-speak-out-to-back-science-minister-on-climate-change-action-20200115-p53rs1.html', doc_id='657f9dd95eb97597e34d0c05b5a93ba6', topic='climate change', sentence_id='4de05010f7ec2c81fd242c8809694b6e', argument_confidence=0.8321625888347626, argument_label='argument', sentence_original='Mr Zimmerman said climate change clearly underlined the bushfires being experienced this summer.', sentence_preprocessed='Mr Zimmerman said climate change clearly underlined the bushfires being experienced this summer.', sort_confidence=0.8809053269273679, stance_confidence=0.9296480650199731, stance_label='contra'),\n",
       " ClassifiedSentence(url='https://www.smh.com.au/politics/federal/liberals-speak-out-to-back-science-minister-on-climate-change-action-20200115-p53rs1.html', doc_id='657f9dd95eb97597e34d0c05b5a93ba6', topic='climate change', sentence_id='b0390bff415f4dc437f8987033090e1b', argument_confidence=0.8090184926986694, argument_label='argument', sentence_original='NSW Liberal senator Andrew Bragg said climate change was not a matter of personal belief when it should be based on the science.', sentence_preprocessed='NSW Liberal senator Andrew Bragg said climate change was not a matter of personal belief when it should be based on the science.', sort_confidence=0.8656550159382224, stance_confidence=0.9222915391777753, stance_label='contra'),\n",
       " ClassifiedSentence(url='https://www.smh.com.au/politics/federal/liberals-speak-out-to-back-science-minister-on-climate-change-action-20200115-p53rs1.html', doc_id='657f9dd95eb97597e34d0c05b5a93ba6', topic='climate change', sentence_id='cb25d9b5f07e95fa139f19951515c0e4', argument_confidence=0.8042505085468292, argument_label='argument', sentence_original='\"Karen is correct when she says every second spent discussing whether the climate is changing is wasted time – it\\'s time that would be much better spent on mitigation and adaption strategy development.\"', sentence_preprocessed='\"Karen is correct when she says every second spent discussing whether the climate is changing is wasted time – it\\'s time that would be much better spent on mitigation and adaption strategy development.\"', sort_confidence=0.793566440312085, stance_confidence=0.7828823720773408, stance_label='contra'),\n",
       " ClassifiedSentence(url='https://www.smh.com.au/politics/federal/liberals-speak-out-to-back-science-minister-on-climate-change-action-20200115-p53rs1.html', doc_id='657f9dd95eb97597e34d0c05b5a93ba6', topic='climate change', sentence_id='7582076e5fbb0316c7cff50bfea50857', argument_confidence=0.8910331651568413, argument_label='argument', sentence_original='Mr Kelly said the only \"denial\" he had seen was coming from those who denied that Australia only made up 1.3 per cent of global emissions and could not have any measurable effect on global temperatures.', sentence_preprocessed='Mr Kelly said the only \"denial\" he had seen was coming from those who denied that Australia only made up 1.3 per cent of global emissions and could not have any measurable effect on global temperatures.', sort_confidence=0.7078584677645311, stance_confidence=0.5246837703722209, stance_label='pro'),\n",
       " ClassifiedSentence(url='https://www.smh.com.au/politics/federal/liberals-speak-out-to-back-science-minister-on-climate-change-action-20200115-p53rs1.html', doc_id='657f9dd95eb97597e34d0c05b5a93ba6', topic='climate change', sentence_id='194995c09a1bbb4fa2f1d53dabc88f76', argument_confidence=0.37853556871414185, argument_label='no argument', sentence_original='\"What I have been seeking to stress, particularly in response to these most recent disasters, is there are a broader range of responses that go beyond just emissions reduction and that goes to climate resilience,\" Mr Morrison said.', sentence_preprocessed='\"What I have been seeking to stress, particularly in response to these most recent disasters, is there are a broader range of responses that go beyond just emissions reduction and that goes to climate resilience,\" Mr Morrison said.', sort_confidence=0.37853556871414185, stance_confidence=0.0, stance_label=''),\n",
       " ClassifiedSentence(url='https://www.smh.com.au/politics/federal/liberals-speak-out-to-back-science-minister-on-climate-change-action-20200115-p53rs1.html', doc_id='657f9dd95eb97597e34d0c05b5a93ba6', topic='climate change', sentence_id='200d9a1529ab3a74682359d89e7430a1', argument_confidence=0.3381425142288208, argument_label='no argument', sentence_original='\"Debate on whether science is real or not is entirely unproductive to meeting the challenges that Australia and the world face.\"', sentence_preprocessed='\"Debate on whether science is real or not is entirely unproductive to meeting the challenges that Australia and the world face.\"', sort_confidence=0.3381425142288208, stance_confidence=0.0, stance_label=''),\n",
       " ClassifiedSentence(url='https://www.smh.com.au/politics/federal/liberals-speak-out-to-back-science-minister-on-climate-change-action-20200115-p53rs1.html', doc_id='657f9dd95eb97597e34d0c05b5a93ba6', topic='climate change', sentence_id='da903878c62343fb482bfad67a7523f1', argument_confidence=0.06029713153839111, argument_label='no argument', sentence_original='Mr Morrison said Ms Andrews had \"well set out\" the government policy and signalled again that he would bring forward future policies to adapt to a changing climate while also doing more to reduce greenhouse gas emissions.', sentence_preprocessed='Mr Morrison said Ms Andrews had \"well set out\" the government policy and signalled again that he would bring forward future policies to adapt to a changing climate while also doing more to reduce greenhouse gas emissions.', sort_confidence=0.06029713153839111, stance_confidence=0.0, stance_label=''),\n",
       " ClassifiedSentence(url='https://www.smh.com.au/politics/federal/liberals-speak-out-to-back-science-minister-on-climate-change-action-20200115-p53rs1.html', doc_id='657f9dd95eb97597e34d0c05b5a93ba6', topic='climate change', sentence_id='275a9351e6b121f28b7817b78ca23e3a', argument_confidence=0.05076223611831665, argument_label='no argument', sentence_original='\"We have no time for conspiracy theories when there is so much to be done.', sentence_preprocessed='\"We have no time for conspiracy theories when there is so much to be done.', sort_confidence=0.05076223611831665, stance_confidence=0.0, stance_label=''),\n",
       " ClassifiedSentence(url='https://www.smh.com.au/politics/federal/liberals-speak-out-to-back-science-minister-on-climate-change-action-20200115-p53rs1.html', doc_id='657f9dd95eb97597e34d0c05b5a93ba6', topic='climate change', sentence_id='f5cc9bf0036743a9d68e5fd091e06a04', argument_confidence=0.04784893989562988, argument_label='no argument', sentence_original='\"We have to make sure that we\\'re able to respond to the impact that we\\'re already experiencing as well as playing our part in reducing emissions to avoid temperature increases reaching catastrophic levels,\" he said.', sentence_preprocessed='\"We have to make sure that we\\'re able to respond to the impact that we\\'re already experiencing as well as playing our part in reducing emissions to avoid temperature increases reaching catastrophic levels,\" he said.', sort_confidence=0.04784893989562988, stance_confidence=0.0, stance_label=''),\n",
       " ClassifiedSentence(url='https://www.smh.com.au/politics/federal/liberals-speak-out-to-back-science-minister-on-climate-change-action-20200115-p53rs1.html', doc_id='657f9dd95eb97597e34d0c05b5a93ba6', topic='climate change', sentence_id='641a3706c5bce687f46ae6313b3272a7', argument_confidence=0.03235971927642822, argument_label='no argument', sentence_original='We shouldn\\'t waste time on belief because science is not a matter of belief,\" he said.', sentence_preprocessed='We shouldn\\'t waste time on belief because science is not a matter of belief,\" he said.', sort_confidence=0.03235971927642822, stance_confidence=0.0, stance_label=''),\n",
       " ClassifiedSentence(url='https://www.smh.com.au/politics/federal/liberals-speak-out-to-back-science-minister-on-climate-change-action-20200115-p53rs1.html', doc_id='657f9dd95eb97597e34d0c05b5a93ba6', topic='climate change', sentence_id='e94bd730738b799be4b7d7d46a63c585', argument_confidence=0.03175872564315796, argument_label='no argument', sentence_original='\"And we are in for longer, hotter, drier summers.', sentence_preprocessed='\"And we are in for longer, hotter, drier summers.', sort_confidence=0.03175872564315796, stance_confidence=0.0, stance_label=''),\n",
       " ClassifiedSentence(url='https://www.smh.com.au/politics/federal/liberals-speak-out-to-back-science-minister-on-climate-change-action-20200115-p53rs1.html', doc_id='657f9dd95eb97597e34d0c05b5a93ba6', topic='climate change', sentence_id='c05ac4a4bd407c85710ca74f05b3fe91', argument_confidence=0.02860867977142334, argument_label='no argument', sentence_original='Liberal backbenchers have stepped up calls for greater action on climate change ahead of talks of new policy measures within weeks, backing a blunt warning from a senior minister to \"move on\" from arguments about whether global warming is real.', sentence_preprocessed='Liberal backbenchers have stepped up calls for greater action on climate change ahead of talks of new policy measures within weeks, backing a blunt warning from a senior minister to \"move on\" from arguments about whether global warming is real.', sort_confidence=0.02860867977142334, stance_confidence=0.0, stance_label=''),\n",
       " ClassifiedSentence(url='https://www.smh.com.au/politics/federal/liberals-speak-out-to-back-science-minister-on-climate-change-action-20200115-p53rs1.html', doc_id='657f9dd95eb97597e34d0c05b5a93ba6', topic='climate change', sentence_id='990e271571c25b6b025440e89340b7ce', argument_confidence=0.025478720664978027, argument_label='no argument', sentence_original='\"It may be argued that by Australia committing to a \\'unilateral Co2 disarmament\\' we\\'d influence others, China and India and others to follow the same, but that\\'s a separate argument.\"', sentence_preprocessed='\"It may be argued that by Australia committing to a \\'unilateral Co2 disarmament\\' we\\'d influence others, China and India and others to follow the same, but that\\'s a separate argument.\"', sort_confidence=0.025478720664978027, stance_confidence=0.0, stance_label=''),\n",
       " ClassifiedSentence(url='https://www.smh.com.au/politics/federal/liberals-speak-out-to-back-science-minister-on-climate-change-action-20200115-p53rs1.html', doc_id='657f9dd95eb97597e34d0c05b5a93ba6', topic='climate change', sentence_id='7d5bb3872b65b274dcfffdc20b44ab90', argument_confidence=0.01574045419692993, argument_label='no argument', sentence_original='The Liberal MP for Wentworth in Sydney\\'s east, Dave Sharma, said he welcomed Ms Andrews\\' \"common sense proposition\", while the MP for Mackellar on the Sydney northern beaches, Jason Falinski, said there was no debate about whether climate change was real.', sentence_preprocessed='The Liberal MP for Wentworth in Sydney\\'s east, Dave Sharma, said he welcomed Ms Andrews\\' \"common sense proposition\", while the MP for Mackellar on the Sydney northern beaches, Jason Falinski, said there was no debate about whether climate change was real.', sort_confidence=0.01574045419692993, stance_confidence=0.0, stance_label=''),\n",
       " ClassifiedSentence(url='https://www.smh.com.au/politics/federal/liberals-speak-out-to-back-science-minister-on-climate-change-action-20200115-p53rs1.html', doc_id='657f9dd95eb97597e34d0c05b5a93ba6', topic='climate change', sentence_id='1957469b4190ddce406a6e0359a36086', argument_confidence=0.009373068809509277, argument_label='no argument', sentence_original='Liberal MPs are speaking out about the need for action on climate change as smoke blankets major Australian cities.', sentence_preprocessed='Liberal MPs are speaking out about the need for action on climate change as smoke blankets major Australian cities.', sort_confidence=0.009373068809509277, stance_confidence=0.0, stance_label=''),\n",
       " ClassifiedSentence(url='https://www.smh.com.au/politics/federal/liberals-speak-out-to-back-science-minister-on-climate-change-action-20200115-p53rs1.html', doc_id='657f9dd95eb97597e34d0c05b5a93ba6', topic='climate change', sentence_id='9eac4f301da33af0eaf7e5a4b1a5c759', argument_confidence=0.009337961673736572, argument_label='no argument', sentence_original='\"Overwhelmingly, Australians accept the science of climate change and they now have lived experience of the climatic conditions this summer,\" he said.', sentence_preprocessed='\"Overwhelmingly, Australians accept the science of climate change and they now have lived experience of the climatic conditions this summer,\" he said.', sort_confidence=0.009337961673736572, stance_confidence=0.0, stance_label=''),\n",
       " ClassifiedSentence(url='https://www.smh.com.au/politics/federal/liberals-speak-out-to-back-science-minister-on-climate-change-action-20200115-p53rs1.html', doc_id='657f9dd95eb97597e34d0c05b5a93ba6', topic='climate change', sentence_id='2942417cd8adc7572f2de28efd98844d', argument_confidence=0.00898897647857666, argument_label='no argument', sentence_original='Science has underpinned our policies over the long run.\"', sentence_preprocessed='Science has underpinned our policies over the long run.\"', sort_confidence=0.00898897647857666, stance_confidence=0.0, stance_label=''),\n",
       " ClassifiedSentence(url='https://www.smh.com.au/politics/federal/liberals-speak-out-to-back-science-minister-on-climate-change-action-20200115-p53rs1.html', doc_id='657f9dd95eb97597e34d0c05b5a93ba6', topic='climate change', sentence_id='4a2fcf5b4ca0e45bcae7fcc6af5e2cd6', argument_confidence=0.005464673042297363, argument_label='no argument', sentence_original='North Sydney MP Trent Zimmerman said he strongly backed Ms Andrews for defending the science in her interview with The Age and The Sydney Morning Herald on Wednesday.', sentence_preprocessed='North Sydney MP Trent Zimmerman said he strongly backed Ms Andrews for defending the science in her interview with The Age and The Sydney Morning Herald on Wednesday.', sort_confidence=0.005464673042297363, stance_confidence=0.0, stance_label=''),\n",
       " ClassifiedSentence(url='https://www.smh.com.au/politics/federal/liberals-speak-out-to-back-science-minister-on-climate-change-action-20200115-p53rs1.html', doc_id='657f9dd95eb97597e34d0c05b5a93ba6', topic='climate change', sentence_id='bf3ce33b906de2c17c7ce94c09757d42', argument_confidence=0.00445246696472168, argument_label='no argument', sentence_original='Government MPs have been reluctant to speak in public on the climate change debate out of concern their opponents would claim they were \"using\" the fires to argue for policy change, but some spoke of a palpable shift in the party room when major cities were shrouded in bushfire smoke.', sentence_preprocessed='Government MPs have been reluctant to speak in public on the climate change debate out of concern their opponents would claim they were \"using\" the fires to argue for policy change, but some spoke of a palpable shift in the party room when major cities were shrouded in bushfire smoke.', sort_confidence=0.00445246696472168, stance_confidence=0.0, stance_label=''),\n",
       " ClassifiedSentence(url='https://www.smh.com.au/politics/federal/liberals-speak-out-to-back-science-minister-on-climate-change-action-20200115-p53rs1.html', doc_id='657f9dd95eb97597e34d0c05b5a93ba6', topic='climate change', sentence_id='796a0b6613773758ac0f5e7e95010bd7', argument_confidence=0.004189014434814453, argument_label='no argument', sentence_original='\"The science minister is right.', sentence_preprocessed='\"The science minister is right.', sort_confidence=0.004189014434814453, stance_confidence=0.0, stance_label=''),\n",
       " ClassifiedSentence(url='https://www.smh.com.au/politics/federal/liberals-speak-out-to-back-science-minister-on-climate-change-action-20200115-p53rs1.html', doc_id='657f9dd95eb97597e34d0c05b5a93ba6', topic='climate change', sentence_id='9afa130485d69d2dde92e6505269e5bd', argument_confidence=0.003976345062255859, argument_label='no argument', sentence_original='\"We know it is real.', sentence_preprocessed='\"We know it is real.', sort_confidence=0.003976345062255859, stance_confidence=0.0, stance_label=''),\n",
       " ClassifiedSentence(url='https://www.smh.com.au/politics/federal/liberals-speak-out-to-back-science-minister-on-climate-change-action-20200115-p53rs1.html', doc_id='657f9dd95eb97597e34d0c05b5a93ba6', topic='climate change', sentence_id='80819a7cf88de4b13b9969a7c7ada4d5', argument_confidence=0.0038951635360717773, argument_label='no argument', sentence_original='The vocal support counters a smaller group of conservatives within the Morrison government party room who oppose climate action, setting the scene for a clash over policy when Parliament resumes next month.', sentence_preprocessed='The vocal support counters a smaller group of conservatives within the Morrison government party room who oppose climate action, setting the scene for a clash over policy when Parliament resumes next month.', sort_confidence=0.0038951635360717773, stance_confidence=0.0, stance_label=''),\n",
       " ClassifiedSentence(url='https://www.smh.com.au/politics/federal/liberals-speak-out-to-back-science-minister-on-climate-change-action-20200115-p53rs1.html', doc_id='657f9dd95eb97597e34d0c05b5a93ba6', topic='climate change', sentence_id='c462e6e669a3cffb86ca947ade88c635', argument_confidence=0.003233671188354492, argument_label='no argument', sentence_original='Fiona Martin, the Liberal member for Reid in western Sydney and a former psychologist, also backed Ms Andrews.', sentence_preprocessed='Fiona Martin, the Liberal member for Reid in western Sydney and a former psychologist, also backed Ms Andrews.', sort_confidence=0.003233671188354492, stance_confidence=0.0, stance_label=''),\n",
       " ClassifiedSentence(url='https://www.smh.com.au/politics/federal/liberals-speak-out-to-back-science-minister-on-climate-change-action-20200115-p53rs1.html', doc_id='657f9dd95eb97597e34d0c05b5a93ba6', topic='climate change', sentence_id='fe77eea7da78849d95ee0dafc2b0705f', argument_confidence=0.003215789794921875, argument_label='no argument', sentence_original='\"Whether you\\'re a farmer who\\'s facing another season without a crop or a family who just lost your home in these awful bushfires, it\\'s time we all look at moving forward and getting prepared for the future,\" said NSW Liberal senator Hollie Hughes.', sentence_preprocessed='\"Whether you\\'re a farmer who\\'s facing another season without a crop or a family who just lost your home in these awful bushfires, it\\'s time we all look at moving forward and getting prepared for the future,\" said NSW Liberal senator Hollie Hughes.', sort_confidence=0.003215789794921875, stance_confidence=0.0, stance_label=''),\n",
       " ClassifiedSentence(url='https://www.smh.com.au/politics/federal/liberals-speak-out-to-back-science-minister-on-climate-change-action-20200115-p53rs1.html', doc_id='657f9dd95eb97597e34d0c05b5a93ba6', topic='climate change', sentence_id='8ced6ea2ca607fb28f07f20452c8c85e', argument_confidence=0.0025895237922668457, argument_label='no argument', sentence_original=\"Mr Morrison's remarks last Sunday on climate action and Ms Andrews' comments on the science are encouraging MPs to speak up in the knowledge the government is working on a technology roadmap with further climate policies.\", sentence_preprocessed=\"Mr Morrison's remarks last Sunday on climate action and Ms Andrews' comments on the science are encouraging MPs to speak up in the knowledge the government is working on a technology roadmap with further climate policies.\", sort_confidence=0.0025895237922668457, stance_confidence=0.0, stance_label=''),\n",
       " ClassifiedSentence(url='https://www.smh.com.au/politics/federal/liberals-speak-out-to-back-science-minister-on-climate-change-action-20200115-p53rs1.html', doc_id='657f9dd95eb97597e34d0c05b5a93ba6', topic='climate change', sentence_id='6c4d7e7d0d388457a4734e418179c1e8', argument_confidence=0.0019148588180541992, argument_label='no argument', sentence_original='That is an acknowledged position, always acknowledged by the government.\"', sentence_preprocessed='That is an acknowledged position, always acknowledged by the government.\"', sort_confidence=0.0019148588180541992, stance_confidence=0.0, stance_label=''),\n",
       " ClassifiedSentence(url='https://www.smh.com.au/politics/federal/liberals-speak-out-to-back-science-minister-on-climate-change-action-20200115-p53rs1.html', doc_id='657f9dd95eb97597e34d0c05b5a93ba6', topic='climate change', sentence_id='e3496a47bcad630aea1f078b5202cd43', argument_confidence=0.0017796158790588379, argument_label='no argument', sentence_original='\"Australians want us to get on with the job of meeting our Paris emissions but looking at what more we can do to reduce our emissions further.', sentence_preprocessed='\"Australians want us to get on with the job of meeting our Paris emissions but looking at what more we can do to reduce our emissions further.', sort_confidence=0.0017796158790588379, stance_confidence=0.0, stance_label=''),\n",
       " ClassifiedSentence(url='https://www.smh.com.au/politics/federal/liberals-speak-out-to-back-science-minister-on-climate-change-action-20200115-p53rs1.html', doc_id='657f9dd95eb97597e34d0c05b5a93ba6', topic='climate change', sentence_id='6310c3f85e942c42d1e62b1128ef61a2', argument_confidence=0.0017527341842651367, argument_label='no argument', sentence_original='\"It is good to see minister Andrews working towards practical strategies to respond to climate change and engaging with the experts.\"', sentence_preprocessed='\"It is good to see minister Andrews working towards practical strategies to respond to climate change and engaging with the experts.\"', sort_confidence=0.0017527341842651367, stance_confidence=0.0, stance_label=''),\n",
       " ClassifiedSentence(url='https://www.smh.com.au/politics/federal/liberals-speak-out-to-back-science-minister-on-climate-change-action-20200115-p53rs1.html', doc_id='657f9dd95eb97597e34d0c05b5a93ba6', topic='climate change', sentence_id='1b0fb2e16b2c3e696c25e19aebca4993', argument_confidence=0.001714169979095459, argument_label='no argument', sentence_original='We now need to work on sensible and practical measures to reducing our carbon emissions,\" he tweeted.', sentence_preprocessed='We now need to work on sensible and practical measures to reducing our carbon emissions,\" he tweeted.', sort_confidence=0.001714169979095459, stance_confidence=0.0, stance_label=''),\n",
       " ClassifiedSentence(url='https://www.smh.com.au/politics/federal/liberals-speak-out-to-back-science-minister-on-climate-change-action-20200115-p53rs1.html', doc_id='657f9dd95eb97597e34d0c05b5a93ba6', topic='climate change', sentence_id='78852718aa49bb9a0a49a2c7257022c5', argument_confidence=0.0016959905624389648, argument_label='no argument', sentence_original='\"The job of the government is to develop public policy informed by a myriad of factors, including science, and properly consider trade-offs and costs of different forms of action, and the minister is right – that is where our focus should be,\" he said.', sentence_preprocessed='\"The job of the government is to develop public policy informed by a myriad of factors, including science, and properly consider trade-offs and costs of different forms of action, and the minister is right – that is where our focus should be,\" he said.', sort_confidence=0.0016959905624389648, stance_confidence=0.0, stance_label=''),\n",
       " ClassifiedSentence(url='https://www.smh.com.au/politics/federal/liberals-speak-out-to-back-science-minister-on-climate-change-action-20200115-p53rs1.html', doc_id='657f9dd95eb97597e34d0c05b5a93ba6', topic='climate change', sentence_id='b6bb49fc0c699ff311959051a9cd6f6c', argument_confidence=0.0013790130615234375, argument_label='no argument', sentence_original=\"The member for Goldstein in bayside Melbourne, Tim Wilson, also backed the minister's comments on the science.\", sentence_preprocessed=\"The member for Goldstein in bayside Melbourne, Tim Wilson, also backed the minister's comments on the science.\", sort_confidence=0.0013790130615234375, stance_confidence=0.0, stance_label=''),\n",
       " ClassifiedSentence(url='https://www.smh.com.au/politics/federal/liberals-speak-out-to-back-science-minister-on-climate-change-action-20200115-p53rs1.html', doc_id='657f9dd95eb97597e34d0c05b5a93ba6', topic='climate change', sentence_id='86bcb9a318bc177485a2d089b24a9284', argument_confidence=0.0013248324394226074, argument_label='no argument', sentence_original=\"Liberal MP Trent Zimmerman says it's time for the coalition to take action on climate change.Credit:Alex Ellinghausen\", sentence_preprocessed=\"Liberal MP Trent Zimmerman says it's time for the coalition to take action on climate change.Credit:Alex Ellinghausen\", sort_confidence=0.0013248324394226074, stance_confidence=0.0, stance_label=''),\n",
       " ClassifiedSentence(url='https://www.smh.com.au/politics/federal/liberals-speak-out-to-back-science-minister-on-climate-change-action-20200115-p53rs1.html', doc_id='657f9dd95eb97597e34d0c05b5a93ba6', topic='climate change', sentence_id='869465292decf0d6a241c72742397f7a', argument_confidence=0.0011194348335266113, argument_label='no argument', sentence_original='Liberals speak out to back Science Minister on climate change action', sentence_preprocessed='Liberals speak out to back Science Minister on climate change action', sort_confidence=0.0011194348335266113, stance_confidence=0.0, stance_label=''),\n",
       " ClassifiedSentence(url='https://www.smh.com.au/politics/federal/liberals-speak-out-to-back-science-minister-on-climate-change-action-20200115-p53rs1.html', doc_id='657f9dd95eb97597e34d0c05b5a93ba6', topic='climate change', sentence_id='7388fa8bf129112372e7a8b77955c33d', argument_confidence=0.0008811354637145996, argument_label='no argument', sentence_original='Advertisement', sentence_preprocessed='Advertisement', sort_confidence=0.0008811354637145996, stance_confidence=0.0, stance_label=''),\n",
       " ClassifiedSentence(url='https://www.smh.com.au/politics/federal/liberals-speak-out-to-back-science-minister-on-climate-change-action-20200115-p53rs1.html', doc_id='657f9dd95eb97597e34d0c05b5a93ba6', topic='climate change', sentence_id='3d64e3e537bb7442c57650f5cdb9b696', argument_confidence=0.0008710026741027832, argument_label='no argument', sentence_original=\"While conservative Liberals, such as southern Sydney MP Craig Kelly, gain headlines for questioning the science, many on the moderate side of the party back Ms Andrews and see Mr Morrison's latest comments as a sign of further policy action once Parliament returns on February 4.\", sentence_preprocessed=\"While conservative Liberals, such as southern Sydney MP Craig Kelly, gain headlines for questioning the science, many on the moderate side of the party back Ms Andrews and see Mr Morrison's latest comments as a sign of further policy action once Parliament returns on February 4.\", sort_confidence=0.0008710026741027832, stance_confidence=0.0, stance_label=''),\n",
       " ClassifiedSentence(url='https://www.smh.com.au/politics/federal/liberals-speak-out-to-back-science-minister-on-climate-change-action-20200115-p53rs1.html', doc_id='657f9dd95eb97597e34d0c05b5a93ba6', topic='climate change', sentence_id='16bfbf9c462762cf1cba4134ec53c504', argument_confidence=0.000870048999786377, argument_label='no argument', sentence_original='Loading', sentence_preprocessed='Loading', sort_confidence=0.000870048999786377, stance_confidence=0.0, stance_label=''),\n",
       " ClassifiedSentence(url='https://www.thehindu.com/news/cities/kozhikode/several-crowd-pullers-on-day-two-of-klf/article30589531.ece', doc_id='3c3e98232ca62ff3469234f554bea7b4', topic='climate change', sentence_id='2737be5f88b15ea7fd92cb53e5cd6a93', argument_confidence=0.04926097393035889, argument_label='no argument', sentence_original='“And there was very little information about my disease available online,” Mamta said.', sentence_preprocessed='“And there was very little information about my disease available online,” Mamta said.', sort_confidence=0.04926097393035889, stance_confidence=0.0, stance_label=''),\n",
       " ClassifiedSentence(url='https://www.thehindu.com/news/cities/kozhikode/several-crowd-pullers-on-day-two-of-klf/article30589531.ece', doc_id='3c3e98232ca62ff3469234f554bea7b4', topic='climate change', sentence_id='68c9799e5d24f9b36517ba8b5c2574a2', argument_confidence=0.01807922124862671, argument_label='no argument', sentence_original='It has helped us keep apace with events and happenings.', sentence_preprocessed='It has helped us keep apace with events and happenings.', sort_confidence=0.01807922124862671, stance_confidence=0.0, stance_label=''),\n",
       " ClassifiedSentence(url='https://www.thehindu.com/news/cities/kozhikode/several-crowd-pullers-on-day-two-of-klf/article30589531.ece', doc_id='3c3e98232ca62ff3469234f554bea7b4', topic='climate change', sentence_id='16cd32fd0768b1c866e4d4922488095e', argument_confidence=0.006297588348388672, argument_label='no argument', sentence_original='At this difficult time, it becomes even more important that we have access to information that has a bearing on our health and well-being, our lives, and livelihoods.', sentence_preprocessed='At this difficult time, it becomes even more important that we have access to information that has a bearing on our health and well-being, our lives, and livelihoods.', sort_confidence=0.006297588348388672, stance_confidence=0.0, stance_label=''),\n",
       " ClassifiedSentence(url='https://www.thehindu.com/news/cities/kozhikode/several-crowd-pullers-on-day-two-of-klf/article30589531.ece', doc_id='3c3e98232ca62ff3469234f554bea7b4', topic='climate change', sentence_id='0cff0f009f4a12e6d5f90bc078b97cd1', argument_confidence=0.0028040409088134766, argument_label='no argument', sentence_original='Another attraction was the talk on climate and environment sustainability by the UAE Minister of Climate Change and Environment Thani Ahmed Al-Zeyoudi.', sentence_preprocessed='Another attraction was the talk on climate and environment sustainability by the UAE Minister of Climate Change and Environment Thani Ahmed Al-Zeyoudi.', sort_confidence=0.0028040409088134766, stance_confidence=0.0, stance_label=''),\n",
       " ClassifiedSentence(url='https://www.thehindu.com/news/cities/kozhikode/several-crowd-pullers-on-day-two-of-klf/article30589531.ece', doc_id='3c3e98232ca62ff3469234f554bea7b4', topic='climate change', sentence_id='e84fa6dc55389e493d0f0535f340b4da', argument_confidence=0.0023269057273864746, argument_label='no argument', sentence_original='We promise to deliver quality journalism that stays away from vested interest and political propaganda.', sentence_preprocessed='We promise to deliver quality journalism that stays away from vested interest and political propaganda.', sort_confidence=0.0023269057273864746, stance_confidence=0.0, stance_label=''),\n",
       " ClassifiedSentence(url='https://www.thehindu.com/news/cities/kozhikode/several-crowd-pullers-on-day-two-of-klf/article30589531.ece', doc_id='3c3e98232ca62ff3469234f554bea7b4', topic='climate change', sentence_id='da2046a807e8f6b571ab436333c1f42b', argument_confidence=0.0022271275520324707, argument_label='no argument', sentence_original='To enable wide dissemination of news that is in public interest, we have increased the number of articles that can be read free, and extended free trial periods.', sentence_preprocessed='To enable wide dissemination of news that is in public interest, we have increased the number of articles that can be read free, and extended free trial periods.', sort_confidence=0.0022271275520324707, stance_confidence=0.0, stance_label=''),\n",
       " ClassifiedSentence(url='https://www.thehindu.com/news/cities/kozhikode/several-crowd-pullers-on-day-two-of-klf/article30589531.ece', doc_id='3c3e98232ca62ff3469234f554bea7b4', topic='climate change', sentence_id='cb3e7be4478e807de850d7e703c2c596', argument_confidence=0.0016154050827026367, argument_label='no argument', sentence_original='Especially with the arrival of social media, cancer patients have started to talk much more openly.” The session also featured widely respected oncolgists P.V.', sentence_preprocessed='Especially with the arrival of social media, cancer patients have started to talk much more openly.” The session also featured widely respected oncolgists P.V.', sort_confidence=0.0016154050827026367, stance_confidence=0.0, stance_label=''),\n",
       " ClassifiedSentence(url='https://www.thehindu.com/news/cities/kozhikode/several-crowd-pullers-on-day-two-of-klf/article30589531.ece', doc_id='3c3e98232ca62ff3469234f554bea7b4', topic='climate change', sentence_id='f2d6f3419b1923badb33dc703ecd960e', argument_confidence=0.0015687346458435059, argument_label='no argument', sentence_original='We also reiterate here the promise that our team of reporters, copy editors, fact-checkers, designers, and photographers will deliver quality journalism that stays away from vested interest and political propaganda.', sentence_preprocessed='We also reiterate here the promise that our team of reporters, copy editors, fact-checkers, designers, and photographers will deliver quality journalism that stays away from vested interest and political propaganda.', sort_confidence=0.0015687346458435059, stance_confidence=0.0, stance_label=''),\n",
       " ClassifiedSentence(url='https://www.thehindu.com/news/cities/kozhikode/several-crowd-pullers-on-day-two-of-klf/article30589531.ece', doc_id='3c3e98232ca62ff3469234f554bea7b4', topic='climate change', sentence_id='ea1a17bd91555e2f564e59436fe8fbc9', argument_confidence=0.0013543963432312012, argument_label='no argument', sentence_original='It was just one of the several sessions that attracted huge crowds on the second day of the four-day festival.', sentence_preprocessed='It was just one of the several sessions that attracted huge crowds on the second day of the four-day festival.', sort_confidence=0.0013543963432312012, stance_confidence=0.0, stance_label=''),\n",
       " ClassifiedSentence(url='https://www.thehindu.com/news/cities/kozhikode/several-crowd-pullers-on-day-two-of-klf/article30589531.ece', doc_id='3c3e98232ca62ff3469234f554bea7b4', topic='climate change', sentence_id='a43349dbc951013e07293e13ba3f7fa7', argument_confidence=0.0013532042503356934, argument_label='no argument', sentence_original='“But now things have changed.', sentence_preprocessed='“But now things have changed.', sort_confidence=0.0013532042503356934, stance_confidence=0.0, stance_label=''),\n",
       " ClassifiedSentence(url='https://www.thehindu.com/news/cities/kozhikode/several-crowd-pullers-on-day-two-of-klf/article30589531.ece', doc_id='3c3e98232ca62ff3469234f554bea7b4', topic='climate change', sentence_id='7186801c3826536ad5a0a606ecdb8045', argument_confidence=0.0012766718864440918, argument_label='no argument', sentence_original='Among the biggest crowd-pullers was Ramachandra Guha, who talked about patriotism and jingoism.', sentence_preprocessed='Among the biggest crowd-pullers was Ramachandra Guha, who talked about patriotism and jingoism.', sort_confidence=0.0012766718864440918, stance_confidence=0.0, stance_label=''),\n",
       " ClassifiedSentence(url='https://www.thehindu.com/news/cities/kozhikode/several-crowd-pullers-on-day-two-of-klf/article30589531.ece', doc_id='3c3e98232ca62ff3469234f554bea7b4', topic='climate change', sentence_id='013fe499bf3c2f9666394bac665eaa96', argument_confidence=0.0012319684028625488, argument_label='no argument', sentence_original='That may have something to do with her popularity as a leading actress of Malayalam cinema, but she showed what a capable speaker she was in the session on cancer.', sentence_preprocessed='That may have something to do with her popularity as a leading actress of Malayalam cinema, but she showed what a capable speaker she was in the session on cancer.', sort_confidence=0.0012319684028625488, stance_confidence=0.0, stance_label=''),\n",
       " ClassifiedSentence(url='https://www.thehindu.com/news/cities/kozhikode/several-crowd-pullers-on-day-two-of-klf/article30589531.ece', doc_id='3c3e98232ca62ff3469234f554bea7b4', topic='climate change', sentence_id='5567255ae03dcb4ee406c9fa19f617eb', argument_confidence=0.001224815845489502, argument_label='no argument', sentence_original='As a subscriber, you are not only a beneficiary of our work but also its enabler.', sentence_preprocessed='As a subscriber, you are not only a beneficiary of our work but also its enabler.', sort_confidence=0.001224815845489502, stance_confidence=0.0, stance_label=''),\n",
       " ClassifiedSentence(url='https://www.thehindu.com/news/cities/kozhikode/several-crowd-pullers-on-day-two-of-klf/article30589531.ece', doc_id='3c3e98232ca62ff3469234f554bea7b4', topic='climate change', sentence_id='2c348268d2ab48d7cdf3abdca6e38d91', argument_confidence=0.001196146011352539, argument_label='no argument', sentence_original='Your support for our journalism is invaluable.', sentence_preprocessed='Your support for our journalism is invaluable.', sort_confidence=0.001196146011352539, stance_confidence=0.0, stance_label=''),\n",
       " ClassifiedSentence(url='https://www.thehindu.com/news/cities/kozhikode/several-crowd-pullers-on-day-two-of-klf/article30589531.ece', doc_id='3c3e98232ca62ff3469234f554bea7b4', topic='climate change', sentence_id='4f0877e6bca1faa4daa5bb84a9b835ec', argument_confidence=0.0011275410652160645, argument_label='no argument', sentence_original='A cancer survivor, she talked at length about her fight against Hodgkin’s Lymphoma.', sentence_preprocessed='A cancer survivor, she talked at length about her fight against Hodgkin’s Lymphoma.', sort_confidence=0.0011275410652160645, stance_confidence=0.0, stance_label=''),\n",
       " ClassifiedSentence(url='https://www.thehindu.com/news/cities/kozhikode/several-crowd-pullers-on-day-two-of-klf/article30589531.ece', doc_id='3c3e98232ca62ff3469234f554bea7b4', topic='climate change', sentence_id='5ca7e31887ecdf255e478bde5beadadd', argument_confidence=0.0011140704154968262, argument_label='no argument', sentence_original='We have been keeping you up-to-date with information on the developments in India and the world that have a bearing on our health and wellbeing, our lives and livelihoods, during these difficult times.', sentence_preprocessed='We have been keeping you up-to-date with information on the developments in India and the world that have a bearing on our health and wellbeing, our lives and livelihoods, during these difficult times.', sort_confidence=0.0011140704154968262, stance_confidence=0.0, stance_label=''),\n",
       " ClassifiedSentence(url='https://www.thehindu.com/news/cities/kozhikode/several-crowd-pullers-on-day-two-of-klf/article30589531.ece', doc_id='3c3e98232ca62ff3469234f554bea7b4', topic='climate change', sentence_id='2d0ee076b4fae80abd90e1e3b97a843e', argument_confidence=0.00107496976852417, argument_label='no argument', sentence_original='Mamta Mohandas was one of the biggest attractions of day two of the Kerala Literature Festival.', sentence_preprocessed='Mamta Mohandas was one of the biggest attractions of day two of the Kerala Literature Festival.', sort_confidence=0.00107496976852417, stance_confidence=0.0, stance_label=''),\n",
       " ClassifiedSentence(url='https://www.thehindu.com/news/cities/kozhikode/several-crowd-pullers-on-day-two-of-klf/article30589531.ece', doc_id='3c3e98232ca62ff3469234f554bea7b4', topic='climate change', sentence_id='bf3dcad6f1f345e6883fc195a6c48ace', argument_confidence=0.0010421276092529297, argument_label='no argument', sentence_original='It’s a support for truth and fairness in journalism.', sentence_preprocessed='It’s a support for truth and fairness in journalism.', sort_confidence=0.0010421276092529297, stance_confidence=0.0, stance_label=''),\n",
       " ClassifiedSentence(url='https://www.thehindu.com/news/cities/kozhikode/several-crowd-pullers-on-day-two-of-klf/article30589531.ece', doc_id='3c3e98232ca62ff3469234f554bea7b4', topic='climate change', sentence_id='ad413f57ada2f4b5b40399cd42aef699', argument_confidence=0.0010241270065307617, argument_label='no argument', sentence_original='As we fight disinformation and misinformation, and keep apace with the happenings, we need to commit greater resources to news gathering operations.', sentence_preprocessed='As we fight disinformation and misinformation, and keep apace with the happenings, we need to commit greater resources to news gathering operations.', sort_confidence=0.0010241270065307617, stance_confidence=0.0, stance_label=''),\n",
       " ClassifiedSentence(url='https://www.thehindu.com/news/cities/kozhikode/several-crowd-pullers-on-day-two-of-klf/article30589531.ece', doc_id='3c3e98232ca62ff3469234f554bea7b4', topic='climate change', sentence_id='ca217e248d995fd304e6e19ab64cf98d', argument_confidence=0.00099259614944458, argument_label='no argument', sentence_original='Gangadharan and M.V.', sentence_preprocessed='Gangadharan and M.V.', sort_confidence=0.00099259614944458, stance_confidence=0.0, stance_label=''),\n",
       " ClassifiedSentence(url='https://www.thehindu.com/news/cities/kozhikode/several-crowd-pullers-on-day-two-of-klf/article30589531.ece', doc_id='3c3e98232ca62ff3469234f554bea7b4', topic='climate change', sentence_id='ef8f26d16dd2ae2741e35baeae3fe416', argument_confidence=0.0009733438491821289, argument_label='no argument', sentence_original='The Hindu has always stood for journalism that is in the public interest.', sentence_preprocessed='The Hindu has always stood for journalism that is in the public interest.', sort_confidence=0.0009733438491821289, stance_confidence=0.0, stance_label=''),\n",
       " ClassifiedSentence(url='https://www.thehindu.com/news/cities/kozhikode/several-crowd-pullers-on-day-two-of-klf/article30589531.ece', doc_id='3c3e98232ca62ff3469234f554bea7b4', topic='climate change', sentence_id='226bacfe52b76f6c965dce11bebd2656', argument_confidence=0.0009616613388061523, argument_label='no argument', sentence_original='The day’s other speakers included writers Anand, Mukundan, Sethu, Asha Menon and Keshava Guha as well as State Police Chief Loknath Behera.', sentence_preprocessed='The day’s other speakers included writers Anand, Mukundan, Sethu, Asha Menon and Keshava Guha as well as State Police Chief Loknath Behera.', sort_confidence=0.0009616613388061523, stance_confidence=0.0, stance_label=''),\n",
       " ClassifiedSentence(url='https://www.thehindu.com/news/cities/kozhikode/several-crowd-pullers-on-day-two-of-klf/article30589531.ece', doc_id='3c3e98232ca62ff3469234f554bea7b4', topic='climate change', sentence_id='498cd895eb5a102c5aeb977e2b928dee', argument_confidence=0.0009601712226867676, argument_label='no argument', sentence_original='Thank you!', sentence_preprocessed='Thank you!', sort_confidence=0.0009601712226867676, stance_confidence=0.0, stance_label=''),\n",
       " ClassifiedSentence(url='https://www.thehindu.com/news/cities/kozhikode/several-crowd-pullers-on-day-two-of-klf/article30589531.ece', doc_id='3c3e98232ca62ff3469234f554bea7b4', topic='climate change', sentence_id='90c4f6a3ef4a7c8fd34dd03ba0de4b11', argument_confidence=0.0009214878082275391, argument_label='no argument', sentence_original='Navroz K. Dubash also spoke on a similar theme.', sentence_preprocessed='Navroz K. Dubash also spoke on a similar theme.', sort_confidence=0.0009214878082275391, stance_confidence=0.0, stance_label=''),\n",
       " ClassifiedSentence(url='https://www.thehindu.com/news/cities/kozhikode/several-crowd-pullers-on-day-two-of-klf/article30589531.ece', doc_id='3c3e98232ca62ff3469234f554bea7b4', topic='climate change', sentence_id='9797540df62ea2c8da1f96225d28e296', argument_confidence=0.0008461475372314453, argument_label='no argument', sentence_original='A letter from the Editor', sentence_preprocessed='A letter from the Editor', sort_confidence=0.0008461475372314453, stance_confidence=0.0, stance_label=''),\n",
       " ClassifiedSentence(url='https://www.thehindu.com/news/cities/kozhikode/several-crowd-pullers-on-day-two-of-klf/article30589531.ece', doc_id='3c3e98232ca62ff3469234f554bea7b4', topic='climate change', sentence_id='264cc850b1f965f8dc886319f7050353', argument_confidence=0.000836491584777832, argument_label='no argument', sentence_original='However, we have a request for those who can afford to subscribe: please do.', sentence_preprocessed='However, we have a request for those who can afford to subscribe: please do.', sort_confidence=0.000836491584777832, stance_confidence=0.0, stance_label=''),\n",
       " ClassifiedSentence(url='https://www.thehindu.com/news/cities/kozhikode/several-crowd-pullers-on-day-two-of-klf/article30589531.ece', doc_id='3c3e98232ca62ff3469234f554bea7b4', topic='climate change', sentence_id='710197c83414e9b0af791bcfd2bc6d71', argument_confidence=0.0008165240287780762, argument_label='no argument', sentence_original='Dear reader,', sentence_preprocessed='Dear reader,', sort_confidence=0.0008165240287780762, stance_confidence=0.0, stance_label=''),\n",
       " ClassifiedSentence(url='https://www.thehindu.com/news/cities/kozhikode/several-crowd-pullers-on-day-two-of-klf/article30589531.ece', doc_id='3c3e98232ca62ff3469234f554bea7b4', topic='climate change', sentence_id='0f5d6da14e5f0a04ca1d2c7b2e682b63', argument_confidence=0.0007153153419494629, argument_label='no argument', sentence_original='Dear subscriber,', sentence_preprocessed='Dear subscriber,', sort_confidence=0.0007153153419494629, stance_confidence=0.0, stance_label=''),\n",
       " ClassifiedSentence(url='https://www.stourbridgenews.co.uk/news/national/18141364.seven-arrested-gas-rig-protest/', doc_id='db5ae573c6388b6fc794e81245baba90', topic='climate change', sentence_id='122cf033633bf4ebd9966a83e6025edf', argument_confidence=0.9964583991095424, argument_label='argument', sentence_original='Chief executive of industry body OGUK, Deirdre Michie, said: “This is a dangerous and short-sighted stunt which does absolutely nothing to help provide the solutions which will be required to meaningfully deliver net zero emissions by 2045 in Scotland.”', sentence_preprocessed='Chief executive of industry body OGUK, Deirdre Michie, said: “This is a dangerous and short-sighted stunt which does absolutely nothing to help provide the solutions which will be required to meaningfully deliver net zero emissions by 2045 in Scotland.”', sort_confidence=0.9963078401252712, stance_confidence=0.996157281141, stance_label='contra'),\n",
       " ClassifiedSentence(url='https://www.stourbridgenews.co.uk/news/national/18141364.seven-arrested-gas-rig-protest/', doc_id='db5ae573c6388b6fc794e81245baba90', topic='climate change', sentence_id='1f9ff002868184ce78f8a2a01b07978f', argument_confidence=0.9888575784862041, argument_label='argument', sentence_original='The safety of those involved – both protesters and workers – is our prime concern.”', sentence_preprocessed='The safety of those involved – both protesters and workers – is our prime concern.”', sort_confidence=0.9906950907008818, stance_confidence=0.9925326029155593, stance_label='contra'),\n",
       " ClassifiedSentence(url='https://www.stourbridgenews.co.uk/news/national/18141364.seven-arrested-gas-rig-protest/', doc_id='db5ae573c6388b6fc794e81245baba90', topic='climate change', sentence_id='d0b25d971a717c304441f29257148774', argument_confidence=0.9974171267822385, argument_label='argument', sentence_original='The climate crisis, driven by fossil fuel emissions, is putting millions, potentially billions, in grave danger.”', sentence_preprocessed='The climate crisis, driven by fossil fuel emissions, is putting millions, potentially billions, in grave danger.”', sort_confidence=0.9887673983156595, stance_confidence=0.9801176698490806, stance_label='contra'),\n",
       " ClassifiedSentence(url='https://www.stourbridgenews.co.uk/news/national/18141364.seven-arrested-gas-rig-protest/', doc_id='db5ae573c6388b6fc794e81245baba90', topic='climate change', sentence_id='6086288265e33cf745512f794d26e9ed', argument_confidence=0.8242582380771637, argument_label='argument', sentence_original='She said the oil and gas industry is “part of the solution” to climate change.', sentence_preprocessed='She said the oil and gas industry is “part of the solution” to climate change.', sort_confidence=0.9065157264842176, stance_confidence=0.9887732148912717, stance_label='pro'),\n",
       " ClassifiedSentence(url='https://www.stourbridgenews.co.uk/news/national/18141364.seven-arrested-gas-rig-protest/', doc_id='db5ae573c6388b6fc794e81245baba90', topic='climate change', sentence_id='e12dfde2364427588f801eb1943b69a4', argument_confidence=0.6450341045856476, argument_label='argument', sentence_original='“Others don’t get to choose what danger they are in.', sentence_preprocessed='“Others don’t get to choose what danger they are in.', sort_confidence=0.8151847056337208, stance_confidence=0.985335306681794, stance_label='contra'),\n",
       " ClassifiedSentence(url='https://www.stourbridgenews.co.uk/news/national/18141364.seven-arrested-gas-rig-protest/', doc_id='db5ae573c6388b6fc794e81245baba90', topic='climate change', sentence_id='0bda3b9ed49e9d6b31edf083dc7d9969', argument_confidence=0.37715911865234375, argument_label='no argument', sentence_original='In the end, it was too dangerous to carry on.', sentence_preprocessed='In the end, it was too dangerous to carry on.', sort_confidence=0.37715911865234375, stance_confidence=0.0, stance_label=''),\n",
       " ClassifiedSentence(url='https://www.stourbridgenews.co.uk/news/national/18141364.seven-arrested-gas-rig-protest/', doc_id='db5ae573c6388b6fc794e81245baba90', topic='climate change', sentence_id='51599c7339a779268465271fe1b2abbd', argument_confidence=0.008198678493499756, argument_label='no argument', sentence_original='The activists have issued three demands for the Scottish and UK Governments, including urging them to “tell the truth” about the impact of the fossil fuel industry on the climate crisis.', sentence_preprocessed='The activists have issued three demands for the Scottish and UK Governments, including urging them to “tell the truth” about the impact of the fossil fuel industry on the climate crisis.', sort_confidence=0.008198678493499756, stance_confidence=0.0, stance_label=''),\n",
       " ClassifiedSentence(url='https://www.stourbridgenews.co.uk/news/national/18141364.seven-arrested-gas-rig-protest/', doc_id='db5ae573c6388b6fc794e81245baba90', topic='climate change', sentence_id='8221d1896385d7b18f8cc60384647999', argument_confidence=0.0061629414558410645, argument_label='no argument', sentence_original='They also want politicians to act now to decommission oil and gas infrastructure, with a just transition for workers and communities, and a legally binding citizens’ assembly.', sentence_preprocessed='They also want politicians to act now to decommission oil and gas infrastructure, with a just transition for workers and communities, and a legally binding citizens’ assembly.', sort_confidence=0.0061629414558410645, stance_confidence=0.0, stance_label=''),\n",
       " ClassifiedSentence(url='https://www.stourbridgenews.co.uk/news/national/18141364.seven-arrested-gas-rig-protest/', doc_id='db5ae573c6388b6fc794e81245baba90', topic='climate change', sentence_id='fb98c3fb6bdd464225b50d2976c5aaff', argument_confidence=0.005683481693267822, argument_label='no argument', sentence_original='“I am going to give it my best shot and go down fighting because I can see the world through her eyes and I want to protect things for her.”', sentence_preprocessed='“I am going to give it my best shot and go down fighting because I can see the world through her eyes and I want to protect things for her.”', sort_confidence=0.005683481693267822, stance_confidence=0.0, stance_label=''),\n",
       " ClassifiedSentence(url='https://www.stourbridgenews.co.uk/news/national/18141364.seven-arrested-gas-rig-protest/', doc_id='db5ae573c6388b6fc794e81245baba90', topic='climate change', sentence_id='4be4df586148f98f3fb3fb7785e33ef1', argument_confidence=0.005376935005187988, argument_label='no argument', sentence_original='“We have deployed one of our pilot boats at the scene and this will remain in attendance as a safety precaution should anyone require assistance.', sentence_preprocessed='“We have deployed one of our pilot boats at the scene and this will remain in attendance as a safety precaution should anyone require assistance.', sort_confidence=0.005376935005187988, stance_confidence=0.0, stance_label=''),\n",
       " ClassifiedSentence(url='https://www.stourbridgenews.co.uk/news/national/18141364.seven-arrested-gas-rig-protest/', doc_id='db5ae573c6388b6fc794e81245baba90', topic='climate change', sentence_id='e7597281e6d510549ee80643782b638c', argument_confidence=0.005117058753967285, argument_label='no argument', sentence_original='Extinction Rebellion said: “These activists had one chance, and they took it.', sentence_preprocessed='Extinction Rebellion said: “These activists had one chance, and they took it.', sort_confidence=0.005117058753967285, stance_confidence=0.0, stance_label=''),\n",
       " ClassifiedSentence(url='https://www.stourbridgenews.co.uk/news/national/18141364.seven-arrested-gas-rig-protest/', doc_id='db5ae573c6388b6fc794e81245baba90', topic='climate change', sentence_id='7bdf3ec434233d17e0040e051c063a70', argument_confidence=0.0032346248626708984, argument_label='no argument', sentence_original='A Police Scotland spokeswoman said: “Police can confirm that four men and three women have been arrested in connection with the incident.', sentence_preprocessed='A Police Scotland spokeswoman said: “Police can confirm that four men and three women have been arrested in connection with the incident.', sort_confidence=0.0032346248626708984, stance_confidence=0.0, stance_label=''),\n",
       " ClassifiedSentence(url='https://www.stourbridgenews.co.uk/news/national/18141364.seven-arrested-gas-rig-protest/', doc_id='db5ae573c6388b6fc794e81245baba90', topic='climate change', sentence_id='ae785856cdcc9136696f286fd4e23a88', argument_confidence=0.00233614444732666, argument_label='no argument', sentence_original='An Extinction Rebellion Scotland spokeswoman said they took all necessary safety precautions and informed police of the “peaceful occupation”.', sentence_preprocessed='An Extinction Rebellion Scotland spokeswoman said they took all necessary safety precautions and informed police of the “peaceful occupation”.', sort_confidence=0.00233614444732666, stance_confidence=0.0, stance_label=''),\n",
       " ClassifiedSentence(url='https://www.stourbridgenews.co.uk/news/national/18141364.seven-arrested-gas-rig-protest/', doc_id='db5ae573c6388b6fc794e81245baba90', topic='climate change', sentence_id='106f9caa7dc4c534b99bd10c8e4cd03f', argument_confidence=0.002188265323638916, argument_label='no argument', sentence_original='A spokesman for Forth Ports, owner of the Port of Dundee, said: “Earlier today, Forth Ports was made aware that a number of apparent protesters had made their way via the River Tay to the Valaris 122 jack-up rig, which is currently berthed at Princess Alexandra Wharf at the Port of Dundee.', sentence_preprocessed='A spokesman for Forth Ports, owner of the Port of Dundee, said: “Earlier today, Forth Ports was made aware that a number of apparent protesters had made their way via the River Tay to the Valaris 122 jack-up rig, which is currently berthed at Princess Alexandra Wharf at the Port of Dundee.', sort_confidence=0.002188265323638916, stance_confidence=0.0, stance_label=''),\n",
       " ClassifiedSentence(url='https://www.stourbridgenews.co.uk/news/national/18141364.seven-arrested-gas-rig-protest/', doc_id='db5ae573c6388b6fc794e81245baba90', topic='climate change', sentence_id='7a1ec74ee449ebb4b00193eabda207fd', argument_confidence=0.0018488764762878418, argument_label='no argument', sentence_original='One of those who boarded the rig, Jo, 34, a gardener from Edinburgh, said: “I am doing this for my niece Ivy, who is an incredible little human.', sentence_preprocessed='One of those who boarded the rig, Jo, 34, a gardener from Edinburgh, said: “I am doing this for my niece Ivy, who is an incredible little human.', sort_confidence=0.0018488764762878418, stance_confidence=0.0, stance_label=''),\n",
       " ClassifiedSentence(url='https://www.stourbridgenews.co.uk/news/national/18141364.seven-arrested-gas-rig-protest/', doc_id='db5ae573c6388b6fc794e81245baba90', topic='climate change', sentence_id='2a72e1f53d6147abddd5a22d33e40ff4', argument_confidence=0.0013639330863952637, argument_label='no argument', sentence_original='The rig is due to come on contract to Shell later this month and be sent to the Shearwater gas field.', sentence_preprocessed='The rig is due to come on contract to Shell later this month and be sent to the Shearwater gas field.', sort_confidence=0.0013639330863952637, stance_confidence=0.0, stance_label=''),\n",
       " ClassifiedSentence(url='https://www.stourbridgenews.co.uk/news/national/18141364.seven-arrested-gas-rig-protest/', doc_id='db5ae573c6388b6fc794e81245baba90', topic='climate change', sentence_id='3d8382d28671e3df17ff54537f689e3f', argument_confidence=0.0012778639793395996, argument_label='no argument', sentence_original='“We are also liaising with the rig’s owners and with the relevant authorities.”', sentence_preprocessed='“We are also liaising with the rig’s owners and with the relevant authorities.”', sort_confidence=0.0012778639793395996, stance_confidence=0.0, stance_label=''),\n",
       " ClassifiedSentence(url='https://www.stourbridgenews.co.uk/news/national/18141364.seven-arrested-gas-rig-protest/', doc_id='db5ae573c6388b6fc794e81245baba90', topic='climate change', sentence_id='bf963e1a67b90e775f4f79e3dfb91222', argument_confidence=0.0012420415878295898, argument_label='no argument', sentence_original='“I don’t want to say to her that I didn’t take a stand when I had the choice and left it to other people to sort it out.', sentence_preprocessed='“I don’t want to say to her that I didn’t take a stand when I had the choice and left it to other people to sort it out.', sort_confidence=0.0012420415878295898, stance_confidence=0.0, stance_label=''),\n",
       " ClassifiedSentence(url='https://www.stourbridgenews.co.uk/news/national/18141364.seven-arrested-gas-rig-protest/', doc_id='db5ae573c6388b6fc794e81245baba90', topic='climate change', sentence_id='0432590fc48b525f9bd84435d69dc46f', argument_confidence=0.0012255311012268066, argument_label='no argument', sentence_original='The organisation said the action was the first of many planned across Scotland over the next fortnight as part of Rig Rebellion 2.0.', sentence_preprocessed='The organisation said the action was the first of many planned across Scotland over the next fortnight as part of Rig Rebellion 2.0.', sort_confidence=0.0012255311012268066, stance_confidence=0.0, stance_label=''),\n",
       " ClassifiedSentence(url='https://www.stourbridgenews.co.uk/news/national/18141364.seven-arrested-gas-rig-protest/', doc_id='db5ae573c6388b6fc794e81245baba90', topic='climate change', sentence_id='0162eebbec90eae439803c54e2db9e07', argument_confidence=0.0011191964149475098, argument_label='no argument', sentence_original='A Shell spokesman said: “We’re aware of the protest action on the Valaris 122 rig.', sentence_preprocessed='A Shell spokesman said: “We’re aware of the protest action on the Valaris 122 rig.', sort_confidence=0.0011191964149475098, stance_confidence=0.0, stance_label=''),\n",
       " ClassifiedSentence(url='https://www.stourbridgenews.co.uk/news/national/18141364.seven-arrested-gas-rig-protest/', doc_id='db5ae573c6388b6fc794e81245baba90', topic='climate change', sentence_id='24d277268db19e92015c98416d5e2675', argument_confidence=0.001035928726196289, argument_label='no argument', sentence_original=\"This website and associated newspapers adhere to the Independent Press Standards Organisation's Editors' Code of Practice.\", sentence_preprocessed=\"This website and associated newspapers adhere to the Independent Press Standards Organisation's Editors' Code of Practice.\", sort_confidence=0.001035928726196289, stance_confidence=0.0, stance_label=''),\n",
       " ClassifiedSentence(url='https://www.stourbridgenews.co.uk/news/national/18141364.seven-arrested-gas-rig-protest/', doc_id='db5ae573c6388b6fc794e81245baba90', topic='climate change', sentence_id='f785e42a005439ff6f92ac4a5b25c03f', argument_confidence=0.0009149312973022461, argument_label='no argument', sentence_original='Inquiries are ongoing.”', sentence_preprocessed='Inquiries are ongoing.”', sort_confidence=0.0009149312973022461, stance_confidence=0.0, stance_label=''),\n",
       " ClassifiedSentence(url='https://www.stourbridgenews.co.uk/news/national/18141364.seven-arrested-gas-rig-protest/', doc_id='db5ae573c6388b6fc794e81245baba90', topic='climate change', sentence_id='f6b517a32085d2b6c47722bbe2e54536', argument_confidence=0.0009002685546875, argument_label='no argument', sentence_original='If you have a complaint about the editorial content which relates to inaccuracy or intrusion, then please contact the editor here.', sentence_preprocessed='If you have a complaint about the editorial content which relates to inaccuracy or intrusion, then please contact the editor here.', sort_confidence=0.0009002685546875, stance_confidence=0.0, stance_label=''),\n",
       " ClassifiedSentence(url='https://www.stourbridgenews.co.uk/news/national/18141364.seven-arrested-gas-rig-protest/', doc_id='db5ae573c6388b6fc794e81245baba90', topic='climate change', sentence_id='00deeefe1f12820507d2cd6a77a87809', argument_confidence=0.0008736252784729004, argument_label='no argument', sentence_original='If you are dissatisfied with the response provided you can contact IPSO here', sentence_preprocessed='If you are dissatisfied with the response provided you can contact IPSO here', sort_confidence=0.0008736252784729004, stance_confidence=0.0, stance_label=''),\n",
       " ClassifiedSentence(url='http://global.chinadaily.com.cn/a/202001/07/WS5e13ea37a310cf3e35582e46.html', doc_id='cf84a621b674514c19fc2ad15ece8db7', topic='climate change', sentence_id='c50dfa69183ee12ff13b897a4d0fba90', argument_confidence=0.998029945185408, argument_label='argument', sentence_original='The only solace offered was that hot, dry conditions were likely to curb the growth of vegetation, meaning there could be less to burn when future fires do break out.', sentence_preprocessed='The only solace offered was that hot, dry conditions were likely to curb the growth of vegetation, meaning there could be less to burn when future fires do break out.', sort_confidence=0.9970890488804431, stance_confidence=0.9961481525754784, stance_label='pro'),\n",
       " ClassifiedSentence(url='http://global.chinadaily.com.cn/a/202001/07/WS5e13ea37a310cf3e35582e46.html', doc_id='cf84a621b674514c19fc2ad15ece8db7', topic='climate change', sentence_id='37fd6f804e0de1ae9c7bc72438712e12', argument_confidence=0.9986834113951772, argument_label='argument', sentence_original='Australian Prime Minister Scott Morrison recently conceded that climate change is making the country\\'s bushfire situation worse but warned that reining in coal mining would be \"reckless\" and destroy jobs.', sentence_preprocessed='Australian Prime Minister Scott Morrison recently conceded that climate change is making the country\\'s bushfire situation worse but warned that reining in coal mining would be \"reckless\" and destroy jobs.', sort_confidence=0.9967277205281407, stance_confidence=0.9947720296611042, stance_label='contra'),\n",
       " ClassifiedSentence(url='http://global.chinadaily.com.cn/a/202001/07/WS5e13ea37a310cf3e35582e46.html', doc_id='cf84a621b674514c19fc2ad15ece8db7', topic='climate change', sentence_id='752419b4b790ed3c73cd1d27d7f1d2ef', argument_confidence=0.9983797878958285, argument_label='argument', sentence_original='When that exported coal is burned it will contribute to global warming, and that leaves a hot, dry country caught between a fire and a coal face.', sentence_preprocessed='When that exported coal is burned it will contribute to global warming, and that leaves a hot, dry country caught between a fire and a coal face.', sort_confidence=0.9964461874240724, stance_confidence=0.9945125869523164, stance_label='contra'),\n",
       " ClassifiedSentence(url='http://global.chinadaily.com.cn/a/202001/07/WS5e13ea37a310cf3e35582e46.html', doc_id='cf84a621b674514c19fc2ad15ece8db7', topic='climate change', sentence_id='c28b76a465b80d401170401cd64c9c8f', argument_confidence=0.9974746569059789, argument_label='argument', sentence_original='\"The tendency for fire seasons to become more intense and fire danger to occur earlier in the season is a clear trend in Australia\\'s climate,\" it warned.', sentence_preprocessed='\"The tendency for fire seasons to become more intense and fire danger to occur earlier in the season is a clear trend in Australia\\'s climate,\" it warned.', sort_confidence=0.995403812219439, stance_confidence=0.993332967532899, stance_label='contra'),\n",
       " ClassifiedSentence(url='http://global.chinadaily.com.cn/a/202001/07/WS5e13ea37a310cf3e35582e46.html', doc_id='cf84a621b674514c19fc2ad15ece8db7', topic='climate change', sentence_id='bfdc8942ec182b38b6f59b9a00e7709b', argument_confidence=0.9891220331192017, argument_label='argument', sentence_original='While the air pollution situation in the Chinese capital has improved markedly in recent years, smog levels are still occasionally rated hazardous.', sentence_preprocessed='While the air pollution situation in the Chinese capital has improved markedly in recent years, smog levels are still occasionally rated hazardous.', sort_confidence=0.9929424589875933, stance_confidence=0.9967628848559849, stance_label='contra'),\n",
       " ClassifiedSentence(url='http://global.chinadaily.com.cn/a/202001/07/WS5e13ea37a310cf3e35582e46.html', doc_id='cf84a621b674514c19fc2ad15ece8db7', topic='climate change', sentence_id='9d9beb1971c78aec76f93428ddb81ebd', argument_confidence=0.9959028786979616, argument_label='argument', sentence_original='But as Australia burns and another big coal exporter, Indonesia, tries to keep its capital from flooding, a lack of regard for the consequences of global warming is coming home to roost.', sentence_preprocessed='But as Australia burns and another big coal exporter, Indonesia, tries to keep its capital from flooding, a lack of regard for the consequences of global warming is coming home to roost.', sort_confidence=0.9903250799837984, stance_confidence=0.9847472812696352, stance_label='contra'),\n",
       " ClassifiedSentence(url='http://global.chinadaily.com.cn/a/202001/07/WS5e13ea37a310cf3e35582e46.html', doc_id='cf84a621b674514c19fc2ad15ece8db7', topic='climate change', sentence_id='fb4ab9674db5bdd956ca156db79f558b', argument_confidence=0.9327743798494339, argument_label='argument', sentence_original=\"Climate Analytics says that on a per capita basis, Australia's carbon footprint already exceeds China's by a factor of nine, the United States' by a factor of four and India's by a factor of 37.\", sentence_preprocessed=\"Climate Analytics says that on a per capita basis, Australia's carbon footprint already exceeds China's by a factor of nine, the United States' by a factor of four and India's by a factor of 37.\", sort_confidence=0.9620607103180225, stance_confidence=0.9913470407866112, stance_label='pro'),\n",
       " ClassifiedSentence(url='http://global.chinadaily.com.cn/a/202001/07/WS5e13ea37a310cf3e35582e46.html', doc_id='cf84a621b674514c19fc2ad15ece8db7', topic='climate change', sentence_id='e3427614a5fb499d2fdcef797945a54d', argument_confidence=0.7314245700836182, argument_label='argument', sentence_original=\"Bushfires are part of Australia's ecosystem but the current bushfire season has been exceptionally destructive, with record high temperatures following a record dry spell.\", sentence_preprocessed=\"Bushfires are part of Australia's ecosystem but the current bushfire season has been exceptionally destructive, with record high temperatures following a record dry spell.\", sort_confidence=0.8417715643273727, stance_confidence=0.9521185585711273, stance_label='contra'),\n",
       " ClassifiedSentence(url='http://global.chinadaily.com.cn/a/202001/07/WS5e13ea37a310cf3e35582e46.html', doc_id='cf84a621b674514c19fc2ad15ece8db7', topic='climate change', sentence_id='f042e22b6a65afcf3c57c77fc37137ae', argument_confidence=0.6193669438362122, argument_label='argument', sentence_original=\"Add that to the 1.4 percent of global emissions from the country's domestic use of fossil fuel and you have a country with a population of 25.5 million－less than Beijing's when migrants from other parts of China are included－that is responsible for about 5 percent of global emissions.\", sentence_preprocessed=\"Add that to the 1.4 percent of global emissions from the country's domestic use of fossil fuel and you have a country with a population of 25.5 million－less than Beijing's when migrants from other parts of China are included－that is responsible for about 5 percent of global emissions.\", sort_confidence=0.8051109723360057, stance_confidence=0.9908550008357991, stance_label='pro'),\n",
       " ClassifiedSentence(url='http://global.chinadaily.com.cn/a/202001/07/WS5e13ea37a310cf3e35582e46.html', doc_id='cf84a621b674514c19fc2ad15ece8db7', topic='climate change', sentence_id='ac907f44afd1b653938bd9f46339ac23', argument_confidence=0.5897404849529266, argument_label='argument', sentence_original='It goes on to say \"if current government and industry projections for fossil fuel exports are realized\", Australia could be responsible for about 13 percent of global carbon dioxide emissions in 2030, with the largest growth coming from coal exports.', sentence_preprocessed='It goes on to say \"if current government and industry projections for fossil fuel exports are realized\", Australia could be responsible for about 13 percent of global carbon dioxide emissions in 2030, with the largest growth coming from coal exports.', sort_confidence=0.7780943342388775, stance_confidence=0.9664481835248284, stance_label='pro'),\n",
       " ClassifiedSentence(url='http://global.chinadaily.com.cn/a/202001/07/WS5e13ea37a310cf3e35582e46.html', doc_id='cf84a621b674514c19fc2ad15ece8db7', topic='climate change', sentence_id='845a1c6b117780022bde9ffb760ed9a5', argument_confidence=0.5757991075515747, argument_label='argument', sentence_original='In its submission to a 2009 Senate inquiry into bushfires in Australia, the Commonwealth Scientific and Industrial Research Organization said an average of 500,000 square kilometers of the country goes up in flames each year, with about 80 percent of that in sparsely populated northern savanna regions.', sentence_preprocessed='In its submission to a 2009 Senate inquiry into bushfires in Australia, the Commonwealth Scientific and Industrial Research Organization said an average of 500,000 square kilometers of the country goes up in flames each year, with about 80 percent of that in sparsely populated northern savanna regions.', sort_confidence=0.5529703496698304, stance_confidence=0.5301415917880862, stance_label='pro'),\n",
       " ClassifiedSentence(url='http://global.chinadaily.com.cn/a/202001/07/WS5e13ea37a310cf3e35582e46.html', doc_id='cf84a621b674514c19fc2ad15ece8db7', topic='climate change', sentence_id='9133914cc394d35e95713ecd8d2ad5a1', argument_confidence=0.022144019603729248, argument_label='no argument', sentence_original=\"Australia's fossil fuel exports contribute 3.6 percent of global greenhouse gas emissions each year－with coal exports responsible for 2.9 percent in 2017－according to a report released in July by Climate Analytics, a think tank based in Berlin.\", sentence_preprocessed=\"Australia's fossil fuel exports contribute 3.6 percent of global greenhouse gas emissions each year－with coal exports responsible for 2.9 percent in 2017－according to a report released in July by Climate Analytics, a think tank based in Berlin.\", sort_confidence=0.022144019603729248, stance_confidence=0.0, stance_label=''),\n",
       " ClassifiedSentence(url='http://global.chinadaily.com.cn/a/202001/07/WS5e13ea37a310cf3e35582e46.html', doc_id='cf84a621b674514c19fc2ad15ece8db7', topic='climate change', sentence_id='b00db1ab30c9e4292751a08e76f2a8c7', argument_confidence=0.018764734268188477, argument_label='no argument', sentence_original=\"Last month, in its Australian Seasonal Bushfire Outlook, the country's Bushfire and Natural Hazards Cooperative Research Center said the southern half of the continent experienced its driest January to November period ever last year, in records dating back to 1900, while daytime temperatures nationwide were the warmest since records began in 1910.\", sentence_preprocessed=\"Last month, in its Australian Seasonal Bushfire Outlook, the country's Bushfire and Natural Hazards Cooperative Research Center said the southern half of the continent experienced its driest January to November period ever last year, in records dating back to 1900, while daytime temperatures nationwide were the warmest since records began in 1910.\", sort_confidence=0.018764734268188477, stance_confidence=0.0, stance_label=''),\n",
       " ClassifiedSentence(url='http://global.chinadaily.com.cn/a/202001/07/WS5e13ea37a310cf3e35582e46.html', doc_id='cf84a621b674514c19fc2ad15ece8db7', topic='climate change', sentence_id='dfd9de370bb879423f1252483e43a65b', argument_confidence=0.008544743061065674, argument_label='no argument', sentence_original=\"Australia is also the world's biggest exporter of metallurgical coal, used to make steel, and its secondbiggest exporter of thermal coal, which is burned to generate electricity, with China its second-biggest market for both.\", sentence_preprocessed=\"Australia is also the world's biggest exporter of metallurgical coal, used to make steel, and its secondbiggest exporter of thermal coal, which is burned to generate electricity, with China its second-biggest market for both.\", sort_confidence=0.008544743061065674, stance_confidence=0.0, stance_label=''),\n",
       " ClassifiedSentence(url='http://global.chinadaily.com.cn/a/202001/07/WS5e13ea37a310cf3e35582e46.html', doc_id='cf84a621b674514c19fc2ad15ece8db7', topic='climate change', sentence_id='8830ab057079150c63db9968d08925c3', argument_confidence=0.006416499614715576, argument_label='no argument', sentence_original=\"That's something Australians have been getting a taste of in recent months, with smoke from bushfires blanketing Sydney－where it has obscured expensive harbor views－and other cities, including Canberra, the national capital.\", sentence_preprocessed=\"That's something Australians have been getting a taste of in recent months, with smoke from bushfires blanketing Sydney－where it has obscured expensive harbor views－and other cities, including Canberra, the national capital.\", sort_confidence=0.006416499614715576, stance_confidence=0.0, stance_label=''),\n",
       " ClassifiedSentence(url='http://global.chinadaily.com.cn/a/202001/07/WS5e13ea37a310cf3e35582e46.html', doc_id='cf84a621b674514c19fc2ad15ece8db7', topic='climate change', sentence_id='dd25f32df09658eaab2b475c9ef24969', argument_confidence=0.005794227123260498, argument_label='no argument', sentence_original=\"Figures in last month's edition of the Australian government's Resources and Energy Quarterly suggest Australia's coal exports will rise by 5.6 percent in the next two years to 415 million metric tons.\", sentence_preprocessed=\"Figures in last month's edition of the Australian government's Resources and Energy Quarterly suggest Australia's coal exports will rise by 5.6 percent in the next two years to 415 million metric tons.\", sort_confidence=0.005794227123260498, stance_confidence=0.0, stance_label=''),\n",
       " ClassifiedSentence(url='http://global.chinadaily.com.cn/a/202001/07/WS5e13ea37a310cf3e35582e46.html', doc_id='cf84a621b674514c19fc2ad15ece8db7', topic='climate change', sentence_id='c7b4b593dc5fbf862856f30e8fe80473', argument_confidence=0.0029388070106506348, argument_label='no argument', sentence_original=\"There's now been a Black November and December, with more land burned in the state of New South Wales than there is in the whole country of Wales, and January and February are likely to be added to the list.\", sentence_preprocessed=\"There's now been a Black November and December, with more land burned in the state of New South Wales than there is in the whole country of Wales, and January and February are likely to be added to the list.\", sort_confidence=0.0029388070106506348, stance_confidence=0.0, stance_label=''),\n",
       " ClassifiedSentence(url='http://global.chinadaily.com.cn/a/202001/07/WS5e13ea37a310cf3e35582e46.html', doc_id='cf84a621b674514c19fc2ad15ece8db7', topic='climate change', sentence_id='ff4ebb05e9183506bfb6c746b3160cf5', argument_confidence=0.0025374889373779297, argument_label='no argument', sentence_original='\"Mom, mom, look at the moon,\" a small boy, tugging at his mother\\'s skirt, exclaimed at Beijing\\'s Lama Temple one murky fall afternoon in the early 2000s.', sentence_preprocessed='\"Mom, mom, look at the moon,\" a small boy, tugging at his mother\\'s skirt, exclaimed at Beijing\\'s Lama Temple one murky fall afternoon in the early 2000s.', sort_confidence=0.0025374889373779297, stance_confidence=0.0, stance_label=''),\n",
       " ClassifiedSentence(url='http://global.chinadaily.com.cn/a/202001/07/WS5e13ea37a310cf3e35582e46.html', doc_id='cf84a621b674514c19fc2ad15ece8db7', topic='climate change', sentence_id='997b3256267b0845bf6b8bcbdc7c9eb1', argument_confidence=0.0021309852600097656, argument_label='no argument', sentence_original='Since the mid-1800s, notable fires have included Black Sunday in 1926, Black Monday in 1863, Black Tuesday in 1967, Black Thursday in 1851, Black Friday in 1939 and Black Saturday in 2009.', sentence_preprocessed='Since the mid-1800s, notable fires have included Black Sunday in 1926, Black Monday in 1863, Black Tuesday in 1967, Black Thursday in 1851, Black Friday in 1939 and Black Saturday in 2009.', sort_confidence=0.0021309852600097656, stance_confidence=0.0, stance_label=''),\n",
       " ClassifiedSentence(url='http://global.chinadaily.com.cn/a/202001/07/WS5e13ea37a310cf3e35582e46.html', doc_id='cf84a621b674514c19fc2ad15ece8db7', topic='climate change', sentence_id='5b4caf1a2ea0480a97ebc40828e0c9fb', argument_confidence=0.0012977123260498047, argument_label='no argument', sentence_original='A hot, dry country caught between fire and a coal face', sentence_preprocessed='A hot, dry country caught between fire and a coal face', sort_confidence=0.0012977123260498047, stance_confidence=0.0, stance_label=''),\n",
       " ClassifiedSentence(url='http://global.chinadaily.com.cn/a/202001/07/WS5e13ea37a310cf3e35582e46.html', doc_id='cf84a621b674514c19fc2ad15ece8db7', topic='climate change', sentence_id='1fa65577add97e2ca2586dc20aba6ede', argument_confidence=0.001204371452331543, argument_label='no argument', sentence_original='The content (including but not limited to text, photo, multimedia information, etc) published in this site belongs to China Daily Information Co (CDIC).', sentence_preprocessed='The content (including but not limited to text, photo, multimedia information, etc) published in this site belongs to China Daily Information Co (CDIC).', sort_confidence=0.001204371452331543, stance_confidence=0.0, stance_label=''),\n",
       " ClassifiedSentence(url='http://global.chinadaily.com.cn/a/202001/07/WS5e13ea37a310cf3e35582e46.html', doc_id='cf84a621b674514c19fc2ad15ece8db7', topic='climate change', sentence_id='b018608f6b6c12f427735ba020864ac8', argument_confidence=0.001186370849609375, argument_label='no argument', sentence_original='Beijing residents have even been asked for advice on the best masks to wear.', sentence_preprocessed='Beijing residents have even been asked for advice on the best masks to wear.', sort_confidence=0.001186370849609375, stance_confidence=0.0, stance_label=''),\n",
       " ClassifiedSentence(url='http://global.chinadaily.com.cn/a/202001/07/WS5e13ea37a310cf3e35582e46.html', doc_id='cf84a621b674514c19fc2ad15ece8db7', topic='climate change', sentence_id='9d0687fe9cc39c2015dc69e274fd0549', argument_confidence=0.001074373722076416, argument_label='no argument', sentence_original='Without written authorization from CDIC, such content shall not be republished or used in any form.', sentence_preprocessed='Without written authorization from CDIC, such content shall not be republished or used in any form.', sort_confidence=0.001074373722076416, stance_confidence=0.0, stance_label=''),\n",
       " ClassifiedSentence(url='http://global.chinadaily.com.cn/a/202001/07/WS5e13ea37a310cf3e35582e46.html', doc_id='cf84a621b674514c19fc2ad15ece8db7', topic='climate change', sentence_id='a10fccc1b7bf4c6540b621468550745c', argument_confidence=0.0010296106338500977, argument_label='no argument', sentence_original='The dull red orb he was pointing out was actually the sun.', sentence_preprocessed='The dull red orb he was pointing out was actually the sun.', sort_confidence=0.0010296106338500977, stance_confidence=0.0, stance_label=''),\n",
       " ClassifiedSentence(url='http://global.chinadaily.com.cn/a/202001/07/WS5e13ea37a310cf3e35582e46.html', doc_id='cf84a621b674514c19fc2ad15ece8db7', topic='climate change', sentence_id='1efc109bdddbb6e51e9b69cc0a1b0701', argument_confidence=0.000883638858795166, argument_label='no argument', sentence_original='All rights reserved.', sentence_preprocessed='All rights reserved.', sort_confidence=0.000883638858795166, stance_confidence=0.0, stance_label=''),\n",
       " ClassifiedSentence(url='http://global.chinadaily.com.cn/a/202001/07/WS5e13ea37a310cf3e35582e46.html', doc_id='cf84a621b674514c19fc2ad15ece8db7', topic='climate change', sentence_id='8552c48d2eadc24c5447f482b9aa46cb', argument_confidence=0.0008217692375183105, argument_label='no argument', sentence_original='Note: Browsers with 1024*768 or higher resolution are suggested for this site.', sentence_preprocessed='Note: Browsers with 1024*768 or higher resolution are suggested for this site.', sort_confidence=0.0008217692375183105, stance_confidence=0.0, stance_label=''),\n",
       " ClassifiedSentence(url='http://global.chinadaily.com.cn/a/202001/07/WS5e13ea37a310cf3e35582e46.html', doc_id='cf84a621b674514c19fc2ad15ece8db7', topic='climate change', sentence_id='4456f67465980d5d0e6c904b61496ac2', argument_confidence=0.0008206963539123535, argument_label='no argument', sentence_original='Copyright 1995 - .', sentence_preprocessed='Copyright 1995 - .', sort_confidence=0.0008206963539123535, stance_confidence=0.0, stance_label=''),\n",
       " ClassifiedSentence(url='http://global.chinadaily.com.cn/a/202001/07/WS5e13ea37a310cf3e35582e46.html', doc_id='cf84a621b674514c19fc2ad15ece8db7', topic='climate change', sentence_id='4f19f3e637bc5e1e282cb77ec5bc68cc', argument_confidence=0.0007568597793579102, argument_label='no argument', sentence_original=\"Throw in Ash Wednesday in 1983 and you've got the week covered.\", sentence_preprocessed=\"Throw in Ash Wednesday in 1983 and you've got the week covered.\", sort_confidence=0.0007568597793579102, stance_confidence=0.0, stance_label=''),\n",
       " ClassifiedSentence(url='https://www.leicestermercury.co.uk/news/uk-world-news/12-stunning-places-around-uk-3714879', doc_id='cc5e8dcf8b787ea4fc0f7455a84559ac', topic='climate change', sentence_id='0ed1c68633ef17f47a29b64b81777a66', argument_confidence=0.9867533650249243, argument_label='argument', sentence_original=\"It's kept stable and warm thanks to its engineering.\", sentence_preprocessed=\"It's kept stable and warm thanks to its engineering.\", sort_confidence=0.9926019805039482, stance_confidence=0.9984505959829721, stance_label='pro'),\n",
       " ClassifiedSentence(url='https://www.leicestermercury.co.uk/news/uk-world-news/12-stunning-places-around-uk-3714879', doc_id='cc5e8dcf8b787ea4fc0f7455a84559ac', topic='climate change', sentence_id='aa27e31e548d7cb09f37fb9e9bb37671', argument_confidence=0.983785904943943, argument_label='argument', sentence_original='Waste water is processed without the need for chemicals and is captured in one of their newly constructed wildlife ponds which both serves the needs of our guests and provide important additional habitat.', sentence_preprocessed='Waste water is processed without the need for chemicals and is captured in one of their newly constructed wildlife ponds which both serves the needs of our guests and provide important additional habitat.', sort_confidence=0.9909909444526599, stance_confidence=0.9981959839613769, stance_label='pro'),\n",
       " ClassifiedSentence(url='https://www.leicestermercury.co.uk/news/uk-world-news/12-stunning-places-around-uk-3714879', doc_id='cc5e8dcf8b787ea4fc0f7455a84559ac', topic='climate change', sentence_id='7da0469ea615c70b0aabb6d6ca24edce', argument_confidence=0.9631899036467075, argument_label='argument', sentence_original='Electricity and heating are generated by solar panels here, helping to make your stay eco-friendly.', sentence_preprocessed='Electricity and heating are generated by solar panels here, helping to make your stay eco-friendly.', sort_confidence=0.9806264880242127, stance_confidence=0.9980630724017179, stance_label='pro'),\n",
       " ClassifiedSentence(url='https://www.leicestermercury.co.uk/news/uk-world-news/12-stunning-places-around-uk-3714879', doc_id='cc5e8dcf8b787ea4fc0f7455a84559ac', topic='climate change', sentence_id='79e638fe7109f7d326018725b254c3c4', argument_confidence=0.9309718757867813, argument_label='argument', sentence_original='Those behind it say they use sustainable and green energy sources to light and heat their lodges, including wind up and solar lanterns and wood burning stoves that use locally sourced and sustainable sources of fuel.', sentence_preprocessed='Those behind it say they use sustainable and green energy sources to light and heat their lodges, including wind up and solar lanterns and wood burning stoves that use locally sourced and sustainable sources of fuel.', sort_confidence=0.9643597138024469, stance_confidence=0.9977475518181126, stance_label='pro'),\n",
       " ClassifiedSentence(url='https://www.leicestermercury.co.uk/news/uk-world-news/12-stunning-places-around-uk-3714879', doc_id='cc5e8dcf8b787ea4fc0f7455a84559ac', topic='climate change', sentence_id='70b15725ad87cbe6136763d4a448afb4', argument_confidence=0.8923535495996475, argument_label='argument', sentence_original=\"You don't have to go abroad for a breathtaking holiday experience (Image: Unique Homestays)\", sentence_preprocessed=\"You don't have to go abroad for a breathtaking holiday experience (Image: Unique Homestays)\", sort_confidence=0.9448804448927168, stance_confidence=0.9974073401857863, stance_label='pro'),\n",
       " ClassifiedSentence(url='https://www.leicestermercury.co.uk/news/uk-world-news/12-stunning-places-around-uk-3714879', doc_id='cc5e8dcf8b787ea4fc0f7455a84559ac', topic='climate change', sentence_id='772e523e12d50498a7dc04211df3c5ec', argument_confidence=0.8866981193423271, argument_label='argument', sentence_original='All sewage is treated on site through the use of innovative technology and the natural environment.', sentence_preprocessed='All sewage is treated on site through the use of innovative technology and the natural environment.', sort_confidence=0.9423686134492566, stance_confidence=0.9980391075561862, stance_label='pro'),\n",
       " ClassifiedSentence(url='https://www.leicestermercury.co.uk/news/uk-world-news/12-stunning-places-around-uk-3714879', doc_id='cc5e8dcf8b787ea4fc0f7455a84559ac', topic='climate change', sentence_id='5c9b49e8af31124d52a1f2bc92cc13f2', argument_confidence=0.5238362550735474, argument_label='argument', sentence_original=\"It's a relaxing countryside retreat with views to the Mendip Hills, and the cottage is quite remote, with no light pollution.\", sentence_preprocessed=\"It's a relaxing countryside retreat with views to the Mendip Hills, and the cottage is quite remote, with no light pollution.\", sort_confidence=0.7585864493941434, stance_confidence=0.9933366437147395, stance_label='pro'),\n",
       " ClassifiedSentence(url='https://www.leicestermercury.co.uk/news/uk-world-news/12-stunning-places-around-uk-3714879', doc_id='cc5e8dcf8b787ea4fc0f7455a84559ac', topic='climate change', sentence_id='3ed6e1463b42cf71cf87a6ba2fcfc88d', argument_confidence=0.4331371784210205, argument_label='no argument', sentence_original='Depending where you choose to chill, you’ll see the wood-fired hot tub, steaming invitingly, the pizza oven or the lake, where you can splash about in canoes or leap in from the pier for a wild swim.', sentence_preprocessed='Depending where you choose to chill, you’ll see the wood-fired hot tub, steaming invitingly, the pizza oven or the lake, where you can splash about in canoes or leap in from the pier for a wild swim.', sort_confidence=0.4331371784210205, stance_confidence=0.0, stance_label=''),\n",
       " ClassifiedSentence(url='https://www.leicestermercury.co.uk/news/uk-world-news/12-stunning-places-around-uk-3714879', doc_id='cc5e8dcf8b787ea4fc0f7455a84559ac', topic='climate change', sentence_id='a00077863c7225a6adb9b9b8824ef7d3', argument_confidence=0.2494611144065857, argument_label='no argument', sentence_original='There’s underfloor heating, a double-ended bathtub and a sound system and TV that make for great movie nights or the rare chance to let your music roll out into the forest, with no neighbours to disturb.', sentence_preprocessed='There’s underfloor heating, a double-ended bathtub and a sound system and TV that make for great movie nights or the rare chance to let your music roll out into the forest, with no neighbours to disturb.', sort_confidence=0.2494611144065857, stance_confidence=0.0, stance_label=''),\n",
       " ClassifiedSentence(url='https://www.leicestermercury.co.uk/news/uk-world-news/12-stunning-places-around-uk-3714879', doc_id='cc5e8dcf8b787ea4fc0f7455a84559ac', topic='climate change', sentence_id='cc655b2c98d60ded214a0a4acb53bb28', argument_confidence=0.1738024353981018, argument_label='no argument', sentence_original='Air transport accounts for 2 per cent of global man-made CO2 emissions, according to International Air Transport Association (IATA).', sentence_preprocessed='Air transport accounts for 2 per cent of global man-made CO2 emissions, according to International Air Transport Association (IATA).', sort_confidence=0.1738024353981018, stance_confidence=0.0, stance_label=''),\n",
       " ClassifiedSentence(url='https://www.leicestermercury.co.uk/news/uk-world-news/12-stunning-places-around-uk-3714879', doc_id='cc5e8dcf8b787ea4fc0f7455a84559ac', topic='climate change', sentence_id='fc18d0d99d63fd4f7fef6e7bb0563327', argument_confidence=0.15611165761947632, argument_label='no argument', sentence_original='You might even find your new favourite place to go on holiday.', sentence_preprocessed='You might even find your new favourite place to go on holiday.', sort_confidence=0.15611165761947632, stance_confidence=0.0, stance_label=''),\n",
       " ClassifiedSentence(url='https://www.leicestermercury.co.uk/news/uk-world-news/12-stunning-places-around-uk-3714879', doc_id='cc5e8dcf8b787ea4fc0f7455a84559ac', topic='climate change', sentence_id='a0c7526a7f21fffecaa0c6b347f9d34e', argument_confidence=0.13537901639938354, argument_label='no argument', sentence_original='It’s the perfect place to sit and watch the sun set over the loch.', sentence_preprocessed='It’s the perfect place to sit and watch the sun set over the loch.', sort_confidence=0.13537901639938354, stance_confidence=0.0, stance_label=''),\n",
       " ClassifiedSentence(url='https://www.leicestermercury.co.uk/news/uk-world-news/12-stunning-places-around-uk-3714879', doc_id='cc5e8dcf8b787ea4fc0f7455a84559ac', topic='climate change', sentence_id='490fb8d04781b09c1711e982e8c33cff', argument_confidence=0.06499499082565308, argument_label='no argument', sentence_original='The bed pulls down from wall and a table pulls out from under the couch to create a comfortable and versatile living space.', sentence_preprocessed='The bed pulls down from wall and a table pulls out from under the couch to create a comfortable and versatile living space.', sort_confidence=0.06499499082565308, stance_confidence=0.0, stance_label=''),\n",
       " ClassifiedSentence(url='https://www.leicestermercury.co.uk/news/uk-world-news/12-stunning-places-around-uk-3714879', doc_id='cc5e8dcf8b787ea4fc0f7455a84559ac', topic='climate change', sentence_id='58722b2ec7e9080a0da5fa1b229ebccb', argument_confidence=0.05776911973953247, argument_label='no argument', sentence_original='You might hear the generator kick in if the solar power goes out, or the outdoor shower running (there’s an indoor one too) but the loudest things around are the birds, who flit between the branches and surround the cabin with their song.', sentence_preprocessed='You might hear the generator kick in if the solar power goes out, or the outdoor shower running (there’s an indoor one too) but the loudest things around are the birds, who flit between the branches and surround the cabin with their song.', sort_confidence=0.05776911973953247, stance_confidence=0.0, stance_label=''),\n",
       " ClassifiedSentence(url='https://www.leicestermercury.co.uk/news/uk-world-news/12-stunning-places-around-uk-3714879', doc_id='cc5e8dcf8b787ea4fc0f7455a84559ac', topic='climate change', sentence_id='e87a54a44c1bfb3a48cc3914aee9b374', argument_confidence=0.03697860240936279, argument_label='no argument', sentence_original='Lundy is never crowded, even in the height of summer when up to five times a week, MS Oldenburg brings day-visitors who stay for a few hours.', sentence_preprocessed='Lundy is never crowded, even in the height of summer when up to five times a week, MS Oldenburg brings day-visitors who stay for a few hours.', sort_confidence=0.03697860240936279, stance_confidence=0.0, stance_label=''),\n",
       " ClassifiedSentence(url='https://www.leicestermercury.co.uk/news/uk-world-news/12-stunning-places-around-uk-3714879', doc_id='cc5e8dcf8b787ea4fc0f7455a84559ac', topic='climate change', sentence_id='3b1330369e48642911f4aa8c0e3e4ab7', argument_confidence=0.02326369285583496, argument_label='no argument', sentence_original='A great base to explore the great British countryside, The Ardyle Eco Pod offers stunning views across the countryside and is just three minutes walk from the West Highland Way path – and five minutes drive from the shores of Loch Lomond.', sentence_preprocessed='A great base to explore the great British countryside, The Ardyle Eco Pod offers stunning views across the countryside and is just three minutes walk from the West Highland Way path – and five minutes drive from the shores of Loch Lomond.', sort_confidence=0.02326369285583496, stance_confidence=0.0, stance_label=''),\n",
       " ClassifiedSentence(url='https://www.leicestermercury.co.uk/news/uk-world-news/12-stunning-places-around-uk-3714879', doc_id='cc5e8dcf8b787ea4fc0f7455a84559ac', topic='climate change', sentence_id='8692e02a050e8612e59797fe4f3a6c7e', argument_confidence=0.020029306411743164, argument_label='no argument', sentence_original='As you would expect from an eco-friendly pod, there’s an electric car charge point and the pod’s heating and power comes from solar panels and a biomass boiler.', sentence_preprocessed='As you would expect from an eco-friendly pod, there’s an electric car charge point and the pod’s heating and power comes from solar panels and a biomass boiler.', sort_confidence=0.020029306411743164, stance_confidence=0.0, stance_label=''),\n",
       " ClassifiedSentence(url='https://www.leicestermercury.co.uk/news/uk-world-news/12-stunning-places-around-uk-3714879', doc_id='cc5e8dcf8b787ea4fc0f7455a84559ac', topic='climate change', sentence_id='a520d67661b75f56302632e3bdcd72c5', argument_confidence=0.010926783084869385, argument_label='no argument', sentence_original='Carefully planned to offer luxurious eco-friendly accommodation, this holiday home has central under-floor heating provided by a ground source heat pump and a heat-recovering ventilation system.', sentence_preprocessed='Carefully planned to offer luxurious eco-friendly accommodation, this holiday home has central under-floor heating provided by a ground source heat pump and a heat-recovering ventilation system.', sort_confidence=0.010926783084869385, stance_confidence=0.0, stance_label=''),\n",
       " ClassifiedSentence(url='https://www.leicestermercury.co.uk/news/uk-world-news/12-stunning-places-around-uk-3714879', doc_id='cc5e8dcf8b787ea4fc0f7455a84559ac', topic='climate change', sentence_id='26d8509b3c662419f9ae1d944d8ea1f1', argument_confidence=0.010302484035491943, argument_label='no argument', sentence_original='They say they are also committed to the maintenance of the woodland as a haven for wildlife as well as guests.', sentence_preprocessed='They say they are also committed to the maintenance of the woodland as a haven for wildlife as well as guests.', sort_confidence=0.010302484035491943, stance_confidence=0.0, stance_label=''),\n",
       " ClassifiedSentence(url='https://www.leicestermercury.co.uk/news/uk-world-news/12-stunning-places-around-uk-3714879', doc_id='cc5e8dcf8b787ea4fc0f7455a84559ac', topic='climate change', sentence_id='361eef74257250d293edadc3a2a7a61b', argument_confidence=0.007945895195007324, argument_label='no argument', sentence_original='Situated in an elevated position in the heart of Cragg Vale, Old Cragg Hall Barn is an eco-friendly conversion with outstanding views over the valley.', sentence_preprocessed='Situated in an elevated position in the heart of Cragg Vale, Old Cragg Hall Barn is an eco-friendly conversion with outstanding views over the valley.', sort_confidence=0.007945895195007324, stance_confidence=0.0, stance_label=''),\n",
       " ClassifiedSentence(url='https://www.leicestermercury.co.uk/news/uk-world-news/12-stunning-places-around-uk-3714879', doc_id='cc5e8dcf8b787ea4fc0f7455a84559ac', topic='climate change', sentence_id='ffdf6b4c2e9a0b19675c84775cbc7d8c', argument_confidence=0.00685197114944458, argument_label='no argument', sentence_original='Their website explains: \"We continue to manage the woodland, plant trees, create new habitat such as our mini beast hotel and newly planted wildflowers and have installed nesting boxes across the wood.\"', sentence_preprocessed='Their website explains: \"We continue to manage the woodland, plant trees, create new habitat such as our mini beast hotel and newly planted wildflowers and have installed nesting boxes across the wood.\"', sort_confidence=0.00685197114944458, stance_confidence=0.0, stance_label=''),\n",
       " ClassifiedSentence(url='https://www.leicestermercury.co.uk/news/uk-world-news/12-stunning-places-around-uk-3714879', doc_id='cc5e8dcf8b787ea4fc0f7455a84559ac', topic='climate change', sentence_id='343e48db7cb90a00a8e9fd52fdff891f', argument_confidence=0.0063931941986083984, argument_label='no argument', sentence_original=\"On top of the Sanctuary's chic utilitarian living space, this pocket-sized private health farm comes complete with a hot tub, fire pit and his'n'hers cruiser bikes for pedalling around the countryside.\", sentence_preprocessed=\"On top of the Sanctuary's chic utilitarian living space, this pocket-sized private health farm comes complete with a hot tub, fire pit and his'n'hers cruiser bikes for pedalling around the countryside.\", sort_confidence=0.0063931941986083984, stance_confidence=0.0, stance_label=''),\n",
       " ClassifiedSentence(url='https://www.leicestermercury.co.uk/news/uk-world-news/12-stunning-places-around-uk-3714879', doc_id='cc5e8dcf8b787ea4fc0f7455a84559ac', topic='climate change', sentence_id='fcb7222c8d7e744f0a8d87698904ad1e', argument_confidence=0.006223082542419434, argument_label='no argument', sentence_original='At all other times those who are staying in the holiday properties and the residents have the island to themselves.', sentence_preprocessed='At all other times those who are staying in the holiday properties and the residents have the island to themselves.', sort_confidence=0.006223082542419434, stance_confidence=0.0, stance_label=''),\n",
       " ClassifiedSentence(url='https://www.leicestermercury.co.uk/news/uk-world-news/12-stunning-places-around-uk-3714879', doc_id='cc5e8dcf8b787ea4fc0f7455a84559ac', topic='climate change', sentence_id='b9b20e441a8ace84af5fbbacc2f7f5cd', argument_confidence=0.006046116352081299, argument_label='no argument', sentence_original='With the woodburner going and the roof window above you, fall asleep under the night sky with the calming sounds of the forest around you.', sentence_preprocessed='With the woodburner going and the roof window above you, fall asleep under the night sky with the calming sounds of the forest around you.', sort_confidence=0.006046116352081299, stance_confidence=0.0, stance_label=''),\n",
       " ClassifiedSentence(url='https://www.leicestermercury.co.uk/news/uk-world-news/12-stunning-places-around-uk-3714879', doc_id='cc5e8dcf8b787ea4fc0f7455a84559ac', topic='climate change', sentence_id='0335f784bb4cc2f646cfe456d13ee137', argument_confidence=0.004094362258911133, argument_label='no argument', sentence_original=\"That being said, the property is not completely isolated, as Cool Places explain – the local pub is just a two-minute walk away, whilst Ham Wall Nature Reserve, Wells and Glastonbury are all within 15 minutes' driving distance.\", sentence_preprocessed=\"That being said, the property is not completely isolated, as Cool Places explain – the local pub is just a two-minute walk away, whilst Ham Wall Nature Reserve, Wells and Glastonbury are all within 15 minutes' driving distance.\", sort_confidence=0.004094362258911133, stance_confidence=0.0, stance_label=''),\n",
       " ClassifiedSentence(url='https://www.leicestermercury.co.uk/news/uk-world-news/12-stunning-places-around-uk-3714879', doc_id='cc5e8dcf8b787ea4fc0f7455a84559ac', topic='climate change', sentence_id='53dbdf23fec955e366a6e4710ad4f85d', argument_confidence=0.003405749797821045, argument_label='no argument', sentence_original='The morning sun will draw you out of your treetop pod onto the elevated terrace, welcomed by views of the Malvern Hills poking out from the neighbouring trees.', sentence_preprocessed='The morning sun will draw you out of your treetop pod onto the elevated terrace, welcomed by views of the Malvern Hills poking out from the neighbouring trees.', sort_confidence=0.003405749797821045, stance_confidence=0.0, stance_label=''),\n",
       " ClassifiedSentence(url='https://www.leicestermercury.co.uk/news/uk-world-news/12-stunning-places-around-uk-3714879', doc_id='cc5e8dcf8b787ea4fc0f7455a84559ac', topic='climate change', sentence_id='443cd5d57e6b262b184e0ba91f199dee', argument_confidence=0.0023592710494995117, argument_label='no argument', sentence_original='At all.', sentence_preprocessed='At all.', sort_confidence=0.0023592710494995117, stance_confidence=0.0, stance_label=''),\n",
       " ClassifiedSentence(url='https://www.leicestermercury.co.uk/news/uk-world-news/12-stunning-places-around-uk-3714879', doc_id='cc5e8dcf8b787ea4fc0f7455a84559ac', topic='climate change', sentence_id='98980a67ff0650356822bf98eacc8e27', argument_confidence=0.0021356940269470215, argument_label='no argument', sentence_original='There is also a POD Point electric vehicle charging point.', sentence_preprocessed='There is also a POD Point electric vehicle charging point.', sort_confidence=0.0021356940269470215, stance_confidence=0.0, stance_label=''),\n",
       " ClassifiedSentence(url='https://www.leicestermercury.co.uk/news/uk-world-news/12-stunning-places-around-uk-3714879', doc_id='cc5e8dcf8b787ea4fc0f7455a84559ac', topic='climate change', sentence_id='4722000194ccebe44aaf02b58c38e1f1', argument_confidence=0.0019229650497436523, argument_label='no argument', sentence_original='It has an en suite shower room and a little kitchen.', sentence_preprocessed='It has an en suite shower room and a little kitchen.', sort_confidence=0.0019229650497436523, stance_confidence=0.0, stance_label=''),\n",
       " ClassifiedSentence(url='https://www.leicestermercury.co.uk/news/uk-world-news/12-stunning-places-around-uk-3714879', doc_id='cc5e8dcf8b787ea4fc0f7455a84559ac', topic='climate change', sentence_id='805aff2d8d0b03c570cedd0e1f5ac38d', argument_confidence=0.0018900632858276367, argument_label='no argument', sentence_original='Inside there are comfy sofas and armchairs clustered round the wood-burner, a kitchen with a range that can handle cooking for eight with ease and bedrooms and bathrooms with space for everyone.', sentence_preprocessed='Inside there are comfy sofas and armchairs clustered round the wood-burner, a kitchen with a range that can handle cooking for eight with ease and bedrooms and bathrooms with space for everyone.', sort_confidence=0.0018900632858276367, stance_confidence=0.0, stance_label=''),\n",
       " ClassifiedSentence(url='https://www.leicestermercury.co.uk/news/uk-world-news/12-stunning-places-around-uk-3714879', doc_id='cc5e8dcf8b787ea4fc0f7455a84559ac', topic='climate change', sentence_id='71502177f7d3822a30668cfdf83fa0bd', argument_confidence=0.0018233060836791992, argument_label='no argument', sentence_original='If you fancy a bit of posh camping, this is the place for you.', sentence_preprocessed='If you fancy a bit of posh camping, this is the place for you.', sort_confidence=0.0018233060836791992, stance_confidence=0.0, stance_label=''),\n",
       " ClassifiedSentence(url='https://www.leicestermercury.co.uk/news/uk-world-news/12-stunning-places-around-uk-3714879', doc_id='cc5e8dcf8b787ea4fc0f7455a84559ac', topic='climate change', sentence_id='32f6e760fd4efeff75d3d226a073e54d', argument_confidence=0.0017921924591064453, argument_label='no argument', sentence_original='A Little Bit of Rough offers luxury camping in 20 beautiful acres of private woodland nestled in a secret location in the heart of rural Rutland.', sentence_preprocessed='A Little Bit of Rough offers luxury camping in 20 beautiful acres of private woodland nestled in a secret location in the heart of rural Rutland.', sort_confidence=0.0017921924591064453, stance_confidence=0.0, stance_label=''),\n",
       " ClassifiedSentence(url='https://www.leicestermercury.co.uk/news/uk-world-news/12-stunning-places-around-uk-3714879', doc_id='cc5e8dcf8b787ea4fc0f7455a84559ac', topic='climate change', sentence_id='e68f0f38a53f16b9ffe547f1f548ae15', argument_confidence=0.0017620325088500977, argument_label='no argument', sentence_original='You can unsubscribe at any time.', sentence_preprocessed='You can unsubscribe at any time.', sort_confidence=0.0017620325088500977, stance_confidence=0.0, stance_label=''),\n",
       " ClassifiedSentence(url='https://www.leicestermercury.co.uk/news/uk-world-news/12-stunning-places-around-uk-3714879', doc_id='cc5e8dcf8b787ea4fc0f7455a84559ac', topic='climate change', sentence_id='7cc18684829ec871f270800407f09137', argument_confidence=0.001622319221496582, argument_label='no argument', sentence_original='Rebuilt from the remains of an original stone barn, this contemporary new home has an abundance of glass, solid oak floors, woodburning stove, granite worktops, bespoke LED lighting and a large stone flagged terrace for alfresco dining.', sentence_preprocessed='Rebuilt from the remains of an original stone barn, this contemporary new home has an abundance of glass, solid oak floors, woodburning stove, granite worktops, bespoke LED lighting and a large stone flagged terrace for alfresco dining.', sort_confidence=0.001622319221496582, stance_confidence=0.0, stance_label=''),\n",
       " ClassifiedSentence(url='https://www.leicestermercury.co.uk/news/uk-world-news/12-stunning-places-around-uk-3714879', doc_id='cc5e8dcf8b787ea4fc0f7455a84559ac', topic='climate change', sentence_id='d53c88a329c5fd4fe579f643703f5bdb', argument_confidence=0.0015420913696289062, argument_label='no argument', sentence_original=\"Back at the house, there's a small south-facing cottage garden for you to enjoy the peace and quiet in.\", sentence_preprocessed=\"Back at the house, there's a small south-facing cottage garden for you to enjoy the peace and quiet in.\", sort_confidence=0.0015420913696289062, stance_confidence=0.0, stance_label=''),\n",
       " ClassifiedSentence(url='https://www.leicestermercury.co.uk/news/uk-world-news/12-stunning-places-around-uk-3714879', doc_id='cc5e8dcf8b787ea4fc0f7455a84559ac', topic='climate change', sentence_id='790afdd019491216d588d1ef0d65c72b', argument_confidence=0.0015364885330200195, argument_label='no argument', sentence_original='Outside, there’s a rattan table and chairs on the wooden decking from where guests can admire the view or snuggle up with one of the many Scottish books left for your enjoyment.', sentence_preprocessed='Outside, there’s a rattan table and chairs on the wooden decking from where guests can admire the view or snuggle up with one of the many Scottish books left for your enjoyment.', sort_confidence=0.0015364885330200195, stance_confidence=0.0, stance_label=''),\n",
       " ClassifiedSentence(url='https://www.leicestermercury.co.uk/news/uk-world-news/12-stunning-places-around-uk-3714879', doc_id='cc5e8dcf8b787ea4fc0f7455a84559ac', topic='climate change', sentence_id='69dd100e3061df6be966b4790b113f25', argument_confidence=0.0015278458595275879, argument_label='no argument', sentence_original='A Little bit of Rough say they are committed to recycling as much of its waste as possible and provide extensive recycling facilities for guests.', sentence_preprocessed='A Little bit of Rough say they are committed to recycling as much of its waste as possible and provide extensive recycling facilities for guests.', sort_confidence=0.0015278458595275879, stance_confidence=0.0, stance_label=''),\n",
       " ClassifiedSentence(url='https://www.leicestermercury.co.uk/news/uk-world-news/12-stunning-places-around-uk-3714879', doc_id='cc5e8dcf8b787ea4fc0f7455a84559ac', topic='climate change', sentence_id='7069d1dec6f75ac5a313d5f5e6df79ef', argument_confidence=0.001473546028137207, argument_label='no argument', sentence_original='You’re surrounded by beautiful bluebell woodland and down a track from even the nearest B road.', sentence_preprocessed='You’re surrounded by beautiful bluebell woodland and down a track from even the nearest B road.', sort_confidence=0.001473546028137207, stance_confidence=0.0, stance_label=''),\n",
       " ClassifiedSentence(url='https://www.leicestermercury.co.uk/news/uk-world-news/12-stunning-places-around-uk-3714879', doc_id='cc5e8dcf8b787ea4fc0f7455a84559ac', topic='climate change', sentence_id='c69c5b555972a84f56b5dcefbcc29e8a', argument_confidence=0.0012891292572021484, argument_label='no argument', sentence_original='As you ascend the handcrafted wooden stairway and step off the raised decking, you enter a cocoon hanging 10ft off the ground.', sentence_preprocessed='As you ascend the handcrafted wooden stairway and step off the raised decking, you enter a cocoon hanging 10ft off the ground.', sort_confidence=0.0012891292572021484, stance_confidence=0.0, stance_label=''),\n",
       " ClassifiedSentence(url='https://www.leicestermercury.co.uk/news/uk-world-news/12-stunning-places-around-uk-3714879', doc_id='cc5e8dcf8b787ea4fc0f7455a84559ac', topic='climate change', sentence_id='c0cdd14e3d4559665c3b752206352fdf', argument_confidence=0.0012589097023010254, argument_label='no argument', sentence_original='So, make 2020 the year you do your bit to offset that damage, and who knows?', sentence_preprocessed='So, make 2020 the year you do your bit to offset that damage, and who knows?', sort_confidence=0.0012589097023010254, stance_confidence=0.0, stance_label=''),\n",
       " ClassifiedSentence(url='https://www.leicestermercury.co.uk/news/uk-world-news/12-stunning-places-around-uk-3714879', doc_id='cc5e8dcf8b787ea4fc0f7455a84559ac', topic='climate change', sentence_id='75b2dd5c016afdbb83f41161496eb50e', argument_confidence=0.0012532472610473633, argument_label='no argument', sentence_original=\"Hugging the southern borders of the New Forest, an idyllic rustic milieu between Lymington and Keyhaven provides the setting for this luxury couples' retreat in Hampshire.\", sentence_preprocessed=\"Hugging the southern borders of the New Forest, an idyllic rustic milieu between Lymington and Keyhaven provides the setting for this luxury couples' retreat in Hampshire.\", sort_confidence=0.0012532472610473633, stance_confidence=0.0, stance_label=''),\n",
       " ClassifiedSentence(url='https://www.leicestermercury.co.uk/news/uk-world-news/12-stunning-places-around-uk-3714879', doc_id='cc5e8dcf8b787ea4fc0f7455a84559ac', topic='climate change', sentence_id='48cb265d0f054c786b4e954afcf776f4', argument_confidence=0.0012453794479370117, argument_label='no argument', sentence_original='Brook House Woods has a full kitchen, pizza oven and fire pit, just 50m away, where you can roast up some al fresco meals.', sentence_preprocessed='Brook House Woods has a full kitchen, pizza oven and fire pit, just 50m away, where you can roast up some al fresco meals.', sort_confidence=0.0012453794479370117, stance_confidence=0.0, stance_label=''),\n",
       " ClassifiedSentence(url='https://www.leicestermercury.co.uk/news/uk-world-news/12-stunning-places-around-uk-3714879', doc_id='cc5e8dcf8b787ea4fc0f7455a84559ac', topic='climate change', sentence_id='e71cbff9088c24f065464f628eda017a', argument_confidence=0.0012362003326416016, argument_label='no argument', sentence_original='Expect wood-fired hot-tubs, fire pits, hammocks, pizza ovens, and twin outdoor baths.', sentence_preprocessed='Expect wood-fired hot-tubs, fire pits, hammocks, pizza ovens, and twin outdoor baths.', sort_confidence=0.0012362003326416016, stance_confidence=0.0, stance_label=''),\n",
       " ClassifiedSentence(url='https://www.leicestermercury.co.uk/news/uk-world-news/12-stunning-places-around-uk-3714879', doc_id='cc5e8dcf8b787ea4fc0f7455a84559ac', topic='climate change', sentence_id='dad30e4f20d5726f96e276c3b9014344', argument_confidence=0.001162111759185791, argument_label='no argument', sentence_original='The cabin conceals some indulgent touches under simple, rustic decor.', sentence_preprocessed='The cabin conceals some indulgent touches under simple, rustic decor.', sort_confidence=0.001162111759185791, stance_confidence=0.0, stance_label=''),\n",
       " ClassifiedSentence(url='https://www.leicestermercury.co.uk/news/uk-world-news/12-stunning-places-around-uk-3714879', doc_id='cc5e8dcf8b787ea4fc0f7455a84559ac', topic='climate change', sentence_id='2cadd5653c985a257ee02ddd62598fd2', argument_confidence=0.0011140704154968262, argument_label='no argument', sentence_original='A super-stylish farmhouse, Godney Arts House has been lovingly renovated.', sentence_preprocessed='A super-stylish farmhouse, Godney Arts House has been lovingly renovated.', sort_confidence=0.0011140704154968262, stance_confidence=0.0, stance_label=''),\n",
       " ClassifiedSentence(url='https://www.leicestermercury.co.uk/news/uk-world-news/12-stunning-places-around-uk-3714879', doc_id='cc5e8dcf8b787ea4fc0f7455a84559ac', topic='climate change', sentence_id='96d1d2c8091c747ec7dd8ec16bdda0d5', argument_confidence=0.0010662674903869629, argument_label='no argument', sentence_original='12 stunning places around the UK for a gorgeous staycation', sentence_preprocessed='12 stunning places around the UK for a gorgeous staycation', sort_confidence=0.0010662674903869629, stance_confidence=0.0, stance_label=''),\n",
       " ClassifiedSentence(url='https://www.leicestermercury.co.uk/news/uk-world-news/12-stunning-places-around-uk-3714879', doc_id='cc5e8dcf8b787ea4fc0f7455a84559ac', topic='climate change', sentence_id='466c1501479bdb7486e5e5c8649e0fd2', argument_confidence=0.0009912848472595215, argument_label='no argument', sentence_original='Sometimes they’ll include recommendations for other related newsletters or services we offer.', sentence_preprocessed='Sometimes they’ll include recommendations for other related newsletters or services we offer.', sort_confidence=0.0009912848472595215, stance_confidence=0.0, stance_label=''),\n",
       " ClassifiedSentence(url='https://www.leicestermercury.co.uk/news/uk-world-news/12-stunning-places-around-uk-3714879', doc_id='cc5e8dcf8b787ea4fc0f7455a84559ac', topic='climate change', sentence_id='4a21af662f4d37233e8f79555a02a779', argument_confidence=0.0009477734565734863, argument_label='no argument', sentence_original='What you won’t see is anything else.', sentence_preprocessed='What you won’t see is anything else.', sort_confidence=0.0009477734565734863, stance_confidence=0.0, stance_label=''),\n",
       " ClassifiedSentence(url='https://www.leicestermercury.co.uk/news/uk-world-news/12-stunning-places-around-uk-3714879', doc_id='cc5e8dcf8b787ea4fc0f7455a84559ac', topic='climate change', sentence_id='4675f309528b99b49b889f8fc0e11317', argument_confidence=0.0009284019470214844, argument_label='no argument', sentence_original='When you subscribe we will use the information you provide to send you these newsletters.', sentence_preprocessed='When you subscribe we will use the information you provide to send you these newsletters.', sort_confidence=0.0009284019470214844, stance_confidence=0.0, stance_label=''),\n",
       " ClassifiedSentence(url='https://www.leicestermercury.co.uk/news/uk-world-news/12-stunning-places-around-uk-3714879', doc_id='cc5e8dcf8b787ea4fc0f7455a84559ac', topic='climate change', sentence_id='d275785d1c744a6ab6a866d4a8f9afdc', argument_confidence=0.0009275674819946289, argument_label='no argument', sentence_original='They have large canvas lodges that each sleep six people.', sentence_preprocessed='They have large canvas lodges that each sleep six people.', sort_confidence=0.0009275674819946289, stance_confidence=0.0, stance_label=''),\n",
       " ClassifiedSentence(url='https://www.leicestermercury.co.uk/news/uk-world-news/12-stunning-places-around-uk-3714879', doc_id='cc5e8dcf8b787ea4fc0f7455a84559ac', topic='climate change', sentence_id='1d41e6f55521cdba4fc73febd09d2eb4', argument_confidence=0.0009006261825561523, argument_label='no argument', sentence_original='1.', sentence_preprocessed='1.', sort_confidence=0.0009006261825561523, stance_confidence=0.0, stance_label=''),\n",
       " ClassifiedSentence(url='https://www.leicestermercury.co.uk/news/uk-world-news/12-stunning-places-around-uk-3714879', doc_id='cc5e8dcf8b787ea4fc0f7455a84559ac', topic='climate change', sentence_id='a4962e73ab1eae99f51b43b15c953816', argument_confidence=0.0008898377418518066, argument_label='no argument', sentence_original='Fold the two single beds down when it’s time to sleep or leave them up as sofas during the day, a snug reading spot poised in the middle of the woods.', sentence_preprocessed='Fold the two single beds down when it’s time to sleep or leave them up as sofas during the day, a snug reading spot poised in the middle of the woods.', sort_confidence=0.0008898377418518066, stance_confidence=0.0, stance_label=''),\n",
       " ClassifiedSentence(url='https://www.leicestermercury.co.uk/news/uk-world-news/12-stunning-places-around-uk-3714879', doc_id='cc5e8dcf8b787ea4fc0f7455a84559ac', topic='climate change', sentence_id='dae98518fdbd19ba1ff65a2c39539756', argument_confidence=0.000888526439666748, argument_label='no argument', sentence_original='(Image: Booking.com)', sentence_preprocessed='(Image: Booking.com)', sort_confidence=0.000888526439666748, stance_confidence=0.0, stance_label=''),\n",
       " ClassifiedSentence(url='https://www.leicestermercury.co.uk/news/uk-world-news/12-stunning-places-around-uk-3714879', doc_id='cc5e8dcf8b787ea4fc0f7455a84559ac', topic='climate change', sentence_id='1d23aeb45c5044fa6286751cfccf0ec0', argument_confidence=0.0008581876754760742, argument_label='no argument', sentence_original='Godney Arts House, Somerset', sentence_preprocessed='Godney Arts House, Somerset', sort_confidence=0.0008581876754760742, stance_confidence=0.0, stance_label=''),\n",
       " ClassifiedSentence(url='https://www.leicestermercury.co.uk/news/uk-world-news/12-stunning-places-around-uk-3714879', doc_id='cc5e8dcf8b787ea4fc0f7455a84559ac', topic='climate change', sentence_id='4082be01bbc85011e9e497f9a30dde8f', argument_confidence=0.0008282661437988281, argument_label='no argument', sentence_original='OurPrivacy Noticeexplains more about how we use your data, and your rights.', sentence_preprocessed='OurPrivacy Noticeexplains more about how we use your data, and your rights.', sort_confidence=0.0008282661437988281, stance_confidence=0.0, stance_label=''),\n",
       " ClassifiedSentence(url='https://www.leicestermercury.co.uk/news/uk-world-news/12-stunning-places-around-uk-3714879', doc_id='cc5e8dcf8b787ea4fc0f7455a84559ac', topic='climate change', sentence_id='33d7858b24a2d545368505141cbd422f', argument_confidence=0.0008041262626647949, argument_label='no argument', sentence_original='Here are just a few places to think about going this year.', sentence_preprocessed='Here are just a few places to think about going this year.', sort_confidence=0.0008041262626647949, stance_confidence=0.0, stance_label=''),\n",
       " ClassifiedSentence(url='https://www.leicestermercury.co.uk/news/uk-world-news/12-stunning-places-around-uk-3714879', doc_id='cc5e8dcf8b787ea4fc0f7455a84559ac', topic='climate change', sentence_id='079d21ee5a4872241367b90cec85f823', argument_confidence=0.0008037686347961426, argument_label='no argument', sentence_original='(Image: uniquehomestays.com)', sentence_preprocessed='(Image: uniquehomestays.com)', sort_confidence=0.0008037686347961426, stance_confidence=0.0, stance_label=''),\n",
       " ClassifiedSentence(url='https://www.leicestermercury.co.uk/news/uk-world-news/12-stunning-places-around-uk-3714879', doc_id='cc5e8dcf8b787ea4fc0f7455a84559ac', topic='climate change', sentence_id='d402a7891c2e26d30d48a2125deea545', argument_confidence=0.0007894039154052734, argument_label='no argument', sentence_original='(Image: canopyandstars.co.uk)', sentence_preprocessed='(Image: canopyandstars.co.uk)', sort_confidence=0.0007894039154052734, stance_confidence=0.0, stance_label=''),\n",
       " ClassifiedSentence(url='https://www.leicestermercury.co.uk/news/uk-world-news/12-stunning-places-around-uk-3714879', doc_id='cc5e8dcf8b787ea4fc0f7455a84559ac', topic='climate change', sentence_id='869e1477f68e65b16c4546904397945a', argument_confidence=0.0007880926132202148, argument_label='no argument', sentence_original='(Image: Airbnb)', sentence_preprocessed='(Image: Airbnb)', sort_confidence=0.0007880926132202148, stance_confidence=0.0, stance_label=''),\n",
       " ClassifiedSentence(url='https://www.leicestermercury.co.uk/news/uk-world-news/12-stunning-places-around-uk-3714879', doc_id='cc5e8dcf8b787ea4fc0f7455a84559ac', topic='climate change', sentence_id='ec8a4c5789ef8f898c5af8afea0a13e0', argument_confidence=0.0007810592651367188, argument_label='no argument', sentence_original='(Image: oldcragghallbarn.co.uk)', sentence_preprocessed='(Image: oldcragghallbarn.co.uk)', sort_confidence=0.0007810592651367188, stance_confidence=0.0, stance_label=''),\n",
       " ClassifiedSentence(url='https://www.leicestermercury.co.uk/news/uk-world-news/12-stunning-places-around-uk-3714879', doc_id='cc5e8dcf8b787ea4fc0f7455a84559ac', topic='climate change', sentence_id='7bf4faec59099b310d29fb6b0e6f77d5', argument_confidence=0.0007661581039428711, argument_label='no argument', sentence_original='Sign up to FREE email alerts from LeicestershireLive - Daily', sentence_preprocessed='Sign up to FREE email alerts from LeicestershireLive - Daily', sort_confidence=0.0007661581039428711, stance_confidence=0.0, stance_label=''),\n",
       " ClassifiedSentence(url='https://www.leicestermercury.co.uk/news/uk-world-news/12-stunning-places-around-uk-3714879', doc_id='cc5e8dcf8b787ea4fc0f7455a84559ac', topic='climate change', sentence_id='3bee1a7f57996616b70ade9d77484a5e', argument_confidence=0.0007632970809936523, argument_label='no argument', sentence_original='(Image: alittlebitofrough.co.uk)', sentence_preprocessed='(Image: alittlebitofrough.co.uk)', sort_confidence=0.0007632970809936523, stance_confidence=0.0, stance_label=''),\n",
       " ClassifiedSentence(url='https://in.reuters.com/article/us-brazil-environment/amazon-deforestation-could-speed-up-in-2020-expert-idINKBN1ZE2HL', doc_id='12ac4bc3da84ac75df28dffe4b13d85d', topic='climate change', sentence_id='0552e01f45d4115aea3982d4acbf185f', argument_confidence=0.9968835574109107, argument_label='argument', sentence_original='It also provides Brazil with hydropower, and its abundant rain provides irrigation-free agriculture.', sentence_preprocessed='It also provides Brazil with hydropower, and its abundant rain provides irrigation-free agriculture.', sort_confidence=0.9973986721595433, stance_confidence=0.9979137869081758, stance_label='pro'),\n",
       " ClassifiedSentence(url='https://in.reuters.com/article/us-brazil-environment/amazon-deforestation-could-speed-up-in-2020-expert-idINKBN1ZE2HL', doc_id='12ac4bc3da84ac75df28dffe4b13d85d', topic='climate change', sentence_id='ef41ba9382883968af2cb59b93c67d53', argument_confidence=0.9967705635353923, argument_label='argument', sentence_original='Risks to the forest sparked a public outcry in August when fires raged through the Amazon, drawing sharp criticism from France’s President Emmanuel Macron.', sentence_preprocessed='Risks to the forest sparked a public outcry in August when fires raged through the Amazon, drawing sharp criticism from France’s President Emmanuel Macron.', sort_confidence=0.9947020374723365, stance_confidence=0.9926335114092809, stance_label='contra'),\n",
       " ClassifiedSentence(url='https://in.reuters.com/article/us-brazil-environment/amazon-deforestation-could-speed-up-in-2020-expert-idINKBN1ZE2HL', doc_id='12ac4bc3da84ac75df28dffe4b13d85d', topic='climate change', sentence_id='7c736c2b3fd860075e956de7a7785a91', argument_confidence=0.9954014401882887, argument_label='argument', sentence_original='It is currently drawing up legislation that will open protected indigenous reservations to commercial mining and agriculture, a move that environmentalists say can only speed up deforestation.', sentence_preprocessed='It is currently drawing up legislation that will open protected indigenous reservations to commercial mining and agriculture, a move that environmentalists say can only speed up deforestation.', sort_confidence=0.9936128327414456, stance_confidence=0.9918242252946026, stance_label='contra'),\n",
       " ClassifiedSentence(url='https://in.reuters.com/article/us-brazil-environment/amazon-deforestation-could-speed-up-in-2020-expert-idINKBN1ZE2HL', doc_id='12ac4bc3da84ac75df28dffe4b13d85d', topic='climate change', sentence_id='ade102a71a167a7e6d7016f123b301d8', argument_confidence=0.9972822319250554, argument_label='argument', sentence_original='OSLO (Reuters) - Deforestation of Brazil’s Amazon rainforest threatens to accelerate and draw increased global concern since no new fire prevention measures have been taken in the crucial run-up to this year’s dry season, according to Tasso Azevedo, coordinator of a group called MapBiomas that monitors the rate of forest destruction.', sentence_preprocessed='OSLO (Reuters) - Deforestation of Brazil’s Amazon rainforest threatens to accelerate and draw increased global concern since no new fire prevention measures have been taken in the crucial run-up to this year’s dry season, according to Tasso Azevedo, coordinator of a group called MapBiomas that monitors the rate of forest destruction.', sort_confidence=0.9935545366626797, stance_confidence=0.989826841400304, stance_label='contra'),\n",
       " ClassifiedSentence(url='https://in.reuters.com/article/us-brazil-environment/amazon-deforestation-could-speed-up-in-2020-expert-idINKBN1ZE2HL', doc_id='12ac4bc3da84ac75df28dffe4b13d85d', topic='climate change', sentence_id='cea92692afd702b63f107518d157a13e', argument_confidence=0.9920069547370076, argument_label='argument', sentence_original='“There is no budget ... if you want to prevent fires you have to start right now, all has to be done in the first half of the year,” he said.', sentence_preprocessed='“There is no budget ... if you want to prevent fires you have to start right now, all has to be done in the first half of the year,” he said.', sort_confidence=0.9891216540508685, stance_confidence=0.9862363533647295, stance_label='contra'),\n",
       " ClassifiedSentence(url='https://in.reuters.com/article/us-brazil-environment/amazon-deforestation-could-speed-up-in-2020-expert-idINKBN1ZE2HL', doc_id='12ac4bc3da84ac75df28dffe4b13d85d', topic='climate change', sentence_id='fe66e4357df0470ed7291258aba1e6bd', argument_confidence=0.9764559511095285, argument_label='argument', sentence_original='But the government has yet to roll out any measures to avoid fires in 2020, Azevedo said.', sentence_preprocessed='But the government has yet to roll out any measures to avoid fires in 2020, Azevedo said.', sort_confidence=0.978057023122147, stance_confidence=0.9796580951347656, stance_label='contra'),\n",
       " ClassifiedSentence(url='https://in.reuters.com/article/us-brazil-environment/amazon-deforestation-could-speed-up-in-2020-expert-idINKBN1ZE2HL', doc_id='12ac4bc3da84ac75df28dffe4b13d85d', topic='climate change', sentence_id='9fdfdd41124f825996acdc4fb027b43b', argument_confidence=0.9098821803927422, argument_label='argument', sentence_original='The Amazon, the world’s largest rainforest, is a bulwark against global warming because of the vast amounts of heat-trapping carbon dioxide it soaks up from the atmosphere.', sentence_preprocessed='The Amazon, the world’s largest rainforest, is a bulwark against global warming because of the vast amounts of heat-trapping carbon dioxide it soaks up from the atmosphere.', sort_confidence=0.951831949270215, stance_confidence=0.9937817181476877, stance_label='pro'),\n",
       " ClassifiedSentence(url='https://in.reuters.com/article/us-brazil-environment/amazon-deforestation-could-speed-up-in-2020-expert-idINKBN1ZE2HL', doc_id='12ac4bc3da84ac75df28dffe4b13d85d', topic='climate change', sentence_id='8665ec9ed286c68c355074b63aad33ac', argument_confidence=0.7760062217712402, argument_label='argument', sentence_original='“(The government) messed up something that was working,” Azevedo said of the cut in Norwegian financing.', sentence_preprocessed='“(The government) messed up something that was working,” Azevedo said of the cut in Norwegian financing.', sort_confidence=0.883559528073004, stance_confidence=0.9911128343747676, stance_label='contra'),\n",
       " ClassifiedSentence(url='https://in.reuters.com/article/us-brazil-environment/amazon-deforestation-could-speed-up-in-2020-expert-idINKBN1ZE2HL', doc_id='12ac4bc3da84ac75df28dffe4b13d85d', topic='climate change', sentence_id='626a4b9dd02fee525445eb9a090dc33c', argument_confidence=0.7227620482444763, argument_label='argument', sentence_original='Amazon deforestation could speed up in 2020: expert', sentence_preprocessed='Amazon deforestation could speed up in 2020: expert', sort_confidence=0.8590177836793362, stance_confidence=0.9952735191141961, stance_label='pro'),\n",
       " ClassifiedSentence(url='https://in.reuters.com/article/us-brazil-environment/amazon-deforestation-could-speed-up-in-2020-expert-idINKBN1ZE2HL', doc_id='12ac4bc3da84ac75df28dffe4b13d85d', topic='climate change', sentence_id='e73add9ea277caaf4ea1a13c894f2f5e', argument_confidence=0.8899665772914886, argument_label='argument', sentence_original='“It would be expected that it will be worse than last year unless something really big happens in the next two or three months to avoid the high season of deforestation that starts in May,” Azevedo told Reuters in Oslo on Wednesday.', sentence_preprocessed='“It would be expected that it will be worse than last year unless something really big happens in the next two or three months to avoid the high season of deforestation that starts in May,” Azevedo told Reuters in Oslo on Wednesday.', sort_confidence=0.7828033236108741, stance_confidence=0.6756400699302596, stance_label='contra'),\n",
       " ClassifiedSentence(url='https://in.reuters.com/article/us-brazil-environment/amazon-deforestation-could-speed-up-in-2020-expert-idINKBN1ZE2HL', doc_id='12ac4bc3da84ac75df28dffe4b13d85d', topic='climate change', sentence_id='4b177fbd757f6ca94161c09b4fc30d9c', argument_confidence=0.6807954013347626, argument_label='argument', sentence_original='The number of fires in the Amazon rainforest increased 30.5% in 2019 from the previous year, while deforestation rose 85%, according to recent data released by Brazil’s space research agency INPE.', sentence_preprocessed='The number of fires in the Amazon rainforest increased 30.5% in 2019 from the previous year, while deforestation rose 85%, according to recent data released by Brazil’s space research agency INPE.', sort_confidence=0.681872351252709, stance_confidence=0.6829493011706552, stance_label='pro'),\n",
       " ClassifiedSentence(url='https://in.reuters.com/article/us-brazil-environment/amazon-deforestation-could-speed-up-in-2020-expert-idINKBN1ZE2HL', doc_id='12ac4bc3da84ac75df28dffe4b13d85d', topic='climate change', sentence_id='8a9077a5fb1315edb019cba15de4f448', argument_confidence=0.4564371109008789, argument_label='no argument', sentence_original='Deforestation in Brazil, home to the biggest share of the Amazon rainforest, rose to its highest in over a decade in 2019, the first year in office of far-right President Jair Bolsonaro.', sentence_preprocessed='Deforestation in Brazil, home to the biggest share of the Amazon rainforest, rose to its highest in over a decade in 2019, the first year in office of far-right President Jair Bolsonaro.', sort_confidence=0.4564371109008789, stance_confidence=0.0, stance_label=''),\n",
       " ClassifiedSentence(url='https://in.reuters.com/article/us-brazil-environment/amazon-deforestation-could-speed-up-in-2020-expert-idINKBN1ZE2HL', doc_id='12ac4bc3da84ac75df28dffe4b13d85d', topic='climate change', sentence_id='639b3924fe07e1dc1644df91538e8a60', argument_confidence=0.08600634336471558, argument_label='no argument', sentence_original='Bolsonaro has said his government is protecting the rainforest adequately, but it plans to push ahead with economic development in the Amazon to raise the standard of living of its 30 million inhabitants, including indigenous tribes.', sentence_preprocessed='Bolsonaro has said his government is protecting the rainforest adequately, but it plans to push ahead with economic development in the Amazon to raise the standard of living of its 30 million inhabitants, including indigenous tribes.', sort_confidence=0.08600634336471558, stance_confidence=0.0, stance_label=''),\n",
       " ClassifiedSentence(url='https://in.reuters.com/article/us-brazil-environment/amazon-deforestation-could-speed-up-in-2020-expert-idINKBN1ZE2HL', doc_id='12ac4bc3da84ac75df28dffe4b13d85d', topic='climate change', sentence_id='98698ad77e6f1e7f8bf1b22ab26b1c57', argument_confidence=0.031032562255859375, argument_label='no argument', sentence_original='In August, Norway suspended donations to the Amazon fund, which supports projects to curb deforestation in Brazil after the Brazilian government sought to change the governance rules of the fund to decide which projects it supports.', sentence_preprocessed='In August, Norway suspended donations to the Amazon fund, which supports projects to curb deforestation in Brazil after the Brazilian government sought to change the governance rules of the fund to decide which projects it supports.', sort_confidence=0.031032562255859375, stance_confidence=0.0, stance_label=''),\n",
       " ClassifiedSentence(url='https://in.reuters.com/article/us-brazil-environment/amazon-deforestation-could-speed-up-in-2020-expert-idINKBN1ZE2HL', doc_id='12ac4bc3da84ac75df28dffe4b13d85d', topic='climate change', sentence_id='dc38b439fa4067e5a85c7112caa79593', argument_confidence=0.013612151145935059, argument_label='no argument', sentence_original='“My take on this is they were trying to ... stop the money going into civil society and want to use the money for themselves, to control the fund.”', sentence_preprocessed='“My take on this is they were trying to ... stop the money going into civil society and want to use the money for themselves, to control the fund.”', sort_confidence=0.013612151145935059, stance_confidence=0.0, stance_label=''),\n",
       " ClassifiedSentence(url='https://in.reuters.com/article/us-brazil-environment/amazon-deforestation-could-speed-up-in-2020-expert-idINKBN1ZE2HL', doc_id='12ac4bc3da84ac75df28dffe4b13d85d', topic='climate change', sentence_id='2c98b53d9f18a304467611d0be8efb26', argument_confidence=0.013150691986083984, argument_label='no argument', sentence_original='Norway has worked closely with Brazil to protect the Amazon rainforest for more than a decade and has paid some $1.2 billion into the fund.', sentence_preprocessed='Norway has worked closely with Brazil to protect the Amazon rainforest for more than a decade and has paid some $1.2 billion into the fund.', sort_confidence=0.013150691986083984, stance_confidence=0.0, stance_label=''),\n",
       " ClassifiedSentence(url='https://in.reuters.com/article/us-brazil-environment/amazon-deforestation-could-speed-up-in-2020-expert-idINKBN1ZE2HL', doc_id='12ac4bc3da84ac75df28dffe4b13d85d', topic='climate change', sentence_id='20ae83d5ca377bb20a216623e54795b4', argument_confidence=0.0016121864318847656, argument_label='no argument', sentence_original='MapBiomas, a Brazilian organization, is a collaboration between universities, non-profit groups and technology companies to monitor deforestation, drawing from several different sources including INPE data.', sentence_preprocessed='MapBiomas, a Brazilian organization, is a collaboration between universities, non-profit groups and technology companies to monitor deforestation, drawing from several different sources including INPE data.', sort_confidence=0.0016121864318847656, stance_confidence=0.0, stance_label=''),\n",
       " ClassifiedSentence(url='https://in.reuters.com/article/us-brazil-environment/amazon-deforestation-could-speed-up-in-2020-expert-idINKBN1ZE2HL', doc_id='12ac4bc3da84ac75df28dffe4b13d85d', topic='climate change', sentence_id='09cdc4f17943e8c1a89f0a38cf36eeb3', argument_confidence=0.0008843541145324707, argument_label='no argument', sentence_original='REUTERS/Bruno Kelly/File Photo', sentence_preprocessed='REUTERS/Bruno Kelly/File Photo', sort_confidence=0.0008843541145324707, stance_confidence=0.0, stance_label=''),\n",
       " ClassifiedSentence(url='https://in.reuters.com/article/us-brazil-environment/amazon-deforestation-could-speed-up-in-2020-expert-idINKBN1ZE2HL', doc_id='12ac4bc3da84ac75df28dffe4b13d85d', topic='climate change', sentence_id='1c8b925c3fb323341c6b71b69f36062a', argument_confidence=0.0008212924003601074, argument_label='no argument', sentence_original='FILE PHOTO: A view of a deforested area at the National Forest Bom Futuro in Rio Pardo, Rondonia state, Brazil, September 12, 2019.', sentence_preprocessed='FILE PHOTO: A view of a deforested area at the National Forest Bom Futuro in Rio Pardo, Rondonia state, Brazil, September 12, 2019.', sort_confidence=0.0008212924003601074, stance_confidence=0.0, stance_label='')]"
      ]
     },
     "execution_count": 62,
     "metadata": {},
     "output_type": "execute_result"
    }
   ],
   "source": [
    "sentence_list"
   ]
  },
  {
   "cell_type": "code",
   "execution_count": null,
   "metadata": {},
   "outputs": [],
   "source": []
  }
 ],
 "metadata": {
  "kernelspec": {
   "display_name": "Python 3",
   "language": "python",
   "name": "python3"
  },
  "language_info": {
   "codemirror_mode": {
    "name": "ipython",
    "version": 3
   },
   "file_extension": ".py",
   "mimetype": "text/x-python",
   "name": "python",
   "nbconvert_exporter": "python",
   "pygments_lexer": "ipython3",
   "version": "3.8.3"
  }
 },
 "nbformat": 4,
 "nbformat_minor": 4
}
