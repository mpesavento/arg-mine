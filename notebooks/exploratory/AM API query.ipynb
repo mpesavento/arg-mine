{
 "cells": [
  {
   "cell_type": "markdown",
   "metadata": {},
   "source": [
    "# Argument Mining API query testing\n",
    "\n",
    "Load the target datafile, and see how the query results work"
   ]
  },
  {
   "cell_type": "code",
   "execution_count": 1,
   "metadata": {},
   "outputs": [],
   "source": [
    "# reload local package definitions for each cell\n",
    "%load_ext autoreload\n",
    "%autoreload 2"
   ]
  },
  {
   "cell_type": "code",
   "execution_count": 31,
   "metadata": {},
   "outputs": [],
   "source": [
    "import os\n",
    "from dotenv import find_dotenv, load_dotenv\n",
    "import requests\n",
    "import pandas as pd\n",
    "\n",
    "from arg_mine import DATA_DIR\n",
    "from arg_mine.data.loaders import get_gdelt_df\n",
    "from arg_mine.api import classify\n",
    "from arg_mine import utils"
   ]
  },
  {
   "cell_type": "code",
   "execution_count": 3,
   "metadata": {},
   "outputs": [],
   "source": [
    "# load the env variables to get the API key\n",
    "load_dotenv(find_dotenv())\n",
    "am_user_id = os.getenv(\"ARGUMENTEXT_USERID\")\n",
    "am_user_key = os.getenv(\"ARGUMENTEXT_KEY\")"
   ]
  },
  {
   "cell_type": "code",
   "execution_count": 4,
   "metadata": {},
   "outputs": [
    {
     "name": "stderr",
     "output_type": "stream",
     "text": [
      "INFO:2020-06-16 21:45:27,146:arg_mine.data.loaders: reading data from: /opt/workspace/data/raw/2020-climate-change-narrative/WebNewsEnglishSnippets.2020.csv\n"
     ]
    },
    {
     "data": {
      "text/html": [
       "<div>\n",
       "<style scoped>\n",
       "    .dataframe tbody tr th:only-of-type {\n",
       "        vertical-align: middle;\n",
       "    }\n",
       "\n",
       "    .dataframe tbody tr th {\n",
       "        vertical-align: top;\n",
       "    }\n",
       "\n",
       "    .dataframe thead th {\n",
       "        text-align: right;\n",
       "    }\n",
       "</style>\n",
       "<table border=\"1\" class=\"dataframe\">\n",
       "  <thead>\n",
       "    <tr style=\"text-align: right;\">\n",
       "      <th></th>\n",
       "      <th>datetime</th>\n",
       "      <th>title</th>\n",
       "      <th>headline_image_url</th>\n",
       "      <th>content_url</th>\n",
       "      <th>snippit</th>\n",
       "      <th>timestamp</th>\n",
       "    </tr>\n",
       "  </thead>\n",
       "  <tbody>\n",
       "    <tr>\n",
       "      <th>0</th>\n",
       "      <td>20200115111500</td>\n",
       "      <td>Liberal MPs back Science Minister Karen Andrew...</td>\n",
       "      <td>https://static.ffx.io/images/$zoom_0.2627%2C$m...</td>\n",
       "      <td>https://www.smh.com.au/politics/federal/libera...</td>\n",
       "      <td>the science in her interview with The Age and...</td>\n",
       "      <td>2020-01-15 11:15:00</td>\n",
       "    </tr>\n",
       "    <tr>\n",
       "      <th>1</th>\n",
       "      <td>20200117184500</td>\n",
       "      <td>Several crowd-pullers on day two of KLF</td>\n",
       "      <td>https://www.thehindu.com/news/cities/kozhikode...</td>\n",
       "      <td>https://www.thehindu.com/news/cities/kozhikode...</td>\n",
       "      <td>Guha, who talked about patriotism and jingois...</td>\n",
       "      <td>2020-01-17 18:45:00</td>\n",
       "    </tr>\n",
       "    <tr>\n",
       "      <th>2</th>\n",
       "      <td>20200106233000</td>\n",
       "      <td>Seven arrested after gas rig protest</td>\n",
       "      <td>https://www.stourbridgenews.co.uk/resources/im...</td>\n",
       "      <td>https://www.stourbridgenews.co.uk/news/nationa...</td>\n",
       "      <td>three demands for the Scottish and UK Governm...</td>\n",
       "      <td>2020-01-06 23:30:00</td>\n",
       "    </tr>\n",
       "    <tr>\n",
       "      <th>3</th>\n",
       "      <td>20200101111500</td>\n",
       "      <td>Australia sending aid to wildfire towns as dea...</td>\n",
       "      <td>https://bloximages.newyork1.vip.townnews.com/h...</td>\n",
       "      <td>https://www.heraldmailmedia.com/news/nation/au...</td>\n",
       "      <td>this season the worst on record and reignited ...</td>\n",
       "      <td>2020-01-01 11:15:00</td>\n",
       "    </tr>\n",
       "    <tr>\n",
       "      <th>4</th>\n",
       "      <td>20200107101500</td>\n",
       "      <td>A hot, dry country caught between fire and a c...</td>\n",
       "      <td>NaN</td>\n",
       "      <td>http://global.chinadaily.com.cn/a/202001/07/WS...</td>\n",
       "      <td>, which is burned to generate electricity, wit...</td>\n",
       "      <td>2020-01-07 10:15:00</td>\n",
       "    </tr>\n",
       "  </tbody>\n",
       "</table>\n",
       "</div>"
      ],
      "text/plain": [
       "         datetime                                              title  \\\n",
       "0  20200115111500  Liberal MPs back Science Minister Karen Andrew...   \n",
       "1  20200117184500            Several crowd-pullers on day two of KLF   \n",
       "2  20200106233000               Seven arrested after gas rig protest   \n",
       "3  20200101111500  Australia sending aid to wildfire towns as dea...   \n",
       "4  20200107101500  A hot, dry country caught between fire and a c...   \n",
       "\n",
       "                                  headline_image_url  \\\n",
       "0  https://static.ffx.io/images/$zoom_0.2627%2C$m...   \n",
       "1  https://www.thehindu.com/news/cities/kozhikode...   \n",
       "2  https://www.stourbridgenews.co.uk/resources/im...   \n",
       "3  https://bloximages.newyork1.vip.townnews.com/h...   \n",
       "4                                                NaN   \n",
       "\n",
       "                                         content_url  \\\n",
       "0  https://www.smh.com.au/politics/federal/libera...   \n",
       "1  https://www.thehindu.com/news/cities/kozhikode...   \n",
       "2  https://www.stourbridgenews.co.uk/news/nationa...   \n",
       "3  https://www.heraldmailmedia.com/news/nation/au...   \n",
       "4  http://global.chinadaily.com.cn/a/202001/07/WS...   \n",
       "\n",
       "                                             snippit           timestamp  \n",
       "0   the science in her interview with The Age and... 2020-01-15 11:15:00  \n",
       "1   Guha, who talked about patriotism and jingois... 2020-01-17 18:45:00  \n",
       "2   three demands for the Scottish and UK Governm... 2020-01-06 23:30:00  \n",
       "3  this season the worst on record and reignited ... 2020-01-01 11:15:00  \n",
       "4  , which is burned to generate electricity, wit... 2020-01-07 10:15:00  "
      ]
     },
     "execution_count": 4,
     "metadata": {},
     "output_type": "execute_result"
    }
   ],
   "source": [
    "csv_datapath = os.path.join(DATA_DIR, \"raw\", \"2020-climate-change-narrative\")\n",
    "csv_filepath = os.path.join(csv_datapath, \"WebNewsEnglishSnippets.2020.csv\")\n",
    "\n",
    "url_df = get_gdelt_df(csv_filepath)\n",
    "url_df.head()"
   ]
  },
  {
   "cell_type": "markdown",
   "metadata": {},
   "source": [
    "## Build the `classify` request"
   ]
  },
  {
   "cell_type": "code",
   "execution_count": 5,
   "metadata": {},
   "outputs": [],
   "source": [
    "url = url_df.iloc[0].content_url"
   ]
  },
  {
   "cell_type": "code",
   "execution_count": 28,
   "metadata": {},
   "outputs": [
    {
     "name": "stderr",
     "output_type": "stream",
     "text": [
      "[autoreload of arg_mine.api.classify failed: Traceback (most recent call last):\n",
      "  File \"/usr/local/lib/python3.8/site-packages/IPython/extensions/autoreload.py\", line 245, in check\n",
      "    superreload(m, reload, self.old_objects)\n",
      "  File \"/usr/local/lib/python3.8/site-packages/IPython/extensions/autoreload.py\", line 394, in superreload\n",
      "    module = reload(module)\n",
      "  File \"/usr/local/lib/python3.8/imp.py\", line 314, in reload\n",
      "    return importlib.reload(module)\n",
      "  File \"/usr/local/lib/python3.8/importlib/__init__.py\", line 169, in reload\n",
      "    _bootstrap._exec(spec, module)\n",
      "  File \"<frozen importlib._bootstrap>\", line 604, in _exec\n",
      "  File \"<frozen importlib._bootstrap_external>\", line 779, in exec_module\n",
      "  File \"<frozen importlib._bootstrap_external>\", line 916, in get_code\n",
      "  File \"<frozen importlib._bootstrap_external>\", line 846, in source_to_code\n",
      "  File \"<frozen importlib._bootstrap>\", line 219, in _call_with_frames_removed\n",
      "  File \"/opt/workspace/arg_mine/api/classify.py\", line 81\n",
      "    argumentConfidence ': 0.8321625888347626,\n",
      "    ^\n",
      "IndentationError: unexpected indent\n",
      "]\n",
      "DEBUG:2020-06-16 22:11:24,167:urllib3.connectionpool: Starting new HTTPS connection (1): api.argumentsearch.com:443\n",
      "DEBUG:2020-06-16 22:11:26,218:urllib3.connectionpool: https://api.argumentsearch.com:443 \"POST /en/classify HTTP/1.1\" 200 4475\n"
     ]
    }
   ],
   "source": [
    "CLASSIFY_BASE_URL = \"https://api.argumentsearch.com/en/classify\"\n",
    "timeout = 5\n",
    "\n",
    "topic = \"climate change\"\n",
    "\n",
    "\n",
    "payload = {\n",
    "    \"topic\": topic,\n",
    "    \"userID\": am_user_id,\n",
    "    \"apiKey\": am_user_key,\n",
    "    \"targetUrl\": url,\n",
    "    \"topicRelevance\": \"word2vec\",\n",
    "    \"predictStance\": True,\n",
    "    \"computeAttention\": True,\n",
    "    \"showOnlyArguments\": False,\n",
    "}\n",
    "\n",
    "response = requests.post(\n",
    "    CLASSIFY_BASE_URL,\n",
    "    json=payload,\n",
    "    timeout=timeout,\n",
    ")\n",
    "response.raise_for_status()"
   ]
  },
  {
   "cell_type": "code",
   "execution_count": 8,
   "metadata": {},
   "outputs": [],
   "source": [
    "out = response.json()"
   ]
  },
  {
   "cell_type": "code",
   "execution_count": 9,
   "metadata": {},
   "outputs": [
    {
     "data": {
      "text/plain": [
       "{'computeAttention': True,\n",
       " 'language': 'en',\n",
       " 'modelVersion': 0.1,\n",
       " 'predictStance': True,\n",
       " 'removeDuplicates': True,\n",
       " 'showOnlyArguments': False,\n",
       " 'sortBy': 'argumentConfidence',\n",
       " 'timeArgumentPrediction': 0.5229649543762207,\n",
       " 'timeAttentionComputation': -1,\n",
       " 'timeLogging': 0.12923741340637207,\n",
       " 'timePreprocessing': 3.552436828613281e-05,\n",
       " 'timeStancePrediction': -1,\n",
       " 'timeTotal': 1.2727065086364746,\n",
       " 'topic': 'climate change',\n",
       " 'totalArguments': 5,\n",
       " 'totalClassifiedSentences': 37,\n",
       " 'totalContraArguments': 3,\n",
       " 'totalNonArguments': 32,\n",
       " 'totalProArguments': 2,\n",
       " 'userMetadata': ''}"
      ]
     },
     "execution_count": 9,
     "metadata": {},
     "output_type": "execute_result"
    }
   ],
   "source": [
    "out['metadata']"
   ]
  },
  {
   "cell_type": "code",
   "execution_count": 10,
   "metadata": {},
   "outputs": [
    {
     "data": {
      "text/plain": [
       "float"
      ]
     },
     "execution_count": 10,
     "metadata": {},
     "output_type": "execute_result"
    }
   ],
   "source": [
    "type(out['metadata']['modelVersion'])"
   ]
  },
  {
   "cell_type": "code",
   "execution_count": 20,
   "metadata": {},
   "outputs": [
    {
     "data": {
      "text/plain": [
       "'https://www.smh.com.au/politics/federal/liberals-speak-out-to-back-science-minister-on-climate-change-action-20200115-p53rs1.html'"
      ]
     },
     "execution_count": 20,
     "metadata": {},
     "output_type": "execute_result"
    }
   ],
   "source": [
    "url"
   ]
  },
  {
   "cell_type": "code",
   "execution_count": 21,
   "metadata": {},
   "outputs": [
    {
     "data": {
      "text/plain": [
       "'climate change'"
      ]
     },
     "execution_count": 21,
     "metadata": {},
     "output_type": "execute_result"
    }
   ],
   "source": [
    "topic"
   ]
  },
  {
   "cell_type": "code",
   "execution_count": 41,
   "metadata": {},
   "outputs": [
    {
     "name": "stderr",
     "output_type": "stream",
     "text": [
      "DEBUG:2020-06-16 22:43:11,670:urllib3.connectionpool: Starting new HTTPS connection (1): api.argumentsearch.com:443\n",
      "DEBUG:2020-06-16 22:43:13,538:urllib3.connectionpool: https://api.argumentsearch.com:443 \"POST /en/classify HTTP/1.1\" 200 4202\n"
     ]
    },
    {
     "data": {
      "text/plain": [
       "{'metadata': {'computeAttention': False,\n",
       "  'language': 'en',\n",
       "  'modelVersion': 0.1,\n",
       "  'predictStance': True,\n",
       "  'removeDuplicates': True,\n",
       "  'showOnlyArguments': False,\n",
       "  'sortBy': 'argumentConfidence',\n",
       "  'timeArgumentPrediction': 0.49022936820983887,\n",
       "  'timeAttentionComputation': -1,\n",
       "  'timeLogging': 0.036528825759887695,\n",
       "  'timePreprocessing': 4.482269287109375e-05,\n",
       "  'timeStancePrediction': -1,\n",
       "  'timeTotal': 1.1283648014068604,\n",
       "  'topic': 'climate change',\n",
       "  'totalArguments': 5,\n",
       "  'totalClassifiedSentences': 37,\n",
       "  'totalContraArguments': 3,\n",
       "  'totalNonArguments': 32,\n",
       "  'totalProArguments': 2,\n",
       "  'userMetadata': 'https://www.smh.com.au/politics/federal/liberals-speak-out-to-back-science-minister-on-climate-change-action-20200115-p53rs1.html'},\n",
       " 'sentences': [{'argumentConfidence': 0.8324097394943237,\n",
       "   'argumentLabel': 'argument',\n",
       "   'sentenceOriginal': '\"So she\\'s right - there is no point wasting time discussing climate change - because we are not going to stop it from happening,\" he said of the minister\\'s comments.',\n",
       "   'sentencePreprocessed': '\"So she\\'s right - there is no point wasting time discussing climate change - because we are not going to stop it from happening,\" he said of the minister\\'s comments.',\n",
       "   'sortConfidence': 0.9131057365821765,\n",
       "   'stanceConfidence': 0.9938017336700293,\n",
       "   'stanceLabel': 'pro'},\n",
       "  {'argumentConfidence': 0.8321625888347626,\n",
       "   'argumentLabel': 'argument',\n",
       "   'sentenceOriginal': 'Mr Zimmerman said climate change clearly underlined the bushfires being experienced this summer.',\n",
       "   'sentencePreprocessed': 'Mr Zimmerman said climate change clearly underlined the bushfires being experienced this summer.',\n",
       "   'sortConfidence': 0.8809053269273679,\n",
       "   'stanceConfidence': 0.9296480650199731,\n",
       "   'stanceLabel': 'contra'},\n",
       "  {'argumentConfidence': 0.8090184926986694,\n",
       "   'argumentLabel': 'argument',\n",
       "   'sentenceOriginal': 'NSW Liberal senator Andrew Bragg said climate change was not a matter of personal belief when it should be based on the science.',\n",
       "   'sentencePreprocessed': 'NSW Liberal senator Andrew Bragg said climate change was not a matter of personal belief when it should be based on the science.',\n",
       "   'sortConfidence': 0.8656550159382224,\n",
       "   'stanceConfidence': 0.9222915391777753,\n",
       "   'stanceLabel': 'contra'},\n",
       "  {'argumentConfidence': 0.8042505085468292,\n",
       "   'argumentLabel': 'argument',\n",
       "   'sentenceOriginal': '\"Karen is correct when she says every second spent discussing whether the climate is changing is wasted time – it\\'s time that would be much better spent on mitigation and adaption strategy development.\"',\n",
       "   'sentencePreprocessed': '\"Karen is correct when she says every second spent discussing whether the climate is changing is wasted time – it\\'s time that would be much better spent on mitigation and adaption strategy development.\"',\n",
       "   'sortConfidence': 0.793566440312085,\n",
       "   'stanceConfidence': 0.7828823720773408,\n",
       "   'stanceLabel': 'contra'},\n",
       "  {'argumentConfidence': 0.8910331651568413,\n",
       "   'argumentLabel': 'argument',\n",
       "   'sentenceOriginal': 'Mr Kelly said the only \"denial\" he had seen was coming from those who denied that Australia only made up 1.3 per cent of global emissions and could not have any measurable effect on global temperatures.',\n",
       "   'sentencePreprocessed': 'Mr Kelly said the only \"denial\" he had seen was coming from those who denied that Australia only made up 1.3 per cent of global emissions and could not have any measurable effect on global temperatures.',\n",
       "   'sortConfidence': 0.7078584677645311,\n",
       "   'stanceConfidence': 0.5246837703722209,\n",
       "   'stanceLabel': 'pro'},\n",
       "  {'argumentConfidence': 0.37853556871414185,\n",
       "   'argumentLabel': 'no argument',\n",
       "   'sentenceOriginal': '\"What I have been seeking to stress, particularly in response to these most recent disasters, is there are a broader range of responses that go beyond just emissions reduction and that goes to climate resilience,\" Mr Morrison said.',\n",
       "   'sentencePreprocessed': '\"What I have been seeking to stress, particularly in response to these most recent disasters, is there are a broader range of responses that go beyond just emissions reduction and that goes to climate resilience,\" Mr Morrison said.',\n",
       "   'sortConfidence': 0.37853556871414185},\n",
       "  {'argumentConfidence': 0.3381425142288208,\n",
       "   'argumentLabel': 'no argument',\n",
       "   'sentenceOriginal': '\"Debate on whether science is real or not is entirely unproductive to meeting the challenges that Australia and the world face.\"',\n",
       "   'sentencePreprocessed': '\"Debate on whether science is real or not is entirely unproductive to meeting the challenges that Australia and the world face.\"',\n",
       "   'sortConfidence': 0.3381425142288208},\n",
       "  {'argumentConfidence': 0.06029713153839111,\n",
       "   'argumentLabel': 'no argument',\n",
       "   'sentenceOriginal': 'Mr Morrison said Ms Andrews had \"well set out\" the government policy and signalled again that he would bring forward future policies to adapt to a changing climate while also doing more to reduce greenhouse gas emissions.',\n",
       "   'sentencePreprocessed': 'Mr Morrison said Ms Andrews had \"well set out\" the government policy and signalled again that he would bring forward future policies to adapt to a changing climate while also doing more to reduce greenhouse gas emissions.',\n",
       "   'sortConfidence': 0.06029713153839111},\n",
       "  {'argumentConfidence': 0.05076223611831665,\n",
       "   'argumentLabel': 'no argument',\n",
       "   'sentenceOriginal': '\"We have no time for conspiracy theories when there is so much to be done.',\n",
       "   'sentencePreprocessed': '\"We have no time for conspiracy theories when there is so much to be done.',\n",
       "   'sortConfidence': 0.05076223611831665},\n",
       "  {'argumentConfidence': 0.04784893989562988,\n",
       "   'argumentLabel': 'no argument',\n",
       "   'sentenceOriginal': '\"We have to make sure that we\\'re able to respond to the impact that we\\'re already experiencing as well as playing our part in reducing emissions to avoid temperature increases reaching catastrophic levels,\" he said.',\n",
       "   'sentencePreprocessed': '\"We have to make sure that we\\'re able to respond to the impact that we\\'re already experiencing as well as playing our part in reducing emissions to avoid temperature increases reaching catastrophic levels,\" he said.',\n",
       "   'sortConfidence': 0.04784893989562988},\n",
       "  {'argumentConfidence': 0.03235971927642822,\n",
       "   'argumentLabel': 'no argument',\n",
       "   'sentenceOriginal': 'We shouldn\\'t waste time on belief because science is not a matter of belief,\" he said.',\n",
       "   'sentencePreprocessed': 'We shouldn\\'t waste time on belief because science is not a matter of belief,\" he said.',\n",
       "   'sortConfidence': 0.03235971927642822},\n",
       "  {'argumentConfidence': 0.03175872564315796,\n",
       "   'argumentLabel': 'no argument',\n",
       "   'sentenceOriginal': '\"And we are in for longer, hotter, drier summers.',\n",
       "   'sentencePreprocessed': '\"And we are in for longer, hotter, drier summers.',\n",
       "   'sortConfidence': 0.03175872564315796},\n",
       "  {'argumentConfidence': 0.02860867977142334,\n",
       "   'argumentLabel': 'no argument',\n",
       "   'sentenceOriginal': 'Liberal backbenchers have stepped up calls for greater action on climate change ahead of talks of new policy measures within weeks, backing a blunt warning from a senior minister to \"move on\" from arguments about whether global warming is real.',\n",
       "   'sentencePreprocessed': 'Liberal backbenchers have stepped up calls for greater action on climate change ahead of talks of new policy measures within weeks, backing a blunt warning from a senior minister to \"move on\" from arguments about whether global warming is real.',\n",
       "   'sortConfidence': 0.02860867977142334},\n",
       "  {'argumentConfidence': 0.025478720664978027,\n",
       "   'argumentLabel': 'no argument',\n",
       "   'sentenceOriginal': '\"It may be argued that by Australia committing to a \\'unilateral Co2 disarmament\\' we\\'d influence others, China and India and others to follow the same, but that\\'s a separate argument.\"',\n",
       "   'sentencePreprocessed': '\"It may be argued that by Australia committing to a \\'unilateral Co2 disarmament\\' we\\'d influence others, China and India and others to follow the same, but that\\'s a separate argument.\"',\n",
       "   'sortConfidence': 0.025478720664978027},\n",
       "  {'argumentConfidence': 0.01574045419692993,\n",
       "   'argumentLabel': 'no argument',\n",
       "   'sentenceOriginal': 'The Liberal MP for Wentworth in Sydney\\'s east, Dave Sharma, said he welcomed Ms Andrews\\' \"common sense proposition\", while the MP for Mackellar on the Sydney northern beaches, Jason Falinski, said there was no debate about whether climate change was real.',\n",
       "   'sentencePreprocessed': 'The Liberal MP for Wentworth in Sydney\\'s east, Dave Sharma, said he welcomed Ms Andrews\\' \"common sense proposition\", while the MP for Mackellar on the Sydney northern beaches, Jason Falinski, said there was no debate about whether climate change was real.',\n",
       "   'sortConfidence': 0.01574045419692993},\n",
       "  {'argumentConfidence': 0.009373068809509277,\n",
       "   'argumentLabel': 'no argument',\n",
       "   'sentenceOriginal': 'Liberal MPs are speaking out about the need for action on climate change as smoke blankets major Australian cities.',\n",
       "   'sentencePreprocessed': 'Liberal MPs are speaking out about the need for action on climate change as smoke blankets major Australian cities.',\n",
       "   'sortConfidence': 0.009373068809509277},\n",
       "  {'argumentConfidence': 0.009337961673736572,\n",
       "   'argumentLabel': 'no argument',\n",
       "   'sentenceOriginal': '\"Overwhelmingly, Australians accept the science of climate change and they now have lived experience of the climatic conditions this summer,\" he said.',\n",
       "   'sentencePreprocessed': '\"Overwhelmingly, Australians accept the science of climate change and they now have lived experience of the climatic conditions this summer,\" he said.',\n",
       "   'sortConfidence': 0.009337961673736572},\n",
       "  {'argumentConfidence': 0.00898897647857666,\n",
       "   'argumentLabel': 'no argument',\n",
       "   'sentenceOriginal': 'Science has underpinned our policies over the long run.\"',\n",
       "   'sentencePreprocessed': 'Science has underpinned our policies over the long run.\"',\n",
       "   'sortConfidence': 0.00898897647857666},\n",
       "  {'argumentConfidence': 0.005464673042297363,\n",
       "   'argumentLabel': 'no argument',\n",
       "   'sentenceOriginal': 'North Sydney MP Trent Zimmerman said he strongly backed Ms Andrews for defending the science in her interview with The Age and The Sydney Morning Herald on Wednesday.',\n",
       "   'sentencePreprocessed': 'North Sydney MP Trent Zimmerman said he strongly backed Ms Andrews for defending the science in her interview with The Age and The Sydney Morning Herald on Wednesday.',\n",
       "   'sortConfidence': 0.005464673042297363},\n",
       "  {'argumentConfidence': 0.00445246696472168,\n",
       "   'argumentLabel': 'no argument',\n",
       "   'sentenceOriginal': 'Government MPs have been reluctant to speak in public on the climate change debate out of concern their opponents would claim they were \"using\" the fires to argue for policy change, but some spoke of a palpable shift in the party room when major cities were shrouded in bushfire smoke.',\n",
       "   'sentencePreprocessed': 'Government MPs have been reluctant to speak in public on the climate change debate out of concern their opponents would claim they were \"using\" the fires to argue for policy change, but some spoke of a palpable shift in the party room when major cities were shrouded in bushfire smoke.',\n",
       "   'sortConfidence': 0.00445246696472168},\n",
       "  {'argumentConfidence': 0.004189014434814453,\n",
       "   'argumentLabel': 'no argument',\n",
       "   'sentenceOriginal': '\"The science minister is right.',\n",
       "   'sentencePreprocessed': '\"The science minister is right.',\n",
       "   'sortConfidence': 0.004189014434814453},\n",
       "  {'argumentConfidence': 0.003976345062255859,\n",
       "   'argumentLabel': 'no argument',\n",
       "   'sentenceOriginal': '\"We know it is real.',\n",
       "   'sentencePreprocessed': '\"We know it is real.',\n",
       "   'sortConfidence': 0.003976345062255859},\n",
       "  {'argumentConfidence': 0.0038951635360717773,\n",
       "   'argumentLabel': 'no argument',\n",
       "   'sentenceOriginal': 'The vocal support counters a smaller group of conservatives within the Morrison government party room who oppose climate action, setting the scene for a clash over policy when Parliament resumes next month.',\n",
       "   'sentencePreprocessed': 'The vocal support counters a smaller group of conservatives within the Morrison government party room who oppose climate action, setting the scene for a clash over policy when Parliament resumes next month.',\n",
       "   'sortConfidence': 0.0038951635360717773},\n",
       "  {'argumentConfidence': 0.003233671188354492,\n",
       "   'argumentLabel': 'no argument',\n",
       "   'sentenceOriginal': 'Fiona Martin, the Liberal member for Reid in western Sydney and a former psychologist, also backed Ms Andrews.',\n",
       "   'sentencePreprocessed': 'Fiona Martin, the Liberal member for Reid in western Sydney and a former psychologist, also backed Ms Andrews.',\n",
       "   'sortConfidence': 0.003233671188354492},\n",
       "  {'argumentConfidence': 0.003215789794921875,\n",
       "   'argumentLabel': 'no argument',\n",
       "   'sentenceOriginal': '\"Whether you\\'re a farmer who\\'s facing another season without a crop or a family who just lost your home in these awful bushfires, it\\'s time we all look at moving forward and getting prepared for the future,\" said NSW Liberal senator Hollie Hughes.',\n",
       "   'sentencePreprocessed': '\"Whether you\\'re a farmer who\\'s facing another season without a crop or a family who just lost your home in these awful bushfires, it\\'s time we all look at moving forward and getting prepared for the future,\" said NSW Liberal senator Hollie Hughes.',\n",
       "   'sortConfidence': 0.003215789794921875},\n",
       "  {'argumentConfidence': 0.0025895237922668457,\n",
       "   'argumentLabel': 'no argument',\n",
       "   'sentenceOriginal': \"Mr Morrison's remarks last Sunday on climate action and Ms Andrews' comments on the science are encouraging MPs to speak up in the knowledge the government is working on a technology roadmap with further climate policies.\",\n",
       "   'sentencePreprocessed': \"Mr Morrison's remarks last Sunday on climate action and Ms Andrews' comments on the science are encouraging MPs to speak up in the knowledge the government is working on a technology roadmap with further climate policies.\",\n",
       "   'sortConfidence': 0.0025895237922668457},\n",
       "  {'argumentConfidence': 0.0019148588180541992,\n",
       "   'argumentLabel': 'no argument',\n",
       "   'sentenceOriginal': 'That is an acknowledged position, always acknowledged by the government.\"',\n",
       "   'sentencePreprocessed': 'That is an acknowledged position, always acknowledged by the government.\"',\n",
       "   'sortConfidence': 0.0019148588180541992},\n",
       "  {'argumentConfidence': 0.0017796158790588379,\n",
       "   'argumentLabel': 'no argument',\n",
       "   'sentenceOriginal': '\"Australians want us to get on with the job of meeting our Paris emissions but looking at what more we can do to reduce our emissions further.',\n",
       "   'sentencePreprocessed': '\"Australians want us to get on with the job of meeting our Paris emissions but looking at what more we can do to reduce our emissions further.',\n",
       "   'sortConfidence': 0.0017796158790588379},\n",
       "  {'argumentConfidence': 0.0017527341842651367,\n",
       "   'argumentLabel': 'no argument',\n",
       "   'sentenceOriginal': '\"It is good to see minister Andrews working towards practical strategies to respond to climate change and engaging with the experts.\"',\n",
       "   'sentencePreprocessed': '\"It is good to see minister Andrews working towards practical strategies to respond to climate change and engaging with the experts.\"',\n",
       "   'sortConfidence': 0.0017527341842651367},\n",
       "  {'argumentConfidence': 0.001714169979095459,\n",
       "   'argumentLabel': 'no argument',\n",
       "   'sentenceOriginal': 'We now need to work on sensible and practical measures to reducing our carbon emissions,\" he tweeted.',\n",
       "   'sentencePreprocessed': 'We now need to work on sensible and practical measures to reducing our carbon emissions,\" he tweeted.',\n",
       "   'sortConfidence': 0.001714169979095459},\n",
       "  {'argumentConfidence': 0.0016959905624389648,\n",
       "   'argumentLabel': 'no argument',\n",
       "   'sentenceOriginal': '\"The job of the government is to develop public policy informed by a myriad of factors, including science, and properly consider trade-offs and costs of different forms of action, and the minister is right – that is where our focus should be,\" he said.',\n",
       "   'sentencePreprocessed': '\"The job of the government is to develop public policy informed by a myriad of factors, including science, and properly consider trade-offs and costs of different forms of action, and the minister is right – that is where our focus should be,\" he said.',\n",
       "   'sortConfidence': 0.0016959905624389648},\n",
       "  {'argumentConfidence': 0.0013790130615234375,\n",
       "   'argumentLabel': 'no argument',\n",
       "   'sentenceOriginal': \"The member for Goldstein in bayside Melbourne, Tim Wilson, also backed the minister's comments on the science.\",\n",
       "   'sentencePreprocessed': \"The member for Goldstein in bayside Melbourne, Tim Wilson, also backed the minister's comments on the science.\",\n",
       "   'sortConfidence': 0.0013790130615234375},\n",
       "  {'argumentConfidence': 0.0013248324394226074,\n",
       "   'argumentLabel': 'no argument',\n",
       "   'sentenceOriginal': \"Liberal MP Trent Zimmerman says it's time for the coalition to take action on climate change.Credit:Alex Ellinghausen\",\n",
       "   'sentencePreprocessed': \"Liberal MP Trent Zimmerman says it's time for the coalition to take action on climate change.Credit:Alex Ellinghausen\",\n",
       "   'sortConfidence': 0.0013248324394226074},\n",
       "  {'argumentConfidence': 0.0011194348335266113,\n",
       "   'argumentLabel': 'no argument',\n",
       "   'sentenceOriginal': 'Liberals speak out to back Science Minister on climate change action',\n",
       "   'sentencePreprocessed': 'Liberals speak out to back Science Minister on climate change action',\n",
       "   'sortConfidence': 0.0011194348335266113},\n",
       "  {'argumentConfidence': 0.0008811354637145996,\n",
       "   'argumentLabel': 'no argument',\n",
       "   'sentenceOriginal': 'Advertisement',\n",
       "   'sentencePreprocessed': 'Advertisement',\n",
       "   'sortConfidence': 0.0008811354637145996},\n",
       "  {'argumentConfidence': 0.0008710026741027832,\n",
       "   'argumentLabel': 'no argument',\n",
       "   'sentenceOriginal': \"While conservative Liberals, such as southern Sydney MP Craig Kelly, gain headlines for questioning the science, many on the moderate side of the party back Ms Andrews and see Mr Morrison's latest comments as a sign of further policy action once Parliament returns on February 4.\",\n",
       "   'sentencePreprocessed': \"While conservative Liberals, such as southern Sydney MP Craig Kelly, gain headlines for questioning the science, many on the moderate side of the party back Ms Andrews and see Mr Morrison's latest comments as a sign of further policy action once Parliament returns on February 4.\",\n",
       "   'sortConfidence': 0.0008710026741027832},\n",
       "  {'argumentConfidence': 0.000870048999786377,\n",
       "   'argumentLabel': 'no argument',\n",
       "   'sentenceOriginal': 'Loading',\n",
       "   'sentencePreprocessed': 'Loading',\n",
       "   'sortConfidence': 0.000870048999786377}]}"
      ]
     },
     "execution_count": 41,
     "metadata": {},
     "output_type": "execute_result"
    }
   ],
   "source": [
    "response = classify.classify_url_sentences(topic, url, am_user_id, am_user_key)\n",
    "response"
   ]
  },
  {
   "cell_type": "code",
   "execution_count": 39,
   "metadata": {},
   "outputs": [
    {
     "data": {
      "text/plain": [
       "ClassifiedSentence(url='https://www.smh.com.au/politics/federal/liberals-speak-out-to-back-science-minister-on-climate-change-action-20200115-p53rs1.html', doc_id='657f9dd95eb97597e34d0c05b5a93ba6', topic='climate change', argument_confidence=0.8324097394943237, argument_label='argument', sentence_original='\"So she\\'s right - there is no point wasting time discussing climate change - because we are not going to stop it from happening,\" he said of the minister\\'s comments.', sentence_preprocessed='\"So she\\'s right - there is no point wasting time discussing climate change - because we are not going to stop it from happening,\" he said of the minister\\'s comments.', sort_confidence=0.9131057365821765, stance_confidence=0.9938017336700293, stance_label='pro')"
      ]
     },
     "execution_count": 39,
     "metadata": {},
     "output_type": "execute_result"
    }
   ],
   "source": [
    "classify.ClassifiedSentence.from_dict(url, topic, response['sentences'][0])"
   ]
  },
  {
   "cell_type": "code",
   "execution_count": 40,
   "metadata": {},
   "outputs": [
    {
     "data": {
      "text/plain": [
       "{'argumentConfidence': 0.8324097394943237,\n",
       " 'argumentLabel': 'argument',\n",
       " 'sentenceOriginal': '\"So she\\'s right - there is no point wasting time discussing climate change - because we are not going to stop it from happening,\" he said of the minister\\'s comments.',\n",
       " 'sentencePreprocessed': '\"So she\\'s right - there is no point wasting time discussing climate change - because we are not going to stop it from happening,\" he said of the minister\\'s comments.',\n",
       " 'sortConfidence': 0.9131057365821765,\n",
       " 'stanceConfidence': 0.9938017336700293,\n",
       " 'stanceLabel': 'pro'}"
      ]
     },
     "execution_count": 40,
     "metadata": {},
     "output_type": "execute_result"
    }
   ],
   "source": [
    "response['sentences'][0]"
   ]
  },
  {
   "cell_type": "code",
   "execution_count": null,
   "metadata": {},
   "outputs": [],
   "source": []
  }
 ],
 "metadata": {
  "kernelspec": {
   "display_name": "Python 3",
   "language": "python",
   "name": "python3"
  },
  "language_info": {
   "codemirror_mode": {
    "name": "ipython",
    "version": 3
   },
   "file_extension": ".py",
   "mimetype": "text/x-python",
   "name": "python",
   "nbconvert_exporter": "python",
   "pygments_lexer": "ipython3",
   "version": "3.8.3"
  }
 },
 "nbformat": 4,
 "nbformat_minor": 4
}
