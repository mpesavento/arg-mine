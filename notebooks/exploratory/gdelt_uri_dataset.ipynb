{
 "cells": [
  {
   "cell_type": "markdown",
   "metadata": {},
   "source": [
    "# GDELT dataset extraction\n",
    "\n",
    "This notebook serves as the starting point for pulling the GDELT datasets over the *english* language. Multi-lingual datasets are also [available](https://blog.gdeltproject.org/a-new-multilingual-dataset-for-exploring-climate-change-narratives-4-1-million-news-urls-in-63-languages-2015-2020/), including 4.1M articles covering the global narrative. An interesting side project would be to perform weighted clustering and analyze how different the arguments are across different languages. This would require mapping clusters across languages, which is non-trivial but possibly doable.\n",
    "\n",
    "\n",
    "Full datasets found [here](https://blog.gdeltproject.org/a-new-contextual-dataset-for-exploring-climate-change-narratives-6-3m-english-news-urls-with-contextual-snippets-2015-2020/)\n"
   ]
  },
  {
   "cell_type": "code",
   "execution_count": 1,
   "metadata": {},
   "outputs": [],
   "source": [
    "import os\n",
    "from pathlib import Path\n",
    "import requests\n",
    "import zipfile\n",
    "\n",
    "import pandas as pd"
   ]
  },
  {
   "cell_type": "code",
   "execution_count": null,
   "metadata": {},
   "outputs": [],
   "source": []
  },
  {
   "cell_type": "code",
   "execution_count": 2,
   "metadata": {},
   "outputs": [],
   "source": [
    "# identify project root\n",
    "notebook_dir = os.getcwd()\n",
    "project_root = Path(notebook_dir).resolve().parents[1]"
   ]
  },
  {
   "cell_type": "code",
   "execution_count": 3,
   "metadata": {},
   "outputs": [],
   "source": [
    "BASE_URL_FMT = \"http://data.gdeltproject.org/blog/2020-climate-change-narrative/WebNewsEnglishSnippets.{year}.csv.zip\"\n",
    "\n",
    "GDELT_COL_NAMES = [\n",
    "    \"datetime\",\n",
    "    \"title\",\n",
    "    \"headline_image_url\",\n",
    "    \"content_url\",\n",
    "    \"snippit\"\n",
    "]\n",
    "\n",
    "years = list(range(2015, 2021))"
   ]
  },
  {
   "cell_type": "code",
   "execution_count": null,
   "metadata": {},
   "outputs": [],
   "source": []
  },
  {
   "cell_type": "code",
   "execution_count": 4,
   "metadata": {},
   "outputs": [],
   "source": [
    "def download_file_from_url(url, target_file_path):\n",
    "    \"\"\"Download a file from the given url\"\"\"\n",
    "    print(\"downloading file from {}\".format(url))\n",
    "    response = requests.get(url, allow_redirects=True)\n",
    "    response.raise_for_status()\n",
    "    with open(target_file_path, 'wb') as f:\n",
    "        f.write(response.content)\n",
    "    return\n",
    "    \n",
    "def download_gdelt_year(year, base_url_fmt=BASE_URL_FMT):\n",
    "    \"\"\"\n",
    "    Download the CSV files from the gdelt project, for a given year\n",
    "    \"\"\"\n",
    "    full_url = base_url_fmt.format(year=year)\n",
    "    uri_path, zip_filename = os.path.split(full_url.split(\"://\")[1]) \n",
    "    gdelt_project_name = os.path.basename(uri_path)\n",
    "    gdelt_raw_dir = os.path.join(project_root, \"data\", \"raw\", gdelt_project_name)\n",
    "    os.makedirs(gdelt_raw_dir, exist_ok=True)\n",
    "\n",
    "\n",
    "    zip_filepath = os.path.join(gdelt_raw_dir, zip_filename)\n",
    "    csv_filename, ext = os.path.splitext(zip_filename)\n",
    "    if ext != \".zip\":\n",
    "        raise IOError(\"Expected to find a zip file, found '{}' instead\".format(ext))\n",
    "    csv_filepath = os.path.join(gdelt_raw_dir, csv_filename)\n",
    "\n",
    "    if not os.path.isfile(csv_filepath):\n",
    "        download_file_from_url(full_url, zip_filepath)\n",
    "        with zipfile.ZipFile(zip_filepath, \"r\") as zip_ref:\n",
    "            zip_ref.extractall(gdelt_raw_dir)\n",
    "        # delete the zip file when we are done with it\n",
    "        if os.path.exists(zip_filepath):\n",
    "            os.remove(zip_filepath)\n",
    "        else:\n",
    "            print(\"Unable to find the zip file we just extracted from: {}\".format(zip_filepath))\n",
    "    else:\n",
    "        print(\"Using cached data for '{}': {}\".format(year, csv_filepath))\n",
    "    \n",
    "    return csv_filepath\n",
    "\n",
    "def get_gdelt_df(csv_filepath):\n",
    "    # convert csv to dataframe. should probably do this in a separate step, and just return the path here.\n",
    "    print(\"reading data from: {}\".format(csv_filepath))\n",
    "    df = pd.read_csv(csv_filepath, header=0, names=GDELT_COL_NAMES, index_col=False)\n",
    "    return df"
   ]
  },
  {
   "cell_type": "code",
   "execution_count": 5,
   "metadata": {},
   "outputs": [
    {
     "name": "stdout",
     "output_type": "stream",
     "text": [
      "Using cached data for '2015': /opt/workspace/data/raw/2020-climate-change-narrative/WebNewsEnglishSnippets.2015.csv\n",
      "Using cached data for '2016': /opt/workspace/data/raw/2020-climate-change-narrative/WebNewsEnglishSnippets.2016.csv\n",
      "Using cached data for '2017': /opt/workspace/data/raw/2020-climate-change-narrative/WebNewsEnglishSnippets.2017.csv\n",
      "Using cached data for '2018': /opt/workspace/data/raw/2020-climate-change-narrative/WebNewsEnglishSnippets.2018.csv\n",
      "Using cached data for '2019': /opt/workspace/data/raw/2020-climate-change-narrative/WebNewsEnglishSnippets.2019.csv\n",
      "Using cached data for '2020': /opt/workspace/data/raw/2020-climate-change-narrative/WebNewsEnglishSnippets.2020.csv\n"
     ]
    }
   ],
   "source": [
    "# download article URL datasets from all given years\n",
    "\n",
    "data_paths = {}\n",
    "\n",
    "for year in years:\n",
    "    csv_path = download_gdelt_year(year)\n",
    "    data_paths[str(year)] = csv_path"
   ]
  },
  {
   "cell_type": "code",
   "execution_count": 6,
   "metadata": {},
   "outputs": [
    {
     "name": "stdout",
     "output_type": "stream",
     "text": [
      "reading data from: /opt/workspace/data/raw/2020-climate-change-narrative/WebNewsEnglishSnippets.2015.csv\n"
     ]
    }
   ],
   "source": [
    "df = get_gdelt_df(data_paths['2015'])"
   ]
  },
  {
   "cell_type": "code",
   "execution_count": 7,
   "metadata": {},
   "outputs": [
    {
     "data": {
      "text/html": [
       "<div>\n",
       "<style scoped>\n",
       "    .dataframe tbody tr th:only-of-type {\n",
       "        vertical-align: middle;\n",
       "    }\n",
       "\n",
       "    .dataframe tbody tr th {\n",
       "        vertical-align: top;\n",
       "    }\n",
       "\n",
       "    .dataframe thead th {\n",
       "        text-align: right;\n",
       "    }\n",
       "</style>\n",
       "<table border=\"1\" class=\"dataframe\">\n",
       "  <thead>\n",
       "    <tr style=\"text-align: right;\">\n",
       "      <th></th>\n",
       "      <th>datetime</th>\n",
       "      <th>title</th>\n",
       "      <th>headline_image_url</th>\n",
       "      <th>content_url</th>\n",
       "      <th>snippit</th>\n",
       "    </tr>\n",
       "  </thead>\n",
       "  <tbody>\n",
       "    <tr>\n",
       "      <th>0</th>\n",
       "      <td>20150929221500</td>\n",
       "      <td>Sierra Leone News: As world leaders commit to ...</td>\n",
       "      <td>NaN</td>\n",
       "      <td>http://awoko.org/2015/09/29/sierra-leone-news-...</td>\n",
       "      <td>learn about the Global Goals across the globe...</td>\n",
       "    </tr>\n",
       "    <tr>\n",
       "      <th>1</th>\n",
       "      <td>20150715170000</td>\n",
       "      <td>Global slowdown boosts Africa's hopes of achie...</td>\n",
       "      <td>NaN</td>\n",
       "      <td>http://www.reuters.com/article/2015/07/15/deve...</td>\n",
       "      <td>will cost between $3.3 trillion and $4.5 tril...</td>\n",
       "    </tr>\n",
       "    <tr>\n",
       "      <th>2</th>\n",
       "      <td>20151117113000</td>\n",
       "      <td>Climate Countdown: When Is a Warming Treaty No...</td>\n",
       "      <td>http://www.sci-tech-today.com/images/super/lar...</td>\n",
       "      <td>http://www.sci-tech-today.com/news/When-s-a-Cl...</td>\n",
       "      <td>.S. and India don't want the international com...</td>\n",
       "    </tr>\n",
       "    <tr>\n",
       "      <th>3</th>\n",
       "      <td>20151217173000</td>\n",
       "      <td>King Abdullah II Inaugurates the First and Lar...</td>\n",
       "      <td>http://fns1.de/g/fb.png</td>\n",
       "      <td>http://www.finanznachrichten.de/nachrichten-20...</td>\n",
       "      <td>. Renewable energy contributes to achieving su...</td>\n",
       "    </tr>\n",
       "    <tr>\n",
       "      <th>4</th>\n",
       "      <td>20150712171500</td>\n",
       "      <td>The Marxist-Progressive Church of Climate Change</td>\n",
       "      <td>http://image.issuu.com/150710000103-324762007b...</td>\n",
       "      <td>http://www.redmond-reporter.com/opinion/letter...</td>\n",
       "      <td>scientist and an avid reader of economic book...</td>\n",
       "    </tr>\n",
       "  </tbody>\n",
       "</table>\n",
       "</div>"
      ],
      "text/plain": [
       "         datetime                                              title  \\\n",
       "0  20150929221500  Sierra Leone News: As world leaders commit to ...   \n",
       "1  20150715170000  Global slowdown boosts Africa's hopes of achie...   \n",
       "2  20151117113000  Climate Countdown: When Is a Warming Treaty No...   \n",
       "3  20151217173000  King Abdullah II Inaugurates the First and Lar...   \n",
       "4  20150712171500   The Marxist-Progressive Church of Climate Change   \n",
       "\n",
       "                                  headline_image_url  \\\n",
       "0                                                NaN   \n",
       "1                                                NaN   \n",
       "2  http://www.sci-tech-today.com/images/super/lar...   \n",
       "3                            http://fns1.de/g/fb.png   \n",
       "4  http://image.issuu.com/150710000103-324762007b...   \n",
       "\n",
       "                                         content_url  \\\n",
       "0  http://awoko.org/2015/09/29/sierra-leone-news-...   \n",
       "1  http://www.reuters.com/article/2015/07/15/deve...   \n",
       "2  http://www.sci-tech-today.com/news/When-s-a-Cl...   \n",
       "3  http://www.finanznachrichten.de/nachrichten-20...   \n",
       "4  http://www.redmond-reporter.com/opinion/letter...   \n",
       "\n",
       "                                             snippit  \n",
       "0   learn about the Global Goals across the globe...  \n",
       "1   will cost between $3.3 trillion and $4.5 tril...  \n",
       "2  .S. and India don't want the international com...  \n",
       "3  . Renewable energy contributes to achieving su...  \n",
       "4   scientist and an avid reader of economic book...  "
      ]
     },
     "execution_count": 7,
     "metadata": {},
     "output_type": "execute_result"
    }
   ],
   "source": [
    "df.head()"
   ]
  },
  {
   "cell_type": "code",
   "execution_count": 8,
   "metadata": {},
   "outputs": [
    {
     "data": {
      "text/plain": [
       "'http://awoko.org/2015/09/29/sierra-leone-news-as-world-leaders-commit-to-achieving-the-sustainable-development-goals/'"
      ]
     },
     "execution_count": 8,
     "metadata": {},
     "output_type": "execute_result"
    }
   ],
   "source": [
    "df.iloc[0][3]"
   ]
  },
  {
   "cell_type": "code",
   "execution_count": 9,
   "metadata": {},
   "outputs": [],
   "source": [
    "def convert_datetime_int(datetime_int):\n",
    "    \"\"\"Convert an integer like 20200107101500 to a pd.Timestamp 2020.01.07T10:15:00\"\"\"\n",
    "    # NOTE we still need to confirm that these times are all GMT\n",
    "    datetime_str = str(datetime_int)\n",
    "    if len(datetime_str) != 14:\n",
    "        raise ValueError(\"Incorrect length for datetime integer, expected 12, found {}\". format(len(datetime_str)))\n",
    "    ts = pd.Timestamp(\n",
    "        year=int(datetime_str[:4]),\n",
    "        month=int(datetime_str[4:6]),\n",
    "        day=int(datetime_str[6:8]),\n",
    "        hour=int(datetime_str[8:10]),\n",
    "        minute=int(datetime_str[10:12]),\n",
    "        second=int(datetime_str[12:14]),\n",
    "    )\n",
    "    return ts"
   ]
  },
  {
   "cell_type": "code",
   "execution_count": 10,
   "metadata": {},
   "outputs": [],
   "source": [
    "df['timestamp'] = df.datetime.apply(convert_datetime_int)"
   ]
  },
  {
   "cell_type": "code",
   "execution_count": 11,
   "metadata": {},
   "outputs": [
    {
     "data": {
      "text/plain": [
       "<matplotlib.axes._subplots.AxesSubplot at 0x7f027e06fc70>"
      ]
     },
     "execution_count": 11,
     "metadata": {},
     "output_type": "execute_result"
    },
    {
     "data": {
      "image/png": "[encoded data removed]",
      "text/plain": [
       "<Figure size 432x288 with 1 Axes>"
      ]
     },
     "metadata": {
      "needs_background": "light"
     },
     "output_type": "display_data"
    }
   ],
   "source": [
    "# plot the distribution by day of month\n",
    "df.timestamp.groupby([df[\"timestamp\"].dt.month, df[\"timestamp\"].dt.day]).count().plot(kind=\"bar\")"
   ]
  },
  {
   "cell_type": "markdown",
   "metadata": {},
   "source": [
    "# Next: test the API\n",
    "Great, now we have the data downloaded locally. \n",
    "The 2020 dataset is incomplete, only containing data from January 2020.\n",
    "\n",
    "Of note, a significant proportion of the articles linked may no longer be accessible. When we build the API wrapper and output object, make sure we have a clear way to keep track of which articles no longer exist, and note them as such. Even the lack of existence of an article may have signal in the arguments being mined."
   ]
  },
  {
   "cell_type": "code",
   "execution_count": null,
   "metadata": {},
   "outputs": [],
   "source": []
  }
 ],
 "metadata": {
  "kernelspec": {
   "display_name": "Python 3",
   "language": "python",
   "name": "python3"
  },
  "language_info": {
   "codemirror_mode": {
    "name": "ipython",
    "version": 3
   },
   "file_extension": ".py",
   "mimetype": "text/x-python",
   "name": "python",
   "nbconvert_exporter": "python",
   "pygments_lexer": "ipython3",
   "version": "3.8.3"
  }
 },
 "nbformat": 4,
 "nbformat_minor": 4
}
