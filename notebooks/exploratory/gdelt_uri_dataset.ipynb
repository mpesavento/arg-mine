{
 "cells": [
  {
   "cell_type": "markdown",
   "metadata": {},
   "source": [
    "# GDELT dataset extraction\n",
    "\n",
    "This notebook serves as the starting point for pulling the GDELT datasets over the *english* language. Multi-lingual datasets are also [available](https://blog.gdeltproject.org/a-new-multilingual-dataset-for-exploring-climate-change-narratives-4-1-million-news-urls-in-63-languages-2015-2020/), including 4.1M articles covering the global narrative. An interesting side project would be to perform weighted clustering and analyze how different the arguments are across different languages. This would require mapping clusters across languages, which is non-trivial but possibly doable.\n",
    "\n",
    "\n",
    "Full datasets found [here](https://blog.gdeltproject.org/a-new-contextual-dataset-for-exploring-climate-change-narratives-6-3m-english-news-urls-with-contextual-snippets-2015-2020/)\n"
   ]
  },
  {
   "cell_type": "code",
   "execution_count": 1,
   "metadata": {},
   "outputs": [],
   "source": [
    "import os\n",
    "from pathlib import Path\n",
    "import requests\n",
    "import zipfile\n",
    "\n",
    "import pandas as pd"
   ]
  },
  {
   "cell_type": "code",
   "execution_count": null,
   "metadata": {},
   "outputs": [],
   "source": []
  },
  {
   "cell_type": "code",
   "execution_count": 2,
   "metadata": {},
   "outputs": [],
   "source": [
    "# identify project root\n",
    "notebook_dir = os.getcwd()\n",
    "project_root = Path(notebook_dir).resolve().parents[1]"
   ]
  },
  {
   "cell_type": "code",
   "execution_count": 3,
   "metadata": {},
   "outputs": [],
   "source": [
    "base_uri_fmt = \"http://data.gdeltproject.org/blog/2020-climate-change-narrative/WebNewsEnglishSnippets.{year}.csv.zip\"\n",
    "years = list(range(2015, 2021))"
   ]
  },
  {
   "cell_type": "code",
   "execution_count": 6,
   "metadata": {},
   "outputs": [],
   "source": [
    "year = 2020"
   ]
  },
  {
   "cell_type": "code",
   "execution_count": 7,
   "metadata": {},
   "outputs": [],
   "source": [
    "GDELT_COL_NAMES = [\n",
    "    \"datetime\",\n",
    "    \"title\",\n",
    "    \"headline_image_url\",\n",
    "    \"content_url\",\n",
    "    \"snippit\"\n",
    "]"
   ]
  },
  {
   "cell_type": "code",
   "execution_count": 8,
   "metadata": {},
   "outputs": [],
   "source": [
    "def download_file_from_url(url, target_file_path):\n",
    "    \"\"\"Download a file from the given url\"\"\"\n",
    "    print(\"downloading file from {}\".format(url))\n",
    "    response = requests.get(url, allow_redirects=True)\n",
    "    response.raise_for_status()\n",
    "    with open(target_file_path, 'wb') as f:\n",
    "        f.write(response.content)\n",
    "    return\n",
    "    \n",
    "    "
   ]
  },
  {
   "cell_type": "code",
   "execution_count": 9,
   "metadata": {},
   "outputs": [],
   "source": [
    "def get_gdelt_year(year):\n",
    "    \"\"\"\n",
    "    Download the CSV files from the gdelt project, for a given year\n",
    "    \"\"\"\n",
    "    full_url = base_uri_fmt.format(year=year)\n",
    "    uri_path, zip_filename = os.path.split(full_url.split(\"://\")[1]) \n",
    "    gdelt_project_name = os.path.basename(uri_path)\n",
    "    gdelt_raw_dir = os.path.join(project_root, \"data\", \"raw\", gdelt_project_name)\n",
    "    os.makedirs(gdelt_raw_dir, exist_ok=True)\n",
    "\n",
    "\n",
    "    zip_filepath = os.path.join(gdelt_raw_dir, zip_filename)\n",
    "    csv_filename, ext = os.path.splitext(zip_filename)\n",
    "    if ext != \".zip\":\n",
    "        raise IOError(\"Expected to find a zip file, found '{}' instead\".format(ext))\n",
    "    csv_filepath = os.path.join(gdelt_raw_dir, csv_filename)\n",
    "\n",
    "    if not os.path.isfile(csv_filepath):\n",
    "        download_file_from_url(full_url, zip_filepath)\n",
    "        with zipfile.ZipFile(zip_filepath, \"r\") as zip_ref:\n",
    "            zip_ref.extractall(gdelt_raw_dir)\n",
    "        # delete the zip file when we are done with it\n",
    "        if os.path.exists(zip_filepath):\n",
    "            os.remove(zip_filepath)\n",
    "        else:\n",
    "            print(\"Unable to find the zip file we just extracted from: {}\".format(zip_filepath))\n",
    "    else:\n",
    "        print(\"Using cached data for '{}': {}\".format(year, csv_filepath))\n",
    "    df = pd.read_csv(csv_filepath, header=0, names=GDELT_COL_NAMES, index_col=False)\n",
    "    return df"
   ]
  },
  {
   "cell_type": "code",
   "execution_count": 10,
   "metadata": {},
   "outputs": [
    {
     "name": "stdout",
     "output_type": "stream",
     "text": [
      "Using cached data for '2020': /opt/workspace/data/raw/2020-climate-change-narrative/WebNewsEnglishSnippets.2020.csv\n"
     ]
    }
   ],
   "source": [
    "df = get_gdelt_year(year)"
   ]
  },
  {
   "cell_type": "code",
   "execution_count": 11,
   "metadata": {},
   "outputs": [
    {
     "data": {
      "text/html": [
       "<div>\n",
       "<style scoped>\n",
       "    .dataframe tbody tr th:only-of-type {\n",
       "        vertical-align: middle;\n",
       "    }\n",
       "\n",
       "    .dataframe tbody tr th {\n",
       "        vertical-align: top;\n",
       "    }\n",
       "\n",
       "    .dataframe thead th {\n",
       "        text-align: right;\n",
       "    }\n",
       "</style>\n",
       "<table border=\"1\" class=\"dataframe\">\n",
       "  <thead>\n",
       "    <tr style=\"text-align: right;\">\n",
       "      <th></th>\n",
       "      <th>datetime</th>\n",
       "      <th>title</th>\n",
       "      <th>headline_image_url</th>\n",
       "      <th>content_url</th>\n",
       "      <th>snippit</th>\n",
       "    </tr>\n",
       "  </thead>\n",
       "  <tbody>\n",
       "    <tr>\n",
       "      <th>0</th>\n",
       "      <td>20200115111500</td>\n",
       "      <td>Liberal MPs back Science Minister Karen Andrew...</td>\n",
       "      <td>https://static.ffx.io/images/$zoom_0.2627%2C$m...</td>\n",
       "      <td>https://www.smh.com.au/politics/federal/libera...</td>\n",
       "      <td>the science in her interview with The Age and...</td>\n",
       "    </tr>\n",
       "    <tr>\n",
       "      <th>1</th>\n",
       "      <td>20200117184500</td>\n",
       "      <td>Several crowd-pullers on day two of KLF</td>\n",
       "      <td>https://www.thehindu.com/news/cities/kozhikode...</td>\n",
       "      <td>https://www.thehindu.com/news/cities/kozhikode...</td>\n",
       "      <td>Guha, who talked about patriotism and jingois...</td>\n",
       "    </tr>\n",
       "    <tr>\n",
       "      <th>2</th>\n",
       "      <td>20200106233000</td>\n",
       "      <td>Seven arrested after gas rig protest</td>\n",
       "      <td>https://www.stourbridgenews.co.uk/resources/im...</td>\n",
       "      <td>https://www.stourbridgenews.co.uk/news/nationa...</td>\n",
       "      <td>three demands for the Scottish and UK Governm...</td>\n",
       "    </tr>\n",
       "    <tr>\n",
       "      <th>3</th>\n",
       "      <td>20200101111500</td>\n",
       "      <td>Australia sending aid to wildfire towns as dea...</td>\n",
       "      <td>https://bloximages.newyork1.vip.townnews.com/h...</td>\n",
       "      <td>https://www.heraldmailmedia.com/news/nation/au...</td>\n",
       "      <td>this season the worst on record and reignited ...</td>\n",
       "    </tr>\n",
       "    <tr>\n",
       "      <th>4</th>\n",
       "      <td>20200107101500</td>\n",
       "      <td>A hot, dry country caught between fire and a c...</td>\n",
       "      <td>NaN</td>\n",
       "      <td>http://global.chinadaily.com.cn/a/202001/07/WS...</td>\n",
       "      <td>, which is burned to generate electricity, wit...</td>\n",
       "    </tr>\n",
       "  </tbody>\n",
       "</table>\n",
       "</div>"
      ],
      "text/plain": [
       "         datetime                                              title  \\\n",
       "0  20200115111500  Liberal MPs back Science Minister Karen Andrew...   \n",
       "1  20200117184500            Several crowd-pullers on day two of KLF   \n",
       "2  20200106233000               Seven arrested after gas rig protest   \n",
       "3  20200101111500  Australia sending aid to wildfire towns as dea...   \n",
       "4  20200107101500  A hot, dry country caught between fire and a c...   \n",
       "\n",
       "                                  headline_image_url  \\\n",
       "0  https://static.ffx.io/images/$zoom_0.2627%2C$m...   \n",
       "1  https://www.thehindu.com/news/cities/kozhikode...   \n",
       "2  https://www.stourbridgenews.co.uk/resources/im...   \n",
       "3  https://bloximages.newyork1.vip.townnews.com/h...   \n",
       "4                                                NaN   \n",
       "\n",
       "                                         content_url  \\\n",
       "0  https://www.smh.com.au/politics/federal/libera...   \n",
       "1  https://www.thehindu.com/news/cities/kozhikode...   \n",
       "2  https://www.stourbridgenews.co.uk/news/nationa...   \n",
       "3  https://www.heraldmailmedia.com/news/nation/au...   \n",
       "4  http://global.chinadaily.com.cn/a/202001/07/WS...   \n",
       "\n",
       "                                             snippit  \n",
       "0   the science in her interview with The Age and...  \n",
       "1   Guha, who talked about patriotism and jingois...  \n",
       "2   three demands for the Scottish and UK Governm...  \n",
       "3  this season the worst on record and reignited ...  \n",
       "4  , which is burned to generate electricity, wit...  "
      ]
     },
     "execution_count": 11,
     "metadata": {},
     "output_type": "execute_result"
    }
   ],
   "source": [
    "df.head()"
   ]
  },
  {
   "cell_type": "code",
   "execution_count": 12,
   "metadata": {},
   "outputs": [
    {
     "data": {
      "text/plain": [
       "'https://www.smh.com.au/politics/federal/liberals-speak-out-to-back-science-minister-on-climate-change-action-20200115-p53rs1.html'"
      ]
     },
     "execution_count": 12,
     "metadata": {},
     "output_type": "execute_result"
    }
   ],
   "source": [
    "df.iloc[0][3]"
   ]
  },
  {
   "cell_type": "code",
   "execution_count": 14,
   "metadata": {},
   "outputs": [],
   "source": [
    "def convert_datetime_int(datetime_int):\n",
    "    \"\"\"Convert an integer like 20200107101500 to a pd.Timestamp 2020.01.07T10:15:00\"\"\"\n",
    "    # NOTE we still need to confirm that these times are all GMT\n",
    "    datetime_str = str(datetime_int)\n",
    "    if len(datetime_str) != 14:\n",
    "        raise ValueError(\"Incorrect length for datetime integer, expected 12, found {}\". format(len(datetime_str)))\n",
    "    ts = pd.Timestamp(\n",
    "        year=int(datetime_str[:4]),\n",
    "        month=int(datetime_str[4:6]),\n",
    "        day=int(datetime_str[6:8]),\n",
    "        hour=int(datetime_str[8:10]),\n",
    "        minute=int(datetime_str[10:12]),\n",
    "        second=int(datetime_str[12:14]),\n",
    "    )\n",
    "    return ts"
   ]
  },
  {
   "cell_type": "code",
   "execution_count": 15,
   "metadata": {},
   "outputs": [],
   "source": [
    "df['timestamp'] = df.datetime.apply(convert_datetime_int)"
   ]
  },
  {
   "cell_type": "code",
   "execution_count": 16,
   "metadata": {},
   "outputs": [
    {
     "data": {
      "text/plain": [
       "<matplotlib.axes._subplots.AxesSubplot at 0x7f2b67d987c0>"
      ]
     },
     "execution_count": 16,
     "metadata": {},
     "output_type": "execute_result"
    },
    {
     "data": {
      "image/png": "[encoded data removed]",
      "text/plain": [
       "<Figure size 432x288 with 1 Axes>"
      ]
     },
     "metadata": {
      "needs_background": "light"
     },
     "output_type": "display_data"
    }
   ],
   "source": [
    "# plot the distribution by day of month\n",
    "df.timestamp.groupby([df[\"timestamp\"].dt.day]).count().plot(kind=\"bar\")"
   ]
  },
  {
   "cell_type": "code",
   "execution_count": null,
   "metadata": {},
   "outputs": [],
   "source": []
  }
 ],
 "metadata": {
  "kernelspec": {
   "display_name": "Python 3",
   "language": "python",
   "name": "python3"
  },
  "language_info": {
   "codemirror_mode": {
    "name": "ipython",
    "version": 3
   },
   "file_extension": ".py",
   "mimetype": "text/x-python",
   "name": "python",
   "nbconvert_exporter": "python",
   "pygments_lexer": "ipython3",
   "version": "3.8.3"
  }
 },
 "nbformat": 4,
 "nbformat_minor": 4
}
