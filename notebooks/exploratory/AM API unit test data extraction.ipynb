{
 "cells": [
  {
   "cell_type": "markdown",
   "metadata": {},
   "source": [
    "# Argument Mining API query testing\n",
    "\n",
    "Load the target datafile, and see how the query results work"
   ]
  },
  {
   "cell_type": "code",
   "execution_count": 1,
   "metadata": {},
   "outputs": [],
   "source": [
    "# reload local package definitions for each cell\n",
    "%load_ext autoreload\n",
    "%autoreload 2"
   ]
  },
  {
   "cell_type": "code",
   "execution_count": 2,
   "metadata": {},
   "outputs": [
    {
     "name": "stderr",
     "output_type": "stream",
     "text": [
      "/usr/local/lib/python3.8/site-packages/grequests.py:22: MonkeyPatchWarning: Monkey-patching ssl after ssl has already been imported may lead to errors, including RecursionError on Python 3.6. It may also silently lead to incorrect behaviour on Python 3.7. Please monkey-patch earlier. See https://github.com/gevent/gevent/issues/1016. Modules that had direct imports (NOT patched): ['urllib3.contrib.pyopenssl (/usr/local/lib/python3.8/site-packages/urllib3/contrib/pyopenssl.py)']. \n",
      "  curious_george.patch_all(thread=False, select=False)\n"
     ]
    }
   ],
   "source": [
    "import os\n",
    "import time\n",
    "\n",
    "from dotenv import find_dotenv, load_dotenv\n",
    "import requests\n",
    "import grequests\n",
    "import pandas as pd\n",
    "\n",
    "from arg_mine import DATA_DIR\n",
    "from arg_mine.data.loaders import get_gdelt_df\n",
    "from arg_mine.api import classify, auth, session, errors\n",
    "from arg_mine import utils"
   ]
  },
  {
   "cell_type": "code",
   "execution_count": 3,
   "metadata": {},
   "outputs": [],
   "source": [
    "# load the env variables to get the API key\n",
    "user_id, api_key = auth.load_auth_tokens()\n",
    "\n",
    "topic = \"climate change\""
   ]
  },
  {
   "cell_type": "code",
   "execution_count": 4,
   "metadata": {},
   "outputs": [
    {
     "data": {
      "text/html": [
       "<div>\n",
       "<style scoped>\n",
       "    .dataframe tbody tr th:only-of-type {\n",
       "        vertical-align: middle;\n",
       "    }\n",
       "\n",
       "    .dataframe tbody tr th {\n",
       "        vertical-align: top;\n",
       "    }\n",
       "\n",
       "    .dataframe thead th {\n",
       "        text-align: right;\n",
       "    }\n",
       "</style>\n",
       "<table border=\"1\" class=\"dataframe\">\n",
       "  <thead>\n",
       "    <tr style=\"text-align: right;\">\n",
       "      <th></th>\n",
       "      <th>datetime</th>\n",
       "      <th>title</th>\n",
       "      <th>headline_image_url</th>\n",
       "      <th>content_url</th>\n",
       "      <th>snippit</th>\n",
       "      <th>timestamp</th>\n",
       "    </tr>\n",
       "  </thead>\n",
       "  <tbody>\n",
       "    <tr>\n",
       "      <th>0</th>\n",
       "      <td>20200115111500</td>\n",
       "      <td>Liberal MPs back Science Minister Karen Andrew...</td>\n",
       "      <td>https://static.ffx.io/images/$zoom_0.2627%2C$m...</td>\n",
       "      <td>https://www.smh.com.au/politics/federal/libera...</td>\n",
       "      <td>the science in her interview with The Age and...</td>\n",
       "      <td>2020-01-15 11:15:00</td>\n",
       "    </tr>\n",
       "    <tr>\n",
       "      <th>1</th>\n",
       "      <td>20200117184500</td>\n",
       "      <td>Several crowd-pullers on day two of KLF</td>\n",
       "      <td>https://www.thehindu.com/news/cities/kozhikode...</td>\n",
       "      <td>https://www.thehindu.com/news/cities/kozhikode...</td>\n",
       "      <td>Guha, who talked about patriotism and jingois...</td>\n",
       "      <td>2020-01-17 18:45:00</td>\n",
       "    </tr>\n",
       "    <tr>\n",
       "      <th>2</th>\n",
       "      <td>20200106233000</td>\n",
       "      <td>Seven arrested after gas rig protest</td>\n",
       "      <td>https://www.stourbridgenews.co.uk/resources/im...</td>\n",
       "      <td>https://www.stourbridgenews.co.uk/news/nationa...</td>\n",
       "      <td>three demands for the Scottish and UK Governm...</td>\n",
       "      <td>2020-01-06 23:30:00</td>\n",
       "    </tr>\n",
       "    <tr>\n",
       "      <th>3</th>\n",
       "      <td>20200101111500</td>\n",
       "      <td>Australia sending aid to wildfire towns as dea...</td>\n",
       "      <td>https://bloximages.newyork1.vip.townnews.com/h...</td>\n",
       "      <td>https://www.heraldmailmedia.com/news/nation/au...</td>\n",
       "      <td>this season the worst on record and reignited ...</td>\n",
       "      <td>2020-01-01 11:15:00</td>\n",
       "    </tr>\n",
       "    <tr>\n",
       "      <th>4</th>\n",
       "      <td>20200107101500</td>\n",
       "      <td>A hot, dry country caught between fire and a c...</td>\n",
       "      <td>NaN</td>\n",
       "      <td>http://global.chinadaily.com.cn/a/202001/07/WS...</td>\n",
       "      <td>, which is burned to generate electricity, wit...</td>\n",
       "      <td>2020-01-07 10:15:00</td>\n",
       "    </tr>\n",
       "  </tbody>\n",
       "</table>\n",
       "</div>"
      ],
      "text/plain": [
       "         datetime                                              title  \\\n",
       "0  20200115111500  Liberal MPs back Science Minister Karen Andrew...   \n",
       "1  20200117184500            Several crowd-pullers on day two of KLF   \n",
       "2  20200106233000               Seven arrested after gas rig protest   \n",
       "3  20200101111500  Australia sending aid to wildfire towns as dea...   \n",
       "4  20200107101500  A hot, dry country caught between fire and a c...   \n",
       "\n",
       "                                  headline_image_url  \\\n",
       "0  https://static.ffx.io/images/$zoom_0.2627%2C$m...   \n",
       "1  https://www.thehindu.com/news/cities/kozhikode...   \n",
       "2  https://www.stourbridgenews.co.uk/resources/im...   \n",
       "3  https://bloximages.newyork1.vip.townnews.com/h...   \n",
       "4                                                NaN   \n",
       "\n",
       "                                         content_url  \\\n",
       "0  https://www.smh.com.au/politics/federal/libera...   \n",
       "1  https://www.thehindu.com/news/cities/kozhikode...   \n",
       "2  https://www.stourbridgenews.co.uk/news/nationa...   \n",
       "3  https://www.heraldmailmedia.com/news/nation/au...   \n",
       "4  http://global.chinadaily.com.cn/a/202001/07/WS...   \n",
       "\n",
       "                                             snippit           timestamp  \n",
       "0   the science in her interview with The Age and... 2020-01-15 11:15:00  \n",
       "1   Guha, who talked about patriotism and jingois... 2020-01-17 18:45:00  \n",
       "2   three demands for the Scottish and UK Governm... 2020-01-06 23:30:00  \n",
       "3  this season the worst on record and reignited ... 2020-01-01 11:15:00  \n",
       "4  , which is burned to generate electricity, wit... 2020-01-07 10:15:00  "
      ]
     },
     "execution_count": 4,
     "metadata": {},
     "output_type": "execute_result"
    }
   ],
   "source": [
    "csv_datapath = os.path.join(DATA_DIR, \"raw\", \"2020-climate-change-narrative\")\n",
    "csv_filepath = os.path.join(csv_datapath, \"WebNewsEnglishSnippets.2020.csv\")\n",
    "\n",
    "url_df = get_gdelt_df(csv_filepath)\n",
    "url_df.head()"
   ]
  },
  {
   "cell_type": "markdown",
   "metadata": {},
   "source": [
    "## Collect data for unit tests\n",
    "Using tools in the package, run queries that give known responses, and save those responses as json fixtures for unit tests"
   ]
  },
  {
   "cell_type": "code",
   "execution_count": 5,
   "metadata": {},
   "outputs": [],
   "source": [
    "import pkg_resources\n",
    "import json\n",
    "from tests.fixtures import save_json_request_fixture, load_json_fixture\n",
    "import logging\n",
    "\n",
    "logger = logging.basicConfig()\n",
    "\n",
    "SAVE_FIXTURES = False"
   ]
  },
  {
   "cell_type": "code",
   "execution_count": 6,
   "metadata": {},
   "outputs": [],
   "source": [
    "url  = url_df.content_url.values[0]\n",
    "payload = {\n",
    "    \"topic\": topic,\n",
    "    \"userID\": user_id,\n",
    "    \"apiKey\": api_key,\n",
    "    \"targetUrl\": url,\n",
    "    \"model\": \"default\",\n",
    "    \"topicRelevance\": classify.TopicRelevance.WORD2VEC,\n",
    "    \"predictStance\": True,  # we don't want to predict stance without context\n",
    "    \"computeAttention\": False,  # doesnt work for BERT-based models (the default model)\n",
    "    \"showOnlyArguments\": True,  # only return sentences classified as arguments\n",
    "    \"userMetadata\": url,\n",
    "}\n",
    "\n",
    "result = session.fetch(session.ApiUrl.CLASSIFY_BASE_URL, payload)"
   ]
  },
  {
   "cell_type": "code",
   "execution_count": 7,
   "metadata": {},
   "outputs": [
    {
     "data": {
      "text/plain": [
       "dict_keys(['metadata', 'sentences'])"
      ]
     },
     "execution_count": 7,
     "metadata": {},
     "output_type": "execute_result"
    }
   ],
   "source": [
    "result.keys()"
   ]
  },
  {
   "cell_type": "code",
   "execution_count": 8,
   "metadata": {},
   "outputs": [],
   "source": [
    "if SAVE_FIXTURES:\n",
    "    save_json_request_fixture(\"response_classify_only_args.json\", payload, result, status_code=200, drop_keys=['apiKey'])"
   ]
  },
  {
   "cell_type": "markdown",
   "metadata": {},
   "source": [
    "### known bad article request, gives 404 on server"
   ]
  },
  {
   "cell_type": "code",
   "execution_count": 9,
   "metadata": {},
   "outputs": [
    {
     "name": "stdout",
     "output_type": "stream",
     "text": [
      "https://www.heraldmailmedia.com/news/nation/australia-sending-aid-to-wildfire-towns-as-death-toll-rises/article_883fa793-6c0a-547e-8f77-b5964f1d7182.html\n"
     ]
    },
    {
     "name": "stderr",
     "output_type": "stream",
     "text": [
      "ERROR:arg_mine.api.session:400 : {'error': 'Website could not be crawled or returned an empty result. Please contact an administrator.'}\n"
     ]
    },
    {
     "name": "stdout",
     "output_type": "stream",
     "text": [
      "None\n",
      "Refused: 400: Website could not be crawled or returned an empty result. Please contact an administrator.\n"
     ]
    }
   ],
   "source": [
    "# this url gives a known 404 on the article server\n",
    "url = url_df.content_url.values[3]\n",
    "result = None\n",
    "print(url)\n",
    "payload = {\n",
    "    \"topic\": topic,\n",
    "    \"userID\": user_id,\n",
    "    \"apiKey\": api_key,\n",
    "    \"targetUrl\": url,\n",
    "    \"model\": \"default\",\n",
    "    \"topicRelevance\": classify.TopicRelevance.WORD2VEC,\n",
    "    \"predictStance\": True,  # we don't want to predict stance without context\n",
    "    \"computeAttention\": False,  # doesnt work for BERT-based models (the default model)\n",
    "    \"showOnlyArguments\": True,  # only return sentences classified as arguments\n",
    "    \"userMetadata\": url,\n",
    "}\n",
    "\n",
    "try: \n",
    "    result = session.fetch(session.ApiUrl.CLASSIFY_BASE_URL, payload)\n",
    "except errors.Refused as e:\n",
    "    print(result)\n",
    "    print(e)"
   ]
  },
  {
   "cell_type": "code",
   "execution_count": 10,
   "metadata": {},
   "outputs": [
    {
     "name": "stdout",
     "output_type": "stream",
     "text": [
      "{'error': 'Website could not be crawled or returned an empty result. Please contact an administrator.'}\n"
     ]
    }
   ],
   "source": [
    "response = requests.post(session.ApiUrl.CLASSIFY_BASE_URL, json=payload)\n",
    "print(response.json())\n",
    "error_response = response.json()\n",
    "if SAVE_FIXTURES:\n",
    "    save_json_request_fixture(\"response_classify_refused_remote_404.json\", payload, error_response, status_code=400, drop_keys=['apiKey'])"
   ]
  },
  {
   "cell_type": "markdown",
   "metadata": {},
   "source": [
    "### Bad parameters test"
   ]
  },
  {
   "cell_type": "code",
   "execution_count": 12,
   "metadata": {},
   "outputs": [
    {
     "name": "stdout",
     "output_type": "stream",
     "text": [
      "https://www.smh.com.au/politics/federal/liberals-speak-out-to-back-science-minister-on-climate-change-action-20200115-p53rs1.html\n"
     ]
    },
    {
     "name": "stderr",
     "output_type": "stream",
     "text": [
      "ERROR:arg_mine.api.session:400 : {'error': 'Model \"i_am_a_ bad_model\" does not exist. Please refer to the documentation and choose another model.'}\n"
     ]
    },
    {
     "name": "stdout",
     "output_type": "stream",
     "text": [
      "None\n",
      "ArgumenTextGatewayError: 400: Model \"i_am_a_ bad_model\" does not exist. Please refer to the documentation and choose another model.\n"
     ]
    }
   ],
   "source": [
    "# good url\n",
    "url = url_df.content_url.values[0]\n",
    "result = None\n",
    "print(url)\n",
    "payload = {\n",
    "    \"topic\": topic,\n",
    "    \"userID\": user_id,\n",
    "    \"apiKey\": api_key,\n",
    "    \"targetUrl\": url,\n",
    "    \"model\": \"i_am_a_ bad_model\",\n",
    "    \"userMetadata\": url,\n",
    "}\n",
    "try:\n",
    "    result = session.fetch(session.ApiUrl.CLASSIFY_BASE_URL, payload)\n",
    "except errors.ArgumenTextGatewayError as e:\n",
    "    print(result)\n",
    "    print(e)"
   ]
  },
  {
   "cell_type": "code",
   "execution_count": 13,
   "metadata": {},
   "outputs": [],
   "source": [
    "response = requests.post(session.ApiUrl.CLASSIFY_BASE_URL, json=payload)\n",
    "if SAVE_FIXTURES:\n",
    "    save_json_request_fixture(\"response_classify_500_bad_payload.json\", payload, \"\", status_code=response.status_code, drop_keys=['apiKey'])"
   ]
  },
  {
   "cell_type": "markdown",
   "metadata": {},
   "source": [
    "### timeout test"
   ]
  },
  {
   "cell_type": "code",
   "execution_count": 14,
   "metadata": {},
   "outputs": [
    {
     "name": "stdout",
     "output_type": "stream",
     "text": [
      "https://www.smh.com.au/politics/federal/liberals-speak-out-to-back-science-minister-on-climate-change-action-20200115-p53rs1.html\n",
      "None\n",
      "Server not responding, ConnectionError or Timeout (0.1 s)\n"
     ]
    }
   ],
   "source": [
    "url = url_df.content_url.values[0]\n",
    "result = None\n",
    "print(url)\n",
    "payload = {\n",
    "    \"topic\": topic,\n",
    "    \"userID\": user_id,\n",
    "    \"apiKey\": api_key,\n",
    "    \"targetUrl\": url,\n",
    "    \"model\": \"default\",\n",
    "    \"topicRelevance\": classify.TopicRelevance.WORD2VEC,\n",
    "    \"predictStance\": True,  # we don't want to predict stance without context\n",
    "    \"computeAttention\": False,  # doesnt work for BERT-based models (the default model)\n",
    "    \"showOnlyArguments\": True,  # only return sentences classified as arguments\n",
    "    \"userMetadata\": url,\n",
    "}\n",
    "try:\n",
    "    result = session.fetch(session.ApiUrl.CLASSIFY_BASE_URL, payload, timeout=0.1)\n",
    "except errors.NotResponding as e:\n",
    "    print(result)\n",
    "    print(e)"
   ]
  },
  {
   "cell_type": "code",
   "execution_count": 15,
   "metadata": {},
   "outputs": [
    {
     "name": "stdout",
     "output_type": "stream",
     "text": [
      "HTTPSConnectionPool(host='api.argumentsearch.com', port=443): Max retries exceeded with url: /en/classify (Caused by ConnectTimeoutError(<urllib3.connection.HTTPSConnection object at 0x7ff8613e1190>, 'Connection to api.argumentsearch.com timed out. (connect timeout=0.1)'))\n"
     ]
    }
   ],
   "source": [
    "try:\n",
    "    response = requests.post(session.ApiUrl.CLASSIFY_BASE_URL, json=payload, timeout=0.1)\n",
    "except requests.Timeout as e:\n",
    "    print(e)"
   ]
  },
  {
   "cell_type": "code",
   "execution_count": null,
   "metadata": {},
   "outputs": [],
   "source": []
  },
  {
   "cell_type": "code",
   "execution_count": null,
   "metadata": {},
   "outputs": [],
   "source": []
  },
  {
   "cell_type": "code",
   "execution_count": null,
   "metadata": {},
   "outputs": [],
   "source": []
  }
 ],
 "metadata": {
  "kernelspec": {
   "display_name": "Python 3",
   "language": "python",
   "name": "python3"
  },
  "language_info": {
   "codemirror_mode": {
    "name": "ipython",
    "version": 3
   },
   "file_extension": ".py",
   "mimetype": "text/x-python",
   "name": "python",
   "nbconvert_exporter": "python",
   "pygments_lexer": "ipython3",
   "version": "3.8.3"
  }
 },
 "nbformat": 4,
 "nbformat_minor": 4
}
