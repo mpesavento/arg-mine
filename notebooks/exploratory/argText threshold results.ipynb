{
 "cells": [
  {
   "cell_type": "markdown",
   "metadata": {},
   "source": [
    "# ArgText results - Threshold exploration\n",
    "\n",
    "Mike Pesavento  \n",
    "started: 2020.07.27  \n",
    "\n",
    "\n",
    "What happens when we change the threshold on the ArgText output?  \n",
    "How does that change the results and accuracy of how we measure the model?   \n",
    "Is having a lower threshold worth having more false positives on the arguments, at benefit of having more data?\n",
    "\n",
    "In this exploration, I'm going to look at what happens when we change the \"soft arguments\" that I had labeled as `2` into an \"is argument, labeled as a `1`. I will also look at different sentences that are added to the \"is argument\" set as we decrease the threshold, seeing how the quality of arguments may or may not change."
   ]
  },
  {
   "cell_type": "code",
   "execution_count": 1,
   "metadata": {},
   "outputs": [],
   "source": [
    "# reload local package definitions for each cell\n",
    "%load_ext autoreload\n",
    "%autoreload 2"
   ]
  },
  {
   "cell_type": "code",
   "execution_count": 18,
   "metadata": {},
   "outputs": [],
   "source": [
    "import os\n",
    "import time\n",
    "import itertools\n",
    "\n",
    "import numpy as np\n",
    "import pandas as pd\n",
    "import matplotlib.pyplot as plt\n",
    "import seaborn as sns\n",
    "\n",
    "from sklearn.metrics import confusion_matrix, roc_curve, auc, precision_recall_curve\n",
    "\n",
    "from arg_mine import DATA_DIR, FIGURES_DIR\n",
    "from arg_mine.data import loaders, labelers\n",
    "from arg_mine.api import classify, auth, session, errors\n",
    "from arg_mine.visualization.plot_utils import make_confusion_matrix, make_roc_curve, make_precision_recall_curve\n",
    "from arg_mine import utils\n",
    "from arg_mine.metrics import summary_stats\n",
    "\n",
    "\n",
    "SEED = 12345\n",
    "\n",
    "sns.set_style(\"whitegrid\")"
   ]
  },
  {
   "cell_type": "markdown",
   "metadata": {},
   "source": [
    "## Load the reviewed data"
   ]
  },
  {
   "cell_type": "code",
   "execution_count": 6,
   "metadata": {},
   "outputs": [
    {
     "name": "stderr",
     "output_type": "stream",
     "text": [
      "INFO:2020-07-27 22:26:53,351:arg_mine.data.loaders: reading data from: /opt/workspace/data/processed/gdelt-climate-change-docs/gdelt_2020_docs_docs0-999.csv\n",
      "INFO:2020-07-27 22:26:53,371:arg_mine.data.loaders: reading data from: /opt/workspace/data/processed/gdelt-climate-change-docs/gdelt_2020_sentences_docs0-999.csv\n"
     ]
    },
    {
     "name": "stdout",
     "output_type": "stream",
     "text": [
      "data load took 0.0 s\n"
     ]
    }
   ],
   "source": [
    "# load all sentences to get an estimate of argument percentages\n",
    "start_time = time.time()\n",
    "data_processed_project = \"gdelt-climate-change-docs\"\n",
    "base_path = os.path.join(DATA_DIR, \"processed\", data_processed_project)\n",
    "docs_df = loaders.load_processed_csv(\"gdelt_2020_docs_docs0-999.csv\", data_processed_project)\n",
    "\n",
    "print(\"data load took {:0.1f} s\".format(time.time() - start_time))\n",
    "\n",
    "sentences_full_df = loaders.load_processed_csv(\"gdelt_2020_sentences_docs0-999.csv\", data_processed_project, drop_nan_cols='sentence_original')"
   ]
  },
  {
   "cell_type": "code",
   "execution_count": 7,
   "metadata": {},
   "outputs": [
    {
     "name": "stdout",
     "output_type": "stream",
     "text": [
      "no argument    24701\n",
      "argument        6750\n",
      "Name: argument_label, dtype: int64\n",
      "\n",
      "Total # of sentences: 31451\n",
      "no argument    0.78538\n",
      "argument       0.21462\n",
      "Name: argument_label, dtype: float64\n"
     ]
    }
   ],
   "source": [
    "# set the class percentages to define the natural sample rate\n",
    "arg_label_counts = sentences_full_df.argument_label.value_counts()\n",
    "print(arg_label_counts)\n",
    "print(\"\\nTotal # of sentences: {}\".format( sentences_full_df.shape[0]))\n",
    "class_pct = arg_label_counts / sentences_full_df.shape[0]\n",
    "print(class_pct)\n"
   ]
  },
  {
   "cell_type": "code",
   "execution_count": 13,
   "metadata": {},
   "outputs": [],
   "source": [
    "# load the reviewed data\n",
    "review_output_filename = \"argtext_sentences_manual_review_1k_reviewed600.csv\"\n",
    "review_output_filename = os.path.join(DATA_DIR, \"interim\", review_output_filename)\n",
    "\n",
    "reviewed_sent_df = pd.read_csv(review_output_filename)\n",
    "reviewed_sent_df.dropna(inplace=True)\n",
    "\n",
    "\n",
    "# create binary labels from manual labeling\n",
    "# One set will have the \"fuzzy\" 2 label as \"arg\", the other will have it as \"not arg\"\n",
    "# Compare the scores\n",
    "\n",
    "# convert has arg to binary label\n",
    "reviewed_sent_df[\"label\"] = (reviewed_sent_df.has_argument >=1).astype(int)\n",
    "reviewed_sent_df[\"label_nofuzz\"] = (reviewed_sent_df.has_argument == 1).astype(int)"
   ]
  },
  {
   "cell_type": "code",
   "execution_count": null,
   "metadata": {},
   "outputs": [],
   "source": []
  },
  {
   "cell_type": "code",
   "execution_count": 17,
   "metadata": {},
   "outputs": [
    {
     "data": {
      "text/html": [
       "<div>\n",
       "<style scoped>\n",
       "    .dataframe tbody tr th:only-of-type {\n",
       "        vertical-align: middle;\n",
       "    }\n",
       "\n",
       "    .dataframe tbody tr th {\n",
       "        vertical-align: top;\n",
       "    }\n",
       "\n",
       "    .dataframe thead th {\n",
       "        text-align: right;\n",
       "    }\n",
       "</style>\n",
       "<table border=\"1\" class=\"dataframe\">\n",
       "  <thead>\n",
       "    <tr style=\"text-align: right;\">\n",
       "      <th></th>\n",
       "      <th>accuracy</th>\n",
       "      <th>precision</th>\n",
       "      <th>recall</th>\n",
       "      <th>f1_score</th>\n",
       "      <th>roc_auc</th>\n",
       "      <th>threshold</th>\n",
       "    </tr>\n",
       "  </thead>\n",
       "  <tbody>\n",
       "    <tr>\n",
       "      <th>natural classes, 2-&gt;1</th>\n",
       "      <td>0.872483</td>\n",
       "      <td>0.675676</td>\n",
       "      <td>0.781250</td>\n",
       "      <td>0.724638</td>\n",
       "      <td>0.917869</td>\n",
       "      <td>0.5</td>\n",
       "    </tr>\n",
       "    <tr>\n",
       "      <th>natural classes, 2-&gt;0</th>\n",
       "      <td>0.869128</td>\n",
       "      <td>0.608108</td>\n",
       "      <td>0.818182</td>\n",
       "      <td>0.697674</td>\n",
       "      <td>0.908642</td>\n",
       "      <td>0.5</td>\n",
       "    </tr>\n",
       "  </tbody>\n",
       "</table>\n",
       "</div>"
      ],
      "text/plain": [
       "                       accuracy  precision    recall  f1_score   roc_auc  \\\n",
       "natural classes, 2->1  0.872483   0.675676  0.781250  0.724638  0.917869   \n",
       "natural classes, 2->0  0.869128   0.608108  0.818182  0.697674  0.908642   \n",
       "\n",
       "                       threshold  \n",
       "natural classes, 2->1        0.5  \n",
       "natural classes, 2->0        0.5  "
      ]
     },
     "execution_count": 17,
     "metadata": {},
     "output_type": "execute_result"
    }
   ],
   "source": [
    "# sample based on presumed ground truth labels, NOT the prediction\n",
    "\n",
    "negative_samples = reviewed_sent_df.loc[reviewed_sent_df[\"label\"] == 0]\n",
    "n_negative = negative_samples.shape[0]\n",
    "# TODO: simplify this math? There should be an easier formula than (nneg/pct_neg - nneg). nneg*(1/pct_neg - 1)?\n",
    "n_positive = np.round(n_negative/class_pct['no argument'] - n_negative).astype(int)\n",
    "total_samples = np.round(n_negative / class_pct['no argument']).astype(int)\n",
    "positive_samples = reviewed_sent_df.loc[reviewed_sent_df[\"label\"] == 1].sample(n=n_positive)\n",
    "reviewed_natural_df = pd.concat([negative_samples, positive_samples]).sample(frac=1).reset_index(drop=True)\n",
    "\n",
    "y_model = reviewed_natural_df.is_arg.astype(int)\n",
    "y_model_conf = reviewed_natural_df.argument_confidence\n",
    "y_label = reviewed_natural_df.label.astype(int)\n",
    "y_label_nofuzz = reviewed_natural_df.label_nofuzz.astype(int)\n",
    "\n",
    "stats_natural_fuzz = summary_stats(y_label, y_model, y_model_conf, name=\"natural classes, 2->1\")\n",
    "stats_natural_fuzz.at[\"natural classes, 2->1\", \"threshold\"] = 0.5\n",
    "\n",
    "stats_natural_nofuzz = summary_stats(y_label_nofuzz, y_model, y_model_conf, name=\"natural classes, 2->0\")\n",
    "stats_natural_nofuzz.at[\"natural classes, 2->0\", \"threshold\"] = 0.5\n",
    "\n",
    "\n",
    "stats_natural_df = pd.concat([stats_natural_fuzz, stats_natural_nofuzz])\n",
    "stats_natural_df"
   ]
  },
  {
   "cell_type": "markdown",
   "metadata": {},
   "source": [
    "Based on this quick evaluation, we should explore coarse changes in threshold between including the fuzz as an argument vs not.  \n",
    "\n",
    "Having all fuzzy arguments included (2->1) increases the precision significantly, with a minor decrease in recall. This translates to the model selecting fewer false positives (higher precision) but selects fewer true positives (lower recall)."
   ]
  },
  {
   "cell_type": "code",
   "execution_count": null,
   "metadata": {},
   "outputs": [],
   "source": []
  },
  {
   "cell_type": "markdown",
   "metadata": {},
   "source": [
    "## Examine thresholds on fuzzy vs not fuzzy\n",
    "\n",
    "Let's start by looking at 3 thresholds to see the effects of including the fuzzy arguments (`2` on the label) vs not.\n",
    "\n",
    "`has fuzz` means that we include all 2s as part of the positive labels  \n",
    "`no fuzz` means that all 2s are part of the negative labels. This matches the output from the original accuracy validation study.\n",
    "\n"
   ]
  },
  {
   "cell_type": "code",
   "execution_count": 32,
   "metadata": {},
   "outputs": [
    {
     "data": {
      "text/html": [
       "<div>\n",
       "<style scoped>\n",
       "    .dataframe tbody tr th:only-of-type {\n",
       "        vertical-align: middle;\n",
       "    }\n",
       "\n",
       "    .dataframe tbody tr th {\n",
       "        vertical-align: top;\n",
       "    }\n",
       "\n",
       "    .dataframe thead th {\n",
       "        text-align: right;\n",
       "    }\n",
       "</style>\n",
       "<table border=\"1\" class=\"dataframe\">\n",
       "  <thead>\n",
       "    <tr style=\"text-align: right;\">\n",
       "      <th></th>\n",
       "      <th>accuracy</th>\n",
       "      <th>precision</th>\n",
       "      <th>recall</th>\n",
       "      <th>f1_score</th>\n",
       "      <th>roc_auc</th>\n",
       "      <th>threshold</th>\n",
       "      <th>fuzz_state</th>\n",
       "    </tr>\n",
       "  </thead>\n",
       "  <tbody>\n",
       "    <tr>\n",
       "      <th>has fuzz, t=0.1</th>\n",
       "      <td>0.848993</td>\n",
       "      <td>0.606742</td>\n",
       "      <td>0.843750</td>\n",
       "      <td>0.705882</td>\n",
       "      <td>0.917869</td>\n",
       "      <td>0.10</td>\n",
       "      <td>has fuzz</td>\n",
       "    </tr>\n",
       "    <tr>\n",
       "      <th>has fuzz, t=0.25</th>\n",
       "      <td>0.862416</td>\n",
       "      <td>0.638554</td>\n",
       "      <td>0.828125</td>\n",
       "      <td>0.721088</td>\n",
       "      <td>0.917869</td>\n",
       "      <td>0.25</td>\n",
       "      <td>has fuzz</td>\n",
       "    </tr>\n",
       "    <tr>\n",
       "      <th>has fuzz, t=0.5</th>\n",
       "      <td>0.872483</td>\n",
       "      <td>0.675676</td>\n",
       "      <td>0.781250</td>\n",
       "      <td>0.724638</td>\n",
       "      <td>0.917869</td>\n",
       "      <td>0.50</td>\n",
       "      <td>has fuzz</td>\n",
       "    </tr>\n",
       "    <tr>\n",
       "      <th>has fuzz, t=0.75</th>\n",
       "      <td>0.885906</td>\n",
       "      <td>0.767857</td>\n",
       "      <td>0.671875</td>\n",
       "      <td>0.716667</td>\n",
       "      <td>0.917869</td>\n",
       "      <td>0.75</td>\n",
       "      <td>has fuzz</td>\n",
       "    </tr>\n",
       "    <tr>\n",
       "      <th>has fuzz, t=0.9</th>\n",
       "      <td>0.875839</td>\n",
       "      <td>0.800000</td>\n",
       "      <td>0.562500</td>\n",
       "      <td>0.660550</td>\n",
       "      <td>0.917869</td>\n",
       "      <td>0.90</td>\n",
       "      <td>has fuzz</td>\n",
       "    </tr>\n",
       "    <tr>\n",
       "      <th>no fuzz, t=0.1</th>\n",
       "      <td>0.832215</td>\n",
       "      <td>0.528090</td>\n",
       "      <td>0.854545</td>\n",
       "      <td>0.652778</td>\n",
       "      <td>0.908642</td>\n",
       "      <td>0.10</td>\n",
       "      <td>no fuzz</td>\n",
       "    </tr>\n",
       "    <tr>\n",
       "      <th>no fuzz, t=0.25</th>\n",
       "      <td>0.845638</td>\n",
       "      <td>0.554217</td>\n",
       "      <td>0.836364</td>\n",
       "      <td>0.666667</td>\n",
       "      <td>0.908642</td>\n",
       "      <td>0.25</td>\n",
       "      <td>no fuzz</td>\n",
       "    </tr>\n",
       "    <tr>\n",
       "      <th>no fuzz, t=0.5</th>\n",
       "      <td>0.869128</td>\n",
       "      <td>0.608108</td>\n",
       "      <td>0.818182</td>\n",
       "      <td>0.697674</td>\n",
       "      <td>0.908642</td>\n",
       "      <td>0.50</td>\n",
       "      <td>no fuzz</td>\n",
       "    </tr>\n",
       "    <tr>\n",
       "      <th>no fuzz, t=0.75</th>\n",
       "      <td>0.882550</td>\n",
       "      <td>0.678571</td>\n",
       "      <td>0.690909</td>\n",
       "      <td>0.684685</td>\n",
       "      <td>0.908642</td>\n",
       "      <td>0.75</td>\n",
       "      <td>no fuzz</td>\n",
       "    </tr>\n",
       "    <tr>\n",
       "      <th>no fuzz, t=0.9</th>\n",
       "      <td>0.879195</td>\n",
       "      <td>0.711111</td>\n",
       "      <td>0.581818</td>\n",
       "      <td>0.640000</td>\n",
       "      <td>0.908642</td>\n",
       "      <td>0.90</td>\n",
       "      <td>no fuzz</td>\n",
       "    </tr>\n",
       "  </tbody>\n",
       "</table>\n",
       "</div>"
      ],
      "text/plain": [
       "                  accuracy  precision    recall  f1_score   roc_auc  \\\n",
       "has fuzz, t=0.1   0.848993   0.606742  0.843750  0.705882  0.917869   \n",
       "has fuzz, t=0.25  0.862416   0.638554  0.828125  0.721088  0.917869   \n",
       "has fuzz, t=0.5   0.872483   0.675676  0.781250  0.724638  0.917869   \n",
       "has fuzz, t=0.75  0.885906   0.767857  0.671875  0.716667  0.917869   \n",
       "has fuzz, t=0.9   0.875839   0.800000  0.562500  0.660550  0.917869   \n",
       "no fuzz, t=0.1    0.832215   0.528090  0.854545  0.652778  0.908642   \n",
       "no fuzz, t=0.25   0.845638   0.554217  0.836364  0.666667  0.908642   \n",
       "no fuzz, t=0.5    0.869128   0.608108  0.818182  0.697674  0.908642   \n",
       "no fuzz, t=0.75   0.882550   0.678571  0.690909  0.684685  0.908642   \n",
       "no fuzz, t=0.9    0.879195   0.711111  0.581818  0.640000  0.908642   \n",
       "\n",
       "                  threshold fuzz_state  \n",
       "has fuzz, t=0.1        0.10   has fuzz  \n",
       "has fuzz, t=0.25       0.25   has fuzz  \n",
       "has fuzz, t=0.5        0.50   has fuzz  \n",
       "has fuzz, t=0.75       0.75   has fuzz  \n",
       "has fuzz, t=0.9        0.90   has fuzz  \n",
       "no fuzz, t=0.1         0.10    no fuzz  \n",
       "no fuzz, t=0.25        0.25    no fuzz  \n",
       "no fuzz, t=0.5         0.50    no fuzz  \n",
       "no fuzz, t=0.75        0.75    no fuzz  \n",
       "no fuzz, t=0.9         0.90    no fuzz  "
      ]
     },
     "execution_count": 32,
     "metadata": {},
     "output_type": "execute_result"
    }
   ],
   "source": [
    "# add different thresholds for the natural distribution\n",
    "\n",
    "thresholds = [0.1, 0.25, 0.5, 0.75, 0.9]\n",
    "thresh_stats = []\n",
    "y_thresh_out = {}\n",
    "label_type = [\"has fuzz\", \"no fuzz\"]\n",
    "for fuzz_state, thresh in itertools.product(label_type, thresholds):\n",
    "    y_thresh_out[thresh] = (y_model_conf > thresh).astype(int)\n",
    "    name = \"{}, t={}\".format(fuzz_state, thresh)\n",
    "    label = y_label if fuzz_state == \"has fuzz\" else y_label_nofuzz\n",
    "    tmp = summary_stats(label, y_thresh_out[thresh], y_model_conf, name=name)\n",
    "    tmp.at[name, \"threshold\"] = thresh\n",
    "    tmp.at[name, \"fuzz_state\"] = fuzz_state\n",
    "    thresh_stats.append(tmp)\n",
    "    \n",
    "    \n",
    "    \n",
    "thresh_stats_df = pd.concat(thresh_stats, axis=0)\n",
    "thresh_stats_df"
   ]
  },
  {
   "cell_type": "code",
   "execution_count": 33,
   "metadata": {},
   "outputs": [
    {
     "data": {
      "image/png": "[encoded data removed]",
      "text/plain": [
       "<Figure size 576x432 with 1 Axes>"
      ]
     },
     "metadata": {},
     "output_type": "display_data"
    }
   ],
   "source": [
    "# higher is better for all of these metrics\n",
    "# thresh_stats_df.drop([\"threshold\", \"fuzz_state\"], axis=1).T.plot.bar(figsize=(8,6))\n",
    "thresh_stats_df[['precision', 'recall']].T.plot.bar(figsize=(8,6))\n",
    "plt.legend(loc='center left', bbox_to_anchor=(1.0, 0.5))\n",
    "_ = plt.title(\"Natural dataset summary statistics, varying thresholds\")\n",
    "\n",
    "plt.savefig(os.path.join(FIGURES_DIR, \"argtext_validation_382sentence_natural_summary_stats_fuzz.png\"), bbox_inches='tight')"
   ]
  },
  {
   "cell_type": "markdown",
   "metadata": {},
   "source": [
    "The results suggest that having all of the \"fuzzy\" arguments classified as arguments yields better precision without much change in recall. This is good, cause the model wants to classify all arguments as arguments, independent of the requested topic."
   ]
  },
  {
   "cell_type": "code",
   "execution_count": null,
   "metadata": {},
   "outputs": [],
   "source": []
  },
  {
   "cell_type": "code",
   "execution_count": null,
   "metadata": {},
   "outputs": [],
   "source": []
  },
  {
   "cell_type": "code",
   "execution_count": null,
   "metadata": {},
   "outputs": [],
   "source": []
  },
  {
   "cell_type": "code",
   "execution_count": null,
   "metadata": {},
   "outputs": [],
   "source": []
  },
  {
   "cell_type": "code",
   "execution_count": null,
   "metadata": {},
   "outputs": [],
   "source": []
  },
  {
   "cell_type": "code",
   "execution_count": 11,
   "metadata": {},
   "outputs": [
    {
     "data": {
      "text/plain": [
       "0      0.0\n",
       "1      1.0\n",
       "2      0.0\n",
       "3      2.0\n",
       "4      2.0\n",
       "      ... \n",
       "597    0.0\n",
       "598    1.0\n",
       "599    1.0\n",
       "600    0.0\n",
       "601    1.0\n",
       "Name: has_argument, Length: 602, dtype: float64"
      ]
     },
     "execution_count": 11,
     "metadata": {},
     "output_type": "execute_result"
    }
   ],
   "source": [
    "reviewed_sent_df.has_argument"
   ]
  },
  {
   "cell_type": "code",
   "execution_count": null,
   "metadata": {},
   "outputs": [],
   "source": []
  }
 ],
 "metadata": {
  "kernelspec": {
   "display_name": "Python 3",
   "language": "python",
   "name": "python3"
  },
  "language_info": {
   "codemirror_mode": {
    "name": "ipython",
    "version": 3
   },
   "file_extension": ".py",
   "mimetype": "text/x-python",
   "name": "python",
   "nbconvert_exporter": "python",
   "pygments_lexer": "ipython3",
   "version": "3.8.3"
  }
 },
 "nbformat": 4,
 "nbformat_minor": 4
}
