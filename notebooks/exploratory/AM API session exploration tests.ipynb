{
 "cells": [
  {
   "cell_type": "markdown",
   "metadata": {},
   "source": [
    "# Argument Mining API query testing\n",
    "\n",
    "Load the target datafile, and see how the query results work"
   ]
  },
  {
   "cell_type": "code",
   "execution_count": 1,
   "metadata": {},
   "outputs": [],
   "source": [
    "# reload local package definitions for each cell\n",
    "%load_ext autoreload\n",
    "%autoreload 2"
   ]
  },
  {
   "cell_type": "code",
   "execution_count": 2,
   "metadata": {},
   "outputs": [
    {
     "name": "stderr",
     "output_type": "stream",
     "text": [
      "/usr/local/lib/python3.8/site-packages/grequests.py:22: MonkeyPatchWarning: Monkey-patching ssl after ssl has already been imported may lead to errors, including RecursionError on Python 3.6. It may also silently lead to incorrect behaviour on Python 3.7. Please monkey-patch earlier. See https://github.com/gevent/gevent/issues/1016. Modules that had direct imports (NOT patched): ['urllib3.contrib.pyopenssl (/usr/local/lib/python3.8/site-packages/urllib3/contrib/pyopenssl.py)']. \n",
      "  curious_george.patch_all(thread=False, select=False)\n"
     ]
    }
   ],
   "source": [
    "import os\n",
    "import time\n",
    "\n",
    "from dotenv import find_dotenv, load_dotenv\n",
    "import requests\n",
    "import grequests\n",
    "import numpy as np\n",
    "import pandas as pd\n",
    "import json\n",
    "\n",
    "from arg_mine import DATA_DIR\n",
    "from arg_mine.api import classify, auth, session, errors\n",
    "from arg_mine import utils\n",
    "from arg_mine.data import labelers, loaders"
   ]
  },
  {
   "cell_type": "code",
   "execution_count": 3,
   "metadata": {},
   "outputs": [],
   "source": [
    "# load the env variables to get the API key\n",
    "user_id, api_key = auth.load_auth_tokens()"
   ]
  },
  {
   "cell_type": "code",
   "execution_count": 4,
   "metadata": {},
   "outputs": [
    {
     "name": "stderr",
     "output_type": "stream",
     "text": [
      "INFO:2020-07-09 04:34:19,481:arg_mine.data.loaders: reading data from: /opt/workspace/data/raw/2020-climate-change-narrative/WebNewsEnglishSnippets.2020.csv\n"
     ]
    },
    {
     "data": {
      "text/html": [
       "<div>\n",
       "<style scoped>\n",
       "    .dataframe tbody tr th:only-of-type {\n",
       "        vertical-align: middle;\n",
       "    }\n",
       "\n",
       "    .dataframe tbody tr th {\n",
       "        vertical-align: top;\n",
       "    }\n",
       "\n",
       "    .dataframe thead th {\n",
       "        text-align: right;\n",
       "    }\n",
       "</style>\n",
       "<table border=\"1\" class=\"dataframe\">\n",
       "  <thead>\n",
       "    <tr style=\"text-align: right;\">\n",
       "      <th></th>\n",
       "      <th>datetime</th>\n",
       "      <th>title</th>\n",
       "      <th>headline_image_url</th>\n",
       "      <th>content_url</th>\n",
       "      <th>topic_context</th>\n",
       "      <th>timestamp</th>\n",
       "    </tr>\n",
       "  </thead>\n",
       "  <tbody>\n",
       "    <tr>\n",
       "      <th>0</th>\n",
       "      <td>20200115111500</td>\n",
       "      <td>Liberal MPs back Science Minister Karen Andrew...</td>\n",
       "      <td>https://static.ffx.io/images/$zoom_0.2627%2C$m...</td>\n",
       "      <td>https://www.smh.com.au/politics/federal/libera...</td>\n",
       "      <td>the science in her interview with The Age and...</td>\n",
       "      <td>2020-01-15 11:15:00</td>\n",
       "    </tr>\n",
       "    <tr>\n",
       "      <th>1</th>\n",
       "      <td>20200117184500</td>\n",
       "      <td>Several crowd-pullers on day two of KLF</td>\n",
       "      <td>https://www.thehindu.com/news/cities/kozhikode...</td>\n",
       "      <td>https://www.thehindu.com/news/cities/kozhikode...</td>\n",
       "      <td>Guha, who talked about patriotism and jingois...</td>\n",
       "      <td>2020-01-17 18:45:00</td>\n",
       "    </tr>\n",
       "    <tr>\n",
       "      <th>2</th>\n",
       "      <td>20200106233000</td>\n",
       "      <td>Seven arrested after gas rig protest</td>\n",
       "      <td>https://www.stourbridgenews.co.uk/resources/im...</td>\n",
       "      <td>https://www.stourbridgenews.co.uk/news/nationa...</td>\n",
       "      <td>three demands for the Scottish and UK Governm...</td>\n",
       "      <td>2020-01-06 23:30:00</td>\n",
       "    </tr>\n",
       "    <tr>\n",
       "      <th>3</th>\n",
       "      <td>20200101111500</td>\n",
       "      <td>Australia sending aid to wildfire towns as dea...</td>\n",
       "      <td>https://bloximages.newyork1.vip.townnews.com/h...</td>\n",
       "      <td>https://www.heraldmailmedia.com/news/nation/au...</td>\n",
       "      <td>this season the worst on record and reignited ...</td>\n",
       "      <td>2020-01-01 11:15:00</td>\n",
       "    </tr>\n",
       "    <tr>\n",
       "      <th>4</th>\n",
       "      <td>20200107101500</td>\n",
       "      <td>A hot, dry country caught between fire and a c...</td>\n",
       "      <td>NaN</td>\n",
       "      <td>http://global.chinadaily.com.cn/a/202001/07/WS...</td>\n",
       "      <td>, which is burned to generate electricity, wit...</td>\n",
       "      <td>2020-01-07 10:15:00</td>\n",
       "    </tr>\n",
       "  </tbody>\n",
       "</table>\n",
       "</div>"
      ],
      "text/plain": [
       "         datetime                                              title  \\\n",
       "0  20200115111500  Liberal MPs back Science Minister Karen Andrew...   \n",
       "1  20200117184500            Several crowd-pullers on day two of KLF   \n",
       "2  20200106233000               Seven arrested after gas rig protest   \n",
       "3  20200101111500  Australia sending aid to wildfire towns as dea...   \n",
       "4  20200107101500  A hot, dry country caught between fire and a c...   \n",
       "\n",
       "                                  headline_image_url  \\\n",
       "0  https://static.ffx.io/images/$zoom_0.2627%2C$m...   \n",
       "1  https://www.thehindu.com/news/cities/kozhikode...   \n",
       "2  https://www.stourbridgenews.co.uk/resources/im...   \n",
       "3  https://bloximages.newyork1.vip.townnews.com/h...   \n",
       "4                                                NaN   \n",
       "\n",
       "                                         content_url  \\\n",
       "0  https://www.smh.com.au/politics/federal/libera...   \n",
       "1  https://www.thehindu.com/news/cities/kozhikode...   \n",
       "2  https://www.stourbridgenews.co.uk/news/nationa...   \n",
       "3  https://www.heraldmailmedia.com/news/nation/au...   \n",
       "4  http://global.chinadaily.com.cn/a/202001/07/WS...   \n",
       "\n",
       "                                       topic_context           timestamp  \n",
       "0   the science in her interview with The Age and... 2020-01-15 11:15:00  \n",
       "1   Guha, who talked about patriotism and jingois... 2020-01-17 18:45:00  \n",
       "2   three demands for the Scottish and UK Governm... 2020-01-06 23:30:00  \n",
       "3  this season the worst on record and reignited ... 2020-01-01 11:15:00  \n",
       "4  , which is burned to generate electricity, wit... 2020-01-07 10:15:00  "
      ]
     },
     "execution_count": 4,
     "metadata": {},
     "output_type": "execute_result"
    }
   ],
   "source": [
    "csv_datapath = os.path.join(DATA_DIR, \"raw\", \"2020-climate-change-narrative\")\n",
    "csv_filepath = os.path.join(csv_datapath, \"WebNewsEnglishSnippets.2020.csv\")\n",
    "\n",
    "url_df = loaders.get_gdelt_df(csv_filepath)\n",
    "url_df.head()"
   ]
  },
  {
   "cell_type": "markdown",
   "metadata": {},
   "source": [
    "## Build the `classify` request"
   ]
  },
  {
   "cell_type": "code",
   "execution_count": 5,
   "metadata": {},
   "outputs": [],
   "source": [
    "url = url_df.iloc[0].content_url"
   ]
  },
  {
   "cell_type": "code",
   "execution_count": 6,
   "metadata": {},
   "outputs": [],
   "source": [
    "CLASSIFY_BASE_URL = \"https://api.argumentsearch.com/en/classify\"\n",
    "timeout = 5\n",
    "\n",
    "topic = \"climate change\"\n",
    "\n",
    "\n",
    "payload = {\n",
    "    \"topic\": topic,\n",
    "    \"userID\": user_id,\n",
    "    \"apiKey\": api_key,\n",
    "    \"targetUrl\": url,\n",
    "    \"topicRelevance\": \"word2vec\",\n",
    "    \"predictStance\": True,\n",
    "    \"computeAttention\": True,\n",
    "    \"showOnlyArguments\": False,\n",
    "}\n",
    "\n",
    "response = requests.post(\n",
    "    CLASSIFY_BASE_URL,\n",
    "    json=payload,\n",
    "    timeout=timeout,\n",
    ")\n",
    "response.raise_for_status()"
   ]
  },
  {
   "cell_type": "code",
   "execution_count": 7,
   "metadata": {},
   "outputs": [
    {
     "data": {
      "text/plain": [
       "dict_keys(['metadata', 'sentences'])"
      ]
     },
     "execution_count": 7,
     "metadata": {},
     "output_type": "execute_result"
    }
   ],
   "source": [
    "out = response.json()\n",
    "out.keys()"
   ]
  },
  {
   "cell_type": "code",
   "execution_count": null,
   "metadata": {},
   "outputs": [],
   "source": []
  },
  {
   "cell_type": "markdown",
   "metadata": {},
   "source": [
    "## try a single URL\n",
    "Get the doc and sentence objects"
   ]
  },
  {
   "cell_type": "code",
   "execution_count": 8,
   "metadata": {},
   "outputs": [],
   "source": [
    "response = classify.classify_url_sentences(topic, url_df.content_url.values[0], user_id, api_key)"
   ]
  },
  {
   "cell_type": "code",
   "execution_count": 9,
   "metadata": {},
   "outputs": [
    {
     "data": {
      "text/plain": [
       "ClassifiedSentence(url='https://www.smh.com.au/politics/federal/liberals-speak-out-to-back-science-minister-on-climate-change-action-20200115-p53rs1.html', doc_id='657f9dd95eb97597e34d0c05b5a93ba6', topic='climate change', sentence_id='da903878c62343fb482bfad67a7523f1', argument_confidence=0.9836708698421717, argument_label='argument', sentence_original='Mr Morrison said Ms Andrews had \"well set out\" the government policy and signalled again that he would bring forward future policies to adapt to a changing climate while also doing more to reduce greenhouse gas emissions.', sentence_preprocessed='Mr Morrison said Ms Andrews had \"well set out\" the government policy and signalled again that he would bring forward future policies to adapt to a changing climate while also doing more to reduce greenhouse gas emissions.', sort_confidence=None, stance_confidence=0.9978714715086467, stance_label='pro')"
      ]
     },
     "execution_count": 9,
     "metadata": {},
     "output_type": "execute_result"
    }
   ],
   "source": [
    "classify.ClassifiedSentence.from_dict(url, topic, response['sentences'][0])"
   ]
  },
  {
   "cell_type": "code",
   "execution_count": 10,
   "metadata": {},
   "outputs": [
    {
     "data": {
      "text/plain": [
       "{'argumentConfidence': 0.9836708698421717,\n",
       " 'argumentLabel': 'argument',\n",
       " 'sentenceOriginal': 'Mr Morrison said Ms Andrews had \"well set out\" the government policy and signalled again that he would bring forward future policies to adapt to a changing climate while also doing more to reduce greenhouse gas emissions.',\n",
       " 'sentencePreprocessed': 'Mr Morrison said Ms Andrews had \"well set out\" the government policy and signalled again that he would bring forward future policies to adapt to a changing climate while also doing more to reduce greenhouse gas emissions.',\n",
       " 'stanceConfidence': 0.9978714715086467,\n",
       " 'stanceLabel': 'pro'}"
      ]
     },
     "execution_count": 10,
     "metadata": {},
     "output_type": "execute_result"
    }
   ],
   "source": [
    "response['sentences'][0]"
   ]
  },
  {
   "cell_type": "code",
   "execution_count": 11,
   "metadata": {},
   "outputs": [
    {
     "data": {
      "text/plain": [
       "5"
      ]
     },
     "execution_count": 11,
     "metadata": {},
     "output_type": "execute_result"
    }
   ],
   "source": [
    "len(response['sentences'])"
   ]
  },
  {
   "cell_type": "code",
   "execution_count": 12,
   "metadata": {},
   "outputs": [
    {
     "name": "stdout",
     "output_type": "stream",
     "text": [
      "Refused: 400: Website could not be crawled or returned an empty result. Please contact an administrator.\n"
     ]
    }
   ],
   "source": [
    "# good example of a link that is no longer valid\n",
    "url = url_df.content_url.values[3]\n",
    "try: \n",
    "    response = classify.classify_url_sentences(topic, url, user_id, api_key)\n",
    "except errors.Refused as e:\n",
    "    print(e)"
   ]
  },
  {
   "cell_type": "code",
   "execution_count": null,
   "metadata": {},
   "outputs": [],
   "source": []
  },
  {
   "cell_type": "code",
   "execution_count": null,
   "metadata": {},
   "outputs": [],
   "source": []
  },
  {
   "cell_type": "markdown",
   "metadata": {},
   "source": [
    "## Run a batch of urls"
   ]
  },
  {
   "cell_type": "code",
   "execution_count": 13,
   "metadata": {},
   "outputs": [
    {
     "data": {
      "text/plain": [
       "(108459,)"
      ]
     },
     "execution_count": 13,
     "metadata": {},
     "output_type": "execute_result"
    }
   ],
   "source": [
    "url_df.content_url.shape"
   ]
  },
  {
   "cell_type": "code",
   "execution_count": 14,
   "metadata": {},
   "outputs": [
    {
     "name": "stderr",
     "output_type": "stream",
     "text": [
      "DEBUG:2020-07-09 04:34:26,676:arg_mine.api.classify: Attempting url 1 of 20\n",
      "DEBUG:2020-07-09 04:34:28,331:arg_mine.api.classify: Attempting url 2 of 20\n",
      "DEBUG:2020-07-09 04:34:29,683:arg_mine.api.classify: Attempting url 3 of 20\n",
      "DEBUG:2020-07-09 04:34:31,342:arg_mine.api.classify: Attempting url 4 of 20\n",
      "WARNING:2020-07-09 04:34:31,912:arg_mine.api.classify: Refused: Refused: 400: Website could not be crawled or returned an empty result. Please contact an administrator., url=https://www.heraldmailmedia.com/news/nation/australia-sending-aid-to-wildfire-towns-as-death-toll-rises/article_883fa793-6c0a-547e-8f77-b5964f1d7182.html\n",
      "DEBUG:2020-07-09 04:34:31,914:arg_mine.api.classify: Attempting url 5 of 20\n",
      "DEBUG:2020-07-09 04:34:34,270:arg_mine.api.classify: Attempting url 6 of 20\n",
      "DEBUG:2020-07-09 04:34:36,128:arg_mine.api.classify: Attempting url 7 of 20\n",
      "WARNING:2020-07-09 04:34:36,566:arg_mine.api.classify: Refused: Refused: 400: Website could not be crawled or returned an empty result. Please contact an administrator., url=https://www.seattlepi.com/news/world/article/Cooler-weather-brings-respite-in-Australian-14950114.php\n",
      "DEBUG:2020-07-09 04:34:36,568:arg_mine.api.classify: Attempting url 8 of 20\n",
      "WARNING:2020-07-09 04:34:37,643:arg_mine.api.classify: Refused: Refused: 400: Website could not be crawled or returned an empty result. Please contact an administrator., url=https://www.airdrietoday.com/national-business/starbucks-goals-for-sustainability-will-require-significant-consumer-buy-in-2037947\n",
      "DEBUG:2020-07-09 04:34:37,645:arg_mine.api.classify: Attempting url 9 of 20\n",
      "WARNING:2020-07-09 04:34:38,848:arg_mine.api.classify: Refused: Refused: 400: Website could not be crawled or returned an empty result. Please contact an administrator., url=https://www.heraldbulletin.com/news/nation_world/davos-chief-welcomes-views-of-trump-greta-thunberg-at-forum/article_24dbb151-7132-5c48-a7df-c13b67004ec0.html\n",
      "DEBUG:2020-07-09 04:34:38,849:arg_mine.api.classify: Attempting url 10 of 20\n",
      "DEBUG:2020-07-09 04:34:40,264:arg_mine.api.classify: Attempting url 11 of 20\n",
      "DEBUG:2020-07-09 04:34:41,626:arg_mine.api.classify: Attempting url 12 of 20\n",
      "DEBUG:2020-07-09 04:34:42,728:arg_mine.api.classify: Attempting url 13 of 20\n",
      "DEBUG:2020-07-09 04:34:43,889:arg_mine.api.classify: Attempting url 14 of 20\n",
      "WARNING:2020-07-09 04:34:44,515:arg_mine.api.classify: Refused: Refused: 400: Website could not be crawled or returned an empty result. Please contact an administrator., url=https://ravallirepublic.com/news/local/article_cb291465-d430-5477-8b41-1bedda9beaea.html\n",
      "DEBUG:2020-07-09 04:34:44,517:arg_mine.api.classify: Attempting url 15 of 20\n",
      "WARNING:2020-07-09 04:34:45,661:arg_mine.api.classify: Refused: Refused: 400: Website could not be crawled or returned an empty result. Please contact an administrator., url=https://www.caledonianrecord.com/opinion/columns/shawn-shouldice-small-business-owners-prepare-to-dodge-bullets-during/article_9f1b6399-7ca9-59bc-8788-b4d05ec5825c.html\n",
      "DEBUG:2020-07-09 04:34:45,663:arg_mine.api.classify: Attempting url 16 of 20\n",
      "DEBUG:2020-07-09 04:34:46,980:arg_mine.api.classify: Attempting url 17 of 20\n",
      "WARNING:2020-07-09 04:34:47,733:arg_mine.api.classify: Refused: Refused: 400: Website could not be crawled or returned an empty result. Please contact an administrator., url=https://www.nsnews.com/trudeau-meets-pallister-and-the-meng-hearing-in-the-news-for-jan-20-1.24056357\n",
      "DEBUG:2020-07-09 04:34:47,734:arg_mine.api.classify: Attempting url 18 of 20\n",
      "DEBUG:2020-07-09 04:34:50,162:arg_mine.api.classify: Attempting url 19 of 20\n",
      "DEBUG:2020-07-09 04:34:51,430:arg_mine.api.classify: Attempting url 20 of 20\n"
     ]
    },
    {
     "name": "stdout",
     "output_type": "stream",
     "text": [
      "iteration took 26.9 s\n"
     ]
    }
   ],
   "source": [
    "start_time = time.time()\n",
    "\n",
    "doc_list, sentence_list, refused_doc_list = classify.collect_sentences_by_topic(topic, url_df.content_url.values[:20])\n",
    "\n",
    "print(\"iteration took {:.3} s\".format(time.time() - start_time))"
   ]
  },
  {
   "cell_type": "code",
   "execution_count": 15,
   "metadata": {},
   "outputs": [
    {
     "name": "stdout",
     "output_type": "stream",
     "text": [
      "7\n"
     ]
    },
    {
     "data": {
      "text/plain": [
       "['https://www.heraldmailmedia.com/news/nation/australia-sending-aid-to-wildfire-towns-as-death-toll-rises/article_883fa793-6c0a-547e-8f77-b5964f1d7182.html',\n",
       " 'https://www.seattlepi.com/news/world/article/Cooler-weather-brings-respite-in-Australian-14950114.php',\n",
       " 'https://www.airdrietoday.com/national-business/starbucks-goals-for-sustainability-will-require-significant-consumer-buy-in-2037947',\n",
       " 'https://www.heraldbulletin.com/news/nation_world/davos-chief-welcomes-views-of-trump-greta-thunberg-at-forum/article_24dbb151-7132-5c48-a7df-c13b67004ec0.html',\n",
       " 'https://ravallirepublic.com/news/local/article_cb291465-d430-5477-8b41-1bedda9beaea.html',\n",
       " 'https://www.caledonianrecord.com/opinion/columns/shawn-shouldice-small-business-owners-prepare-to-dodge-bullets-during/article_9f1b6399-7ca9-59bc-8788-b4d05ec5825c.html',\n",
       " 'https://www.nsnews.com/trudeau-meets-pallister-and-the-meng-hearing-in-the-news-for-jan-20-1.24056357']"
      ]
     },
     "execution_count": 15,
     "metadata": {},
     "output_type": "execute_result"
    }
   ],
   "source": [
    "print(len(refused_doc_list))\n",
    "refused_doc_list"
   ]
  },
  {
   "cell_type": "code",
   "execution_count": null,
   "metadata": {},
   "outputs": [],
   "source": []
  },
  {
   "cell_type": "markdown",
   "metadata": {},
   "source": [
    "## try concurrent requests with grequest\n",
    "\n",
    "`grequest` does concurrent threaded requests, but has memory issues for long lists. We can chunk the async requests and write the outputs to storage to avoid this problem."
   ]
  },
  {
   "cell_type": "code",
   "execution_count": 16,
   "metadata": {},
   "outputs": [
    {
     "name": "stderr",
     "output_type": "stream",
     "text": [
      "DEBUG:2020-07-09 04:34:53,692:arg_mine.api.classify: >>>> starting doc extraction\n",
      "DEBUG:2020-07-09 04:35:07,321:arg_mine.api.classify: iteration 0 took 13.627 s (10 docs)\n",
      "DEBUG:2020-07-09 04:35:22,510:arg_mine.api.classify: iteration 1 took 15.188 s (10 docs)\n",
      "DEBUG:2020-07-09 04:35:22,512:arg_mine.api.classify: 20 URLs took 28.820 s\n"
     ]
    }
   ],
   "source": [
    "responses = classify.fetch_concurrent(topic, url_list = url_df.content_url.values[:20], chunk_size=10)"
   ]
  },
  {
   "cell_type": "code",
   "execution_count": 17,
   "metadata": {},
   "outputs": [],
   "source": [
    "docs_df, sentences_df, missing_urls = classify.process_responses(responses)"
   ]
  },
  {
   "cell_type": "code",
   "execution_count": 18,
   "metadata": {},
   "outputs": [
    {
     "data": {
      "text/plain": [
       "(312, 11)"
      ]
     },
     "execution_count": 18,
     "metadata": {},
     "output_type": "execute_result"
    }
   ],
   "source": [
    "sentences_df.shape"
   ]
  },
  {
   "cell_type": "code",
   "execution_count": null,
   "metadata": {},
   "outputs": [],
   "source": []
  },
  {
   "cell_type": "markdown",
   "metadata": {},
   "source": [
    "# Label the sentences as GT arguments\n",
    "The given snippit contains context surrounding the given identified key phrase. Tokenizing the phrase will not work.\n",
    "It is still unclear on whether or not the GT data can be claimed to be an argument; likely not.\n",
    "\n",
    "> This final dataset covers worldwide English language online news coverage 2015-2020 mentioning \"climate change\" OR \"global warming\" OR \"climate crisis\" OR \"greenhouse gas\" OR \"greenhouse gases\" OR \"carbon tax\" totaling 6.3 million articles. [...]  \n",
    ">Most importantly, for each match, a short snippet is shown that shows the first instance of one of the climate change phrases above in the article with the 100 characters before and after the appearance, truncated to the nearest word (if the 100th character before or after the phrase appears in the middle of a word, the window will be shrunk to the closest full word). Note that in the majority of cases the first match in the article is selected, but sometimes due to the nature of the finite automaton used to generate the snippets, a later match may be chosen from the article if it allows for a larger context window under certain circumstances.  \n",
    ">Using a window of 100 characters before and after the match allows for brief non-consumptive snippets that show the context of the match and allow a better understanding of whether the article's mention of climate change was a cursory mention or central to the story and the argument, evidence  and context of the narrative within."
   ]
  },
  {
   "cell_type": "code",
   "execution_count": 19,
   "metadata": {},
   "outputs": [],
   "source": [
    "# load the extracted sentences\n",
    "target_dir = \"gdelt-climate-change-docs\"\n",
    "in_data_path = os.path.join(DATA_DIR, \"processed\", target_dir)\n",
    "\n",
    "docs_filename = \"gdelt_2020_docs_n1000.csv\"\n",
    "sentences_filename = \"gdelt_2020_sentences_n1000.csv\"\n",
    "\n",
    "# load the files into dataframes\n",
    "docs_df = pd.read_csv(os.path.join(in_data_path, docs_filename))\n",
    "sentences_df = pd.read_csv(os.path.join(in_data_path, sentences_filename))\n",
    "sentences_df.dropna(subset=['sentence_original'], inplace=True)"
   ]
  },
  {
   "cell_type": "code",
   "execution_count": null,
   "metadata": {},
   "outputs": [],
   "source": []
  },
  {
   "cell_type": "code",
   "execution_count": null,
   "metadata": {},
   "outputs": [],
   "source": []
  },
  {
   "cell_type": "code",
   "execution_count": 20,
   "metadata": {},
   "outputs": [],
   "source": [
    "# writing this out to use for parsing later\n",
    "keyword_list = [\n",
    "    \"climate change\",\n",
    "    \"global warming\",\n",
    "    \"climate crisis\",\n",
    "    \"greenhouse gas\",\n",
    "    \"greenhouse gases\",\n",
    "    \"carbon tax\"\n",
    "]"
   ]
  },
  {
   "cell_type": "code",
   "execution_count": 21,
   "metadata": {},
   "outputs": [],
   "source": [
    "doc_id = labelers.match_doc_id(url_df.iloc[0]['content_url'], docs_df)\n",
    "doc_sentences = labelers.get_doc_sentences(doc_id, sentences_df)"
   ]
  },
  {
   "cell_type": "code",
   "execution_count": 22,
   "metadata": {},
   "outputs": [
    {
     "data": {
      "text/html": [
       "<div>\n",
       "<style scoped>\n",
       "    .dataframe tbody tr th:only-of-type {\n",
       "        vertical-align: middle;\n",
       "    }\n",
       "\n",
       "    .dataframe tbody tr th {\n",
       "        vertical-align: top;\n",
       "    }\n",
       "\n",
       "    .dataframe thead th {\n",
       "        text-align: right;\n",
       "    }\n",
       "</style>\n",
       "<table border=\"1\" class=\"dataframe\">\n",
       "  <thead>\n",
       "    <tr style=\"text-align: right;\">\n",
       "      <th></th>\n",
       "      <th>datetime</th>\n",
       "      <th>title</th>\n",
       "      <th>headline_image_url</th>\n",
       "      <th>content_url</th>\n",
       "      <th>topic_context</th>\n",
       "      <th>timestamp</th>\n",
       "    </tr>\n",
       "  </thead>\n",
       "  <tbody>\n",
       "    <tr>\n",
       "      <th>0</th>\n",
       "      <td>20200115111500</td>\n",
       "      <td>Liberal MPs back Science Minister Karen Andrew...</td>\n",
       "      <td>https://static.ffx.io/images/$zoom_0.2627%2C$m...</td>\n",
       "      <td>https://www.smh.com.au/politics/federal/libera...</td>\n",
       "      <td>the science in her interview with The Age and...</td>\n",
       "      <td>2020-01-15 11:15:00</td>\n",
       "    </tr>\n",
       "    <tr>\n",
       "      <th>1</th>\n",
       "      <td>20200117184500</td>\n",
       "      <td>Several crowd-pullers on day two of KLF</td>\n",
       "      <td>https://www.thehindu.com/news/cities/kozhikode...</td>\n",
       "      <td>https://www.thehindu.com/news/cities/kozhikode...</td>\n",
       "      <td>Guha, who talked about patriotism and jingois...</td>\n",
       "      <td>2020-01-17 18:45:00</td>\n",
       "    </tr>\n",
       "    <tr>\n",
       "      <th>2</th>\n",
       "      <td>20200106233000</td>\n",
       "      <td>Seven arrested after gas rig protest</td>\n",
       "      <td>https://www.stourbridgenews.co.uk/resources/im...</td>\n",
       "      <td>https://www.stourbridgenews.co.uk/news/nationa...</td>\n",
       "      <td>three demands for the Scottish and UK Governm...</td>\n",
       "      <td>2020-01-06 23:30:00</td>\n",
       "    </tr>\n",
       "    <tr>\n",
       "      <th>3</th>\n",
       "      <td>20200101111500</td>\n",
       "      <td>Australia sending aid to wildfire towns as dea...</td>\n",
       "      <td>https://bloximages.newyork1.vip.townnews.com/h...</td>\n",
       "      <td>https://www.heraldmailmedia.com/news/nation/au...</td>\n",
       "      <td>this season the worst on record and reignited ...</td>\n",
       "      <td>2020-01-01 11:15:00</td>\n",
       "    </tr>\n",
       "    <tr>\n",
       "      <th>4</th>\n",
       "      <td>20200107101500</td>\n",
       "      <td>A hot, dry country caught between fire and a c...</td>\n",
       "      <td>NaN</td>\n",
       "      <td>http://global.chinadaily.com.cn/a/202001/07/WS...</td>\n",
       "      <td>, which is burned to generate electricity, wit...</td>\n",
       "      <td>2020-01-07 10:15:00</td>\n",
       "    </tr>\n",
       "  </tbody>\n",
       "</table>\n",
       "</div>"
      ],
      "text/plain": [
       "         datetime                                              title  \\\n",
       "0  20200115111500  Liberal MPs back Science Minister Karen Andrew...   \n",
       "1  20200117184500            Several crowd-pullers on day two of KLF   \n",
       "2  20200106233000               Seven arrested after gas rig protest   \n",
       "3  20200101111500  Australia sending aid to wildfire towns as dea...   \n",
       "4  20200107101500  A hot, dry country caught between fire and a c...   \n",
       "\n",
       "                                  headline_image_url  \\\n",
       "0  https://static.ffx.io/images/$zoom_0.2627%2C$m...   \n",
       "1  https://www.thehindu.com/news/cities/kozhikode...   \n",
       "2  https://www.stourbridgenews.co.uk/resources/im...   \n",
       "3  https://bloximages.newyork1.vip.townnews.com/h...   \n",
       "4                                                NaN   \n",
       "\n",
       "                                         content_url  \\\n",
       "0  https://www.smh.com.au/politics/federal/libera...   \n",
       "1  https://www.thehindu.com/news/cities/kozhikode...   \n",
       "2  https://www.stourbridgenews.co.uk/news/nationa...   \n",
       "3  https://www.heraldmailmedia.com/news/nation/au...   \n",
       "4  http://global.chinadaily.com.cn/a/202001/07/WS...   \n",
       "\n",
       "                                       topic_context           timestamp  \n",
       "0   the science in her interview with The Age and... 2020-01-15 11:15:00  \n",
       "1   Guha, who talked about patriotism and jingois... 2020-01-17 18:45:00  \n",
       "2   three demands for the Scottish and UK Governm... 2020-01-06 23:30:00  \n",
       "3  this season the worst on record and reignited ... 2020-01-01 11:15:00  \n",
       "4  , which is burned to generate electricity, wit... 2020-01-07 10:15:00  "
      ]
     },
     "execution_count": 22,
     "metadata": {},
     "output_type": "execute_result"
    }
   ],
   "source": [
    "url_df.head()"
   ]
  },
  {
   "cell_type": "code",
   "execution_count": 23,
   "metadata": {},
   "outputs": [
    {
     "name": "stdout",
     "output_type": "stream",
     "text": [
      "10    4a2fcf5b4ca0e45bcae7fcc6af5e2cd6\n",
      "Name: sentence_id, dtype: object\n",
      "11    9eac4f301da33af0eaf7e5a4b1a5c759\n",
      "Name: sentence_id, dtype: object\n",
      "12    e3496a47bcad630aea1f078b5202cd43\n",
      "Name: sentence_id, dtype: object\n"
     ]
    }
   ],
   "source": [
    "# manually try the labeling algorithm:\n",
    "\n",
    "sentences_df['has_labeled_arg'] = False\n",
    "\n",
    "sentences_df.columns\n",
    "\n",
    "\n",
    "content_url = url_df.iloc[0]\n",
    "snippit = url_df['topic_context'][0]\n",
    "doc_id = labelers.match_doc_id(content_url['content_url'], docs_df)\n",
    "doc_sentences = labelers.get_doc_sentences(doc_id, sentences_df)\n",
    "\n",
    "# tokenize the GT argument\n",
    "arg_tokens = snippit.split(\".\") if isinstance(snippit, str) else None\n",
    "arg_tokens = [s.strip() for s in arg_tokens]\n",
    "\n",
    "for token in arg_tokens:\n",
    "    matches = doc_sentences[doc_sentences.sentence_original.str.contains(token, na=False)]['sentence_id']\n",
    "    print(matches)\n",
    "    # only look at the first match\n",
    "    sentences_df.loc[sentences_df['sentence_id'] == matches.values[0], 'has_labeled_arg'] = True"
   ]
  },
  {
   "cell_type": "code",
   "execution_count": 24,
   "metadata": {},
   "outputs": [
    {
     "data": {
      "text/plain": [
       "'\"Australians want us to get on with the job of meeting our'"
      ]
     },
     "execution_count": 24,
     "metadata": {},
     "output_type": "execute_result"
    }
   ],
   "source": [
    "token"
   ]
  },
  {
   "cell_type": "code",
   "execution_count": 25,
   "metadata": {},
   "outputs": [
    {
     "data": {
      "text/plain": [
       "0     False\n",
       "1     False\n",
       "2     False\n",
       "3     False\n",
       "4     False\n",
       "5     False\n",
       "6     False\n",
       "7     False\n",
       "8     False\n",
       "9     False\n",
       "10     True\n",
       "11     True\n",
       "12     True\n",
       "13    False\n",
       "14    False\n",
       "15    False\n",
       "16    False\n",
       "17    False\n",
       "18    False\n",
       "19    False\n",
       "20    False\n",
       "21    False\n",
       "22    False\n",
       "23    False\n",
       "24    False\n",
       "25    False\n",
       "26    False\n",
       "27    False\n",
       "28    False\n",
       "29    False\n",
       "30    False\n",
       "31    False\n",
       "32    False\n",
       "33    False\n",
       "34    False\n",
       "35    False\n",
       "36    False\n",
       "Name: has_labeled_arg, dtype: bool"
      ]
     },
     "execution_count": 25,
     "metadata": {},
     "output_type": "execute_result"
    }
   ],
   "source": [
    "sentences_df.loc[sentences_df.doc_id == doc_id]['has_labeled_arg']"
   ]
  },
  {
   "cell_type": "code",
   "execution_count": 26,
   "metadata": {},
   "outputs": [],
   "source": [
    "url_df_crop = url_df[url_df['content_url'].isin(docs_df.url.values)]"
   ]
  },
  {
   "cell_type": "code",
   "execution_count": 27,
   "metadata": {},
   "outputs": [
    {
     "data": {
      "text/html": [
       "<div>\n",
       "<style scoped>\n",
       "    .dataframe tbody tr th:only-of-type {\n",
       "        vertical-align: middle;\n",
       "    }\n",
       "\n",
       "    .dataframe tbody tr th {\n",
       "        vertical-align: top;\n",
       "    }\n",
       "\n",
       "    .dataframe thead th {\n",
       "        text-align: right;\n",
       "    }\n",
       "</style>\n",
       "<table border=\"1\" class=\"dataframe\">\n",
       "  <thead>\n",
       "    <tr style=\"text-align: right;\">\n",
       "      <th></th>\n",
       "      <th>url</th>\n",
       "      <th>doc_id</th>\n",
       "      <th>topic</th>\n",
       "      <th>sentence_id</th>\n",
       "      <th>argument_confidence</th>\n",
       "      <th>argument_label</th>\n",
       "      <th>sentence_original</th>\n",
       "      <th>sentence_preprocessed</th>\n",
       "      <th>sort_confidence</th>\n",
       "      <th>stance_confidence</th>\n",
       "      <th>stance_label</th>\n",
       "      <th>has_labeled_arg</th>\n",
       "    </tr>\n",
       "  </thead>\n",
       "  <tbody>\n",
       "    <tr>\n",
       "      <th>0</th>\n",
       "      <td>https://www.smh.com.au/politics/federal/libera...</td>\n",
       "      <td>657f9dd95eb97597e34d0c05b5a93ba6</td>\n",
       "      <td>climate change</td>\n",
       "      <td>869465292decf0d6a241c72742397f7a</td>\n",
       "      <td>0.004798</td>\n",
       "      <td>no argument</td>\n",
       "      <td>Liberals speak out to back Science Minister on...</td>\n",
       "      <td>Liberals speak out to back Science Minister on...</td>\n",
       "      <td>NaN</td>\n",
       "      <td>0.000000</td>\n",
       "      <td>NaN</td>\n",
       "      <td>False</td>\n",
       "    </tr>\n",
       "    <tr>\n",
       "      <th>1</th>\n",
       "      <td>https://www.smh.com.au/politics/federal/libera...</td>\n",
       "      <td>657f9dd95eb97597e34d0c05b5a93ba6</td>\n",
       "      <td>climate change</td>\n",
       "      <td>c05ac4a4bd407c85710ca74f05b3fe91</td>\n",
       "      <td>0.028969</td>\n",
       "      <td>no argument</td>\n",
       "      <td>Liberal backbenchers have stepped up calls for...</td>\n",
       "      <td>Liberal backbenchers have stepped up calls for...</td>\n",
       "      <td>NaN</td>\n",
       "      <td>0.000000</td>\n",
       "      <td>NaN</td>\n",
       "      <td>False</td>\n",
       "    </tr>\n",
       "    <tr>\n",
       "      <th>2</th>\n",
       "      <td>https://www.smh.com.au/politics/federal/libera...</td>\n",
       "      <td>657f9dd95eb97597e34d0c05b5a93ba6</td>\n",
       "      <td>climate change</td>\n",
       "      <td>80819a7cf88de4b13b9969a7c7ada4d5</td>\n",
       "      <td>0.061553</td>\n",
       "      <td>no argument</td>\n",
       "      <td>The vocal support counters a smaller group of ...</td>\n",
       "      <td>The vocal support counters a smaller group of ...</td>\n",
       "      <td>NaN</td>\n",
       "      <td>0.000000</td>\n",
       "      <td>NaN</td>\n",
       "      <td>False</td>\n",
       "    </tr>\n",
       "    <tr>\n",
       "      <th>3</th>\n",
       "      <td>https://www.smh.com.au/politics/federal/libera...</td>\n",
       "      <td>657f9dd95eb97597e34d0c05b5a93ba6</td>\n",
       "      <td>climate change</td>\n",
       "      <td>1957469b4190ddce406a6e0359a36086</td>\n",
       "      <td>0.010571</td>\n",
       "      <td>no argument</td>\n",
       "      <td>Liberal MPs are speaking out about the need fo...</td>\n",
       "      <td>Liberal MPs are speaking out about the need fo...</td>\n",
       "      <td>NaN</td>\n",
       "      <td>0.000000</td>\n",
       "      <td>NaN</td>\n",
       "      <td>False</td>\n",
       "    </tr>\n",
       "    <tr>\n",
       "      <th>4</th>\n",
       "      <td>https://www.smh.com.au/politics/federal/libera...</td>\n",
       "      <td>657f9dd95eb97597e34d0c05b5a93ba6</td>\n",
       "      <td>climate change</td>\n",
       "      <td>da903878c62343fb482bfad67a7523f1</td>\n",
       "      <td>0.983671</td>\n",
       "      <td>argument</td>\n",
       "      <td>Mr Morrison said Ms Andrews had \"well set out\"...</td>\n",
       "      <td>Mr Morrison said Ms Andrews had \"well set out\"...</td>\n",
       "      <td>NaN</td>\n",
       "      <td>0.997871</td>\n",
       "      <td>pro</td>\n",
       "      <td>False</td>\n",
       "    </tr>\n",
       "    <tr>\n",
       "      <th>...</th>\n",
       "      <td>...</td>\n",
       "      <td>...</td>\n",
       "      <td>...</td>\n",
       "      <td>...</td>\n",
       "      <td>...</td>\n",
       "      <td>...</td>\n",
       "      <td>...</td>\n",
       "      <td>...</td>\n",
       "      <td>...</td>\n",
       "      <td>...</td>\n",
       "      <td>...</td>\n",
       "      <td>...</td>\n",
       "    </tr>\n",
       "    <tr>\n",
       "      <th>31429</th>\n",
       "      <td>http://www.terradaily.com/afp/200122185236.7b9...</td>\n",
       "      <td>9e9c7cd2ec9e0a16afb31198eec12e81</td>\n",
       "      <td>climate change</td>\n",
       "      <td>eef99c4932bfe46e71fa656019c0c55c</td>\n",
       "      <td>0.004049</td>\n",
       "      <td>no argument</td>\n",
       "      <td>PepsiCo said it could elaborate on the announc...</td>\n",
       "      <td>PepsiCo said it could elaborate on the announc...</td>\n",
       "      <td>NaN</td>\n",
       "      <td>0.000000</td>\n",
       "      <td>NaN</td>\n",
       "      <td>False</td>\n",
       "    </tr>\n",
       "    <tr>\n",
       "      <th>31430</th>\n",
       "      <td>http://www.terradaily.com/afp/200122185236.7b9...</td>\n",
       "      <td>9e9c7cd2ec9e0a16afb31198eec12e81</td>\n",
       "      <td>climate change</td>\n",
       "      <td>1efc109bdddbb6e51e9b69cc0a1b0701</td>\n",
       "      <td>0.004422</td>\n",
       "      <td>no argument</td>\n",
       "      <td>All rights reserved.</td>\n",
       "      <td>All rights reserved.</td>\n",
       "      <td>NaN</td>\n",
       "      <td>0.000000</td>\n",
       "      <td>NaN</td>\n",
       "      <td>False</td>\n",
       "    </tr>\n",
       "    <tr>\n",
       "      <th>31431</th>\n",
       "      <td>http://www.terradaily.com/afp/200122185236.7b9...</td>\n",
       "      <td>9e9c7cd2ec9e0a16afb31198eec12e81</td>\n",
       "      <td>climate change</td>\n",
       "      <td>9d1bcdb2ed3c0816aa1c6e167ed1a246</td>\n",
       "      <td>0.003629</td>\n",
       "      <td>no argument</td>\n",
       "      <td>copyright 2018 Agence France-Presse.</td>\n",
       "      <td>copyright 2018 Agence France-Presse.</td>\n",
       "      <td>NaN</td>\n",
       "      <td>0.000000</td>\n",
       "      <td>NaN</td>\n",
       "      <td>False</td>\n",
       "    </tr>\n",
       "    <tr>\n",
       "      <th>31432</th>\n",
       "      <td>http://www.terradaily.com/afp/200122185236.7b9...</td>\n",
       "      <td>9e9c7cd2ec9e0a16afb31198eec12e81</td>\n",
       "      <td>climate change</td>\n",
       "      <td>074fb03ed4cb76dd4f79c9870460644d</td>\n",
       "      <td>0.004962</td>\n",
       "      <td>no argument</td>\n",
       "      <td>Sections of the information displayed on this ...</td>\n",
       "      <td>Sections of the information displayed on this ...</td>\n",
       "      <td>NaN</td>\n",
       "      <td>0.000000</td>\n",
       "      <td>NaN</td>\n",
       "      <td>False</td>\n",
       "    </tr>\n",
       "    <tr>\n",
       "      <th>31433</th>\n",
       "      <td>http://www.terradaily.com/afp/200122185236.7b9...</td>\n",
       "      <td>9e9c7cd2ec9e0a16afb31198eec12e81</td>\n",
       "      <td>climate change</td>\n",
       "      <td>c43678fd41d6f997d0c7d3e2ee757249</td>\n",
       "      <td>0.020318</td>\n",
       "      <td>no argument</td>\n",
       "      <td>As a consequence, you may not copy, reproduce,...</td>\n",
       "      <td>As a consequence, you may not copy, reproduce,...</td>\n",
       "      <td>NaN</td>\n",
       "      <td>0.000000</td>\n",
       "      <td>NaN</td>\n",
       "      <td>False</td>\n",
       "    </tr>\n",
       "  </tbody>\n",
       "</table>\n",
       "<p>31433 rows × 12 columns</p>\n",
       "</div>"
      ],
      "text/plain": [
       "                                                     url  \\\n",
       "0      https://www.smh.com.au/politics/federal/libera...   \n",
       "1      https://www.smh.com.au/politics/federal/libera...   \n",
       "2      https://www.smh.com.au/politics/federal/libera...   \n",
       "3      https://www.smh.com.au/politics/federal/libera...   \n",
       "4      https://www.smh.com.au/politics/federal/libera...   \n",
       "...                                                  ...   \n",
       "31429  http://www.terradaily.com/afp/200122185236.7b9...   \n",
       "31430  http://www.terradaily.com/afp/200122185236.7b9...   \n",
       "31431  http://www.terradaily.com/afp/200122185236.7b9...   \n",
       "31432  http://www.terradaily.com/afp/200122185236.7b9...   \n",
       "31433  http://www.terradaily.com/afp/200122185236.7b9...   \n",
       "\n",
       "                                 doc_id           topic  \\\n",
       "0      657f9dd95eb97597e34d0c05b5a93ba6  climate change   \n",
       "1      657f9dd95eb97597e34d0c05b5a93ba6  climate change   \n",
       "2      657f9dd95eb97597e34d0c05b5a93ba6  climate change   \n",
       "3      657f9dd95eb97597e34d0c05b5a93ba6  climate change   \n",
       "4      657f9dd95eb97597e34d0c05b5a93ba6  climate change   \n",
       "...                                 ...             ...   \n",
       "31429  9e9c7cd2ec9e0a16afb31198eec12e81  climate change   \n",
       "31430  9e9c7cd2ec9e0a16afb31198eec12e81  climate change   \n",
       "31431  9e9c7cd2ec9e0a16afb31198eec12e81  climate change   \n",
       "31432  9e9c7cd2ec9e0a16afb31198eec12e81  climate change   \n",
       "31433  9e9c7cd2ec9e0a16afb31198eec12e81  climate change   \n",
       "\n",
       "                            sentence_id  argument_confidence argument_label  \\\n",
       "0      869465292decf0d6a241c72742397f7a             0.004798    no argument   \n",
       "1      c05ac4a4bd407c85710ca74f05b3fe91             0.028969    no argument   \n",
       "2      80819a7cf88de4b13b9969a7c7ada4d5             0.061553    no argument   \n",
       "3      1957469b4190ddce406a6e0359a36086             0.010571    no argument   \n",
       "4      da903878c62343fb482bfad67a7523f1             0.983671       argument   \n",
       "...                                 ...                  ...            ...   \n",
       "31429  eef99c4932bfe46e71fa656019c0c55c             0.004049    no argument   \n",
       "31430  1efc109bdddbb6e51e9b69cc0a1b0701             0.004422    no argument   \n",
       "31431  9d1bcdb2ed3c0816aa1c6e167ed1a246             0.003629    no argument   \n",
       "31432  074fb03ed4cb76dd4f79c9870460644d             0.004962    no argument   \n",
       "31433  c43678fd41d6f997d0c7d3e2ee757249             0.020318    no argument   \n",
       "\n",
       "                                       sentence_original  \\\n",
       "0      Liberals speak out to back Science Minister on...   \n",
       "1      Liberal backbenchers have stepped up calls for...   \n",
       "2      The vocal support counters a smaller group of ...   \n",
       "3      Liberal MPs are speaking out about the need fo...   \n",
       "4      Mr Morrison said Ms Andrews had \"well set out\"...   \n",
       "...                                                  ...   \n",
       "31429  PepsiCo said it could elaborate on the announc...   \n",
       "31430                               All rights reserved.   \n",
       "31431               copyright 2018 Agence France-Presse.   \n",
       "31432  Sections of the information displayed on this ...   \n",
       "31433  As a consequence, you may not copy, reproduce,...   \n",
       "\n",
       "                                   sentence_preprocessed  sort_confidence  \\\n",
       "0      Liberals speak out to back Science Minister on...              NaN   \n",
       "1      Liberal backbenchers have stepped up calls for...              NaN   \n",
       "2      The vocal support counters a smaller group of ...              NaN   \n",
       "3      Liberal MPs are speaking out about the need fo...              NaN   \n",
       "4      Mr Morrison said Ms Andrews had \"well set out\"...              NaN   \n",
       "...                                                  ...              ...   \n",
       "31429  PepsiCo said it could elaborate on the announc...              NaN   \n",
       "31430                               All rights reserved.              NaN   \n",
       "31431               copyright 2018 Agence France-Presse.              NaN   \n",
       "31432  Sections of the information displayed on this ...              NaN   \n",
       "31433  As a consequence, you may not copy, reproduce,...              NaN   \n",
       "\n",
       "       stance_confidence stance_label  has_labeled_arg  \n",
       "0               0.000000          NaN            False  \n",
       "1               0.000000          NaN            False  \n",
       "2               0.000000          NaN            False  \n",
       "3               0.000000          NaN            False  \n",
       "4               0.997871          pro            False  \n",
       "...                  ...          ...              ...  \n",
       "31429           0.000000          NaN            False  \n",
       "31430           0.000000          NaN            False  \n",
       "31431           0.000000          NaN            False  \n",
       "31432           0.000000          NaN            False  \n",
       "31433           0.000000          NaN            False  \n",
       "\n",
       "[31433 rows x 12 columns]"
      ]
     },
     "execution_count": 27,
     "metadata": {},
     "output_type": "execute_result"
    }
   ],
   "source": [
    "labelers.label_doc_sentences_with_context(url_df_crop.iloc[0], docs_df, sentences_df)"
   ]
  },
  {
   "cell_type": "code",
   "execution_count": 28,
   "metadata": {},
   "outputs": [
    {
     "data": {
      "text/plain": [
       "'716931eb57b75ab7161622f9e2d03f6d'"
      ]
     },
     "execution_count": 28,
     "metadata": {},
     "output_type": "execute_result"
    }
   ],
   "source": [
    "doc_hash = utils.unique_hash(\"https://www.theglobeandmail.com/featured-reports/article-whats-the-right-university-for-you/\")\n",
    "doc_hash"
   ]
  },
  {
   "cell_type": "code",
   "execution_count": 29,
   "metadata": {},
   "outputs": [
    {
     "data": {
      "text/html": [
       "<div>\n",
       "<style scoped>\n",
       "    .dataframe tbody tr th:only-of-type {\n",
       "        vertical-align: middle;\n",
       "    }\n",
       "\n",
       "    .dataframe tbody tr th {\n",
       "        vertical-align: top;\n",
       "    }\n",
       "\n",
       "    .dataframe thead th {\n",
       "        text-align: right;\n",
       "    }\n",
       "</style>\n",
       "<table border=\"1\" class=\"dataframe\">\n",
       "  <thead>\n",
       "    <tr style=\"text-align: right;\">\n",
       "      <th></th>\n",
       "      <th>doc_id</th>\n",
       "      <th>url</th>\n",
       "      <th>topic</th>\n",
       "      <th>model_version</th>\n",
       "      <th>language</th>\n",
       "      <th>time_argument_prediction</th>\n",
       "      <th>time_attention_computation</th>\n",
       "      <th>time_preprocessing</th>\n",
       "      <th>time_stance_prediction</th>\n",
       "      <th>time_logging</th>\n",
       "      <th>time_total</th>\n",
       "      <th>total_arguments</th>\n",
       "      <th>total_contra_arguments</th>\n",
       "      <th>total_pro_arguments</th>\n",
       "      <th>total_non_arguments</th>\n",
       "      <th>total_classified_sentences</th>\n",
       "    </tr>\n",
       "  </thead>\n",
       "  <tbody>\n",
       "    <tr>\n",
       "      <th>39</th>\n",
       "      <td>716931eb57b75ab7161622f9e2d03f6d</td>\n",
       "      <td>https://www.theglobeandmail.com/featured-repor...</td>\n",
       "      <td>climate change</td>\n",
       "      <td>0.1</td>\n",
       "      <td>en</td>\n",
       "      <td>7.527666</td>\n",
       "      <td>-1</td>\n",
       "      <td>0.000358</td>\n",
       "      <td>-1</td>\n",
       "      <td>0.07955</td>\n",
       "      <td>8.555593</td>\n",
       "      <td>2</td>\n",
       "      <td>0</td>\n",
       "      <td>2</td>\n",
       "      <td>641</td>\n",
       "      <td>643</td>\n",
       "    </tr>\n",
       "  </tbody>\n",
       "</table>\n",
       "</div>"
      ],
      "text/plain": [
       "                              doc_id  \\\n",
       "39  716931eb57b75ab7161622f9e2d03f6d   \n",
       "\n",
       "                                                  url           topic  \\\n",
       "39  https://www.theglobeandmail.com/featured-repor...  climate change   \n",
       "\n",
       "    model_version language  time_argument_prediction  \\\n",
       "39            0.1       en                  7.527666   \n",
       "\n",
       "    time_attention_computation  time_preprocessing  time_stance_prediction  \\\n",
       "39                          -1            0.000358                      -1   \n",
       "\n",
       "    time_logging  time_total  total_arguments  total_contra_arguments  \\\n",
       "39       0.07955    8.555593                2                       0   \n",
       "\n",
       "    total_pro_arguments  total_non_arguments  total_classified_sentences  \n",
       "39                    2                  641                         643  "
      ]
     },
     "execution_count": 29,
     "metadata": {},
     "output_type": "execute_result"
    }
   ],
   "source": [
    "docs_df[docs_df.doc_id == doc_hash]"
   ]
  },
  {
   "cell_type": "code",
   "execution_count": null,
   "metadata": {},
   "outputs": [],
   "source": []
  },
  {
   "cell_type": "code",
   "execution_count": 30,
   "metadata": {},
   "outputs": [
    {
     "data": {
      "text/plain": [
       "1409    The Globe and Mail’s 2020 Canadian University ...\n",
       "1410    For incoming students, choosing a postsecondar...\n",
       "1411    What are you really looking to get out of your...\n",
       "1412    Do you want to go to a bigger campus across th...\n",
       "1413    Whether you’re looking to prioritize the stude...\n",
       "                              ...                        \n",
       "2047    If you want to write a letter to the editor, p...\n",
       "2048    Welcome to The Globe and Mail’s comment commun...\n",
       "2049    This is a space where subscribers can engage w...\n",
       "2050    Non-subscribers can read and sort comments but...\n",
       "2051                             Click here to subscribe.\n",
       "Name: sentence_original, Length: 642, dtype: object"
      ]
     },
     "execution_count": 30,
     "metadata": {},
     "output_type": "execute_result"
    }
   ],
   "source": [
    "labelers.get_doc_sentences(doc_hash, sentences_df)['sentence_original']"
   ]
  },
  {
   "cell_type": "code",
   "execution_count": null,
   "metadata": {},
   "outputs": [],
   "source": []
  },
  {
   "cell_type": "code",
   "execution_count": 31,
   "metadata": {},
   "outputs": [
    {
     "data": {
      "text/plain": [
       "0"
      ]
     },
     "execution_count": 31,
     "metadata": {},
     "output_type": "execute_result"
    }
   ],
   "source": [
    "doc_sentences.sentence_original.isna().sum()"
   ]
  },
  {
   "cell_type": "code",
   "execution_count": null,
   "metadata": {},
   "outputs": [],
   "source": []
  },
  {
   "cell_type": "code",
   "execution_count": 32,
   "metadata": {},
   "outputs": [
    {
     "data": {
      "text/html": [
       "<div>\n",
       "<style scoped>\n",
       "    .dataframe tbody tr th:only-of-type {\n",
       "        vertical-align: middle;\n",
       "    }\n",
       "\n",
       "    .dataframe tbody tr th {\n",
       "        vertical-align: top;\n",
       "    }\n",
       "\n",
       "    .dataframe thead th {\n",
       "        text-align: right;\n",
       "    }\n",
       "</style>\n",
       "<table border=\"1\" class=\"dataframe\">\n",
       "  <thead>\n",
       "    <tr style=\"text-align: right;\">\n",
       "      <th></th>\n",
       "      <th>datetime</th>\n",
       "      <th>title</th>\n",
       "      <th>headline_image_url</th>\n",
       "      <th>content_url</th>\n",
       "      <th>topic_context</th>\n",
       "      <th>timestamp</th>\n",
       "    </tr>\n",
       "  </thead>\n",
       "  <tbody>\n",
       "    <tr>\n",
       "      <th>120</th>\n",
       "      <td>20200116010000</td>\n",
       "      <td>Thailand mobile app to boost reporting of huma...</td>\n",
       "      <td>https://499ioen9wh92k2blb3elevg9-wpengine.netd...</td>\n",
       "      <td>https://www.nyoooz.com/features/technology/tha...</td>\n",
       "      <td>NaN</td>\n",
       "      <td>2020-01-16 01:00:00</td>\n",
       "    </tr>\n",
       "    <tr>\n",
       "      <th>226</th>\n",
       "      <td>20200108131500</td>\n",
       "      <td>Why women are ditching their razor during Janu...</td>\n",
       "      <td>https://www.swindonadvertiser.co.uk/resources/...</td>\n",
       "      <td>https://www.swindonadvertiser.co.uk/news/18143...</td>\n",
       "      <td>NaN</td>\n",
       "      <td>2020-01-08 13:15:00</td>\n",
       "    </tr>\n",
       "    <tr>\n",
       "      <th>355</th>\n",
       "      <td>20200122093000</td>\n",
       "      <td>A new UN report warns that the current energy ...</td>\n",
       "      <td>https://assets.weforum.org/editor/RE1MItbJmvtJ...</td>\n",
       "      <td>https://www.weforum.org/agenda/2020/01/this-ch...</td>\n",
       "      <td>NaN</td>\n",
       "      <td>2020-01-22 09:30:00</td>\n",
       "    </tr>\n",
       "    <tr>\n",
       "      <th>498</th>\n",
       "      <td>20200119033000</td>\n",
       "      <td>Germany sets 2038 coal power deadline</td>\n",
       "      <td>https://i0.wp.com/www.energy-reporters.com/wp-...</td>\n",
       "      <td>https://www.energy-reporters.com/policy/german...</td>\n",
       "      <td>NaN</td>\n",
       "      <td>2020-01-19 03:30:00</td>\n",
       "    </tr>\n",
       "    <tr>\n",
       "      <th>500</th>\n",
       "      <td>20200107110000</td>\n",
       "      <td>Chris Hemsworth pledges $1 million to fight th...</td>\n",
       "      <td>http://cnnphilippines.com/.imaging/mte/demo-cn...</td>\n",
       "      <td>https://cnnphilippines.com:443/world/2020/1/7/...</td>\n",
       "      <td>NaN</td>\n",
       "      <td>2020-01-07 11:00:00</td>\n",
       "    </tr>\n",
       "    <tr>\n",
       "      <th>...</th>\n",
       "      <td>...</td>\n",
       "      <td>...</td>\n",
       "      <td>...</td>\n",
       "      <td>...</td>\n",
       "      <td>...</td>\n",
       "      <td>...</td>\n",
       "    </tr>\n",
       "    <tr>\n",
       "      <th>107878</th>\n",
       "      <td>20200103074500</td>\n",
       "      <td>Australian Navy begins rescue of people trappe...</td>\n",
       "      <td>https://www.prokerala.com/news/photos/imgs/120...</td>\n",
       "      <td>https://www.prokerala.com/news/articles/a99332...</td>\n",
       "      <td>NaN</td>\n",
       "      <td>2020-01-03 07:45:00</td>\n",
       "    </tr>\n",
       "    <tr>\n",
       "      <th>107903</th>\n",
       "      <td>20200107110000</td>\n",
       "      <td>Chris Hemsworth pledges $1 million to fight th...</td>\n",
       "      <td>https://bloximages.newyork1.vip.townnews.com/h...</td>\n",
       "      <td>https://www.henryherald.com/news/world_nation/...</td>\n",
       "      <td>NaN</td>\n",
       "      <td>2020-01-07 11:00:00</td>\n",
       "    </tr>\n",
       "    <tr>\n",
       "      <th>108112</th>\n",
       "      <td>20200114060000</td>\n",
       "      <td>Victoria announces bushfire inquiry as Morriso...</td>\n",
       "      <td>https://sl.sbs.com.au/public/image/file/f8e730...</td>\n",
       "      <td>https://www.sbs.com.au/news/victoria-announces...</td>\n",
       "      <td>NaN</td>\n",
       "      <td>2020-01-14 06:00:00</td>\n",
       "    </tr>\n",
       "    <tr>\n",
       "      <th>108313</th>\n",
       "      <td>20200108094500</td>\n",
       "      <td>Prince Charles to visit Israel, Bethlehem and ...</td>\n",
       "      <td>https://www.pinkvilla.com/files/styles/fbimage...</td>\n",
       "      <td>https://www.pinkvilla.com/entertainment/hollyw...</td>\n",
       "      <td>NaN</td>\n",
       "      <td>2020-01-08 09:45:00</td>\n",
       "    </tr>\n",
       "    <tr>\n",
       "      <th>108341</th>\n",
       "      <td>20200114034500</td>\n",
       "      <td>Wildfire smoke to circle planet and return to ...</td>\n",
       "      <td>https://www.wiltsglosstandard.co.uk/resources/...</td>\n",
       "      <td>https://www.wiltsglosstandard.co.uk/news/natio...</td>\n",
       "      <td>NaN</td>\n",
       "      <td>2020-01-14 03:45:00</td>\n",
       "    </tr>\n",
       "  </tbody>\n",
       "</table>\n",
       "<p>893 rows × 6 columns</p>\n",
       "</div>"
      ],
      "text/plain": [
       "              datetime                                              title  \\\n",
       "120     20200116010000  Thailand mobile app to boost reporting of huma...   \n",
       "226     20200108131500  Why women are ditching their razor during Janu...   \n",
       "355     20200122093000  A new UN report warns that the current energy ...   \n",
       "498     20200119033000              Germany sets 2038 coal power deadline   \n",
       "500     20200107110000  Chris Hemsworth pledges $1 million to fight th...   \n",
       "...                ...                                                ...   \n",
       "107878  20200103074500  Australian Navy begins rescue of people trappe...   \n",
       "107903  20200107110000  Chris Hemsworth pledges $1 million to fight th...   \n",
       "108112  20200114060000  Victoria announces bushfire inquiry as Morriso...   \n",
       "108313  20200108094500  Prince Charles to visit Israel, Bethlehem and ...   \n",
       "108341  20200114034500  Wildfire smoke to circle planet and return to ...   \n",
       "\n",
       "                                       headline_image_url  \\\n",
       "120     https://499ioen9wh92k2blb3elevg9-wpengine.netd...   \n",
       "226     https://www.swindonadvertiser.co.uk/resources/...   \n",
       "355     https://assets.weforum.org/editor/RE1MItbJmvtJ...   \n",
       "498     https://i0.wp.com/www.energy-reporters.com/wp-...   \n",
       "500     http://cnnphilippines.com/.imaging/mte/demo-cn...   \n",
       "...                                                   ...   \n",
       "107878  https://www.prokerala.com/news/photos/imgs/120...   \n",
       "107903  https://bloximages.newyork1.vip.townnews.com/h...   \n",
       "108112  https://sl.sbs.com.au/public/image/file/f8e730...   \n",
       "108313  https://www.pinkvilla.com/files/styles/fbimage...   \n",
       "108341  https://www.wiltsglosstandard.co.uk/resources/...   \n",
       "\n",
       "                                              content_url topic_context  \\\n",
       "120     https://www.nyoooz.com/features/technology/tha...           NaN   \n",
       "226     https://www.swindonadvertiser.co.uk/news/18143...           NaN   \n",
       "355     https://www.weforum.org/agenda/2020/01/this-ch...           NaN   \n",
       "498     https://www.energy-reporters.com/policy/german...           NaN   \n",
       "500     https://cnnphilippines.com:443/world/2020/1/7/...           NaN   \n",
       "...                                                   ...           ...   \n",
       "107878  https://www.prokerala.com/news/articles/a99332...           NaN   \n",
       "107903  https://www.henryherald.com/news/world_nation/...           NaN   \n",
       "108112  https://www.sbs.com.au/news/victoria-announces...           NaN   \n",
       "108313  https://www.pinkvilla.com/entertainment/hollyw...           NaN   \n",
       "108341  https://www.wiltsglosstandard.co.uk/news/natio...           NaN   \n",
       "\n",
       "                 timestamp  \n",
       "120    2020-01-16 01:00:00  \n",
       "226    2020-01-08 13:15:00  \n",
       "355    2020-01-22 09:30:00  \n",
       "498    2020-01-19 03:30:00  \n",
       "500    2020-01-07 11:00:00  \n",
       "...                    ...  \n",
       "107878 2020-01-03 07:45:00  \n",
       "107903 2020-01-07 11:00:00  \n",
       "108112 2020-01-14 06:00:00  \n",
       "108313 2020-01-08 09:45:00  \n",
       "108341 2020-01-14 03:45:00  \n",
       "\n",
       "[893 rows x 6 columns]"
      ]
     },
     "execution_count": 32,
     "metadata": {},
     "output_type": "execute_result"
    }
   ],
   "source": [
    "url_df[url_df.topic_context.isna()]"
   ]
  },
  {
   "cell_type": "code",
   "execution_count": null,
   "metadata": {},
   "outputs": [],
   "source": []
  },
  {
   "cell_type": "code",
   "execution_count": 34,
   "metadata": {},
   "outputs": [
    {
     "name": "stdout",
     "output_type": "stream",
     "text": [
      "labeling took 9.14 s\n"
     ]
    }
   ],
   "source": [
    "start_time = time.time()\n",
    "\n",
    "sentences_df = labelers.label_gdelt_context(url_df, docs_df, sentences_df)\n",
    "\n",
    "\n",
    "print(\"labeling took {:0.2f} s\".format(time.time() - start_time))"
   ]
  },
  {
   "cell_type": "code",
   "execution_count": 35,
   "metadata": {},
   "outputs": [
    {
     "data": {
      "text/plain": [
       "1153"
      ]
     },
     "execution_count": 35,
     "metadata": {},
     "output_type": "execute_result"
    }
   ],
   "source": [
    "sentences_df.has_labeled_arg.sum()"
   ]
  },
  {
   "cell_type": "code",
   "execution_count": null,
   "metadata": {},
   "outputs": [],
   "source": []
  },
  {
   "cell_type": "code",
   "execution_count": null,
   "metadata": {},
   "outputs": [],
   "source": []
  },
  {
   "cell_type": "code",
   "execution_count": null,
   "metadata": {},
   "outputs": [],
   "source": []
  },
  {
   "cell_type": "code",
   "execution_count": null,
   "metadata": {},
   "outputs": [],
   "source": []
  },
  {
   "cell_type": "markdown",
   "metadata": {},
   "source": [
    "# Check timing of different approaches\n",
    "\n",
    "**Does grequests give us a performance boost?**\n",
    "* time serial extraction vs using grequests\n",
    "\n",
    "Using `classify.collect_sentences_by_topic()`, a serial method, on 50 URLs gives an average return time of 1min 13s ± 6.65 s per loop (mean ± std. dev. of 7 runs, 1 loop each)\n",
    "\n",
    "Using `classify.fetch_concurrent` followed by `classify.process_responses` on 50 urls should be parallel, and takes 1min 32s ± 12.9 s per loop (mean ± std. dev. of 7 runs, 1 loop each).\n",
    "\n",
    "I don't know why using grequests is slower than doing it serially, but it definitely is slower when it should be ~2x faster.\n",
    "\n",
    "\n",
    "**Does returning all sentences vs just arguments give us a performance hit?**\n",
    "* time extraction of 50 articles to see if API times are significantly different"
   ]
  },
  {
   "cell_type": "code",
   "execution_count": 39,
   "metadata": {},
   "outputs": [],
   "source": [
    "num_docs = 50"
   ]
  },
  {
   "cell_type": "code",
   "execution_count": 42,
   "metadata": {},
   "outputs": [
    {
     "name": "stderr",
     "output_type": "stream",
     "text": [
      "DEBUG:2020-07-09 19:05:43,742:arg_mine.api.classify: Attempting url 1 of 50\n",
      "DEBUG:2020-07-09 19:05:45,806:arg_mine.api.classify: Attempting url 2 of 50\n",
      "DEBUG:2020-07-09 19:05:48,334:arg_mine.api.classify: Attempting url 3 of 50\n",
      "DEBUG:2020-07-09 19:05:49,871:arg_mine.api.classify: Attempting url 4 of 50\n",
      "WARNING:2020-07-09 19:05:50,471:arg_mine.api.classify: Refused: Refused: 400: Website could not be crawled or returned an empty result. Please contact an administrator., url=https://www.heraldmailmedia.com/news/nation/australia-sending-aid-to-wildfire-towns-as-death-toll-rises/article_883fa793-6c0a-547e-8f77-b5964f1d7182.html\n",
      "DEBUG:2020-07-09 19:05:50,473:arg_mine.api.classify: Attempting url 5 of 50\n",
      "DEBUG:2020-07-09 19:05:52,714:arg_mine.api.classify: Attempting url 6 of 50\n",
      "DEBUG:2020-07-09 19:05:54,700:arg_mine.api.classify: Attempting url 7 of 50\n",
      "WARNING:2020-07-09 19:05:55,093:arg_mine.api.classify: Refused: Refused: 400: Website could not be crawled or returned an empty result. Please contact an administrator., url=https://www.seattlepi.com/news/world/article/Cooler-weather-brings-respite-in-Australian-14950114.php\n",
      "DEBUG:2020-07-09 19:05:55,095:arg_mine.api.classify: Attempting url 8 of 50\n",
      "WARNING:2020-07-09 19:05:56,191:arg_mine.api.classify: Refused: Refused: 400: Website could not be crawled or returned an empty result. Please contact an administrator., url=https://www.airdrietoday.com/national-business/starbucks-goals-for-sustainability-will-require-significant-consumer-buy-in-2037947\n",
      "DEBUG:2020-07-09 19:05:56,193:arg_mine.api.classify: Attempting url 9 of 50\n",
      "WARNING:2020-07-09 19:05:57,772:arg_mine.api.classify: Refused: Refused: 400: Website could not be crawled or returned an empty result. Please contact an administrator., url=https://www.heraldbulletin.com/news/nation_world/davos-chief-welcomes-views-of-trump-greta-thunberg-at-forum/article_24dbb151-7132-5c48-a7df-c13b67004ec0.html\n",
      "DEBUG:2020-07-09 19:05:57,774:arg_mine.api.classify: Attempting url 10 of 50\n",
      "DEBUG:2020-07-09 19:06:00,806:arg_mine.api.classify: Attempting url 11 of 50\n",
      "DEBUG:2020-07-09 19:06:02,034:arg_mine.api.classify: Attempting url 12 of 50\n",
      "DEBUG:2020-07-09 19:06:03,182:arg_mine.api.classify: Attempting url 13 of 50\n",
      "DEBUG:2020-07-09 19:06:04,445:arg_mine.api.classify: Attempting url 14 of 50\n",
      "WARNING:2020-07-09 19:06:05,197:arg_mine.api.classify: Refused: Refused: 400: Website could not be crawled or returned an empty result. Please contact an administrator., url=https://ravallirepublic.com/news/local/article_cb291465-d430-5477-8b41-1bedda9beaea.html\n",
      "DEBUG:2020-07-09 19:06:05,201:arg_mine.api.classify: Attempting url 15 of 50\n",
      "WARNING:2020-07-09 19:06:06,439:arg_mine.api.classify: Refused: Refused: 400: Website could not be crawled or returned an empty result. Please contact an administrator., url=https://www.caledonianrecord.com/opinion/columns/shawn-shouldice-small-business-owners-prepare-to-dodge-bullets-during/article_9f1b6399-7ca9-59bc-8788-b4d05ec5825c.html\n",
      "DEBUG:2020-07-09 19:06:06,440:arg_mine.api.classify: Attempting url 16 of 50\n",
      "DEBUG:2020-07-09 19:06:07,839:arg_mine.api.classify: Attempting url 17 of 50\n",
      "WARNING:2020-07-09 19:06:08,835:arg_mine.api.classify: Refused: Refused: 400: Website could not be crawled or returned an empty result. Please contact an administrator., url=https://www.nsnews.com/trudeau-meets-pallister-and-the-meng-hearing-in-the-news-for-jan-20-1.24056357\n",
      "DEBUG:2020-07-09 19:06:08,837:arg_mine.api.classify: Attempting url 18 of 50\n",
      "DEBUG:2020-07-09 19:06:10,819:arg_mine.api.classify: Attempting url 19 of 50\n",
      "DEBUG:2020-07-09 19:06:11,984:arg_mine.api.classify: Attempting url 20 of 50\n",
      "DEBUG:2020-07-09 19:06:14,222:arg_mine.api.classify: Attempting url 21 of 50\n",
      "DEBUG:2020-07-09 19:06:15,456:arg_mine.api.classify: Attempting url 22 of 50\n",
      "DEBUG:2020-07-09 19:06:16,631:arg_mine.api.classify: Attempting url 23 of 50\n",
      "DEBUG:2020-07-09 19:06:18,669:arg_mine.api.classify: Attempting url 24 of 50\n",
      "WARNING:2020-07-09 19:06:20,132:arg_mine.api.classify: Refused: Refused: 400: Website could not be crawled or returned an empty result. Please contact an administrator., url=https://isp.netscape.com/news/story/0002/20200109/KBN1Z81IM_6\n",
      "DEBUG:2020-07-09 19:06:20,134:arg_mine.api.classify: Attempting url 25 of 50\n",
      "DEBUG:2020-07-09 19:06:21,950:arg_mine.api.classify: Attempting url 26 of 50\n",
      "DEBUG:2020-07-09 19:06:23,394:arg_mine.api.classify: Attempting url 27 of 50\n",
      "DEBUG:2020-07-09 19:06:25,255:arg_mine.api.classify: Attempting url 28 of 50\n",
      "DEBUG:2020-07-09 19:06:28,253:arg_mine.api.classify: Attempting url 29 of 50\n",
      "DEBUG:2020-07-09 19:06:29,513:arg_mine.api.classify: Attempting url 30 of 50\n",
      "DEBUG:2020-07-09 19:06:31,783:arg_mine.api.classify: Attempting url 31 of 50\n",
      "DEBUG:2020-07-09 19:06:33,091:arg_mine.api.classify: Attempting url 32 of 50\n",
      "DEBUG:2020-07-09 19:06:34,193:arg_mine.api.classify: Attempting url 33 of 50\n",
      "WARNING:2020-07-09 19:06:34,946:arg_mine.api.classify: Refused: Refused: 400: Website could not be crawled or returned an empty result. Please contact an administrator., url=https://democratherald.com/news/world/climate-change-brexit-divorce-eu-faces-challenges-in/article_242dbfcc-756a-5eeb-b0d4-731f00f905a7.html\n",
      "DEBUG:2020-07-09 19:06:34,948:arg_mine.api.classify: Attempting url 34 of 50\n",
      "DEBUG:2020-07-09 19:06:37,000:arg_mine.api.classify: Attempting url 35 of 50\n",
      "DEBUG:2020-07-09 19:06:38,377:arg_mine.api.classify: Attempting url 36 of 50\n",
      "DEBUG:2020-07-09 19:06:40,273:arg_mine.api.classify: Attempting url 37 of 50\n",
      "WARNING:2020-07-09 19:06:40,942:arg_mine.api.classify: Refused: Refused: 400: Website could not be crawled or returned an empty result. Please contact an administrator., url=https://www.dailyadvance.com/news/world/man-burned-as-huge-wildfire-forms-during-australia-crisis/article_8c6b5e0b-5782-5d02-936a-212b781ce1e8.html\n",
      "DEBUG:2020-07-09 19:06:40,943:arg_mine.api.classify: Attempting url 38 of 50\n",
      "DEBUG:2020-07-09 19:06:44,118:arg_mine.api.classify: Attempting url 39 of 50\n",
      "DEBUG:2020-07-09 19:06:45,583:arg_mine.api.classify: Attempting url 40 of 50\n",
      "DEBUG:2020-07-09 19:06:47,436:arg_mine.api.classify: Attempting url 41 of 50\n",
      "DEBUG:2020-07-09 19:06:49,024:arg_mine.api.classify: Attempting url 42 of 50\n",
      "WARNING:2020-07-09 19:06:49,351:arg_mine.api.classify: Refused: Refused: 400: Website could not be crawled or returned an empty result. Please contact an administrator., url=https://www.msn.com/en-us/news/world/update-5-smoke-stalls-rescues-as-australia-plans-for-next-fiery-onslaught/ar-BBYE1Ri\n",
      "DEBUG:2020-07-09 19:06:49,352:arg_mine.api.classify: Attempting url 43 of 50\n",
      "DEBUG:2020-07-09 19:06:51,027:arg_mine.api.classify: Attempting url 44 of 50\n",
      "DEBUG:2020-07-09 19:06:52,884:arg_mine.api.classify: Attempting url 45 of 50\n",
      "DEBUG:2020-07-09 19:06:54,092:arg_mine.api.classify: Attempting url 46 of 50\n",
      "DEBUG:2020-07-09 19:06:56,977:arg_mine.api.classify: Attempting url 47 of 50\n",
      "DEBUG:2020-07-09 19:06:58,940:arg_mine.api.classify: Attempting url 48 of 50\n",
      "DEBUG:2020-07-09 19:07:08,078:arg_mine.api.classify: Attempting url 49 of 50\n",
      "DEBUG:2020-07-09 19:07:15,859:arg_mine.api.classify: Attempting url 50 of 50\n",
      "DEBUG:2020-07-09 19:07:17,173:arg_mine.api.classify: Attempting url 1 of 50\n"
     ]
    },
    {
     "name": "stdout",
     "output_type": "stream",
     "text": [
      "iteration took 93.41 s\n"
     ]
    },
    {
     "name": "stderr",
     "output_type": "stream",
     "text": [
      "DEBUG:2020-07-09 19:07:18,981:arg_mine.api.classify: Attempting url 2 of 50\n",
      "DEBUG:2020-07-09 19:07:19,805:arg_mine.api.classify: Attempting url 3 of 50\n",
      "DEBUG:2020-07-09 19:07:20,934:arg_mine.api.classify: Attempting url 4 of 50\n",
      "WARNING:2020-07-09 19:07:21,532:arg_mine.api.classify: Refused: Refused: 400: Website could not be crawled or returned an empty result. Please contact an administrator., url=https://www.heraldmailmedia.com/news/nation/australia-sending-aid-to-wildfire-towns-as-death-toll-rises/article_883fa793-6c0a-547e-8f77-b5964f1d7182.html\n",
      "DEBUG:2020-07-09 19:07:21,533:arg_mine.api.classify: Attempting url 5 of 50\n",
      "DEBUG:2020-07-09 19:07:23,480:arg_mine.api.classify: Attempting url 6 of 50\n",
      "DEBUG:2020-07-09 19:07:24,778:arg_mine.api.classify: Attempting url 7 of 50\n",
      "WARNING:2020-07-09 19:07:25,069:arg_mine.api.classify: Refused: Refused: 400: Website could not be crawled or returned an empty result. Please contact an administrator., url=https://www.seattlepi.com/news/world/article/Cooler-weather-brings-respite-in-Australian-14950114.php\n",
      "DEBUG:2020-07-09 19:07:25,072:arg_mine.api.classify: Attempting url 8 of 50\n",
      "WARNING:2020-07-09 19:07:26,372:arg_mine.api.classify: Refused: Refused: 400: Website could not be crawled or returned an empty result. Please contact an administrator., url=https://www.airdrietoday.com/national-business/starbucks-goals-for-sustainability-will-require-significant-consumer-buy-in-2037947\n",
      "DEBUG:2020-07-09 19:07:26,374:arg_mine.api.classify: Attempting url 9 of 50\n",
      "WARNING:2020-07-09 19:07:27,888:arg_mine.api.classify: Refused: Refused: 400: Website could not be crawled or returned an empty result. Please contact an administrator., url=https://www.heraldbulletin.com/news/nation_world/davos-chief-welcomes-views-of-trump-greta-thunberg-at-forum/article_24dbb151-7132-5c48-a7df-c13b67004ec0.html\n",
      "DEBUG:2020-07-09 19:07:27,889:arg_mine.api.classify: Attempting url 10 of 50\n",
      "DEBUG:2020-07-09 19:07:29,324:arg_mine.api.classify: Attempting url 11 of 50\n",
      "DEBUG:2020-07-09 19:07:30,349:arg_mine.api.classify: Attempting url 12 of 50\n",
      "DEBUG:2020-07-09 19:07:31,780:arg_mine.api.classify: Attempting url 13 of 50\n",
      "DEBUG:2020-07-09 19:07:32,959:arg_mine.api.classify: Attempting url 14 of 50\n",
      "WARNING:2020-07-09 19:07:33,836:arg_mine.api.classify: Refused: Refused: 400: Website could not be crawled or returned an empty result. Please contact an administrator., url=https://ravallirepublic.com/news/local/article_cb291465-d430-5477-8b41-1bedda9beaea.html\n",
      "DEBUG:2020-07-09 19:07:33,838:arg_mine.api.classify: Attempting url 15 of 50\n",
      "WARNING:2020-07-09 19:07:35,080:arg_mine.api.classify: Refused: Refused: 400: Website could not be crawled or returned an empty result. Please contact an administrator., url=https://www.caledonianrecord.com/opinion/columns/shawn-shouldice-small-business-owners-prepare-to-dodge-bullets-during/article_9f1b6399-7ca9-59bc-8788-b4d05ec5825c.html\n",
      "DEBUG:2020-07-09 19:07:35,082:arg_mine.api.classify: Attempting url 16 of 50\n",
      "DEBUG:2020-07-09 19:07:36,502:arg_mine.api.classify: Attempting url 17 of 50\n",
      "WARNING:2020-07-09 19:07:53,042:arg_mine.api.classify: Refused: Refused: 400: Website could not be crawled or returned an empty result. Please contact an administrator., url=https://www.nsnews.com/trudeau-meets-pallister-and-the-meng-hearing-in-the-news-for-jan-20-1.24056357\n",
      "DEBUG:2020-07-09 19:07:53,044:arg_mine.api.classify: Attempting url 18 of 50\n",
      "DEBUG:2020-07-09 19:07:55,065:arg_mine.api.classify: Attempting url 19 of 50\n",
      "DEBUG:2020-07-09 19:07:55,777:arg_mine.api.classify: Attempting url 20 of 50\n",
      "DEBUG:2020-07-09 19:07:57,893:arg_mine.api.classify: Attempting url 21 of 50\n",
      "DEBUG:2020-07-09 19:07:58,830:arg_mine.api.classify: Attempting url 22 of 50\n",
      "DEBUG:2020-07-09 19:08:00,050:arg_mine.api.classify: Attempting url 23 of 50\n",
      "DEBUG:2020-07-09 19:08:02,097:arg_mine.api.classify: Attempting url 24 of 50\n",
      "WARNING:2020-07-09 19:08:02,507:arg_mine.api.classify: Refused: Refused: 400: Website could not be crawled or returned an empty result. Please contact an administrator., url=https://isp.netscape.com/news/story/0002/20200109/KBN1Z81IM_6\n",
      "DEBUG:2020-07-09 19:08:02,509:arg_mine.api.classify: Attempting url 25 of 50\n",
      "DEBUG:2020-07-09 19:08:04,365:arg_mine.api.classify: Attempting url 26 of 50\n",
      "DEBUG:2020-07-09 19:08:05,207:arg_mine.api.classify: Attempting url 27 of 50\n",
      "DEBUG:2020-07-09 19:08:06,594:arg_mine.api.classify: Attempting url 28 of 50\n",
      "DEBUG:2020-07-09 19:08:08,828:arg_mine.api.classify: Attempting url 29 of 50\n",
      "DEBUG:2020-07-09 19:08:09,857:arg_mine.api.classify: Attempting url 30 of 50\n",
      "DEBUG:2020-07-09 19:08:12,047:arg_mine.api.classify: Attempting url 31 of 50\n",
      "DEBUG:2020-07-09 19:08:13,680:arg_mine.api.classify: Attempting url 32 of 50\n",
      "DEBUG:2020-07-09 19:08:14,755:arg_mine.api.classify: Attempting url 33 of 50\n",
      "WARNING:2020-07-09 19:08:15,396:arg_mine.api.classify: Refused: Refused: 400: Website could not be crawled or returned an empty result. Please contact an administrator., url=https://democratherald.com/news/world/climate-change-brexit-divorce-eu-faces-challenges-in/article_242dbfcc-756a-5eeb-b0d4-731f00f905a7.html\n",
      "DEBUG:2020-07-09 19:08:15,397:arg_mine.api.classify: Attempting url 34 of 50\n",
      "DEBUG:2020-07-09 19:08:17,297:arg_mine.api.classify: Attempting url 35 of 50\n",
      "DEBUG:2020-07-09 19:08:18,280:arg_mine.api.classify: Attempting url 36 of 50\n",
      "DEBUG:2020-07-09 19:08:19,290:arg_mine.api.classify: Attempting url 37 of 50\n",
      "WARNING:2020-07-09 19:08:19,900:arg_mine.api.classify: Refused: Refused: 400: Website could not be crawled or returned an empty result. Please contact an administrator., url=https://www.dailyadvance.com/news/world/man-burned-as-huge-wildfire-forms-during-australia-crisis/article_8c6b5e0b-5782-5d02-936a-212b781ce1e8.html\n",
      "DEBUG:2020-07-09 19:08:19,901:arg_mine.api.classify: Attempting url 38 of 50\n",
      "DEBUG:2020-07-09 19:08:21,787:arg_mine.api.classify: Attempting url 39 of 50\n",
      "DEBUG:2020-07-09 19:08:22,697:arg_mine.api.classify: Attempting url 40 of 50\n",
      "DEBUG:2020-07-09 19:08:24,442:arg_mine.api.classify: Attempting url 41 of 50\n",
      "DEBUG:2020-07-09 19:08:26,056:arg_mine.api.classify: Attempting url 42 of 50\n",
      "WARNING:2020-07-09 19:08:26,396:arg_mine.api.classify: Refused: Refused: 400: Website could not be crawled or returned an empty result. Please contact an administrator., url=https://www.msn.com/en-us/news/world/update-5-smoke-stalls-rescues-as-australia-plans-for-next-fiery-onslaught/ar-BBYE1Ri\n",
      "DEBUG:2020-07-09 19:08:26,398:arg_mine.api.classify: Attempting url 43 of 50\n",
      "DEBUG:2020-07-09 19:08:28,016:arg_mine.api.classify: Attempting url 44 of 50\n",
      "DEBUG:2020-07-09 19:08:29,015:arg_mine.api.classify: Attempting url 45 of 50\n",
      "DEBUG:2020-07-09 19:08:30,233:arg_mine.api.classify: Attempting url 46 of 50\n",
      "DEBUG:2020-07-09 19:08:33,349:arg_mine.api.classify: Attempting url 47 of 50\n",
      "DEBUG:2020-07-09 19:08:35,153:arg_mine.api.classify: Attempting url 48 of 50\n",
      "DEBUG:2020-07-09 19:08:37,095:arg_mine.api.classify: Attempting url 49 of 50\n",
      "DEBUG:2020-07-09 19:08:42,868:arg_mine.api.classify: Attempting url 50 of 50\n",
      "DEBUG:2020-07-09 19:08:44,178:arg_mine.api.classify: Attempting url 1 of 50\n"
     ]
    },
    {
     "name": "stdout",
     "output_type": "stream",
     "text": [
      "iteration took 87.03 s\n"
     ]
    },
    {
     "name": "stderr",
     "output_type": "stream",
     "text": [
      "DEBUG:2020-07-09 19:08:45,607:arg_mine.api.classify: Attempting url 2 of 50\n",
      "DEBUG:2020-07-09 19:08:46,513:arg_mine.api.classify: Attempting url 3 of 50\n",
      "DEBUG:2020-07-09 19:08:49,610:arg_mine.api.classify: Attempting url 4 of 50\n",
      "WARNING:2020-07-09 19:08:50,187:arg_mine.api.classify: Refused: Refused: 400: Website could not be crawled or returned an empty result. Please contact an administrator., url=https://www.heraldmailmedia.com/news/nation/australia-sending-aid-to-wildfire-towns-as-death-toll-rises/article_883fa793-6c0a-547e-8f77-b5964f1d7182.html\n",
      "DEBUG:2020-07-09 19:08:50,188:arg_mine.api.classify: Attempting url 5 of 50\n",
      "DEBUG:2020-07-09 19:08:52,126:arg_mine.api.classify: Attempting url 6 of 50\n",
      "DEBUG:2020-07-09 19:08:53,343:arg_mine.api.classify: Attempting url 7 of 50\n",
      "WARNING:2020-07-09 19:08:53,618:arg_mine.api.classify: Refused: Refused: 400: Website could not be crawled or returned an empty result. Please contact an administrator., url=https://www.seattlepi.com/news/world/article/Cooler-weather-brings-respite-in-Australian-14950114.php\n",
      "DEBUG:2020-07-09 19:08:53,620:arg_mine.api.classify: Attempting url 8 of 50\n",
      "WARNING:2020-07-09 19:08:54,741:arg_mine.api.classify: Refused: Refused: 400: Website could not be crawled or returned an empty result. Please contact an administrator., url=https://www.airdrietoday.com/national-business/starbucks-goals-for-sustainability-will-require-significant-consumer-buy-in-2037947\n",
      "DEBUG:2020-07-09 19:08:54,743:arg_mine.api.classify: Attempting url 9 of 50\n",
      "WARNING:2020-07-09 19:08:56,174:arg_mine.api.classify: Refused: Refused: 400: Website could not be crawled or returned an empty result. Please contact an administrator., url=https://www.heraldbulletin.com/news/nation_world/davos-chief-welcomes-views-of-trump-greta-thunberg-at-forum/article_24dbb151-7132-5c48-a7df-c13b67004ec0.html\n",
      "DEBUG:2020-07-09 19:08:56,175:arg_mine.api.classify: Attempting url 10 of 50\n",
      "DEBUG:2020-07-09 19:08:57,332:arg_mine.api.classify: Attempting url 11 of 50\n",
      "DEBUG:2020-07-09 19:08:58,308:arg_mine.api.classify: Attempting url 12 of 50\n",
      "DEBUG:2020-07-09 19:08:59,407:arg_mine.api.classify: Attempting url 13 of 50\n",
      "DEBUG:2020-07-09 19:09:00,688:arg_mine.api.classify: Attempting url 14 of 50\n",
      "WARNING:2020-07-09 19:09:01,322:arg_mine.api.classify: Refused: Refused: 400: Website could not be crawled or returned an empty result. Please contact an administrator., url=https://ravallirepublic.com/news/local/article_cb291465-d430-5477-8b41-1bedda9beaea.html\n",
      "DEBUG:2020-07-09 19:09:01,324:arg_mine.api.classify: Attempting url 15 of 50\n",
      "WARNING:2020-07-09 19:09:02,514:arg_mine.api.classify: Refused: Refused: 400: Website could not be crawled or returned an empty result. Please contact an administrator., url=https://www.caledonianrecord.com/opinion/columns/shawn-shouldice-small-business-owners-prepare-to-dodge-bullets-during/article_9f1b6399-7ca9-59bc-8788-b4d05ec5825c.html\n",
      "DEBUG:2020-07-09 19:09:02,515:arg_mine.api.classify: Attempting url 16 of 50\n",
      "DEBUG:2020-07-09 19:09:03,959:arg_mine.api.classify: Attempting url 17 of 50\n",
      "WARNING:2020-07-09 19:09:04,769:arg_mine.api.classify: Refused: Refused: 400: Website could not be crawled or returned an empty result. Please contact an administrator., url=https://www.nsnews.com/trudeau-meets-pallister-and-the-meng-hearing-in-the-news-for-jan-20-1.24056357\n",
      "DEBUG:2020-07-09 19:09:04,772:arg_mine.api.classify: Attempting url 18 of 50\n",
      "DEBUG:2020-07-09 19:09:06,158:arg_mine.api.classify: Attempting url 19 of 50\n",
      "DEBUG:2020-07-09 19:09:07,383:arg_mine.api.classify: Attempting url 20 of 50\n",
      "DEBUG:2020-07-09 19:09:09,499:arg_mine.api.classify: Attempting url 21 of 50\n",
      "DEBUG:2020-07-09 19:09:10,332:arg_mine.api.classify: Attempting url 22 of 50\n",
      "DEBUG:2020-07-09 19:09:11,530:arg_mine.api.classify: Attempting url 23 of 50\n",
      "DEBUG:2020-07-09 19:09:13,310:arg_mine.api.classify: Attempting url 24 of 50\n",
      "WARNING:2020-07-09 19:09:14,109:arg_mine.api.classify: Refused: Refused: 400: Website could not be crawled or returned an empty result. Please contact an administrator., url=https://isp.netscape.com/news/story/0002/20200109/KBN1Z81IM_6\n",
      "DEBUG:2020-07-09 19:09:14,110:arg_mine.api.classify: Attempting url 25 of 50\n",
      "DEBUG:2020-07-09 19:09:15,808:arg_mine.api.classify: Attempting url 26 of 50\n",
      "DEBUG:2020-07-09 19:09:16,572:arg_mine.api.classify: Attempting url 27 of 50\n",
      "DEBUG:2020-07-09 19:09:17,982:arg_mine.api.classify: Attempting url 28 of 50\n",
      "DEBUG:2020-07-09 19:09:20,131:arg_mine.api.classify: Attempting url 29 of 50\n",
      "DEBUG:2020-07-09 19:09:21,176:arg_mine.api.classify: Attempting url 30 of 50\n",
      "DEBUG:2020-07-09 19:09:23,316:arg_mine.api.classify: Attempting url 31 of 50\n",
      "DEBUG:2020-07-09 19:09:24,585:arg_mine.api.classify: Attempting url 32 of 50\n",
      "DEBUG:2020-07-09 19:09:25,879:arg_mine.api.classify: Attempting url 33 of 50\n",
      "WARNING:2020-07-09 19:09:26,672:arg_mine.api.classify: Refused: Refused: 400: Website could not be crawled or returned an empty result. Please contact an administrator., url=https://democratherald.com/news/world/climate-change-brexit-divorce-eu-faces-challenges-in/article_242dbfcc-756a-5eeb-b0d4-731f00f905a7.html\n",
      "DEBUG:2020-07-09 19:09:26,674:arg_mine.api.classify: Attempting url 34 of 50\n",
      "DEBUG:2020-07-09 19:09:28,563:arg_mine.api.classify: Attempting url 35 of 50\n",
      "DEBUG:2020-07-09 19:09:29,559:arg_mine.api.classify: Attempting url 36 of 50\n",
      "DEBUG:2020-07-09 19:09:31,077:arg_mine.api.classify: Attempting url 37 of 50\n",
      "WARNING:2020-07-09 19:09:31,825:arg_mine.api.classify: Refused: Refused: 400: Website could not be crawled or returned an empty result. Please contact an administrator., url=https://www.dailyadvance.com/news/world/man-burned-as-huge-wildfire-forms-during-australia-crisis/article_8c6b5e0b-5782-5d02-936a-212b781ce1e8.html\n",
      "DEBUG:2020-07-09 19:09:31,826:arg_mine.api.classify: Attempting url 38 of 50\n",
      "DEBUG:2020-07-09 19:09:33,639:arg_mine.api.classify: Attempting url 39 of 50\n",
      "DEBUG:2020-07-09 19:09:34,670:arg_mine.api.classify: Attempting url 40 of 50\n",
      "DEBUG:2020-07-09 19:09:36,496:arg_mine.api.classify: Attempting url 41 of 50\n",
      "DEBUG:2020-07-09 19:09:38,940:arg_mine.api.classify: Attempting url 42 of 50\n",
      "WARNING:2020-07-09 19:09:39,279:arg_mine.api.classify: Refused: Refused: 400: Website could not be crawled or returned an empty result. Please contact an administrator., url=https://www.msn.com/en-us/news/world/update-5-smoke-stalls-rescues-as-australia-plans-for-next-fiery-onslaught/ar-BBYE1Ri\n",
      "DEBUG:2020-07-09 19:09:39,283:arg_mine.api.classify: Attempting url 43 of 50\n",
      "DEBUG:2020-07-09 19:09:40,581:arg_mine.api.classify: Attempting url 44 of 50\n",
      "DEBUG:2020-07-09 19:09:42,882:arg_mine.api.classify: Attempting url 45 of 50\n",
      "DEBUG:2020-07-09 19:09:43,864:arg_mine.api.classify: Attempting url 46 of 50\n",
      "DEBUG:2020-07-09 19:09:46,131:arg_mine.api.classify: Attempting url 47 of 50\n",
      "DEBUG:2020-07-09 19:09:47,311:arg_mine.api.classify: Attempting url 48 of 50\n",
      "DEBUG:2020-07-09 19:09:49,275:arg_mine.api.classify: Attempting url 49 of 50\n",
      "DEBUG:2020-07-09 19:09:55,579:arg_mine.api.classify: Attempting url 50 of 50\n",
      "DEBUG:2020-07-09 19:09:56,792:arg_mine.api.classify: Attempting url 1 of 50\n"
     ]
    },
    {
     "name": "stdout",
     "output_type": "stream",
     "text": [
      "iteration took 72.61 s\n"
     ]
    },
    {
     "name": "stderr",
     "output_type": "stream",
     "text": [
      "DEBUG:2020-07-09 19:09:58,263:arg_mine.api.classify: Attempting url 2 of 50\n",
      "DEBUG:2020-07-09 19:09:59,111:arg_mine.api.classify: Attempting url 3 of 50\n",
      "DEBUG:2020-07-09 19:10:00,249:arg_mine.api.classify: Attempting url 4 of 50\n",
      "WARNING:2020-07-09 19:10:01,092:arg_mine.api.classify: Refused: Refused: 400: Website could not be crawled or returned an empty result. Please contact an administrator., url=https://www.heraldmailmedia.com/news/nation/australia-sending-aid-to-wildfire-towns-as-death-toll-rises/article_883fa793-6c0a-547e-8f77-b5964f1d7182.html\n",
      "DEBUG:2020-07-09 19:10:01,093:arg_mine.api.classify: Attempting url 5 of 50\n",
      "DEBUG:2020-07-09 19:10:03,047:arg_mine.api.classify: Attempting url 6 of 50\n",
      "DEBUG:2020-07-09 19:10:04,290:arg_mine.api.classify: Attempting url 7 of 50\n",
      "WARNING:2020-07-09 19:10:04,560:arg_mine.api.classify: Refused: Refused: 400: Website could not be crawled or returned an empty result. Please contact an administrator., url=https://www.seattlepi.com/news/world/article/Cooler-weather-brings-respite-in-Australian-14950114.php\n",
      "DEBUG:2020-07-09 19:10:04,562:arg_mine.api.classify: Attempting url 8 of 50\n",
      "WARNING:2020-07-09 19:10:05,525:arg_mine.api.classify: Refused: Refused: 400: Website could not be crawled or returned an empty result. Please contact an administrator., url=https://www.airdrietoday.com/national-business/starbucks-goals-for-sustainability-will-require-significant-consumer-buy-in-2037947\n",
      "DEBUG:2020-07-09 19:10:05,527:arg_mine.api.classify: Attempting url 9 of 50\n",
      "WARNING:2020-07-09 19:10:06,734:arg_mine.api.classify: Refused: Refused: 400: Website could not be crawled or returned an empty result. Please contact an administrator., url=https://www.heraldbulletin.com/news/nation_world/davos-chief-welcomes-views-of-trump-greta-thunberg-at-forum/article_24dbb151-7132-5c48-a7df-c13b67004ec0.html\n",
      "DEBUG:2020-07-09 19:10:06,735:arg_mine.api.classify: Attempting url 10 of 50\n",
      "DEBUG:2020-07-09 19:10:08,039:arg_mine.api.classify: Attempting url 11 of 50\n",
      "DEBUG:2020-07-09 19:10:08,985:arg_mine.api.classify: Attempting url 12 of 50\n",
      "DEBUG:2020-07-09 19:10:10,079:arg_mine.api.classify: Attempting url 13 of 50\n",
      "DEBUG:2020-07-09 19:10:11,140:arg_mine.api.classify: Attempting url 14 of 50\n",
      "WARNING:2020-07-09 19:10:11,938:arg_mine.api.classify: Refused: Refused: 400: Website could not be crawled or returned an empty result. Please contact an administrator., url=https://ravallirepublic.com/news/local/article_cb291465-d430-5477-8b41-1bedda9beaea.html\n",
      "DEBUG:2020-07-09 19:10:11,940:arg_mine.api.classify: Attempting url 15 of 50\n",
      "WARNING:2020-07-09 19:10:13,148:arg_mine.api.classify: Refused: Refused: 400: Website could not be crawled or returned an empty result. Please contact an administrator., url=https://www.caledonianrecord.com/opinion/columns/shawn-shouldice-small-business-owners-prepare-to-dodge-bullets-during/article_9f1b6399-7ca9-59bc-8788-b4d05ec5825c.html\n",
      "DEBUG:2020-07-09 19:10:13,149:arg_mine.api.classify: Attempting url 16 of 50\n",
      "DEBUG:2020-07-09 19:10:14,433:arg_mine.api.classify: Attempting url 17 of 50\n",
      "WARNING:2020-07-09 19:10:15,148:arg_mine.api.classify: Refused: Refused: 400: Website could not be crawled or returned an empty result. Please contact an administrator., url=https://www.nsnews.com/trudeau-meets-pallister-and-the-meng-hearing-in-the-news-for-jan-20-1.24056357\n",
      "DEBUG:2020-07-09 19:10:15,149:arg_mine.api.classify: Attempting url 18 of 50\n",
      "DEBUG:2020-07-09 19:10:16,590:arg_mine.api.classify: Attempting url 19 of 50\n",
      "DEBUG:2020-07-09 19:10:18,036:arg_mine.api.classify: Attempting url 20 of 50\n",
      "DEBUG:2020-07-09 19:10:20,133:arg_mine.api.classify: Attempting url 21 of 50\n",
      "DEBUG:2020-07-09 19:10:20,956:arg_mine.api.classify: Attempting url 22 of 50\n",
      "DEBUG:2020-07-09 19:10:22,170:arg_mine.api.classify: Attempting url 23 of 50\n",
      "DEBUG:2020-07-09 19:10:24,012:arg_mine.api.classify: Attempting url 24 of 50\n",
      "WARNING:2020-07-09 19:10:24,382:arg_mine.api.classify: Refused: Refused: 400: Website could not be crawled or returned an empty result. Please contact an administrator., url=https://isp.netscape.com/news/story/0002/20200109/KBN1Z81IM_6\n",
      "DEBUG:2020-07-09 19:10:24,384:arg_mine.api.classify: Attempting url 25 of 50\n",
      "DEBUG:2020-07-09 19:10:26,088:arg_mine.api.classify: Attempting url 26 of 50\n",
      "DEBUG:2020-07-09 19:10:26,828:arg_mine.api.classify: Attempting url 27 of 50\n",
      "DEBUG:2020-07-09 19:10:28,210:arg_mine.api.classify: Attempting url 28 of 50\n",
      "DEBUG:2020-07-09 19:10:30,384:arg_mine.api.classify: Attempting url 29 of 50\n",
      "DEBUG:2020-07-09 19:10:31,586:arg_mine.api.classify: Attempting url 30 of 50\n",
      "DEBUG:2020-07-09 19:10:33,743:arg_mine.api.classify: Attempting url 31 of 50\n",
      "DEBUG:2020-07-09 19:10:35,031:arg_mine.api.classify: Attempting url 32 of 50\n",
      "DEBUG:2020-07-09 19:10:36,051:arg_mine.api.classify: Attempting url 33 of 50\n",
      "WARNING:2020-07-09 19:10:36,690:arg_mine.api.classify: Refused: Refused: 400: Website could not be crawled or returned an empty result. Please contact an administrator., url=https://democratherald.com/news/world/climate-change-brexit-divorce-eu-faces-challenges-in/article_242dbfcc-756a-5eeb-b0d4-731f00f905a7.html\n",
      "DEBUG:2020-07-09 19:10:36,691:arg_mine.api.classify: Attempting url 34 of 50\n",
      "DEBUG:2020-07-09 19:10:38,563:arg_mine.api.classify: Attempting url 35 of 50\n",
      "DEBUG:2020-07-09 19:10:39,501:arg_mine.api.classify: Attempting url 36 of 50\n",
      "DEBUG:2020-07-09 19:10:40,467:arg_mine.api.classify: Attempting url 37 of 50\n",
      "WARNING:2020-07-09 19:10:41,094:arg_mine.api.classify: Refused: Refused: 400: Website could not be crawled or returned an empty result. Please contact an administrator., url=https://www.dailyadvance.com/news/world/man-burned-as-huge-wildfire-forms-during-australia-crisis/article_8c6b5e0b-5782-5d02-936a-212b781ce1e8.html\n",
      "DEBUG:2020-07-09 19:10:41,095:arg_mine.api.classify: Attempting url 38 of 50\n",
      "DEBUG:2020-07-09 19:10:43,388:arg_mine.api.classify: Attempting url 39 of 50\n",
      "DEBUG:2020-07-09 19:10:44,306:arg_mine.api.classify: Attempting url 40 of 50\n",
      "DEBUG:2020-07-09 19:10:46,292:arg_mine.api.classify: Attempting url 41 of 50\n",
      "DEBUG:2020-07-09 19:10:47,790:arg_mine.api.classify: Attempting url 42 of 50\n",
      "WARNING:2020-07-09 19:10:48,180:arg_mine.api.classify: Refused: Refused: 400: Website could not be crawled or returned an empty result. Please contact an administrator., url=https://www.msn.com/en-us/news/world/update-5-smoke-stalls-rescues-as-australia-plans-for-next-fiery-onslaught/ar-BBYE1Ri\n",
      "DEBUG:2020-07-09 19:10:48,181:arg_mine.api.classify: Attempting url 43 of 50\n",
      "DEBUG:2020-07-09 19:10:49,407:arg_mine.api.classify: Attempting url 44 of 50\n",
      "DEBUG:2020-07-09 19:10:50,525:arg_mine.api.classify: Attempting url 45 of 50\n",
      "DEBUG:2020-07-09 19:10:51,853:arg_mine.api.classify: Attempting url 46 of 50\n",
      "DEBUG:2020-07-09 19:10:54,285:arg_mine.api.classify: Attempting url 47 of 50\n",
      "DEBUG:2020-07-09 19:10:55,997:arg_mine.api.classify: Attempting url 48 of 50\n",
      "DEBUG:2020-07-09 19:10:57,948:arg_mine.api.classify: Attempting url 49 of 50\n",
      "DEBUG:2020-07-09 19:11:04,417:arg_mine.api.classify: Attempting url 50 of 50\n",
      "DEBUG:2020-07-09 19:11:05,641:arg_mine.api.classify: Attempting url 1 of 50\n"
     ]
    },
    {
     "name": "stdout",
     "output_type": "stream",
     "text": [
      "iteration took 68.82 s\n"
     ]
    },
    {
     "name": "stderr",
     "output_type": "stream",
     "text": [
      "DEBUG:2020-07-09 19:11:07,022:arg_mine.api.classify: Attempting url 2 of 50\n",
      "DEBUG:2020-07-09 19:11:07,855:arg_mine.api.classify: Attempting url 3 of 50\n",
      "DEBUG:2020-07-09 19:11:09,111:arg_mine.api.classify: Attempting url 4 of 50\n",
      "WARNING:2020-07-09 19:11:09,703:arg_mine.api.classify: Refused: Refused: 400: Website could not be crawled or returned an empty result. Please contact an administrator., url=https://www.heraldmailmedia.com/news/nation/australia-sending-aid-to-wildfire-towns-as-death-toll-rises/article_883fa793-6c0a-547e-8f77-b5964f1d7182.html\n",
      "DEBUG:2020-07-09 19:11:09,705:arg_mine.api.classify: Attempting url 5 of 50\n",
      "DEBUG:2020-07-09 19:11:10,989:arg_mine.api.classify: Attempting url 6 of 50\n",
      "DEBUG:2020-07-09 19:11:12,316:arg_mine.api.classify: Attempting url 7 of 50\n",
      "WARNING:2020-07-09 19:11:12,605:arg_mine.api.classify: Refused: Refused: 400: Website could not be crawled or returned an empty result. Please contact an administrator., url=https://www.seattlepi.com/news/world/article/Cooler-weather-brings-respite-in-Australian-14950114.php\n",
      "DEBUG:2020-07-09 19:11:12,606:arg_mine.api.classify: Attempting url 8 of 50\n",
      "WARNING:2020-07-09 19:11:13,808:arg_mine.api.classify: Refused: Refused: 400: Website could not be crawled or returned an empty result. Please contact an administrator., url=https://www.airdrietoday.com/national-business/starbucks-goals-for-sustainability-will-require-significant-consumer-buy-in-2037947\n",
      "DEBUG:2020-07-09 19:11:13,809:arg_mine.api.classify: Attempting url 9 of 50\n",
      "WARNING:2020-07-09 19:11:15,037:arg_mine.api.classify: Refused: Refused: 400: Website could not be crawled or returned an empty result. Please contact an administrator., url=https://www.heraldbulletin.com/news/nation_world/davos-chief-welcomes-views-of-trump-greta-thunberg-at-forum/article_24dbb151-7132-5c48-a7df-c13b67004ec0.html\n",
      "DEBUG:2020-07-09 19:11:15,038:arg_mine.api.classify: Attempting url 10 of 50\n",
      "DEBUG:2020-07-09 19:11:16,305:arg_mine.api.classify: Attempting url 11 of 50\n",
      "DEBUG:2020-07-09 19:11:17,232:arg_mine.api.classify: Attempting url 12 of 50\n",
      "DEBUG:2020-07-09 19:11:18,211:arg_mine.api.classify: Attempting url 13 of 50\n",
      "DEBUG:2020-07-09 19:11:19,320:arg_mine.api.classify: Attempting url 14 of 50\n",
      "WARNING:2020-07-09 19:11:20,125:arg_mine.api.classify: Refused: Refused: 400: Website could not be crawled or returned an empty result. Please contact an administrator., url=https://ravallirepublic.com/news/local/article_cb291465-d430-5477-8b41-1bedda9beaea.html\n",
      "DEBUG:2020-07-09 19:11:20,127:arg_mine.api.classify: Attempting url 15 of 50\n",
      "WARNING:2020-07-09 19:11:21,484:arg_mine.api.classify: Refused: Refused: 400: Website could not be crawled or returned an empty result. Please contact an administrator., url=https://www.caledonianrecord.com/opinion/columns/shawn-shouldice-small-business-owners-prepare-to-dodge-bullets-during/article_9f1b6399-7ca9-59bc-8788-b4d05ec5825c.html\n",
      "DEBUG:2020-07-09 19:11:21,485:arg_mine.api.classify: Attempting url 16 of 50\n",
      "DEBUG:2020-07-09 19:11:22,873:arg_mine.api.classify: Attempting url 17 of 50\n",
      "WARNING:2020-07-09 19:11:23,622:arg_mine.api.classify: Refused: Refused: 400: Website could not be crawled or returned an empty result. Please contact an administrator., url=https://www.nsnews.com/trudeau-meets-pallister-and-the-meng-hearing-in-the-news-for-jan-20-1.24056357\n",
      "DEBUG:2020-07-09 19:11:23,624:arg_mine.api.classify: Attempting url 18 of 50\n",
      "DEBUG:2020-07-09 19:11:25,047:arg_mine.api.classify: Attempting url 19 of 50\n",
      "DEBUG:2020-07-09 19:11:26,378:arg_mine.api.classify: Attempting url 20 of 50\n",
      "DEBUG:2020-07-09 19:11:28,530:arg_mine.api.classify: Attempting url 21 of 50\n",
      "DEBUG:2020-07-09 19:11:29,376:arg_mine.api.classify: Attempting url 22 of 50\n",
      "DEBUG:2020-07-09 19:11:30,518:arg_mine.api.classify: Attempting url 23 of 50\n",
      "DEBUG:2020-07-09 19:11:32,471:arg_mine.api.classify: Attempting url 24 of 50\n",
      "WARNING:2020-07-09 19:11:32,890:arg_mine.api.classify: Refused: Refused: 400: Website could not be crawled or returned an empty result. Please contact an administrator., url=https://isp.netscape.com/news/story/0002/20200109/KBN1Z81IM_6\n",
      "DEBUG:2020-07-09 19:11:32,891:arg_mine.api.classify: Attempting url 25 of 50\n",
      "DEBUG:2020-07-09 19:11:34,637:arg_mine.api.classify: Attempting url 26 of 50\n",
      "DEBUG:2020-07-09 19:11:35,372:arg_mine.api.classify: Attempting url 27 of 50\n",
      "DEBUG:2020-07-09 19:11:36,766:arg_mine.api.classify: Attempting url 28 of 50\n",
      "DEBUG:2020-07-09 19:11:38,940:arg_mine.api.classify: Attempting url 29 of 50\n",
      "DEBUG:2020-07-09 19:11:40,238:arg_mine.api.classify: Attempting url 30 of 50\n",
      "DEBUG:2020-07-09 19:11:46,068:arg_mine.api.classify: Attempting url 31 of 50\n",
      "DEBUG:2020-07-09 19:11:47,338:arg_mine.api.classify: Attempting url 32 of 50\n",
      "DEBUG:2020-07-09 19:11:48,437:arg_mine.api.classify: Attempting url 33 of 50\n",
      "WARNING:2020-07-09 19:11:49,434:arg_mine.api.classify: Refused: Refused: 400: Website could not be crawled or returned an empty result. Please contact an administrator., url=https://democratherald.com/news/world/climate-change-brexit-divorce-eu-faces-challenges-in/article_242dbfcc-756a-5eeb-b0d4-731f00f905a7.html\n",
      "DEBUG:2020-07-09 19:11:49,435:arg_mine.api.classify: Attempting url 34 of 50\n",
      "DEBUG:2020-07-09 19:11:54,448:arg_mine.api.classify: Attempting url 35 of 50\n",
      "DEBUG:2020-07-09 19:11:55,632:arg_mine.api.classify: Attempting url 36 of 50\n",
      "DEBUG:2020-07-09 19:11:56,905:arg_mine.api.classify: Attempting url 37 of 50\n",
      "WARNING:2020-07-09 19:11:57,617:arg_mine.api.classify: Refused: Refused: 400: Website could not be crawled or returned an empty result. Please contact an administrator., url=https://www.dailyadvance.com/news/world/man-burned-as-huge-wildfire-forms-during-australia-crisis/article_8c6b5e0b-5782-5d02-936a-212b781ce1e8.html\n",
      "DEBUG:2020-07-09 19:11:57,619:arg_mine.api.classify: Attempting url 38 of 50\n",
      "DEBUG:2020-07-09 19:11:59,458:arg_mine.api.classify: Attempting url 39 of 50\n",
      "DEBUG:2020-07-09 19:12:01,265:arg_mine.api.classify: Attempting url 40 of 50\n",
      "DEBUG:2020-07-09 19:12:03,086:arg_mine.api.classify: Attempting url 41 of 50\n",
      "DEBUG:2020-07-09 19:12:04,799:arg_mine.api.classify: Attempting url 42 of 50\n",
      "WARNING:2020-07-09 19:12:05,293:arg_mine.api.classify: Refused: Refused: 400: Website could not be crawled or returned an empty result. Please contact an administrator., url=https://www.msn.com/en-us/news/world/update-5-smoke-stalls-rescues-as-australia-plans-for-next-fiery-onslaught/ar-BBYE1Ri\n",
      "DEBUG:2020-07-09 19:12:05,295:arg_mine.api.classify: Attempting url 43 of 50\n",
      "DEBUG:2020-07-09 19:12:06,554:arg_mine.api.classify: Attempting url 44 of 50\n",
      "DEBUG:2020-07-09 19:12:08,291:arg_mine.api.classify: Attempting url 45 of 50\n",
      "DEBUG:2020-07-09 19:12:09,636:arg_mine.api.classify: Attempting url 46 of 50\n",
      "DEBUG:2020-07-09 19:12:11,330:arg_mine.api.classify: Attempting url 47 of 50\n",
      "DEBUG:2020-07-09 19:12:14,859:arg_mine.api.classify: Attempting url 48 of 50\n",
      "DEBUG:2020-07-09 19:12:16,818:arg_mine.api.classify: Attempting url 49 of 50\n",
      "DEBUG:2020-07-09 19:12:23,645:arg_mine.api.classify: Attempting url 50 of 50\n",
      "DEBUG:2020-07-09 19:12:24,807:arg_mine.api.classify: Attempting url 1 of 50\n"
     ]
    },
    {
     "name": "stdout",
     "output_type": "stream",
     "text": [
      "iteration took 79.17 s\n"
     ]
    },
    {
     "name": "stderr",
     "output_type": "stream",
     "text": [
      "DEBUG:2020-07-09 19:12:26,255:arg_mine.api.classify: Attempting url 2 of 50\n",
      "DEBUG:2020-07-09 19:12:27,088:arg_mine.api.classify: Attempting url 3 of 50\n",
      "DEBUG:2020-07-09 19:12:28,435:arg_mine.api.classify: Attempting url 4 of 50\n",
      "WARNING:2020-07-09 19:12:29,126:arg_mine.api.classify: Refused: Refused: 400: Website could not be crawled or returned an empty result. Please contact an administrator., url=https://www.heraldmailmedia.com/news/nation/australia-sending-aid-to-wildfire-towns-as-death-toll-rises/article_883fa793-6c0a-547e-8f77-b5964f1d7182.html\n",
      "DEBUG:2020-07-09 19:12:29,129:arg_mine.api.classify: Attempting url 5 of 50\n",
      "DEBUG:2020-07-09 19:12:30,410:arg_mine.api.classify: Attempting url 6 of 50\n",
      "DEBUG:2020-07-09 19:12:31,638:arg_mine.api.classify: Attempting url 7 of 50\n",
      "WARNING:2020-07-09 19:12:31,896:arg_mine.api.classify: Refused: Refused: 400: Website could not be crawled or returned an empty result. Please contact an administrator., url=https://www.seattlepi.com/news/world/article/Cooler-weather-brings-respite-in-Australian-14950114.php\n",
      "DEBUG:2020-07-09 19:12:31,899:arg_mine.api.classify: Attempting url 8 of 50\n",
      "WARNING:2020-07-09 19:12:32,938:arg_mine.api.classify: Refused: Refused: 400: Website could not be crawled or returned an empty result. Please contact an administrator., url=https://www.airdrietoday.com/national-business/starbucks-goals-for-sustainability-will-require-significant-consumer-buy-in-2037947\n",
      "DEBUG:2020-07-09 19:12:32,940:arg_mine.api.classify: Attempting url 9 of 50\n",
      "WARNING:2020-07-09 19:12:34,281:arg_mine.api.classify: Refused: Refused: 400: Website could not be crawled or returned an empty result. Please contact an administrator., url=https://www.heraldbulletin.com/news/nation_world/davos-chief-welcomes-views-of-trump-greta-thunberg-at-forum/article_24dbb151-7132-5c48-a7df-c13b67004ec0.html\n",
      "DEBUG:2020-07-09 19:12:34,283:arg_mine.api.classify: Attempting url 10 of 50\n",
      "DEBUG:2020-07-09 19:12:35,559:arg_mine.api.classify: Attempting url 11 of 50\n",
      "DEBUG:2020-07-09 19:12:36,513:arg_mine.api.classify: Attempting url 12 of 50\n",
      "DEBUG:2020-07-09 19:12:37,461:arg_mine.api.classify: Attempting url 13 of 50\n",
      "DEBUG:2020-07-09 19:12:38,554:arg_mine.api.classify: Attempting url 14 of 50\n",
      "WARNING:2020-07-09 19:12:39,325:arg_mine.api.classify: Refused: Refused: 400: Website could not be crawled or returned an empty result. Please contact an administrator., url=https://ravallirepublic.com/news/local/article_cb291465-d430-5477-8b41-1bedda9beaea.html\n",
      "DEBUG:2020-07-09 19:12:39,327:arg_mine.api.classify: Attempting url 15 of 50\n",
      "WARNING:2020-07-09 19:12:40,429:arg_mine.api.classify: Refused: Refused: 400: Website could not be crawled or returned an empty result. Please contact an administrator., url=https://www.caledonianrecord.com/opinion/columns/shawn-shouldice-small-business-owners-prepare-to-dodge-bullets-during/article_9f1b6399-7ca9-59bc-8788-b4d05ec5825c.html\n",
      "DEBUG:2020-07-09 19:12:40,431:arg_mine.api.classify: Attempting url 16 of 50\n",
      "DEBUG:2020-07-09 19:12:41,700:arg_mine.api.classify: Attempting url 17 of 50\n",
      "WARNING:2020-07-09 19:12:42,365:arg_mine.api.classify: Refused: Refused: 400: Website could not be crawled or returned an empty result. Please contact an administrator., url=https://www.nsnews.com/trudeau-meets-pallister-and-the-meng-hearing-in-the-news-for-jan-20-1.24056357\n",
      "DEBUG:2020-07-09 19:12:42,368:arg_mine.api.classify: Attempting url 18 of 50\n",
      "DEBUG:2020-07-09 19:12:43,895:arg_mine.api.classify: Attempting url 19 of 50\n",
      "DEBUG:2020-07-09 19:12:45,241:arg_mine.api.classify: Attempting url 20 of 50\n",
      "DEBUG:2020-07-09 19:12:47,378:arg_mine.api.classify: Attempting url 21 of 50\n",
      "DEBUG:2020-07-09 19:12:48,185:arg_mine.api.classify: Attempting url 22 of 50\n",
      "DEBUG:2020-07-09 19:12:49,360:arg_mine.api.classify: Attempting url 23 of 50\n",
      "DEBUG:2020-07-09 19:12:51,293:arg_mine.api.classify: Attempting url 24 of 50\n",
      "WARNING:2020-07-09 19:12:52,085:arg_mine.api.classify: Refused: Refused: 400: Website could not be crawled or returned an empty result. Please contact an administrator., url=https://isp.netscape.com/news/story/0002/20200109/KBN1Z81IM_6\n",
      "DEBUG:2020-07-09 19:12:52,087:arg_mine.api.classify: Attempting url 25 of 50\n",
      "DEBUG:2020-07-09 19:12:53,825:arg_mine.api.classify: Attempting url 26 of 50\n",
      "DEBUG:2020-07-09 19:12:54,573:arg_mine.api.classify: Attempting url 27 of 50\n",
      "DEBUG:2020-07-09 19:12:55,969:arg_mine.api.classify: Attempting url 28 of 50\n",
      "DEBUG:2020-07-09 19:12:58,082:arg_mine.api.classify: Attempting url 29 of 50\n",
      "DEBUG:2020-07-09 19:12:58,987:arg_mine.api.classify: Attempting url 30 of 50\n",
      "DEBUG:2020-07-09 19:13:02,545:arg_mine.api.classify: Attempting url 31 of 50\n",
      "DEBUG:2020-07-09 19:13:04,319:arg_mine.api.classify: Attempting url 32 of 50\n",
      "DEBUG:2020-07-09 19:13:05,807:arg_mine.api.classify: Attempting url 33 of 50\n",
      "WARNING:2020-07-09 19:13:06,465:arg_mine.api.classify: Refused: Refused: 400: Website could not be crawled or returned an empty result. Please contact an administrator., url=https://democratherald.com/news/world/climate-change-brexit-divorce-eu-faces-challenges-in/article_242dbfcc-756a-5eeb-b0d4-731f00f905a7.html\n",
      "DEBUG:2020-07-09 19:13:06,466:arg_mine.api.classify: Attempting url 34 of 50\n",
      "DEBUG:2020-07-09 19:13:08,359:arg_mine.api.classify: Attempting url 35 of 50\n",
      "DEBUG:2020-07-09 19:13:09,319:arg_mine.api.classify: Attempting url 36 of 50\n",
      "DEBUG:2020-07-09 19:13:10,509:arg_mine.api.classify: Attempting url 37 of 50\n",
      "WARNING:2020-07-09 19:13:11,120:arg_mine.api.classify: Refused: Refused: 400: Website could not be crawled or returned an empty result. Please contact an administrator., url=https://www.dailyadvance.com/news/world/man-burned-as-huge-wildfire-forms-during-australia-crisis/article_8c6b5e0b-5782-5d02-936a-212b781ce1e8.html\n",
      "DEBUG:2020-07-09 19:13:11,122:arg_mine.api.classify: Attempting url 38 of 50\n",
      "DEBUG:2020-07-09 19:13:12,910:arg_mine.api.classify: Attempting url 39 of 50\n",
      "DEBUG:2020-07-09 19:13:13,841:arg_mine.api.classify: Attempting url 40 of 50\n",
      "DEBUG:2020-07-09 19:13:15,685:arg_mine.api.classify: Attempting url 41 of 50\n",
      "DEBUG:2020-07-09 19:13:17,190:arg_mine.api.classify: Attempting url 42 of 50\n",
      "WARNING:2020-07-09 19:13:17,534:arg_mine.api.classify: Refused: Refused: 400: Website could not be crawled or returned an empty result. Please contact an administrator., url=https://www.msn.com/en-us/news/world/update-5-smoke-stalls-rescues-as-australia-plans-for-next-fiery-onslaught/ar-BBYE1Ri\n",
      "DEBUG:2020-07-09 19:13:17,536:arg_mine.api.classify: Attempting url 43 of 50\n",
      "DEBUG:2020-07-09 19:13:18,777:arg_mine.api.classify: Attempting url 44 of 50\n",
      "DEBUG:2020-07-09 19:13:19,937:arg_mine.api.classify: Attempting url 45 of 50\n",
      "DEBUG:2020-07-09 19:13:21,345:arg_mine.api.classify: Attempting url 46 of 50\n",
      "DEBUG:2020-07-09 19:13:22,921:arg_mine.api.classify: Attempting url 47 of 50\n",
      "DEBUG:2020-07-09 19:13:24,127:arg_mine.api.classify: Attempting url 48 of 50\n",
      "DEBUG:2020-07-09 19:13:26,095:arg_mine.api.classify: Attempting url 49 of 50\n",
      "DEBUG:2020-07-09 19:13:32,046:arg_mine.api.classify: Attempting url 50 of 50\n",
      "DEBUG:2020-07-09 19:13:33,317:arg_mine.api.classify: Attempting url 1 of 50\n"
     ]
    },
    {
     "name": "stdout",
     "output_type": "stream",
     "text": [
      "iteration took 68.51 s\n"
     ]
    },
    {
     "name": "stderr",
     "output_type": "stream",
     "text": [
      "DEBUG:2020-07-09 19:13:34,925:arg_mine.api.classify: Attempting url 2 of 50\n",
      "DEBUG:2020-07-09 19:13:35,718:arg_mine.api.classify: Attempting url 3 of 50\n",
      "DEBUG:2020-07-09 19:13:37,194:arg_mine.api.classify: Attempting url 4 of 50\n",
      "WARNING:2020-07-09 19:13:37,786:arg_mine.api.classify: Refused: Refused: 400: Website could not be crawled or returned an empty result. Please contact an administrator., url=https://www.heraldmailmedia.com/news/nation/australia-sending-aid-to-wildfire-towns-as-death-toll-rises/article_883fa793-6c0a-547e-8f77-b5964f1d7182.html\n",
      "DEBUG:2020-07-09 19:13:37,788:arg_mine.api.classify: Attempting url 5 of 50\n",
      "DEBUG:2020-07-09 19:13:39,171:arg_mine.api.classify: Attempting url 6 of 50\n",
      "DEBUG:2020-07-09 19:13:40,378:arg_mine.api.classify: Attempting url 7 of 50\n",
      "WARNING:2020-07-09 19:13:40,656:arg_mine.api.classify: Refused: Refused: 400: Website could not be crawled or returned an empty result. Please contact an administrator., url=https://www.seattlepi.com/news/world/article/Cooler-weather-brings-respite-in-Australian-14950114.php\n",
      "DEBUG:2020-07-09 19:13:40,657:arg_mine.api.classify: Attempting url 8 of 50\n",
      "WARNING:2020-07-09 19:13:44,336:arg_mine.api.classify: Refused: Refused: 400: Website could not be crawled or returned an empty result. Please contact an administrator., url=https://www.airdrietoday.com/national-business/starbucks-goals-for-sustainability-will-require-significant-consumer-buy-in-2037947\n",
      "DEBUG:2020-07-09 19:13:44,339:arg_mine.api.classify: Attempting url 9 of 50\n",
      "WARNING:2020-07-09 19:13:45,536:arg_mine.api.classify: Refused: Refused: 400: Website could not be crawled or returned an empty result. Please contact an administrator., url=https://www.heraldbulletin.com/news/nation_world/davos-chief-welcomes-views-of-trump-greta-thunberg-at-forum/article_24dbb151-7132-5c48-a7df-c13b67004ec0.html\n",
      "DEBUG:2020-07-09 19:13:45,538:arg_mine.api.classify: Attempting url 10 of 50\n",
      "DEBUG:2020-07-09 19:13:46,813:arg_mine.api.classify: Attempting url 11 of 50\n",
      "DEBUG:2020-07-09 19:13:47,771:arg_mine.api.classify: Attempting url 12 of 50\n",
      "DEBUG:2020-07-09 19:13:48,753:arg_mine.api.classify: Attempting url 13 of 50\n",
      "DEBUG:2020-07-09 19:13:49,860:arg_mine.api.classify: Attempting url 14 of 50\n",
      "WARNING:2020-07-09 19:13:50,535:arg_mine.api.classify: Refused: Refused: 400: Website could not be crawled or returned an empty result. Please contact an administrator., url=https://ravallirepublic.com/news/local/article_cb291465-d430-5477-8b41-1bedda9beaea.html\n",
      "DEBUG:2020-07-09 19:13:50,536:arg_mine.api.classify: Attempting url 15 of 50\n",
      "WARNING:2020-07-09 19:13:51,651:arg_mine.api.classify: Refused: Refused: 400: Website could not be crawled or returned an empty result. Please contact an administrator., url=https://www.caledonianrecord.com/opinion/columns/shawn-shouldice-small-business-owners-prepare-to-dodge-bullets-during/article_9f1b6399-7ca9-59bc-8788-b4d05ec5825c.html\n",
      "DEBUG:2020-07-09 19:13:51,653:arg_mine.api.classify: Attempting url 16 of 50\n",
      "DEBUG:2020-07-09 19:13:52,899:arg_mine.api.classify: Attempting url 17 of 50\n",
      "WARNING:2020-07-09 19:13:53,541:arg_mine.api.classify: Refused: Refused: 400: Website could not be crawled or returned an empty result. Please contact an administrator., url=https://www.nsnews.com/trudeau-meets-pallister-and-the-meng-hearing-in-the-news-for-jan-20-1.24056357\n",
      "DEBUG:2020-07-09 19:13:53,544:arg_mine.api.classify: Attempting url 18 of 50\n",
      "DEBUG:2020-07-09 19:13:54,985:arg_mine.api.classify: Attempting url 19 of 50\n",
      "DEBUG:2020-07-09 19:13:55,700:arg_mine.api.classify: Attempting url 20 of 50\n",
      "DEBUG:2020-07-09 19:13:57,886:arg_mine.api.classify: Attempting url 21 of 50\n",
      "DEBUG:2020-07-09 19:13:58,713:arg_mine.api.classify: Attempting url 22 of 50\n",
      "DEBUG:2020-07-09 19:13:59,880:arg_mine.api.classify: Attempting url 23 of 50\n",
      "DEBUG:2020-07-09 19:14:01,622:arg_mine.api.classify: Attempting url 24 of 50\n",
      "WARNING:2020-07-09 19:14:02,344:arg_mine.api.classify: Refused: Refused: 400: Website could not be crawled or returned an empty result. Please contact an administrator., url=https://isp.netscape.com/news/story/0002/20200109/KBN1Z81IM_6\n",
      "DEBUG:2020-07-09 19:14:02,346:arg_mine.api.classify: Attempting url 25 of 50\n",
      "DEBUG:2020-07-09 19:14:04,092:arg_mine.api.classify: Attempting url 26 of 50\n",
      "DEBUG:2020-07-09 19:14:04,839:arg_mine.api.classify: Attempting url 27 of 50\n",
      "DEBUG:2020-07-09 19:14:06,204:arg_mine.api.classify: Attempting url 28 of 50\n",
      "DEBUG:2020-07-09 19:14:08,299:arg_mine.api.classify: Attempting url 29 of 50\n",
      "DEBUG:2020-07-09 19:14:09,438:arg_mine.api.classify: Attempting url 30 of 50\n",
      "DEBUG:2020-07-09 19:14:11,504:arg_mine.api.classify: Attempting url 31 of 50\n",
      "DEBUG:2020-07-09 19:14:12,804:arg_mine.api.classify: Attempting url 32 of 50\n",
      "DEBUG:2020-07-09 19:14:13,868:arg_mine.api.classify: Attempting url 33 of 50\n",
      "WARNING:2020-07-09 19:14:14,507:arg_mine.api.classify: Refused: Refused: 400: Website could not be crawled or returned an empty result. Please contact an administrator., url=https://democratherald.com/news/world/climate-change-brexit-divorce-eu-faces-challenges-in/article_242dbfcc-756a-5eeb-b0d4-731f00f905a7.html\n",
      "DEBUG:2020-07-09 19:14:14,508:arg_mine.api.classify: Attempting url 34 of 50\n",
      "DEBUG:2020-07-09 19:14:16,319:arg_mine.api.classify: Attempting url 35 of 50\n",
      "DEBUG:2020-07-09 19:14:17,240:arg_mine.api.classify: Attempting url 36 of 50\n",
      "DEBUG:2020-07-09 19:14:18,313:arg_mine.api.classify: Attempting url 37 of 50\n",
      "WARNING:2020-07-09 19:14:18,881:arg_mine.api.classify: Refused: Refused: 400: Website could not be crawled or returned an empty result. Please contact an administrator., url=https://www.dailyadvance.com/news/world/man-burned-as-huge-wildfire-forms-during-australia-crisis/article_8c6b5e0b-5782-5d02-936a-212b781ce1e8.html\n",
      "DEBUG:2020-07-09 19:14:18,882:arg_mine.api.classify: Attempting url 38 of 50\n",
      "DEBUG:2020-07-09 19:14:20,606:arg_mine.api.classify: Attempting url 39 of 50\n",
      "DEBUG:2020-07-09 19:14:21,496:arg_mine.api.classify: Attempting url 40 of 50\n",
      "DEBUG:2020-07-09 19:14:23,263:arg_mine.api.classify: Attempting url 41 of 50\n",
      "DEBUG:2020-07-09 19:14:24,748:arg_mine.api.classify: Attempting url 42 of 50\n",
      "WARNING:2020-07-09 19:14:25,291:arg_mine.api.classify: Refused: Refused: 400: Website could not be crawled or returned an empty result. Please contact an administrator., url=https://www.msn.com/en-us/news/world/update-5-smoke-stalls-rescues-as-australia-plans-for-next-fiery-onslaught/ar-BBYE1Ri\n",
      "DEBUG:2020-07-09 19:14:25,293:arg_mine.api.classify: Attempting url 43 of 50\n",
      "DEBUG:2020-07-09 19:14:26,511:arg_mine.api.classify: Attempting url 44 of 50\n",
      "DEBUG:2020-07-09 19:14:28,414:arg_mine.api.classify: Attempting url 45 of 50\n",
      "DEBUG:2020-07-09 19:14:29,118:arg_mine.api.classify: Attempting url 46 of 50\n",
      "DEBUG:2020-07-09 19:14:30,495:arg_mine.api.classify: Attempting url 47 of 50\n",
      "DEBUG:2020-07-09 19:14:33,342:arg_mine.api.classify: Attempting url 48 of 50\n",
      "DEBUG:2020-07-09 19:14:35,205:arg_mine.api.classify: Attempting url 49 of 50\n",
      "DEBUG:2020-07-09 19:14:41,576:arg_mine.api.classify: Attempting url 50 of 50\n",
      "DEBUG:2020-07-09 19:14:43,134:arg_mine.api.classify: Attempting url 1 of 50\n"
     ]
    },
    {
     "name": "stdout",
     "output_type": "stream",
     "text": [
      "iteration took 69.46 s\n"
     ]
    },
    {
     "name": "stderr",
     "output_type": "stream",
     "text": [
      "DEBUG:2020-07-09 19:14:44,560:arg_mine.api.classify: Attempting url 2 of 50\n",
      "DEBUG:2020-07-09 19:14:45,382:arg_mine.api.classify: Attempting url 3 of 50\n",
      "DEBUG:2020-07-09 19:14:46,852:arg_mine.api.classify: Attempting url 4 of 50\n",
      "WARNING:2020-07-09 19:14:47,427:arg_mine.api.classify: Refused: Refused: 400: Website could not be crawled or returned an empty result. Please contact an administrator., url=https://www.heraldmailmedia.com/news/nation/australia-sending-aid-to-wildfire-towns-as-death-toll-rises/article_883fa793-6c0a-547e-8f77-b5964f1d7182.html\n",
      "DEBUG:2020-07-09 19:14:47,429:arg_mine.api.classify: Attempting url 5 of 50\n",
      "DEBUG:2020-07-09 19:14:49,666:arg_mine.api.classify: Attempting url 6 of 50\n",
      "DEBUG:2020-07-09 19:14:50,945:arg_mine.api.classify: Attempting url 7 of 50\n",
      "WARNING:2020-07-09 19:14:51,239:arg_mine.api.classify: Refused: Refused: 400: Website could not be crawled or returned an empty result. Please contact an administrator., url=https://www.seattlepi.com/news/world/article/Cooler-weather-brings-respite-in-Australian-14950114.php\n",
      "DEBUG:2020-07-09 19:14:51,240:arg_mine.api.classify: Attempting url 8 of 50\n",
      "WARNING:2020-07-09 19:14:52,244:arg_mine.api.classify: Refused: Refused: 400: Website could not be crawled or returned an empty result. Please contact an administrator., url=https://www.airdrietoday.com/national-business/starbucks-goals-for-sustainability-will-require-significant-consumer-buy-in-2037947\n",
      "DEBUG:2020-07-09 19:14:52,246:arg_mine.api.classify: Attempting url 9 of 50\n",
      "WARNING:2020-07-09 19:14:53,406:arg_mine.api.classify: Refused: Refused: 400: Website could not be crawled or returned an empty result. Please contact an administrator., url=https://www.heraldbulletin.com/news/nation_world/davos-chief-welcomes-views-of-trump-greta-thunberg-at-forum/article_24dbb151-7132-5c48-a7df-c13b67004ec0.html\n",
      "DEBUG:2020-07-09 19:14:53,408:arg_mine.api.classify: Attempting url 10 of 50\n",
      "DEBUG:2020-07-09 19:14:54,592:arg_mine.api.classify: Attempting url 11 of 50\n",
      "DEBUG:2020-07-09 19:14:55,603:arg_mine.api.classify: Attempting url 12 of 50\n",
      "DEBUG:2020-07-09 19:14:56,633:arg_mine.api.classify: Attempting url 13 of 50\n",
      "DEBUG:2020-07-09 19:14:57,705:arg_mine.api.classify: Attempting url 14 of 50\n",
      "WARNING:2020-07-09 19:14:58,342:arg_mine.api.classify: Refused: Refused: 400: Website could not be crawled or returned an empty result. Please contact an administrator., url=https://ravallirepublic.com/news/local/article_cb291465-d430-5477-8b41-1bedda9beaea.html\n",
      "DEBUG:2020-07-09 19:14:58,343:arg_mine.api.classify: Attempting url 15 of 50\n",
      "WARNING:2020-07-09 19:14:59,458:arg_mine.api.classify: Refused: Refused: 400: Website could not be crawled or returned an empty result. Please contact an administrator., url=https://www.caledonianrecord.com/opinion/columns/shawn-shouldice-small-business-owners-prepare-to-dodge-bullets-during/article_9f1b6399-7ca9-59bc-8788-b4d05ec5825c.html\n",
      "DEBUG:2020-07-09 19:14:59,459:arg_mine.api.classify: Attempting url 16 of 50\n",
      "DEBUG:2020-07-09 19:15:01,327:arg_mine.api.classify: Attempting url 17 of 50\n",
      "WARNING:2020-07-09 19:15:01,995:arg_mine.api.classify: Refused: Refused: 400: Website could not be crawled or returned an empty result. Please contact an administrator., url=https://www.nsnews.com/trudeau-meets-pallister-and-the-meng-hearing-in-the-news-for-jan-20-1.24056357\n",
      "DEBUG:2020-07-09 19:15:01,997:arg_mine.api.classify: Attempting url 18 of 50\n",
      "DEBUG:2020-07-09 19:15:03,443:arg_mine.api.classify: Attempting url 19 of 50\n",
      "DEBUG:2020-07-09 19:15:04,712:arg_mine.api.classify: Attempting url 20 of 50\n",
      "DEBUG:2020-07-09 19:15:06,825:arg_mine.api.classify: Attempting url 21 of 50\n",
      "DEBUG:2020-07-09 19:15:07,702:arg_mine.api.classify: Attempting url 22 of 50\n",
      "DEBUG:2020-07-09 19:15:09,139:arg_mine.api.classify: Attempting url 23 of 50\n",
      "DEBUG:2020-07-09 19:15:10,949:arg_mine.api.classify: Attempting url 24 of 50\n",
      "WARNING:2020-07-09 19:15:11,340:arg_mine.api.classify: Refused: Refused: 400: Website could not be crawled or returned an empty result. Please contact an administrator., url=https://isp.netscape.com/news/story/0002/20200109/KBN1Z81IM_6\n",
      "DEBUG:2020-07-09 19:15:11,342:arg_mine.api.classify: Attempting url 25 of 50\n",
      "DEBUG:2020-07-09 19:15:13,009:arg_mine.api.classify: Attempting url 26 of 50\n",
      "DEBUG:2020-07-09 19:15:13,804:arg_mine.api.classify: Attempting url 27 of 50\n",
      "DEBUG:2020-07-09 19:15:15,233:arg_mine.api.classify: Attempting url 28 of 50\n",
      "DEBUG:2020-07-09 19:15:17,325:arg_mine.api.classify: Attempting url 29 of 50\n",
      "DEBUG:2020-07-09 19:15:18,214:arg_mine.api.classify: Attempting url 30 of 50\n",
      "DEBUG:2020-07-09 19:15:20,378:arg_mine.api.classify: Attempting url 31 of 50\n",
      "DEBUG:2020-07-09 19:15:21,688:arg_mine.api.classify: Attempting url 32 of 50\n",
      "DEBUG:2020-07-09 19:15:22,809:arg_mine.api.classify: Attempting url 33 of 50\n",
      "WARNING:2020-07-09 19:15:23,637:arg_mine.api.classify: Refused: Refused: 400: Website could not be crawled or returned an empty result. Please contact an administrator., url=https://democratherald.com/news/world/climate-change-brexit-divorce-eu-faces-challenges-in/article_242dbfcc-756a-5eeb-b0d4-731f00f905a7.html\n",
      "DEBUG:2020-07-09 19:15:23,639:arg_mine.api.classify: Attempting url 34 of 50\n",
      "DEBUG:2020-07-09 19:15:25,599:arg_mine.api.classify: Attempting url 35 of 50\n",
      "DEBUG:2020-07-09 19:15:26,645:arg_mine.api.classify: Attempting url 36 of 50\n",
      "DEBUG:2020-07-09 19:15:27,942:arg_mine.api.classify: Attempting url 37 of 50\n",
      "WARNING:2020-07-09 19:15:28,769:arg_mine.api.classify: Refused: Refused: 400: Website could not be crawled or returned an empty result. Please contact an administrator., url=https://www.dailyadvance.com/news/world/man-burned-as-huge-wildfire-forms-during-australia-crisis/article_8c6b5e0b-5782-5d02-936a-212b781ce1e8.html\n",
      "DEBUG:2020-07-09 19:15:28,770:arg_mine.api.classify: Attempting url 38 of 50\n",
      "DEBUG:2020-07-09 19:15:30,526:arg_mine.api.classify: Attempting url 39 of 50\n",
      "DEBUG:2020-07-09 19:15:31,429:arg_mine.api.classify: Attempting url 40 of 50\n",
      "DEBUG:2020-07-09 19:15:33,287:arg_mine.api.classify: Attempting url 41 of 50\n",
      "DEBUG:2020-07-09 19:15:34,695:arg_mine.api.classify: Attempting url 42 of 50\n",
      "WARNING:2020-07-09 19:15:35,053:arg_mine.api.classify: Refused: Refused: 400: Website could not be crawled or returned an empty result. Please contact an administrator., url=https://www.msn.com/en-us/news/world/update-5-smoke-stalls-rescues-as-australia-plans-for-next-fiery-onslaught/ar-BBYE1Ri\n",
      "DEBUG:2020-07-09 19:15:35,055:arg_mine.api.classify: Attempting url 43 of 50\n",
      "DEBUG:2020-07-09 19:15:36,291:arg_mine.api.classify: Attempting url 44 of 50\n",
      "DEBUG:2020-07-09 19:15:37,508:arg_mine.api.classify: Attempting url 45 of 50\n",
      "DEBUG:2020-07-09 19:15:38,788:arg_mine.api.classify: Attempting url 46 of 50\n",
      "DEBUG:2020-07-09 19:15:40,262:arg_mine.api.classify: Attempting url 47 of 50\n",
      "DEBUG:2020-07-09 19:15:41,458:arg_mine.api.classify: Attempting url 48 of 50\n",
      "DEBUG:2020-07-09 19:15:43,373:arg_mine.api.classify: Attempting url 49 of 50\n",
      "DEBUG:2020-07-09 19:15:50,020:arg_mine.api.classify: Attempting url 50 of 50\n"
     ]
    },
    {
     "name": "stdout",
     "output_type": "stream",
     "text": [
      "iteration took 68.05 s\n",
      "1min 13s ± 6.65 s per loop (mean ± std. dev. of 7 runs, 1 loop each)\n"
     ]
    }
   ],
   "source": [
    "%%timeit\n",
    "start_time = time.time()\n",
    "\n",
    "doc_list, sentence_list, refused_doc_list = classify.collect_sentences_by_topic(topic, url_df.content_url.values[:num_docs])\n",
    "\n",
    "print(\"iteration took {:.2f} s\".format(time.time() - start_time))"
   ]
  },
  {
   "cell_type": "code",
   "execution_count": 43,
   "metadata": {},
   "outputs": [
    {
     "name": "stderr",
     "output_type": "stream",
     "text": [
      "DEBUG:2020-07-09 19:15:51,216:arg_mine.api.classify: >>>> starting doc extraction\n",
      "DEBUG:2020-07-09 19:16:03,793:arg_mine.api.classify: iteration 0 took 12.575 s (10 docs)\n",
      "DEBUG:2020-07-09 19:16:17,453:arg_mine.api.classify: iteration 1 took 13.658 s (10 docs)\n",
      "DEBUG:2020-07-09 19:16:35,129:arg_mine.api.classify: iteration 2 took 17.675 s (10 docs)\n",
      "DEBUG:2020-07-09 19:16:50,754:arg_mine.api.classify: iteration 3 took 15.623 s (10 docs)\n",
      "DEBUG:2020-07-09 19:17:15,452:arg_mine.api.classify: iteration 4 took 24.696 s (10 docs)\n",
      "DEBUG:2020-07-09 19:17:15,453:arg_mine.api.classify: 50 URLs took 84.237 s\n",
      "DEBUG:2020-07-09 19:17:15,544:arg_mine.api.classify: >>>> starting doc extraction\n"
     ]
    },
    {
     "name": "stdout",
     "output_type": "stream",
     "text": [
      "iteration took 84.32 s\n"
     ]
    },
    {
     "name": "stderr",
     "output_type": "stream",
     "text": [
      "DEBUG:2020-07-09 19:17:30,977:arg_mine.api.classify: iteration 0 took 15.433 s (10 docs)\n",
      "DEBUG:2020-07-09 19:17:47,554:arg_mine.api.classify: iteration 1 took 16.575 s (10 docs)\n",
      "DEBUG:2020-07-09 19:18:05,442:arg_mine.api.classify: iteration 2 took 17.886 s (10 docs)\n",
      "DEBUG:2020-07-09 19:18:23,343:arg_mine.api.classify: iteration 3 took 17.900 s (10 docs)\n",
      "DEBUG:2020-07-09 19:18:48,018:arg_mine.api.classify: iteration 4 took 24.674 s (10 docs)\n",
      "DEBUG:2020-07-09 19:18:48,020:arg_mine.api.classify: 50 URLs took 92.477 s\n",
      "DEBUG:2020-07-09 19:18:48,092:arg_mine.api.classify: >>>> starting doc extraction\n"
     ]
    },
    {
     "name": "stdout",
     "output_type": "stream",
     "text": [
      "iteration took 92.55 s\n"
     ]
    },
    {
     "name": "stderr",
     "output_type": "stream",
     "text": [
      "DEBUG:2020-07-09 19:19:00,686:arg_mine.api.classify: iteration 0 took 12.592 s (10 docs)\n",
      "DEBUG:2020-07-09 19:19:14,728:arg_mine.api.classify: iteration 1 took 14.041 s (10 docs)\n",
      "DEBUG:2020-07-09 19:19:32,576:arg_mine.api.classify: iteration 2 took 17.847 s (10 docs)\n",
      "DEBUG:2020-07-09 19:19:49,459:arg_mine.api.classify: iteration 3 took 16.881 s (10 docs)\n",
      "DEBUG:2020-07-09 19:20:13,387:arg_mine.api.classify: iteration 4 took 23.926 s (10 docs)\n",
      "DEBUG:2020-07-09 19:20:13,389:arg_mine.api.classify: 50 URLs took 85.297 s\n",
      "DEBUG:2020-07-09 19:20:13,467:arg_mine.api.classify: >>>> starting doc extraction\n"
     ]
    },
    {
     "name": "stdout",
     "output_type": "stream",
     "text": [
      "iteration took 85.37 s\n"
     ]
    },
    {
     "name": "stderr",
     "output_type": "stream",
     "text": [
      "DEBUG:2020-07-09 19:20:25,932:arg_mine.api.classify: iteration 0 took 12.465 s (10 docs)\n",
      "DEBUG:2020-07-09 19:20:39,477:arg_mine.api.classify: iteration 1 took 13.544 s (10 docs)\n",
      "DEBUG:2020-07-09 19:20:57,156:arg_mine.api.classify: iteration 2 took 17.678 s (10 docs)\n",
      "DEBUG:2020-07-09 19:21:12,967:arg_mine.api.classify: iteration 3 took 15.809 s (10 docs)\n",
      "DEBUG:2020-07-09 19:21:37,433:arg_mine.api.classify: iteration 4 took 24.465 s (10 docs)\n",
      "DEBUG:2020-07-09 19:21:37,435:arg_mine.api.classify: 50 URLs took 83.968 s\n",
      "DEBUG:2020-07-09 19:21:37,507:arg_mine.api.classify: >>>> starting doc extraction\n"
     ]
    },
    {
     "name": "stdout",
     "output_type": "stream",
     "text": [
      "iteration took 84.04 s\n"
     ]
    },
    {
     "name": "stderr",
     "output_type": "stream",
     "text": [
      "DEBUG:2020-07-09 19:21:49,757:arg_mine.api.classify: iteration 0 took 12.250 s (10 docs)\n",
      "DEBUG:2020-07-09 19:22:04,790:arg_mine.api.classify: iteration 1 took 15.032 s (10 docs)\n",
      "DEBUG:2020-07-09 19:22:22,922:arg_mine.api.classify: iteration 2 took 18.131 s (10 docs)\n",
      "DEBUG:2020-07-09 19:22:39,874:arg_mine.api.classify: iteration 3 took 16.951 s (10 docs)\n",
      "DEBUG:2020-07-09 19:23:07,462:arg_mine.api.classify: iteration 4 took 27.587 s (10 docs)\n",
      "DEBUG:2020-07-09 19:23:07,464:arg_mine.api.classify: 50 URLs took 89.957 s\n",
      "DEBUG:2020-07-09 19:23:07,546:arg_mine.api.classify: >>>> starting doc extraction\n"
     ]
    },
    {
     "name": "stdout",
     "output_type": "stream",
     "text": [
      "iteration took 90.04 s\n"
     ]
    },
    {
     "name": "stderr",
     "output_type": "stream",
     "text": [
      "DEBUG:2020-07-09 19:23:20,875:arg_mine.api.classify: iteration 0 took 13.328 s (10 docs)\n",
      "DEBUG:2020-07-09 19:23:35,110:arg_mine.api.classify: iteration 1 took 14.234 s (10 docs)\n",
      "DEBUG:2020-07-09 19:23:52,844:arg_mine.api.classify: iteration 2 took 17.732 s (10 docs)\n",
      "DEBUG:2020-07-09 19:24:10,392:arg_mine.api.classify: iteration 3 took 17.547 s (10 docs)\n",
      "DEBUG:2020-07-09 19:24:34,566:arg_mine.api.classify: iteration 4 took 24.173 s (10 docs)\n",
      "DEBUG:2020-07-09 19:24:34,567:arg_mine.api.classify: 50 URLs took 87.021 s\n",
      "DEBUG:2020-07-09 19:24:34,637:arg_mine.api.classify: >>>> starting doc extraction\n"
     ]
    },
    {
     "name": "stdout",
     "output_type": "stream",
     "text": [
      "iteration took 87.09 s\n"
     ]
    },
    {
     "name": "stderr",
     "output_type": "stream",
     "text": [
      "DEBUG:2020-07-09 19:24:47,718:arg_mine.api.classify: iteration 0 took 13.080 s (10 docs)\n",
      "DEBUG:2020-07-09 19:25:01,780:arg_mine.api.classify: iteration 1 took 14.061 s (10 docs)\n",
      "DEBUG:2020-07-09 19:25:19,404:arg_mine.api.classify: iteration 2 took 17.622 s (10 docs)\n",
      "DEBUG:2020-07-09 19:25:35,142:arg_mine.api.classify: iteration 3 took 15.737 s (10 docs)\n",
      "DEBUG:2020-07-09 19:25:57,484:arg_mine.api.classify: iteration 4 took 22.340 s (10 docs)\n",
      "DEBUG:2020-07-09 19:25:57,486:arg_mine.api.classify: 50 URLs took 82.849 s\n",
      "DEBUG:2020-07-09 19:25:57,557:arg_mine.api.classify: >>>> starting doc extraction\n"
     ]
    },
    {
     "name": "stdout",
     "output_type": "stream",
     "text": [
      "iteration took 82.92 s\n"
     ]
    },
    {
     "name": "stderr",
     "output_type": "stream",
     "text": [
      "DEBUG:2020-07-09 19:26:11,560:arg_mine.api.classify: iteration 0 took 14.002 s (10 docs)\n",
      "DEBUG:2020-07-09 19:26:25,407:arg_mine.api.classify: iteration 1 took 13.845 s (10 docs)\n",
      "DEBUG:2020-07-09 19:26:43,091:arg_mine.api.classify: iteration 2 took 17.682 s (10 docs)\n",
      "DEBUG:2020-07-09 19:27:00,526:arg_mine.api.classify: iteration 3 took 17.434 s (10 docs)\n",
      "DEBUG:2020-07-09 19:28:00,279:arg_mine.api.classify: iteration 4 took 59.751 s (10 docs)\n",
      "DEBUG:2020-07-09 19:28:00,280:arg_mine.api.classify: 50 URLs took 122.723 s\n"
     ]
    },
    {
     "name": "stdout",
     "output_type": "stream",
     "text": [
      "iteration took 122.79 s\n",
      "1min 32s ± 12.9 s per loop (mean ± std. dev. of 7 runs, 1 loop each)\n"
     ]
    }
   ],
   "source": [
    "%%timeit\n",
    "start_time = time.time()\n",
    "chunk_size=100\n",
    "\n",
    "responses = classify.fetch_concurrent(topic, url_list = url_df.content_url.values[:num_docs], chunk_size=chunk_size)\n",
    "docs_df, sentences_df, missing_urls = classify.process_responses(responses)\n",
    "\n",
    "print(\"iteration took {:.2f} s\".format(time.time() - start_time))"
   ]
  },
  {
   "cell_type": "code",
   "execution_count": null,
   "metadata": {},
   "outputs": [],
   "source": []
  },
  {
   "cell_type": "code",
   "execution_count": null,
   "metadata": {},
   "outputs": [],
   "source": []
  },
  {
   "cell_type": "code",
   "execution_count": null,
   "metadata": {},
   "outputs": [],
   "source": []
  }
 ],
 "metadata": {
  "kernelspec": {
   "display_name": "Python 3",
   "language": "python",
   "name": "python3"
  },
  "language_info": {
   "codemirror_mode": {
    "name": "ipython",
    "version": 3
   },
   "file_extension": ".py",
   "mimetype": "text/x-python",
   "name": "python",
   "nbconvert_exporter": "python",
   "pygments_lexer": "ipython3",
   "version": "3.8.3"
  }
 },
 "nbformat": 4,
 "nbformat_minor": 4
}
