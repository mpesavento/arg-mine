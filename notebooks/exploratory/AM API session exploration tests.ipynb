{
 "cells": [
  {
   "cell_type": "markdown",
   "metadata": {},
   "source": [
    "# Argument Mining API query testing\n",
    "\n",
    "Load the target datafile, and see how the query results work"
   ]
  },
  {
   "cell_type": "code",
   "execution_count": 1,
   "metadata": {},
   "outputs": [],
   "source": [
    "# reload local package definitions for each cell\n",
    "%load_ext autoreload\n",
    "%autoreload 2"
   ]
  },
  {
   "cell_type": "code",
   "execution_count": 2,
   "metadata": {},
   "outputs": [
    {
     "name": "stderr",
     "output_type": "stream",
     "text": [
      "/usr/local/lib/python3.8/site-packages/grequests.py:22: MonkeyPatchWarning: Monkey-patching ssl after ssl has already been imported may lead to errors, including RecursionError on Python 3.6. It may also silently lead to incorrect behaviour on Python 3.7. Please monkey-patch earlier. See https://github.com/gevent/gevent/issues/1016. Modules that had direct imports (NOT patched): ['urllib3.contrib.pyopenssl (/usr/local/lib/python3.8/site-packages/urllib3/contrib/pyopenssl.py)']. \n",
      "  curious_george.patch_all(thread=False, select=False)\n"
     ]
    }
   ],
   "source": [
    "import os\n",
    "import time\n",
    "\n",
    "from dotenv import find_dotenv, load_dotenv\n",
    "import requests\n",
    "import grequests\n",
    "import numpy as np\n",
    "import pandas as pd\n",
    "import json\n",
    "\n",
    "from arg_mine import DATA_DIR\n",
    "from arg_mine.data.loaders import get_gdelt_df\n",
    "from arg_mine.api import classify, auth, session, errors\n",
    "from arg_mine import utils"
   ]
  },
  {
   "cell_type": "code",
   "execution_count": 3,
   "metadata": {},
   "outputs": [],
   "source": [
    "# load the env variables to get the API key\n",
    "user_id, api_key = auth.load_auth_tokens()"
   ]
  },
  {
   "cell_type": "code",
   "execution_count": 4,
   "metadata": {},
   "outputs": [
    {
     "data": {
      "text/html": [
       "<div>\n",
       "<style scoped>\n",
       "    .dataframe tbody tr th:only-of-type {\n",
       "        vertical-align: middle;\n",
       "    }\n",
       "\n",
       "    .dataframe tbody tr th {\n",
       "        vertical-align: top;\n",
       "    }\n",
       "\n",
       "    .dataframe thead th {\n",
       "        text-align: right;\n",
       "    }\n",
       "</style>\n",
       "<table border=\"1\" class=\"dataframe\">\n",
       "  <thead>\n",
       "    <tr style=\"text-align: right;\">\n",
       "      <th></th>\n",
       "      <th>datetime</th>\n",
       "      <th>title</th>\n",
       "      <th>headline_image_url</th>\n",
       "      <th>content_url</th>\n",
       "      <th>labeled_argument</th>\n",
       "      <th>timestamp</th>\n",
       "    </tr>\n",
       "  </thead>\n",
       "  <tbody>\n",
       "    <tr>\n",
       "      <th>0</th>\n",
       "      <td>20200115111500</td>\n",
       "      <td>Liberal MPs back Science Minister Karen Andrew...</td>\n",
       "      <td>https://static.ffx.io/images/$zoom_0.2627%2C$m...</td>\n",
       "      <td>https://www.smh.com.au/politics/federal/libera...</td>\n",
       "      <td>the science in her interview with The Age and...</td>\n",
       "      <td>2020-01-15 11:15:00</td>\n",
       "    </tr>\n",
       "    <tr>\n",
       "      <th>1</th>\n",
       "      <td>20200117184500</td>\n",
       "      <td>Several crowd-pullers on day two of KLF</td>\n",
       "      <td>https://www.thehindu.com/news/cities/kozhikode...</td>\n",
       "      <td>https://www.thehindu.com/news/cities/kozhikode...</td>\n",
       "      <td>Guha, who talked about patriotism and jingois...</td>\n",
       "      <td>2020-01-17 18:45:00</td>\n",
       "    </tr>\n",
       "    <tr>\n",
       "      <th>2</th>\n",
       "      <td>20200106233000</td>\n",
       "      <td>Seven arrested after gas rig protest</td>\n",
       "      <td>https://www.stourbridgenews.co.uk/resources/im...</td>\n",
       "      <td>https://www.stourbridgenews.co.uk/news/nationa...</td>\n",
       "      <td>three demands for the Scottish and UK Governm...</td>\n",
       "      <td>2020-01-06 23:30:00</td>\n",
       "    </tr>\n",
       "    <tr>\n",
       "      <th>3</th>\n",
       "      <td>20200101111500</td>\n",
       "      <td>Australia sending aid to wildfire towns as dea...</td>\n",
       "      <td>https://bloximages.newyork1.vip.townnews.com/h...</td>\n",
       "      <td>https://www.heraldmailmedia.com/news/nation/au...</td>\n",
       "      <td>this season the worst on record and reignited ...</td>\n",
       "      <td>2020-01-01 11:15:00</td>\n",
       "    </tr>\n",
       "    <tr>\n",
       "      <th>4</th>\n",
       "      <td>20200107101500</td>\n",
       "      <td>A hot, dry country caught between fire and a c...</td>\n",
       "      <td>NaN</td>\n",
       "      <td>http://global.chinadaily.com.cn/a/202001/07/WS...</td>\n",
       "      <td>, which is burned to generate electricity, wit...</td>\n",
       "      <td>2020-01-07 10:15:00</td>\n",
       "    </tr>\n",
       "  </tbody>\n",
       "</table>\n",
       "</div>"
      ],
      "text/plain": [
       "         datetime                                              title  \\\n",
       "0  20200115111500  Liberal MPs back Science Minister Karen Andrew...   \n",
       "1  20200117184500            Several crowd-pullers on day two of KLF   \n",
       "2  20200106233000               Seven arrested after gas rig protest   \n",
       "3  20200101111500  Australia sending aid to wildfire towns as dea...   \n",
       "4  20200107101500  A hot, dry country caught between fire and a c...   \n",
       "\n",
       "                                  headline_image_url  \\\n",
       "0  https://static.ffx.io/images/$zoom_0.2627%2C$m...   \n",
       "1  https://www.thehindu.com/news/cities/kozhikode...   \n",
       "2  https://www.stourbridgenews.co.uk/resources/im...   \n",
       "3  https://bloximages.newyork1.vip.townnews.com/h...   \n",
       "4                                                NaN   \n",
       "\n",
       "                                         content_url  \\\n",
       "0  https://www.smh.com.au/politics/federal/libera...   \n",
       "1  https://www.thehindu.com/news/cities/kozhikode...   \n",
       "2  https://www.stourbridgenews.co.uk/news/nationa...   \n",
       "3  https://www.heraldmailmedia.com/news/nation/au...   \n",
       "4  http://global.chinadaily.com.cn/a/202001/07/WS...   \n",
       "\n",
       "                                    labeled_argument           timestamp  \n",
       "0   the science in her interview with The Age and... 2020-01-15 11:15:00  \n",
       "1   Guha, who talked about patriotism and jingois... 2020-01-17 18:45:00  \n",
       "2   three demands for the Scottish and UK Governm... 2020-01-06 23:30:00  \n",
       "3  this season the worst on record and reignited ... 2020-01-01 11:15:00  \n",
       "4  , which is burned to generate electricity, wit... 2020-01-07 10:15:00  "
      ]
     },
     "execution_count": 4,
     "metadata": {},
     "output_type": "execute_result"
    }
   ],
   "source": [
    "csv_datapath = os.path.join(DATA_DIR, \"raw\", \"2020-climate-change-narrative\")\n",
    "csv_filepath = os.path.join(csv_datapath, \"WebNewsEnglishSnippets.2020.csv\")\n",
    "\n",
    "url_df = get_gdelt_df(csv_filepath)\n",
    "url_df.head()"
   ]
  },
  {
   "cell_type": "markdown",
   "metadata": {},
   "source": [
    "## Build the `classify` request"
   ]
  },
  {
   "cell_type": "code",
   "execution_count": 5,
   "metadata": {},
   "outputs": [],
   "source": [
    "url = url_df.iloc[0].content_url"
   ]
  },
  {
   "cell_type": "code",
   "execution_count": 6,
   "metadata": {},
   "outputs": [],
   "source": [
    "CLASSIFY_BASE_URL = \"https://api.argumentsearch.com/en/classify\"\n",
    "timeout = 5\n",
    "\n",
    "topic = \"climate change\"\n",
    "\n",
    "\n",
    "payload = {\n",
    "    \"topic\": topic,\n",
    "    \"userID\": user_id,\n",
    "    \"apiKey\": api_key,\n",
    "    \"targetUrl\": url,\n",
    "    \"topicRelevance\": \"word2vec\",\n",
    "    \"predictStance\": True,\n",
    "    \"computeAttention\": True,\n",
    "    \"showOnlyArguments\": False,\n",
    "}\n",
    "\n",
    "response = requests.post(\n",
    "    CLASSIFY_BASE_URL,\n",
    "    json=payload,\n",
    "    timeout=timeout,\n",
    ")\n",
    "response.raise_for_status()"
   ]
  },
  {
   "cell_type": "code",
   "execution_count": 7,
   "metadata": {},
   "outputs": [
    {
     "data": {
      "text/plain": [
       "dict_keys(['metadata', 'sentences'])"
      ]
     },
     "execution_count": 7,
     "metadata": {},
     "output_type": "execute_result"
    }
   ],
   "source": [
    "out = response.json()\n",
    "out.keys()"
   ]
  },
  {
   "cell_type": "code",
   "execution_count": null,
   "metadata": {},
   "outputs": [],
   "source": []
  },
  {
   "cell_type": "markdown",
   "metadata": {},
   "source": [
    "## try a single URL\n",
    "Get the doc and sentence objects"
   ]
  },
  {
   "cell_type": "code",
   "execution_count": 8,
   "metadata": {},
   "outputs": [],
   "source": [
    "response = classify.classify_url_sentences(topic, url_df.content_url.values[0], user_id, api_key)"
   ]
  },
  {
   "cell_type": "code",
   "execution_count": 9,
   "metadata": {},
   "outputs": [
    {
     "data": {
      "text/plain": [
       "ClassifiedSentence(url='https://www.smh.com.au/politics/federal/liberals-speak-out-to-back-science-minister-on-climate-change-action-20200115-p53rs1.html', doc_id='657f9dd95eb97597e34d0c05b5a93ba6', topic='climate change', sentence_id='da903878c62343fb482bfad67a7523f1', argument_confidence=0.9836708698421717, argument_label='argument', sentence_original='Mr Morrison said Ms Andrews had \"well set out\" the government policy and signalled again that he would bring forward future policies to adapt to a changing climate while also doing more to reduce greenhouse gas emissions.', sentence_preprocessed='Mr Morrison said Ms Andrews had \"well set out\" the government policy and signalled again that he would bring forward future policies to adapt to a changing climate while also doing more to reduce greenhouse gas emissions.', sort_confidence=None, stance_confidence=0.9978714715086467, stance_label='pro')"
      ]
     },
     "execution_count": 9,
     "metadata": {},
     "output_type": "execute_result"
    }
   ],
   "source": [
    "classify.ClassifiedSentence.from_dict(url, topic, response['sentences'][0])"
   ]
  },
  {
   "cell_type": "code",
   "execution_count": 10,
   "metadata": {},
   "outputs": [
    {
     "data": {
      "text/plain": [
       "{'argumentConfidence': 0.9836708698421717,\n",
       " 'argumentLabel': 'argument',\n",
       " 'sentenceOriginal': 'Mr Morrison said Ms Andrews had \"well set out\" the government policy and signalled again that he would bring forward future policies to adapt to a changing climate while also doing more to reduce greenhouse gas emissions.',\n",
       " 'sentencePreprocessed': 'Mr Morrison said Ms Andrews had \"well set out\" the government policy and signalled again that he would bring forward future policies to adapt to a changing climate while also doing more to reduce greenhouse gas emissions.',\n",
       " 'stanceConfidence': 0.9978714715086467,\n",
       " 'stanceLabel': 'pro'}"
      ]
     },
     "execution_count": 10,
     "metadata": {},
     "output_type": "execute_result"
    }
   ],
   "source": [
    "response['sentences'][0]"
   ]
  },
  {
   "cell_type": "code",
   "execution_count": 11,
   "metadata": {},
   "outputs": [
    {
     "data": {
      "text/plain": [
       "5"
      ]
     },
     "execution_count": 11,
     "metadata": {},
     "output_type": "execute_result"
    }
   ],
   "source": [
    "len(response['sentences'])"
   ]
  },
  {
   "cell_type": "code",
   "execution_count": 12,
   "metadata": {},
   "outputs": [
    {
     "name": "stdout",
     "output_type": "stream",
     "text": [
      "Refused: 400: Website could not be crawled or returned an empty result. Please contact an administrator.\n"
     ]
    }
   ],
   "source": [
    "# good example of a link that is no longer valid\n",
    "url = url_df.content_url.values[3]\n",
    "try: \n",
    "    response = classify.classify_url_sentences(topic, url, user_id, api_key)\n",
    "except errors.Refused as e:\n",
    "    print(e)"
   ]
  },
  {
   "cell_type": "code",
   "execution_count": null,
   "metadata": {},
   "outputs": [],
   "source": []
  },
  {
   "cell_type": "code",
   "execution_count": null,
   "metadata": {},
   "outputs": [],
   "source": []
  },
  {
   "cell_type": "markdown",
   "metadata": {},
   "source": [
    "## Run a batch of urls"
   ]
  },
  {
   "cell_type": "code",
   "execution_count": 13,
   "metadata": {},
   "outputs": [
    {
     "data": {
      "text/plain": [
       "(108459,)"
      ]
     },
     "execution_count": 13,
     "metadata": {},
     "output_type": "execute_result"
    }
   ],
   "source": [
    "url_df.content_url.shape"
   ]
  },
  {
   "cell_type": "code",
   "execution_count": 14,
   "metadata": {},
   "outputs": [
    {
     "name": "stderr",
     "output_type": "stream",
     "text": [
      "DEBUG:2020-07-02 23:07:22,259:arg_mine.api.classify: Attempting url 1 of 20\n",
      "DEBUG:2020-07-02 23:07:25,335:arg_mine.api.classify: Attempting url 2 of 20\n",
      "DEBUG:2020-07-02 23:07:27,921:arg_mine.api.classify: Attempting url 3 of 20\n",
      "DEBUG:2020-07-02 23:07:29,656:arg_mine.api.classify: Attempting url 4 of 20\n",
      "WARNING:2020-07-02 23:07:30,362:arg_mine.api.classify: Refused: Refused: 400: Website could not be crawled or returned an empty result. Please contact an administrator., url=https://www.heraldmailmedia.com/news/nation/australia-sending-aid-to-wildfire-towns-as-death-toll-rises/article_883fa793-6c0a-547e-8f77-b5964f1d7182.html\n",
      "DEBUG:2020-07-02 23:07:30,364:arg_mine.api.classify: Attempting url 5 of 20\n",
      "DEBUG:2020-07-02 23:07:32,455:arg_mine.api.classify: Attempting url 6 of 20\n",
      "DEBUG:2020-07-02 23:07:34,426:arg_mine.api.classify: Attempting url 7 of 20\n",
      "WARNING:2020-07-02 23:07:35,180:arg_mine.api.classify: Refused: Refused: 400: Website could not be crawled or returned an empty result. Please contact an administrator., url=https://www.seattlepi.com/news/world/article/Cooler-weather-brings-respite-in-Australian-14950114.php\n",
      "DEBUG:2020-07-02 23:07:35,182:arg_mine.api.classify: Attempting url 8 of 20\n",
      "WARNING:2020-07-02 23:07:36,316:arg_mine.api.classify: Refused: Refused: 400: Website could not be crawled or returned an empty result. Please contact an administrator., url=https://www.airdrietoday.com/national-business/starbucks-goals-for-sustainability-will-require-significant-consumer-buy-in-2037947\n",
      "DEBUG:2020-07-02 23:07:36,318:arg_mine.api.classify: Attempting url 9 of 20\n",
      "WARNING:2020-07-02 23:07:37,613:arg_mine.api.classify: Refused: Refused: 400: Website could not be crawled or returned an empty result. Please contact an administrator., url=https://www.heraldbulletin.com/news/nation_world/davos-chief-welcomes-views-of-trump-greta-thunberg-at-forum/article_24dbb151-7132-5c48-a7df-c13b67004ec0.html\n",
      "DEBUG:2020-07-02 23:07:37,614:arg_mine.api.classify: Attempting url 10 of 20\n",
      "DEBUG:2020-07-02 23:07:39,153:arg_mine.api.classify: Attempting url 11 of 20\n",
      "DEBUG:2020-07-02 23:07:41,436:arg_mine.api.classify: Attempting url 12 of 20\n",
      "DEBUG:2020-07-02 23:07:42,713:arg_mine.api.classify: Attempting url 13 of 20\n",
      "DEBUG:2020-07-02 23:07:44,052:arg_mine.api.classify: Attempting url 14 of 20\n",
      "WARNING:2020-07-02 23:07:45,508:arg_mine.api.classify: Refused: Refused: 400: Website could not be crawled or returned an empty result. Please contact an administrator., url=https://ravallirepublic.com/news/local/article_cb291465-d430-5477-8b41-1bedda9beaea.html\n",
      "DEBUG:2020-07-02 23:07:45,510:arg_mine.api.classify: Attempting url 15 of 20\n",
      "WARNING:2020-07-02 23:07:47,026:arg_mine.api.classify: Refused: Refused: 400: Website could not be crawled or returned an empty result. Please contact an administrator., url=https://www.caledonianrecord.com/opinion/columns/shawn-shouldice-small-business-owners-prepare-to-dodge-bullets-during/article_9f1b6399-7ca9-59bc-8788-b4d05ec5825c.html\n",
      "DEBUG:2020-07-02 23:07:47,028:arg_mine.api.classify: Attempting url 16 of 20\n",
      "DEBUG:2020-07-02 23:07:48,689:arg_mine.api.classify: Attempting url 17 of 20\n",
      "WARNING:2020-07-02 23:07:49,409:arg_mine.api.classify: Refused: Refused: 400: Website could not be crawled or returned an empty result. Please contact an administrator., url=https://www.nsnews.com/trudeau-meets-pallister-and-the-meng-hearing-in-the-news-for-jan-20-1.24056357\n",
      "DEBUG:2020-07-02 23:07:49,410:arg_mine.api.classify: Attempting url 18 of 20\n",
      "DEBUG:2020-07-02 23:07:51,672:arg_mine.api.classify: Attempting url 19 of 20\n",
      "DEBUG:2020-07-02 23:07:53,085:arg_mine.api.classify: Attempting url 20 of 20\n"
     ]
    },
    {
     "name": "stdout",
     "output_type": "stream",
     "text": [
      "iteration took 33.3 s\n"
     ]
    }
   ],
   "source": [
    "start_time = time.time()\n",
    "\n",
    "doc_list, sentence_list, refused_doc_list = classify.collect_sentences_by_topic(topic, url_df.content_url.values[:20])\n",
    "\n",
    "print(\"iteration took {:.3} s\".format(time.time() - start_time))"
   ]
  },
  {
   "cell_type": "code",
   "execution_count": 15,
   "metadata": {},
   "outputs": [
    {
     "name": "stdout",
     "output_type": "stream",
     "text": [
      "7\n"
     ]
    },
    {
     "data": {
      "text/plain": [
       "['https://www.heraldmailmedia.com/news/nation/australia-sending-aid-to-wildfire-towns-as-death-toll-rises/article_883fa793-6c0a-547e-8f77-b5964f1d7182.html',\n",
       " 'https://www.seattlepi.com/news/world/article/Cooler-weather-brings-respite-in-Australian-14950114.php',\n",
       " 'https://www.airdrietoday.com/national-business/starbucks-goals-for-sustainability-will-require-significant-consumer-buy-in-2037947',\n",
       " 'https://www.heraldbulletin.com/news/nation_world/davos-chief-welcomes-views-of-trump-greta-thunberg-at-forum/article_24dbb151-7132-5c48-a7df-c13b67004ec0.html',\n",
       " 'https://ravallirepublic.com/news/local/article_cb291465-d430-5477-8b41-1bedda9beaea.html',\n",
       " 'https://www.caledonianrecord.com/opinion/columns/shawn-shouldice-small-business-owners-prepare-to-dodge-bullets-during/article_9f1b6399-7ca9-59bc-8788-b4d05ec5825c.html',\n",
       " 'https://www.nsnews.com/trudeau-meets-pallister-and-the-meng-hearing-in-the-news-for-jan-20-1.24056357']"
      ]
     },
     "execution_count": 15,
     "metadata": {},
     "output_type": "execute_result"
    }
   ],
   "source": [
    "print(len(refused_doc_list))\n",
    "refused_doc_list"
   ]
  },
  {
   "cell_type": "code",
   "execution_count": null,
   "metadata": {},
   "outputs": [],
   "source": []
  },
  {
   "cell_type": "markdown",
   "metadata": {},
   "source": [
    "## try concurrent requests with grequest\n",
    "\n",
    "`grequest` does concurrent threaded requests, but has memory issues for long lists. We can chunk the async requests and write the outputs to storage to avoid this problem."
   ]
  },
  {
   "cell_type": "code",
   "execution_count": 16,
   "metadata": {},
   "outputs": [
    {
     "name": "stderr",
     "output_type": "stream",
     "text": [
      "DEBUG:2020-07-02 23:07:55,590:arg_mine.api.classify: >>>> starting doc extraction\n",
      "DEBUG:2020-07-02 23:08:09,806:arg_mine.api.classify: iteration 0 took 14.214 s (10 docs)\n",
      "DEBUG:2020-07-02 23:08:25,559:arg_mine.api.classify: iteration 1 took 15.752 s (10 docs)\n",
      "DEBUG:2020-07-02 23:08:25,560:arg_mine.api.classify: 20 URLs took 29.970 s\n"
     ]
    }
   ],
   "source": [
    "responses = classify.fetch_concurrent(topic, url_list = url_df.content_url.values[:20], chunk_size=10)"
   ]
  },
  {
   "cell_type": "code",
   "execution_count": 17,
   "metadata": {},
   "outputs": [
    {
     "name": "stderr",
     "output_type": "stream",
     "text": [
      "ERROR:2020-07-02 23:08:25,596:arg_mine.api.classify: 400 : {'error': 'Website could not be crawled or returned an empty result. Please contact an administrator.'}\n",
      "ERROR:2020-07-02 23:08:25,599:arg_mine.api.classify: 400 : {'error': 'Website could not be crawled or returned an empty result. Please contact an administrator.'}\n",
      "ERROR:2020-07-02 23:08:25,600:arg_mine.api.classify: 400 : {'error': 'Website could not be crawled or returned an empty result. Please contact an administrator.'}\n",
      "ERROR:2020-07-02 23:08:25,603:arg_mine.api.classify: 400 : {'error': 'Website could not be crawled or returned an empty result. Please contact an administrator.'}\n",
      "ERROR:2020-07-02 23:08:25,605:arg_mine.api.classify: 400 : {'error': 'Website could not be crawled or returned an empty result. Please contact an administrator.'}\n",
      "ERROR:2020-07-02 23:08:25,606:arg_mine.api.classify: 400 : {'error': 'Website could not be crawled or returned an empty result. Please contact an administrator.'}\n",
      "ERROR:2020-07-02 23:08:25,607:arg_mine.api.classify: 400 : {'error': 'Website could not be crawled or returned an empty result. Please contact an administrator.'}\n"
     ]
    }
   ],
   "source": [
    "docs_df, sentences_df, missing_urls = classify.process_responses(responses)"
   ]
  },
  {
   "cell_type": "code",
   "execution_count": 18,
   "metadata": {},
   "outputs": [
    {
     "data": {
      "text/plain": [
       "(313, 11)"
      ]
     },
     "execution_count": 18,
     "metadata": {},
     "output_type": "execute_result"
    }
   ],
   "source": [
    "sentences_df.shape"
   ]
  },
  {
   "cell_type": "code",
   "execution_count": null,
   "metadata": {},
   "outputs": [],
   "source": []
  },
  {
   "cell_type": "markdown",
   "metadata": {},
   "source": [
    "# Label the sentences as GT arguments\n",
    "The given snippit contains context surrounding the given identified key phrase. Tokenizing the phrase will not work.\n",
    "It is still unclear on whether or not the GT data can be claimed to be an argument; likely not.\n",
    "\n",
    "> This final dataset covers worldwide English language online news coverage 2015-2020 mentioning \"climate change\" OR \"global warming\" OR \"climate crisis\" OR \"greenhouse gas\" OR \"greenhouse gases\" OR \"carbon tax\" totaling 6.3 million articles. [...]  \n",
    ">Most importantly, for each match, a short snippet is shown that shows the first instance of one of the climate change phrases above in the article with the 100 characters before and after the appearance, truncated to the nearest word (if the 100th character before or after the phrase appears in the middle of a word, the window will be shrunk to the closest full word). Note that in the majority of cases the first match in the article is selected, but sometimes due to the nature of the finite automaton used to generate the snippets, a later match may be chosen from the article if it allows for a larger context window under certain circumstances.  \n",
    ">Using a window of 100 characters before and after the match allows for brief non-consumptive snippets that show the context of the match and allow a better understanding of whether the article's mention of climate change was a cursory mention or central to the story and the argument, evidence  and context of the narrative within."
   ]
  },
  {
   "cell_type": "code",
   "execution_count": 19,
   "metadata": {},
   "outputs": [],
   "source": [
    "# load the extracted sentences\n",
    "target_dir = \"gdelt-climate-change-docs\"\n",
    "in_data_path = os.path.join(DATA_DIR, \"processed\", target_dir)\n",
    "\n",
    "docs_filename = \"gdelt_2020_docs.csv\"\n",
    "sentences_filename = \"gdelt_2020_sentences.csv\"\n",
    "\n",
    "# load the files into dataframes\n",
    "docs_df = pd.read_csv(os.path.join(in_data_path, docs_filename))\n",
    "sentences_df = pd.read_csv(os.path.join(in_data_path, sentences_filename))"
   ]
  },
  {
   "cell_type": "code",
   "execution_count": 20,
   "metadata": {},
   "outputs": [],
   "source": [
    "# writing this out to use for parsing later\n",
    "keyword_list = [\n",
    "    \"climate change\",\n",
    "    \"global warming\",\n",
    "    \"climate crisis\",\n",
    "    \"greenhouse gas\",\n",
    "    \"greenhouse gases\",\n",
    "    \"carbon tax\"\n",
    "]"
   ]
  },
  {
   "cell_type": "code",
   "execution_count": 21,
   "metadata": {},
   "outputs": [],
   "source": [
    "# utility methods for finding the GT argument sentences we extract\n",
    "\n",
    "def match_doc_id(url, docs_df):\n",
    "    \"\"\"Get the document id from the ground truth dataset\"\"\"\n",
    "    return docs_df[url == docs_df['url']]['doc_id'].iloc[0]\n",
    "\n",
    "def get_doc_sentences(doc_id, sentences_df):\n",
    "    \"\"\"Return all sentences for a given doc_id\"\"\"\n",
    "    return sentences_df[sentences_df.doc_id == doc_id]"
   ]
  },
  {
   "cell_type": "code",
   "execution_count": 22,
   "metadata": {},
   "outputs": [],
   "source": [
    "doc_id = match_doc_id(url_df.iloc[0]['content_url'], docs_df)\n",
    "doc_sentences = get_doc_sentences(doc_id, sentences_df)"
   ]
  },
  {
   "cell_type": "code",
   "execution_count": 23,
   "metadata": {},
   "outputs": [],
   "source": [
    "sentences_df['has_labeled_arg'] = False"
   ]
  },
  {
   "cell_type": "code",
   "execution_count": null,
   "metadata": {},
   "outputs": [],
   "source": []
  },
  {
   "cell_type": "code",
   "execution_count": 24,
   "metadata": {},
   "outputs": [
    {
     "data": {
      "text/plain": [
       "Index(['url', 'doc_id', 'topic', 'sentence_id', 'argument_confidence',\n",
       "       'argument_label', 'sentence_original', 'sentence_preprocessed',\n",
       "       'sort_confidence', 'stance_confidence', 'stance_label',\n",
       "       'has_labeled_arg'],\n",
       "      dtype='object')"
      ]
     },
     "execution_count": 24,
     "metadata": {},
     "output_type": "execute_result"
    }
   ],
   "source": [
    "sentences_df.columns"
   ]
  },
  {
   "cell_type": "code",
   "execution_count": 25,
   "metadata": {},
   "outputs": [
    {
     "name": "stdout",
     "output_type": "stream",
     "text": [
      "26    4a2fcf5b4ca0e45bcae7fcc6af5e2cd6\n",
      "Name: sentence_id, dtype: object\n",
      "3    9eac4f301da33af0eaf7e5a4b1a5c759\n",
      "Name: sentence_id, dtype: object\n",
      "23    e3496a47bcad630aea1f078b5202cd43\n",
      "Name: sentence_id, dtype: object\n"
     ]
    }
   ],
   "source": [
    "\n",
    "content_url = url_df.iloc[0]\n",
    "snippit = url_df['labeled_argument'][0]\n",
    "doc_id = match_doc_id(content_url['content_url'], docs_df)\n",
    "doc_sentences = get_doc_sentences(doc_id, sentences_df)\n",
    "\n",
    "# tokenize the GT argument\n",
    "arg_tokens = snippit.split(\".\") if isinstance(snippit, str) else None\n",
    "arg_tokens = [s.strip() for s in arg_tokens]\n",
    "\n",
    "for token in arg_tokens:\n",
    "    matches = doc_sentences[doc_sentences.sentence_original.str.contains(token, na=False)]['sentence_id']\n",
    "    print(matches)\n",
    "    # only look at the first match\n",
    "    sentences_df.loc[sentences_df['sentence_id'] == matches.values[0], 'has_labeled_arg'] = True"
   ]
  },
  {
   "cell_type": "code",
   "execution_count": 26,
   "metadata": {},
   "outputs": [
    {
     "data": {
      "text/plain": [
       "'\"Australians want us to get on with the job of meeting our'"
      ]
     },
     "execution_count": 26,
     "metadata": {},
     "output_type": "execute_result"
    }
   ],
   "source": [
    "token"
   ]
  },
  {
   "cell_type": "code",
   "execution_count": 27,
   "metadata": {},
   "outputs": [
    {
     "data": {
      "text/plain": [
       "0     False\n",
       "1     False\n",
       "2     False\n",
       "3      True\n",
       "4     False\n",
       "5     False\n",
       "6     False\n",
       "7     False\n",
       "8     False\n",
       "9     False\n",
       "10    False\n",
       "11    False\n",
       "12    False\n",
       "13    False\n",
       "14    False\n",
       "15    False\n",
       "16    False\n",
       "17    False\n",
       "18    False\n",
       "19    False\n",
       "20    False\n",
       "21    False\n",
       "22    False\n",
       "23     True\n",
       "24    False\n",
       "25    False\n",
       "26     True\n",
       "27    False\n",
       "28    False\n",
       "29    False\n",
       "30    False\n",
       "31    False\n",
       "32    False\n",
       "33    False\n",
       "34    False\n",
       "35    False\n",
       "36    False\n",
       "Name: has_labeled_arg, dtype: bool"
      ]
     },
     "execution_count": 27,
     "metadata": {},
     "output_type": "execute_result"
    }
   ],
   "source": [
    "sentences_df.loc[sentences_df.doc_id == doc_id]['has_labeled_arg']"
   ]
  },
  {
   "cell_type": "code",
   "execution_count": 28,
   "metadata": {},
   "outputs": [],
   "source": [
    "url_df_crop = url_df[url_df['content_url'].isin(docs_df.url.values)]"
   ]
  },
  {
   "cell_type": "code",
   "execution_count": 29,
   "metadata": {},
   "outputs": [],
   "source": [
    "from arg_mine.data import labelers"
   ]
  },
  {
   "cell_type": "code",
   "execution_count": 32,
   "metadata": {},
   "outputs": [
    {
     "data": {
      "text/html": [
       "<div>\n",
       "<style scoped>\n",
       "    .dataframe tbody tr th:only-of-type {\n",
       "        vertical-align: middle;\n",
       "    }\n",
       "\n",
       "    .dataframe tbody tr th {\n",
       "        vertical-align: top;\n",
       "    }\n",
       "\n",
       "    .dataframe thead th {\n",
       "        text-align: right;\n",
       "    }\n",
       "</style>\n",
       "<table border=\"1\" class=\"dataframe\">\n",
       "  <thead>\n",
       "    <tr style=\"text-align: right;\">\n",
       "      <th></th>\n",
       "      <th>url</th>\n",
       "      <th>doc_id</th>\n",
       "      <th>topic</th>\n",
       "      <th>sentence_id</th>\n",
       "      <th>argument_confidence</th>\n",
       "      <th>argument_label</th>\n",
       "      <th>sentence_original</th>\n",
       "      <th>sentence_preprocessed</th>\n",
       "      <th>sort_confidence</th>\n",
       "      <th>stance_confidence</th>\n",
       "      <th>stance_label</th>\n",
       "      <th>has_labeled_arg</th>\n",
       "    </tr>\n",
       "  </thead>\n",
       "  <tbody>\n",
       "    <tr>\n",
       "      <th>0</th>\n",
       "      <td>https://www.smh.com.au/politics/federal/libera...</td>\n",
       "      <td>657f9dd95eb97597e34d0c05b5a93ba6</td>\n",
       "      <td>climate change</td>\n",
       "      <td>da903878c62343fb482bfad67a7523f1</td>\n",
       "      <td>0.983671</td>\n",
       "      <td>argument</td>\n",
       "      <td>Mr Morrison said Ms Andrews had \"well set out\"...</td>\n",
       "      <td>Mr Morrison said Ms Andrews had \"well set out\"...</td>\n",
       "      <td>0.990771</td>\n",
       "      <td>0.997871</td>\n",
       "      <td>pro</td>\n",
       "      <td>False</td>\n",
       "    </tr>\n",
       "    <tr>\n",
       "      <th>1</th>\n",
       "      <td>https://www.smh.com.au/politics/federal/libera...</td>\n",
       "      <td>657f9dd95eb97597e34d0c05b5a93ba6</td>\n",
       "      <td>climate change</td>\n",
       "      <td>194995c09a1bbb4fa2f1d53dabc88f76</td>\n",
       "      <td>0.950217</td>\n",
       "      <td>argument</td>\n",
       "      <td>\"What I have been seeking to stress, particula...</td>\n",
       "      <td>\"What I have been seeking to stress, particula...</td>\n",
       "      <td>0.970347</td>\n",
       "      <td>0.990477</td>\n",
       "      <td>pro</td>\n",
       "      <td>False</td>\n",
       "    </tr>\n",
       "    <tr>\n",
       "      <th>2</th>\n",
       "      <td>https://www.smh.com.au/politics/federal/libera...</td>\n",
       "      <td>657f9dd95eb97597e34d0c05b5a93ba6</td>\n",
       "      <td>climate change</td>\n",
       "      <td>7582076e5fbb0316c7cff50bfea50857</td>\n",
       "      <td>0.932927</td>\n",
       "      <td>argument</td>\n",
       "      <td>Mr Kelly said the only \"denial\" he had seen wa...</td>\n",
       "      <td>Mr Kelly said the only \"denial\" he had seen wa...</td>\n",
       "      <td>0.889054</td>\n",
       "      <td>0.845181</td>\n",
       "      <td>contra</td>\n",
       "      <td>False</td>\n",
       "    </tr>\n",
       "    <tr>\n",
       "      <th>3</th>\n",
       "      <td>https://www.smh.com.au/politics/federal/libera...</td>\n",
       "      <td>657f9dd95eb97597e34d0c05b5a93ba6</td>\n",
       "      <td>climate change</td>\n",
       "      <td>9eac4f301da33af0eaf7e5a4b1a5c759</td>\n",
       "      <td>0.774244</td>\n",
       "      <td>argument</td>\n",
       "      <td>\"Overwhelmingly, Australians accept the scienc...</td>\n",
       "      <td>\"Overwhelmingly, Australians accept the scienc...</td>\n",
       "      <td>0.879241</td>\n",
       "      <td>0.984239</td>\n",
       "      <td>pro</td>\n",
       "      <td>True</td>\n",
       "    </tr>\n",
       "    <tr>\n",
       "      <th>4</th>\n",
       "      <td>https://www.smh.com.au/politics/federal/libera...</td>\n",
       "      <td>657f9dd95eb97597e34d0c05b5a93ba6</td>\n",
       "      <td>climate change</td>\n",
       "      <td>cb25d9b5f07e95fa139f19951515c0e4</td>\n",
       "      <td>0.650039</td>\n",
       "      <td>argument</td>\n",
       "      <td>\"Karen is correct when she says every second s...</td>\n",
       "      <td>\"Karen is correct when she says every second s...</td>\n",
       "      <td>0.701024</td>\n",
       "      <td>0.752010</td>\n",
       "      <td>contra</td>\n",
       "      <td>False</td>\n",
       "    </tr>\n",
       "    <tr>\n",
       "      <th>...</th>\n",
       "      <td>...</td>\n",
       "      <td>...</td>\n",
       "      <td>...</td>\n",
       "      <td>...</td>\n",
       "      <td>...</td>\n",
       "      <td>...</td>\n",
       "      <td>...</td>\n",
       "      <td>...</td>\n",
       "      <td>...</td>\n",
       "      <td>...</td>\n",
       "      <td>...</td>\n",
       "      <td>...</td>\n",
       "    </tr>\n",
       "    <tr>\n",
       "      <th>31663</th>\n",
       "      <td>http://www.terradaily.com/afp/200122185236.7b9...</td>\n",
       "      <td>9e9c7cd2ec9e0a16afb31198eec12e81</td>\n",
       "      <td>climate change</td>\n",
       "      <td>d7a0378202ff2b0a4f4f6a61db7178fb</td>\n",
       "      <td>0.004751</td>\n",
       "      <td>no argument</td>\n",
       "      <td>The industry-led Alliance to End Plastic Waste...</td>\n",
       "      <td>The industry-led Alliance to End Plastic Waste...</td>\n",
       "      <td>0.004751</td>\n",
       "      <td>0.000000</td>\n",
       "      <td>NaN</td>\n",
       "      <td>False</td>\n",
       "    </tr>\n",
       "    <tr>\n",
       "      <th>31664</th>\n",
       "      <td>http://www.terradaily.com/afp/200122185236.7b9...</td>\n",
       "      <td>9e9c7cd2ec9e0a16afb31198eec12e81</td>\n",
       "      <td>climate change</td>\n",
       "      <td>d0f2a40853f196e105761dd88f8fb90f</td>\n",
       "      <td>0.004536</td>\n",
       "      <td>no argument</td>\n",
       "      <td>- Say one thing, do another -</td>\n",
       "      <td>- Say one thing, do another -</td>\n",
       "      <td>0.004536</td>\n",
       "      <td>0.000000</td>\n",
       "      <td>NaN</td>\n",
       "      <td>False</td>\n",
       "    </tr>\n",
       "    <tr>\n",
       "      <th>31665</th>\n",
       "      <td>http://www.terradaily.com/afp/200122185236.7b9...</td>\n",
       "      <td>9e9c7cd2ec9e0a16afb31198eec12e81</td>\n",
       "      <td>climate change</td>\n",
       "      <td>1efc109bdddbb6e51e9b69cc0a1b0701</td>\n",
       "      <td>0.004422</td>\n",
       "      <td>no argument</td>\n",
       "      <td>All rights reserved.</td>\n",
       "      <td>All rights reserved.</td>\n",
       "      <td>0.004422</td>\n",
       "      <td>0.000000</td>\n",
       "      <td>NaN</td>\n",
       "      <td>False</td>\n",
       "    </tr>\n",
       "    <tr>\n",
       "      <th>31666</th>\n",
       "      <td>http://www.terradaily.com/afp/200122185236.7b9...</td>\n",
       "      <td>9e9c7cd2ec9e0a16afb31198eec12e81</td>\n",
       "      <td>climate change</td>\n",
       "      <td>eef99c4932bfe46e71fa656019c0c55c</td>\n",
       "      <td>0.004049</td>\n",
       "      <td>no argument</td>\n",
       "      <td>PepsiCo said it could elaborate on the announc...</td>\n",
       "      <td>PepsiCo said it could elaborate on the announc...</td>\n",
       "      <td>0.004049</td>\n",
       "      <td>0.000000</td>\n",
       "      <td>NaN</td>\n",
       "      <td>False</td>\n",
       "    </tr>\n",
       "    <tr>\n",
       "      <th>31667</th>\n",
       "      <td>http://www.terradaily.com/afp/200122185236.7b9...</td>\n",
       "      <td>9e9c7cd2ec9e0a16afb31198eec12e81</td>\n",
       "      <td>climate change</td>\n",
       "      <td>9d1bcdb2ed3c0816aa1c6e167ed1a246</td>\n",
       "      <td>0.003629</td>\n",
       "      <td>no argument</td>\n",
       "      <td>copyright 2018 Agence France-Presse.</td>\n",
       "      <td>copyright 2018 Agence France-Presse.</td>\n",
       "      <td>0.003629</td>\n",
       "      <td>0.000000</td>\n",
       "      <td>NaN</td>\n",
       "      <td>False</td>\n",
       "    </tr>\n",
       "  </tbody>\n",
       "</table>\n",
       "<p>31668 rows × 12 columns</p>\n",
       "</div>"
      ],
      "text/plain": [
       "                                                     url  \\\n",
       "0      https://www.smh.com.au/politics/federal/libera...   \n",
       "1      https://www.smh.com.au/politics/federal/libera...   \n",
       "2      https://www.smh.com.au/politics/federal/libera...   \n",
       "3      https://www.smh.com.au/politics/federal/libera...   \n",
       "4      https://www.smh.com.au/politics/federal/libera...   \n",
       "...                                                  ...   \n",
       "31663  http://www.terradaily.com/afp/200122185236.7b9...   \n",
       "31664  http://www.terradaily.com/afp/200122185236.7b9...   \n",
       "31665  http://www.terradaily.com/afp/200122185236.7b9...   \n",
       "31666  http://www.terradaily.com/afp/200122185236.7b9...   \n",
       "31667  http://www.terradaily.com/afp/200122185236.7b9...   \n",
       "\n",
       "                                 doc_id           topic  \\\n",
       "0      657f9dd95eb97597e34d0c05b5a93ba6  climate change   \n",
       "1      657f9dd95eb97597e34d0c05b5a93ba6  climate change   \n",
       "2      657f9dd95eb97597e34d0c05b5a93ba6  climate change   \n",
       "3      657f9dd95eb97597e34d0c05b5a93ba6  climate change   \n",
       "4      657f9dd95eb97597e34d0c05b5a93ba6  climate change   \n",
       "...                                 ...             ...   \n",
       "31663  9e9c7cd2ec9e0a16afb31198eec12e81  climate change   \n",
       "31664  9e9c7cd2ec9e0a16afb31198eec12e81  climate change   \n",
       "31665  9e9c7cd2ec9e0a16afb31198eec12e81  climate change   \n",
       "31666  9e9c7cd2ec9e0a16afb31198eec12e81  climate change   \n",
       "31667  9e9c7cd2ec9e0a16afb31198eec12e81  climate change   \n",
       "\n",
       "                            sentence_id  argument_confidence argument_label  \\\n",
       "0      da903878c62343fb482bfad67a7523f1             0.983671       argument   \n",
       "1      194995c09a1bbb4fa2f1d53dabc88f76             0.950217       argument   \n",
       "2      7582076e5fbb0316c7cff50bfea50857             0.932927       argument   \n",
       "3      9eac4f301da33af0eaf7e5a4b1a5c759             0.774244       argument   \n",
       "4      cb25d9b5f07e95fa139f19951515c0e4             0.650039       argument   \n",
       "...                                 ...                  ...            ...   \n",
       "31663  d7a0378202ff2b0a4f4f6a61db7178fb             0.004751    no argument   \n",
       "31664  d0f2a40853f196e105761dd88f8fb90f             0.004536    no argument   \n",
       "31665  1efc109bdddbb6e51e9b69cc0a1b0701             0.004422    no argument   \n",
       "31666  eef99c4932bfe46e71fa656019c0c55c             0.004049    no argument   \n",
       "31667  9d1bcdb2ed3c0816aa1c6e167ed1a246             0.003629    no argument   \n",
       "\n",
       "                                       sentence_original  \\\n",
       "0      Mr Morrison said Ms Andrews had \"well set out\"...   \n",
       "1      \"What I have been seeking to stress, particula...   \n",
       "2      Mr Kelly said the only \"denial\" he had seen wa...   \n",
       "3      \"Overwhelmingly, Australians accept the scienc...   \n",
       "4      \"Karen is correct when she says every second s...   \n",
       "...                                                  ...   \n",
       "31663  The industry-led Alliance to End Plastic Waste...   \n",
       "31664                      - Say one thing, do another -   \n",
       "31665                               All rights reserved.   \n",
       "31666  PepsiCo said it could elaborate on the announc...   \n",
       "31667               copyright 2018 Agence France-Presse.   \n",
       "\n",
       "                                   sentence_preprocessed  sort_confidence  \\\n",
       "0      Mr Morrison said Ms Andrews had \"well set out\"...         0.990771   \n",
       "1      \"What I have been seeking to stress, particula...         0.970347   \n",
       "2      Mr Kelly said the only \"denial\" he had seen wa...         0.889054   \n",
       "3      \"Overwhelmingly, Australians accept the scienc...         0.879241   \n",
       "4      \"Karen is correct when she says every second s...         0.701024   \n",
       "...                                                  ...              ...   \n",
       "31663  The industry-led Alliance to End Plastic Waste...         0.004751   \n",
       "31664                      - Say one thing, do another -         0.004536   \n",
       "31665                               All rights reserved.         0.004422   \n",
       "31666  PepsiCo said it could elaborate on the announc...         0.004049   \n",
       "31667               copyright 2018 Agence France-Presse.         0.003629   \n",
       "\n",
       "       stance_confidence stance_label  has_labeled_arg  \n",
       "0               0.997871          pro            False  \n",
       "1               0.990477          pro            False  \n",
       "2               0.845181       contra            False  \n",
       "3               0.984239          pro             True  \n",
       "4               0.752010       contra            False  \n",
       "...                  ...          ...              ...  \n",
       "31663           0.000000          NaN            False  \n",
       "31664           0.000000          NaN            False  \n",
       "31665           0.000000          NaN            False  \n",
       "31666           0.000000          NaN            False  \n",
       "31667           0.000000          NaN            False  \n",
       "\n",
       "[31668 rows x 12 columns]"
      ]
     },
     "execution_count": 32,
     "metadata": {},
     "output_type": "execute_result"
    }
   ],
   "source": [
    "labelers.label_doc_sentences_with_context(url_df_crop.iloc[0], docs_df, sentences_df)"
   ]
  },
  {
   "cell_type": "code",
   "execution_count": null,
   "metadata": {},
   "outputs": [],
   "source": []
  },
  {
   "cell_type": "code",
   "execution_count": null,
   "metadata": {},
   "outputs": [],
   "source": []
  },
  {
   "cell_type": "code",
   "execution_count": null,
   "metadata": {},
   "outputs": [],
   "source": []
  },
  {
   "cell_type": "code",
   "execution_count": 34,
   "metadata": {},
   "outputs": [
    {
     "name": "stderr",
     "output_type": "stream",
     "text": [
      "DEBUG:2020-07-02 23:09:38,159:arg_mine.api.classify: No matches found for token in doc 3c3e98232ca62ff3469234f554bea7b4: 'The day's other speakers included writers Anand, Mukundan'\n",
      "DEBUG:2020-07-02 23:09:38,166:arg_mine.api.classify: No matches found for token in doc db5ae573c6388b6fc794e81245baba90: ' three demands for the Scottish and UK Governments, including urging them to \"tell the truth\" about the impact of the fossil fuel industry on the climate crisis.'\n",
      "DEBUG:2020-07-02 23:09:38,206:arg_mine.api.classify: No matches found for token in doc cc5e8dcf8b787ea4fc0f7455a84559ac: 'Pick one thing to help the planet, or pick several.'\n",
      "DEBUG:2020-07-02 23:09:38,208:arg_mine.api.classify: No matches found for token in doc cc5e8dcf8b787ea4fc0f7455a84559ac: 'But please commit to changing today, so that we can all do our bit to slow down the climate crisis.'\n",
      "DEBUG:2020-07-02 23:09:38,211:arg_mine.api.classify: No matches found for token in doc cc5e8dcf8b787ea4fc0f7455a84559ac: 'Start small.'\n",
      "DEBUG:2020-07-02 23:09:38,215:arg_mine.api.classify: No matches found for token in doc cc5e8dcf8b787ea4fc0f7455a84559ac: 'Start now.'\n",
      "DEBUG:2020-07-02 23:09:38,218:arg_mine.api.classify: No matches found for token in doc cc5e8dcf8b787ea4fc0f7455a84559ac: 'Just start by doing one thing.'\n",
      "DEBUG:2020-07-02 23:09:38,221:arg_mine.api.classify: No matches found for token in doc cc5e8dcf8b787ea4fc0f7455a84559ac: 'Want to get involved?'\n",
      "DEBUG:2020-07-02 23:09:38,224:arg_mine.api.classify: No matches found for token in doc cc5e8dcf8b787ea4fc0f7455a84559ac: 'Share your efforts with the hashtag #Do1Thing on Twitter or'\n",
      "DEBUG:2020-07-02 23:09:38,234:arg_mine.api.classify: No matches found for token in doc 12ac4bc3da84ac75df28dffe4b13d85d: ' 85%, according to recent data released by Brazil's space research agency INPE.'\n",
      "DEBUG:2020-07-02 23:09:38,238:arg_mine.api.classify: No matches found for token in doc 12ac4bc3da84ac75df28dffe4b13d85d: 'The Amazon, the world's largest rainforest, is a bulwark against global warming because of the vast amounts of heat-trapping carbon dioxide it soaks up from the atmosphere.'\n",
      "DEBUG:2020-07-02 23:09:38,270:arg_mine.api.classify: No matches found for token in doc 8e5b639c0e49bf028c15acf9b88ca24a: ' of the devastating bushfires, Professor Ross Garnaut has said as he warned the situation would continue to worsen if there wasn't global action on climate change, something he said didn't have to come at the expense of the economy.Key points: Professor Ross Garnaut has backed Scott Morrison's plan to'\n",
      "DEBUG:2020-07-02 23:09:38,278:arg_mine.api.classify: No matches found for token in doc 1de27aa91b19ad50ebc651ba36739855: ' the future well,\" Boyd said.'\n",
      "DEBUG:2020-07-02 23:09:38,281:arg_mine.api.classify: No matches found for token in doc 1de27aa91b19ad50ebc651ba36739855: 'In response to an energized youth movement aiming to convince government leaders worldwide to take action to combat climate change, the conservancy will pilot a new climate change field trip in May at eight county high schools, Boyd said.'\n",
      "DEBUG:2020-07-02 23:09:38,284:arg_mine.api.classify: No matches found for token in doc 1de27aa91b19ad50ebc651ba36739855: 'Full rollout of the field trip across'\n",
      "DEBUG:2020-07-02 23:09:38,337:arg_mine.api.classify: No matches found for token in doc ce94b64eb2cfd3054fe45715279798a8: 'He said: \"No, I think connectivity around the country is incredibly important.'\n",
      "DEBUG:2020-07-02 23:09:38,339:arg_mine.api.classify: No matches found for token in doc ce94b64eb2cfd3054fe45715279798a8: '\"Take the flights to the Scilly Isles for instance – it takes'\n",
      "DEBUG:2020-07-02 23:09:38,347:arg_mine.api.classify: No matches found for token in doc 8c08ac5ca88b5e8dfd07290cbc64c44e: ' and financial institutions to make sound impact investments now – and help support sustainable smallholder farming while mitigating the impact of climate change,\" said IDH's Joost Oorthuizen.'\n",
      "DEBUG:2020-07-02 23:09:38,395:arg_mine.api.classify: No matches found for token in doc b3fae4b42dd48e4eb6a72f60bbb1c07d: ' Foundation, the charitable arm of Thomson Reuters, that covers humanitarian news, women's and LGBT+ rights, human trafficking, property rights, and climate change.'\n",
      "DEBUG:2020-07-02 23:09:38,397:arg_mine.api.classify: No matches found for token in doc b3fae4b42dd48e4eb6a72f60bbb1c07d: 'Visit http://news.trust.org'\n",
      "DEBUG:2020-07-02 23:09:38,403:arg_mine.api.classify: No matches found for token in doc 5730c912a12f356dca7fe9a0066d0e05: 'Australia's unprecedented wildfires are supercharged thanks to climate change, the type of trees catching fire and weather, experts say.'\n",
      "/usr/local/lib/python3.8/site-packages/pandas/core/strings.py:1954: UserWarning: This pattern has match groups. To actually get the groups, use str.extract.\n",
      "  return func(self, *args, **kwargs)\n",
      "DEBUG:2020-07-02 23:09:38,417:arg_mine.api.classify: No matches found for token in doc 8240ce99d6ba99204055fd9cdc3d46da: 'Sydney (AFP) Australia's bushfires and other climate change effects are devastating the habitats of critically endangered species and driving the native platypus towards extinction, according to surveys'\n",
      "DEBUG:2020-07-02 23:09:38,429:arg_mine.api.classify: No matches found for token in doc c703e0f28fdc0f4c814771ba7308ef35: 'The Liberals' agenda also includes action on a promised ban on military-style assault rifles, strengthening health care, battling climate change, and seeking meaningful reconciliation with Indigenous Peoples.'\n",
      "DEBUG:2020-07-02 23:09:38,449:arg_mine.api.classify: No matches found for token in doc fa03e33515da65669b48f18cd6b19312: 'Hang a Bird Feeder Two-thirds of North America's birds are at risk of extinction due to climate change.'\n",
      "DEBUG:2020-07-02 23:09:38,478:arg_mine.api.classify: No matches found for token in doc d021ad0165b0ee542ee827f3a52a090e: 'Here we go again: yet another plan to deal with anthropogenic climate change/global warming/we're doomed!!!!!!!!'\n",
      "DEBUG:2020-07-02 23:09:38,484:arg_mine.api.classify: No matches found for token in doc d021ad0165b0ee542ee827f3a52a090e: 'A plan that proves that some Republicans aren't Conservative in the least,'\n",
      "DEBUG:2020-07-02 23:09:38,492:arg_mine.api.classify: No matches found for token in doc c7758e4d0f8da7616fa78fd77d3a4e21: ' rolled out a feature today pointing all this out.'\n",
      "DEBUG:2020-07-02 23:09:38,495:arg_mine.api.classify: No matches found for token in doc c7758e4d0f8da7616fa78fd77d3a4e21: 'What's at stake?'\n",
      "DEBUG:2020-07-02 23:09:38,499:arg_mine.api.classify: No matches found for token in doc c7758e4d0f8da7616fa78fd77d3a4e21: 'A lot: Those elections will help shape decisions over access to health care, climate change, tax policy, the economy, immigration and U.S. relations with foreign powers, including Iran and North Korea.'\n",
      "DEBUG:2020-07-02 23:09:38,522:arg_mine.api.classify: No matches found for token in doc 491b04a80206b741f48decec0cd3cde2: 'Young climate activist Greta Thunberg slams global leaders on climate crisis Once again 17-year-old Swedish activist Greta Thunberg lashed out at the global elite for their inaction towards the climate crisis.'\n"
     ]
    },
    {
     "ename": "error",
     "evalue": "unterminated character set at position 0",
     "output_type": "error",
     "traceback": [
      "\u001b[0;31m----------------------------------------------------\u001b[0m",
      "\u001b[0;31merror\u001b[0m              Traceback (most recent call last)",
      "\u001b[0;32m<ipython-input-34-2122decd2322>\u001b[0m in \u001b[0;36m<module>\u001b[0;34m\u001b[0m\n\u001b[1;32m      1\u001b[0m \u001b[0mstart_time\u001b[0m \u001b[0;34m=\u001b[0m \u001b[0mtime\u001b[0m\u001b[0;34m.\u001b[0m\u001b[0mtime\u001b[0m\u001b[0;34m(\u001b[0m\u001b[0;34m)\u001b[0m\u001b[0;34m\u001b[0m\u001b[0;34m\u001b[0m\u001b[0m\n\u001b[1;32m      2\u001b[0m \u001b[0;34m\u001b[0m\u001b[0m\n\u001b[0;32m----> 3\u001b[0;31m \u001b[0msentences_df\u001b[0m \u001b[0;34m=\u001b[0m \u001b[0mlabelers\u001b[0m\u001b[0;34m.\u001b[0m\u001b[0mlabel_gdelt_sentences\u001b[0m\u001b[0;34m(\u001b[0m\u001b[0murl_df\u001b[0m\u001b[0;34m,\u001b[0m \u001b[0mdocs_df\u001b[0m\u001b[0;34m,\u001b[0m \u001b[0msentences_df\u001b[0m\u001b[0;34m)\u001b[0m\u001b[0;34m\u001b[0m\u001b[0;34m\u001b[0m\u001b[0m\n\u001b[0m\u001b[1;32m      4\u001b[0m \u001b[0;34m\u001b[0m\u001b[0m\n\u001b[1;32m      5\u001b[0m \u001b[0;34m\u001b[0m\u001b[0m\n",
      "\u001b[0;32m/opt/workspace/arg_mine/data/labelers.py\u001b[0m in \u001b[0;36mlabel_gdelt_sentences\u001b[0;34m(url_df, docs_df, sentences_df, label_col_name)\u001b[0m\n\u001b[1;32m    107\u001b[0m     \u001b[0;32mfor\u001b[0m \u001b[0mrow_ix\u001b[0m\u001b[0;34m,\u001b[0m \u001b[0murl_row\u001b[0m \u001b[0;32min\u001b[0m \u001b[0murl_df_crop\u001b[0m\u001b[0;34m.\u001b[0m\u001b[0miterrows\u001b[0m\u001b[0;34m(\u001b[0m\u001b[0;34m)\u001b[0m\u001b[0;34m:\u001b[0m\u001b[0;34m\u001b[0m\u001b[0;34m\u001b[0m\u001b[0m\n\u001b[1;32m    108\u001b[0m         \u001b[0;31m# does modification of sentences_df in place\u001b[0m\u001b[0;34m\u001b[0m\u001b[0;34m\u001b[0m\u001b[0;34m\u001b[0m\u001b[0m\n\u001b[0;32m--> 109\u001b[0;31m         \u001b[0mlabel_doc_sentences_with_context\u001b[0m\u001b[0;34m(\u001b[0m\u001b[0murl_row\u001b[0m\u001b[0;34m,\u001b[0m \u001b[0mdocs_df\u001b[0m\u001b[0;34m,\u001b[0m \u001b[0msentences_df\u001b[0m\u001b[0;34m)\u001b[0m\u001b[0;34m\u001b[0m\u001b[0;34m\u001b[0m\u001b[0m\n\u001b[0m\u001b[1;32m    110\u001b[0m \u001b[0;34m\u001b[0m\u001b[0m\n\u001b[1;32m    111\u001b[0m     \u001b[0;32mreturn\u001b[0m \u001b[0msentences_df\u001b[0m\u001b[0;34m\u001b[0m\u001b[0;34m\u001b[0m\u001b[0m\n",
      "\u001b[0;32m/opt/workspace/arg_mine/data/labelers.py\u001b[0m in \u001b[0;36mlabel_doc_sentences_with_context\u001b[0;34m(url_row, docs_df, sentences_df)\u001b[0m\n\u001b[1;32m     87\u001b[0m \u001b[0;34m\u001b[0m\u001b[0m\n\u001b[1;32m     88\u001b[0m     \u001b[0;32mfor\u001b[0m \u001b[0mtoken\u001b[0m \u001b[0;32min\u001b[0m \u001b[0marg_tokens\u001b[0m\u001b[0;34m:\u001b[0m\u001b[0;34m\u001b[0m\u001b[0;34m\u001b[0m\u001b[0m\n\u001b[0;32m---> 89\u001b[0;31m         \u001b[0mmatches\u001b[0m \u001b[0;34m=\u001b[0m \u001b[0mdoc_sentences\u001b[0m\u001b[0;34m[\u001b[0m\u001b[0mdoc_sentences\u001b[0m\u001b[0;34m.\u001b[0m\u001b[0msentence_original\u001b[0m\u001b[0;34m.\u001b[0m\u001b[0mstr\u001b[0m\u001b[0;34m.\u001b[0m\u001b[0mcontains\u001b[0m\u001b[0;34m(\u001b[0m\u001b[0mtoken\u001b[0m\u001b[0;34m)\u001b[0m\u001b[0;34m]\u001b[0m\u001b[0;34m[\u001b[0m\u001b[0;34m'sentence_id'\u001b[0m\u001b[0;34m]\u001b[0m\u001b[0;34m\u001b[0m\u001b[0;34m\u001b[0m\u001b[0m\n\u001b[0m\u001b[1;32m     90\u001b[0m         \u001b[0;32mif\u001b[0m \u001b[0mmatches\u001b[0m\u001b[0;34m.\u001b[0m\u001b[0mempty\u001b[0m\u001b[0;34m:\u001b[0m\u001b[0;34m\u001b[0m\u001b[0;34m\u001b[0m\u001b[0m\n\u001b[1;32m     91\u001b[0m             \u001b[0m_logger\u001b[0m\u001b[0;34m.\u001b[0m\u001b[0mdebug\u001b[0m\u001b[0;34m(\u001b[0m\u001b[0;34m\"No matches found for token in doc {}: '{}'\"\u001b[0m\u001b[0;34m.\u001b[0m\u001b[0mformat\u001b[0m\u001b[0;34m(\u001b[0m\u001b[0mdoc_id\u001b[0m\u001b[0;34m,\u001b[0m \u001b[0mtoken\u001b[0m\u001b[0;34m)\u001b[0m\u001b[0;34m)\u001b[0m\u001b[0;34m\u001b[0m\u001b[0;34m\u001b[0m\u001b[0m\n",
      "\u001b[0;32m/usr/local/lib/python3.8/site-packages/pandas/core/strings.py\u001b[0m in \u001b[0;36mwrapper\u001b[0;34m(self, *args, **kwargs)\u001b[0m\n\u001b[1;32m   1952\u001b[0m                 )\n\u001b[1;32m   1953\u001b[0m                 \u001b[0;32mraise\u001b[0m \u001b[0mTypeError\u001b[0m\u001b[0;34m(\u001b[0m\u001b[0mmsg\u001b[0m\u001b[0;34m)\u001b[0m\u001b[0;34m\u001b[0m\u001b[0;34m\u001b[0m\u001b[0m\n\u001b[0;32m-> 1954\u001b[0;31m             \u001b[0;32mreturn\u001b[0m \u001b[0mfunc\u001b[0m\u001b[0;34m(\u001b[0m\u001b[0mself\u001b[0m\u001b[0;34m,\u001b[0m \u001b[0;34m*\u001b[0m\u001b[0margs\u001b[0m\u001b[0;34m,\u001b[0m \u001b[0;34m**\u001b[0m\u001b[0mkwargs\u001b[0m\u001b[0;34m)\u001b[0m\u001b[0;34m\u001b[0m\u001b[0;34m\u001b[0m\u001b[0m\n\u001b[0m\u001b[1;32m   1955\u001b[0m \u001b[0;34m\u001b[0m\u001b[0m\n\u001b[1;32m   1956\u001b[0m         \u001b[0mwrapper\u001b[0m\u001b[0;34m.\u001b[0m\u001b[0m__name__\u001b[0m \u001b[0;34m=\u001b[0m \u001b[0mfunc_name\u001b[0m\u001b[0;34m\u001b[0m\u001b[0;34m\u001b[0m\u001b[0m\n",
      "\u001b[0;32m/usr/local/lib/python3.8/site-packages/pandas/core/strings.py\u001b[0m in \u001b[0;36mcontains\u001b[0;34m(self, pat, case, flags, na, regex)\u001b[0m\n\u001b[1;32m   2760\u001b[0m     \u001b[0;34m@\u001b[0m\u001b[0mforbid_nonstring_types\u001b[0m\u001b[0;34m(\u001b[0m\u001b[0;34m[\u001b[0m\u001b[0;34m\"bytes\"\u001b[0m\u001b[0;34m]\u001b[0m\u001b[0;34m)\u001b[0m\u001b[0;34m\u001b[0m\u001b[0;34m\u001b[0m\u001b[0m\n\u001b[1;32m   2761\u001b[0m     \u001b[0;32mdef\u001b[0m \u001b[0mcontains\u001b[0m\u001b[0;34m(\u001b[0m\u001b[0mself\u001b[0m\u001b[0;34m,\u001b[0m \u001b[0mpat\u001b[0m\u001b[0;34m,\u001b[0m \u001b[0mcase\u001b[0m\u001b[0;34m=\u001b[0m\u001b[0;32mTrue\u001b[0m\u001b[0;34m,\u001b[0m \u001b[0mflags\u001b[0m\u001b[0;34m=\u001b[0m\u001b[0;36m0\u001b[0m\u001b[0;34m,\u001b[0m \u001b[0mna\u001b[0m\u001b[0;34m=\u001b[0m\u001b[0mnp\u001b[0m\u001b[0;34m.\u001b[0m\u001b[0mnan\u001b[0m\u001b[0;34m,\u001b[0m \u001b[0mregex\u001b[0m\u001b[0;34m=\u001b[0m\u001b[0;32mTrue\u001b[0m\u001b[0;34m)\u001b[0m\u001b[0;34m:\u001b[0m\u001b[0;34m\u001b[0m\u001b[0;34m\u001b[0m\u001b[0m\n\u001b[0;32m-> 2762\u001b[0;31m         result = str_contains(\n\u001b[0m\u001b[1;32m   2763\u001b[0m             \u001b[0mself\u001b[0m\u001b[0;34m.\u001b[0m\u001b[0m_parent\u001b[0m\u001b[0;34m,\u001b[0m \u001b[0mpat\u001b[0m\u001b[0;34m,\u001b[0m \u001b[0mcase\u001b[0m\u001b[0;34m=\u001b[0m\u001b[0mcase\u001b[0m\u001b[0;34m,\u001b[0m \u001b[0mflags\u001b[0m\u001b[0;34m=\u001b[0m\u001b[0mflags\u001b[0m\u001b[0;34m,\u001b[0m \u001b[0mna\u001b[0m\u001b[0;34m=\u001b[0m\u001b[0mna\u001b[0m\u001b[0;34m,\u001b[0m \u001b[0mregex\u001b[0m\u001b[0;34m=\u001b[0m\u001b[0mregex\u001b[0m\u001b[0;34m\u001b[0m\u001b[0;34m\u001b[0m\u001b[0m\n\u001b[1;32m   2764\u001b[0m         )\n",
      "\u001b[0;32m/usr/local/lib/python3.8/site-packages/pandas/core/strings.py\u001b[0m in \u001b[0;36mstr_contains\u001b[0;34m(arr, pat, case, flags, na, regex)\u001b[0m\n\u001b[1;32m    439\u001b[0m             \u001b[0mflags\u001b[0m \u001b[0;34m|=\u001b[0m \u001b[0mre\u001b[0m\u001b[0;34m.\u001b[0m\u001b[0mIGNORECASE\u001b[0m\u001b[0;34m\u001b[0m\u001b[0;34m\u001b[0m\u001b[0m\n\u001b[1;32m    440\u001b[0m \u001b[0;34m\u001b[0m\u001b[0m\n\u001b[0;32m--> 441\u001b[0;31m         \u001b[0mregex\u001b[0m \u001b[0;34m=\u001b[0m \u001b[0mre\u001b[0m\u001b[0;34m.\u001b[0m\u001b[0mcompile\u001b[0m\u001b[0;34m(\u001b[0m\u001b[0mpat\u001b[0m\u001b[0;34m,\u001b[0m \u001b[0mflags\u001b[0m\u001b[0;34m=\u001b[0m\u001b[0mflags\u001b[0m\u001b[0;34m)\u001b[0m\u001b[0;34m\u001b[0m\u001b[0;34m\u001b[0m\u001b[0m\n\u001b[0m\u001b[1;32m    442\u001b[0m \u001b[0;34m\u001b[0m\u001b[0m\n\u001b[1;32m    443\u001b[0m         \u001b[0;32mif\u001b[0m \u001b[0mregex\u001b[0m\u001b[0;34m.\u001b[0m\u001b[0mgroups\u001b[0m \u001b[0;34m>\u001b[0m \u001b[0;36m0\u001b[0m\u001b[0;34m:\u001b[0m\u001b[0;34m\u001b[0m\u001b[0;34m\u001b[0m\u001b[0m\n",
      "\u001b[0;32m/usr/local/lib/python3.8/re.py\u001b[0m in \u001b[0;36mcompile\u001b[0;34m(pattern, flags)\u001b[0m\n\u001b[1;32m    250\u001b[0m \u001b[0;32mdef\u001b[0m \u001b[0mcompile\u001b[0m\u001b[0;34m(\u001b[0m\u001b[0mpattern\u001b[0m\u001b[0;34m,\u001b[0m \u001b[0mflags\u001b[0m\u001b[0;34m=\u001b[0m\u001b[0;36m0\u001b[0m\u001b[0;34m)\u001b[0m\u001b[0;34m:\u001b[0m\u001b[0;34m\u001b[0m\u001b[0;34m\u001b[0m\u001b[0m\n\u001b[1;32m    251\u001b[0m     \u001b[0;34m\"Compile a regular expression pattern, returning a Pattern object.\"\u001b[0m\u001b[0;34m\u001b[0m\u001b[0;34m\u001b[0m\u001b[0m\n\u001b[0;32m--> 252\u001b[0;31m     \u001b[0;32mreturn\u001b[0m \u001b[0m_compile\u001b[0m\u001b[0;34m(\u001b[0m\u001b[0mpattern\u001b[0m\u001b[0;34m,\u001b[0m \u001b[0mflags\u001b[0m\u001b[0;34m)\u001b[0m\u001b[0;34m\u001b[0m\u001b[0;34m\u001b[0m\u001b[0m\n\u001b[0m\u001b[1;32m    253\u001b[0m \u001b[0;34m\u001b[0m\u001b[0m\n\u001b[1;32m    254\u001b[0m \u001b[0;32mdef\u001b[0m \u001b[0mpurge\u001b[0m\u001b[0;34m(\u001b[0m\u001b[0;34m)\u001b[0m\u001b[0;34m:\u001b[0m\u001b[0;34m\u001b[0m\u001b[0;34m\u001b[0m\u001b[0m\n",
      "\u001b[0;32m/usr/local/lib/python3.8/re.py\u001b[0m in \u001b[0;36m_compile\u001b[0;34m(pattern, flags)\u001b[0m\n\u001b[1;32m    302\u001b[0m     \u001b[0;32mif\u001b[0m \u001b[0;32mnot\u001b[0m \u001b[0msre_compile\u001b[0m\u001b[0;34m.\u001b[0m\u001b[0misstring\u001b[0m\u001b[0;34m(\u001b[0m\u001b[0mpattern\u001b[0m\u001b[0;34m)\u001b[0m\u001b[0;34m:\u001b[0m\u001b[0;34m\u001b[0m\u001b[0;34m\u001b[0m\u001b[0m\n\u001b[1;32m    303\u001b[0m         \u001b[0;32mraise\u001b[0m \u001b[0mTypeError\u001b[0m\u001b[0;34m(\u001b[0m\u001b[0;34m\"first argument must be string or compiled pattern\"\u001b[0m\u001b[0;34m)\u001b[0m\u001b[0;34m\u001b[0m\u001b[0;34m\u001b[0m\u001b[0m\n\u001b[0;32m--> 304\u001b[0;31m     \u001b[0mp\u001b[0m \u001b[0;34m=\u001b[0m \u001b[0msre_compile\u001b[0m\u001b[0;34m.\u001b[0m\u001b[0mcompile\u001b[0m\u001b[0;34m(\u001b[0m\u001b[0mpattern\u001b[0m\u001b[0;34m,\u001b[0m \u001b[0mflags\u001b[0m\u001b[0;34m)\u001b[0m\u001b[0;34m\u001b[0m\u001b[0;34m\u001b[0m\u001b[0m\n\u001b[0m\u001b[1;32m    305\u001b[0m     \u001b[0;32mif\u001b[0m \u001b[0;32mnot\u001b[0m \u001b[0;34m(\u001b[0m\u001b[0mflags\u001b[0m \u001b[0;34m&\u001b[0m \u001b[0mDEBUG\u001b[0m\u001b[0;34m)\u001b[0m\u001b[0;34m:\u001b[0m\u001b[0;34m\u001b[0m\u001b[0;34m\u001b[0m\u001b[0m\n\u001b[1;32m    306\u001b[0m         \u001b[0;32mif\u001b[0m \u001b[0mlen\u001b[0m\u001b[0;34m(\u001b[0m\u001b[0m_cache\u001b[0m\u001b[0;34m)\u001b[0m \u001b[0;34m>=\u001b[0m \u001b[0m_MAXCACHE\u001b[0m\u001b[0;34m:\u001b[0m\u001b[0;34m\u001b[0m\u001b[0;34m\u001b[0m\u001b[0m\n",
      "\u001b[0;32m/usr/local/lib/python3.8/sre_compile.py\u001b[0m in \u001b[0;36mcompile\u001b[0;34m(p, flags)\u001b[0m\n\u001b[1;32m    762\u001b[0m     \u001b[0;32mif\u001b[0m \u001b[0misstring\u001b[0m\u001b[0;34m(\u001b[0m\u001b[0mp\u001b[0m\u001b[0;34m)\u001b[0m\u001b[0;34m:\u001b[0m\u001b[0;34m\u001b[0m\u001b[0;34m\u001b[0m\u001b[0m\n\u001b[1;32m    763\u001b[0m         \u001b[0mpattern\u001b[0m \u001b[0;34m=\u001b[0m \u001b[0mp\u001b[0m\u001b[0;34m\u001b[0m\u001b[0;34m\u001b[0m\u001b[0m\n\u001b[0;32m--> 764\u001b[0;31m         \u001b[0mp\u001b[0m \u001b[0;34m=\u001b[0m \u001b[0msre_parse\u001b[0m\u001b[0;34m.\u001b[0m\u001b[0mparse\u001b[0m\u001b[0;34m(\u001b[0m\u001b[0mp\u001b[0m\u001b[0;34m,\u001b[0m \u001b[0mflags\u001b[0m\u001b[0;34m)\u001b[0m\u001b[0;34m\u001b[0m\u001b[0;34m\u001b[0m\u001b[0m\n\u001b[0m\u001b[1;32m    765\u001b[0m     \u001b[0;32melse\u001b[0m\u001b[0;34m:\u001b[0m\u001b[0;34m\u001b[0m\u001b[0;34m\u001b[0m\u001b[0m\n\u001b[1;32m    766\u001b[0m         \u001b[0mpattern\u001b[0m \u001b[0;34m=\u001b[0m \u001b[0;32mNone\u001b[0m\u001b[0;34m\u001b[0m\u001b[0;34m\u001b[0m\u001b[0m\n",
      "\u001b[0;32m/usr/local/lib/python3.8/sre_parse.py\u001b[0m in \u001b[0;36mparse\u001b[0;34m(str, flags, state)\u001b[0m\n\u001b[1;32m    946\u001b[0m \u001b[0;34m\u001b[0m\u001b[0m\n\u001b[1;32m    947\u001b[0m     \u001b[0;32mtry\u001b[0m\u001b[0;34m:\u001b[0m\u001b[0;34m\u001b[0m\u001b[0;34m\u001b[0m\u001b[0m\n\u001b[0;32m--> 948\u001b[0;31m         \u001b[0mp\u001b[0m \u001b[0;34m=\u001b[0m \u001b[0m_parse_sub\u001b[0m\u001b[0;34m(\u001b[0m\u001b[0msource\u001b[0m\u001b[0;34m,\u001b[0m \u001b[0mstate\u001b[0m\u001b[0;34m,\u001b[0m \u001b[0mflags\u001b[0m \u001b[0;34m&\u001b[0m \u001b[0mSRE_FLAG_VERBOSE\u001b[0m\u001b[0;34m,\u001b[0m \u001b[0;36m0\u001b[0m\u001b[0;34m)\u001b[0m\u001b[0;34m\u001b[0m\u001b[0;34m\u001b[0m\u001b[0m\n\u001b[0m\u001b[1;32m    949\u001b[0m     \u001b[0;32mexcept\u001b[0m \u001b[0mVerbose\u001b[0m\u001b[0;34m:\u001b[0m\u001b[0;34m\u001b[0m\u001b[0;34m\u001b[0m\u001b[0m\n\u001b[1;32m    950\u001b[0m         \u001b[0;31m# the VERBOSE flag was switched on inside the pattern.  to be\u001b[0m\u001b[0;34m\u001b[0m\u001b[0;34m\u001b[0m\u001b[0;34m\u001b[0m\u001b[0m\n",
      "\u001b[0;32m/usr/local/lib/python3.8/sre_parse.py\u001b[0m in \u001b[0;36m_parse_sub\u001b[0;34m(source, state, verbose, nested)\u001b[0m\n\u001b[1;32m    441\u001b[0m     \u001b[0mstart\u001b[0m \u001b[0;34m=\u001b[0m \u001b[0msource\u001b[0m\u001b[0;34m.\u001b[0m\u001b[0mtell\u001b[0m\u001b[0;34m(\u001b[0m\u001b[0;34m)\u001b[0m\u001b[0;34m\u001b[0m\u001b[0;34m\u001b[0m\u001b[0m\n\u001b[1;32m    442\u001b[0m     \u001b[0;32mwhile\u001b[0m \u001b[0;32mTrue\u001b[0m\u001b[0;34m:\u001b[0m\u001b[0;34m\u001b[0m\u001b[0;34m\u001b[0m\u001b[0m\n\u001b[0;32m--> 443\u001b[0;31m         itemsappend(_parse(source, state, verbose, nested + 1,\n\u001b[0m\u001b[1;32m    444\u001b[0m                            not nested and not items))\n\u001b[1;32m    445\u001b[0m         \u001b[0;32mif\u001b[0m \u001b[0;32mnot\u001b[0m \u001b[0msourcematch\u001b[0m\u001b[0;34m(\u001b[0m\u001b[0;34m\"|\"\u001b[0m\u001b[0;34m)\u001b[0m\u001b[0;34m:\u001b[0m\u001b[0;34m\u001b[0m\u001b[0;34m\u001b[0m\u001b[0m\n",
      "\u001b[0;32m/usr/local/lib/python3.8/sre_parse.py\u001b[0m in \u001b[0;36m_parse\u001b[0;34m(source, state, verbose, nested, first)\u001b[0m\n\u001b[1;32m    547\u001b[0m                 \u001b[0mthis\u001b[0m \u001b[0;34m=\u001b[0m \u001b[0msourceget\u001b[0m\u001b[0;34m(\u001b[0m\u001b[0;34m)\u001b[0m\u001b[0;34m\u001b[0m\u001b[0;34m\u001b[0m\u001b[0m\n\u001b[1;32m    548\u001b[0m                 \u001b[0;32mif\u001b[0m \u001b[0mthis\u001b[0m \u001b[0;32mis\u001b[0m \u001b[0;32mNone\u001b[0m\u001b[0;34m:\u001b[0m\u001b[0;34m\u001b[0m\u001b[0;34m\u001b[0m\u001b[0m\n\u001b[0;32m--> 549\u001b[0;31m                     raise source.error(\"unterminated character set\",\n\u001b[0m\u001b[1;32m    550\u001b[0m                                        source.tell() - here)\n\u001b[1;32m    551\u001b[0m                 \u001b[0;32mif\u001b[0m \u001b[0mthis\u001b[0m \u001b[0;34m==\u001b[0m \u001b[0;34m\"]\"\u001b[0m \u001b[0;32mand\u001b[0m \u001b[0mset\u001b[0m\u001b[0;34m:\u001b[0m\u001b[0;34m\u001b[0m\u001b[0;34m\u001b[0m\u001b[0m\n",
      "\u001b[0;31merror\u001b[0m: unterminated character set at position 0"
     ]
    }
   ],
   "source": [
    "start_time = time.time()\n",
    "\n",
    "sentences_df = labelers.label_gdelt_sentences(url_df, docs_df, sentences_df)\n",
    "\n",
    "\n",
    "print(\"labeling took {:0.2f} s\".format(time.time() - start_time))"
   ]
  },
  {
   "cell_type": "code",
   "execution_count": null,
   "metadata": {},
   "outputs": [],
   "source": []
  },
  {
   "cell_type": "markdown",
   "metadata": {},
   "source": [
    "# Check timing of different approaches\n",
    "\n",
    "Does grequests give us a performance boost?\n",
    "* time serial extraction vs using grequests\n",
    "\n",
    "Does returning all sentences vs just arguments give us a performance hit?\n",
    "* time extraction of 50 articles to see if API times are significantly different"
   ]
  },
  {
   "cell_type": "code",
   "execution_count": null,
   "metadata": {},
   "outputs": [],
   "source": [
    "num_docs = 50"
   ]
  },
  {
   "cell_type": "code",
   "execution_count": null,
   "metadata": {},
   "outputs": [],
   "source": [
    "start_time = time.time()\n",
    "\n",
    "doc_list, sentence_list, refused_doc_list = classify.collect_sentences_by_topic(topic, url_df.content_url.values[:num_docs])\n",
    "\n",
    "print(\"iteration took {:.3} s\".format(time.time() - start_time))"
   ]
  },
  {
   "cell_type": "code",
   "execution_count": null,
   "metadata": {},
   "outputs": [],
   "source": [
    "start_time = time.time()\n",
    "\n",
    "responses = classify.fetch_concurrent(topic, url_list = url_df.content_url.values[:num_docs], chunk_size=10)\n",
    "docs_df, sentences_df, missing_urls = classify.process_responses(responses)\n",
    "\n",
    "print(\"iteration took {:.3} s\".format(time.time() - start_time))"
   ]
  },
  {
   "cell_type": "code",
   "execution_count": null,
   "metadata": {},
   "outputs": [],
   "source": []
  },
  {
   "cell_type": "code",
   "execution_count": null,
   "metadata": {},
   "outputs": [],
   "source": []
  },
  {
   "cell_type": "code",
   "execution_count": null,
   "metadata": {},
   "outputs": [],
   "source": []
  }
 ],
 "metadata": {
  "kernelspec": {
   "display_name": "Python 3",
   "language": "python",
   "name": "python3"
  },
  "language_info": {
   "codemirror_mode": {
    "name": "ipython",
    "version": 3
   },
   "file_extension": ".py",
   "mimetype": "text/x-python",
   "name": "python",
   "nbconvert_exporter": "python",
   "pygments_lexer": "ipython3",
   "version": "3.8.3"
  }
 },
 "nbformat": 4,
 "nbformat_minor": 4
}
