{
 "cells": [
  {
   "cell_type": "markdown",
   "metadata": {},
   "source": [
    "# Argument Mining API query testing\n",
    "\n",
    "Load the target datafile, and see how the query results work"
   ]
  },
  {
   "cell_type": "code",
   "execution_count": 1,
   "metadata": {},
   "outputs": [],
   "source": [
    "# reload local package definitions for each cell\n",
    "%load_ext autoreload\n",
    "%autoreload 2"
   ]
  },
  {
   "cell_type": "code",
   "execution_count": 2,
   "metadata": {},
   "outputs": [],
   "source": [
    "import os\n",
    "from dotenv import find_dotenv, load_dotenv\n",
    "import requests\n",
    "import pandas as pd\n",
    "\n",
    "from arg_mine import DATA_DIR\n",
    "from arg_mine.data.loaders import get_gdelt_df\n",
    "from arg_mine.api import classify, auth, session, errors\n",
    "from arg_mine import utils"
   ]
  },
  {
   "cell_type": "code",
   "execution_count": 3,
   "metadata": {},
   "outputs": [],
   "source": [
    "# load the env variables to get the API key\n",
    "user_id, api_key = auth.load_auth_tokens()"
   ]
  },
  {
   "cell_type": "code",
   "execution_count": 4,
   "metadata": {},
   "outputs": [
    {
     "data": {
      "text/html": [
       "<div>\n",
       "<style scoped>\n",
       "    .dataframe tbody tr th:only-of-type {\n",
       "        vertical-align: middle;\n",
       "    }\n",
       "\n",
       "    .dataframe tbody tr th {\n",
       "        vertical-align: top;\n",
       "    }\n",
       "\n",
       "    .dataframe thead th {\n",
       "        text-align: right;\n",
       "    }\n",
       "</style>\n",
       "<table border=\"1\" class=\"dataframe\">\n",
       "  <thead>\n",
       "    <tr style=\"text-align: right;\">\n",
       "      <th></th>\n",
       "      <th>datetime</th>\n",
       "      <th>title</th>\n",
       "      <th>headline_image_url</th>\n",
       "      <th>content_url</th>\n",
       "      <th>snippit</th>\n",
       "      <th>timestamp</th>\n",
       "    </tr>\n",
       "  </thead>\n",
       "  <tbody>\n",
       "    <tr>\n",
       "      <th>0</th>\n",
       "      <td>20200115111500</td>\n",
       "      <td>Liberal MPs back Science Minister Karen Andrew...</td>\n",
       "      <td>https://static.ffx.io/images/$zoom_0.2627%2C$m...</td>\n",
       "      <td>https://www.smh.com.au/politics/federal/libera...</td>\n",
       "      <td>the science in her interview with The Age and...</td>\n",
       "      <td>2020-01-15 11:15:00</td>\n",
       "    </tr>\n",
       "    <tr>\n",
       "      <th>1</th>\n",
       "      <td>20200117184500</td>\n",
       "      <td>Several crowd-pullers on day two of KLF</td>\n",
       "      <td>https://www.thehindu.com/news/cities/kozhikode...</td>\n",
       "      <td>https://www.thehindu.com/news/cities/kozhikode...</td>\n",
       "      <td>Guha, who talked about patriotism and jingois...</td>\n",
       "      <td>2020-01-17 18:45:00</td>\n",
       "    </tr>\n",
       "    <tr>\n",
       "      <th>2</th>\n",
       "      <td>20200106233000</td>\n",
       "      <td>Seven arrested after gas rig protest</td>\n",
       "      <td>https://www.stourbridgenews.co.uk/resources/im...</td>\n",
       "      <td>https://www.stourbridgenews.co.uk/news/nationa...</td>\n",
       "      <td>three demands for the Scottish and UK Governm...</td>\n",
       "      <td>2020-01-06 23:30:00</td>\n",
       "    </tr>\n",
       "    <tr>\n",
       "      <th>3</th>\n",
       "      <td>20200101111500</td>\n",
       "      <td>Australia sending aid to wildfire towns as dea...</td>\n",
       "      <td>https://bloximages.newyork1.vip.townnews.com/h...</td>\n",
       "      <td>https://www.heraldmailmedia.com/news/nation/au...</td>\n",
       "      <td>this season the worst on record and reignited ...</td>\n",
       "      <td>2020-01-01 11:15:00</td>\n",
       "    </tr>\n",
       "    <tr>\n",
       "      <th>4</th>\n",
       "      <td>20200107101500</td>\n",
       "      <td>A hot, dry country caught between fire and a c...</td>\n",
       "      <td>NaN</td>\n",
       "      <td>http://global.chinadaily.com.cn/a/202001/07/WS...</td>\n",
       "      <td>, which is burned to generate electricity, wit...</td>\n",
       "      <td>2020-01-07 10:15:00</td>\n",
       "    </tr>\n",
       "  </tbody>\n",
       "</table>\n",
       "</div>"
      ],
      "text/plain": [
       "         datetime                                              title  \\\n",
       "0  20200115111500  Liberal MPs back Science Minister Karen Andrew...   \n",
       "1  20200117184500            Several crowd-pullers on day two of KLF   \n",
       "2  20200106233000               Seven arrested after gas rig protest   \n",
       "3  20200101111500  Australia sending aid to wildfire towns as dea...   \n",
       "4  20200107101500  A hot, dry country caught between fire and a c...   \n",
       "\n",
       "                                  headline_image_url  \\\n",
       "0  https://static.ffx.io/images/$zoom_0.2627%2C$m...   \n",
       "1  https://www.thehindu.com/news/cities/kozhikode...   \n",
       "2  https://www.stourbridgenews.co.uk/resources/im...   \n",
       "3  https://bloximages.newyork1.vip.townnews.com/h...   \n",
       "4                                                NaN   \n",
       "\n",
       "                                         content_url  \\\n",
       "0  https://www.smh.com.au/politics/federal/libera...   \n",
       "1  https://www.thehindu.com/news/cities/kozhikode...   \n",
       "2  https://www.stourbridgenews.co.uk/news/nationa...   \n",
       "3  https://www.heraldmailmedia.com/news/nation/au...   \n",
       "4  http://global.chinadaily.com.cn/a/202001/07/WS...   \n",
       "\n",
       "                                             snippit           timestamp  \n",
       "0   the science in her interview with The Age and... 2020-01-15 11:15:00  \n",
       "1   Guha, who talked about patriotism and jingois... 2020-01-17 18:45:00  \n",
       "2   three demands for the Scottish and UK Governm... 2020-01-06 23:30:00  \n",
       "3  this season the worst on record and reignited ... 2020-01-01 11:15:00  \n",
       "4  , which is burned to generate electricity, wit... 2020-01-07 10:15:00  "
      ]
     },
     "execution_count": 4,
     "metadata": {},
     "output_type": "execute_result"
    }
   ],
   "source": [
    "csv_datapath = os.path.join(DATA_DIR, \"raw\", \"2020-climate-change-narrative\")\n",
    "csv_filepath = os.path.join(csv_datapath, \"WebNewsEnglishSnippets.2020.csv\")\n",
    "\n",
    "url_df = get_gdelt_df(csv_filepath)\n",
    "url_df.head()"
   ]
  },
  {
   "cell_type": "markdown",
   "metadata": {},
   "source": [
    "## Build the `classify` request"
   ]
  },
  {
   "cell_type": "code",
   "execution_count": 5,
   "metadata": {},
   "outputs": [],
   "source": [
    "url = url_df.iloc[0].content_url"
   ]
  },
  {
   "cell_type": "code",
   "execution_count": 6,
   "metadata": {},
   "outputs": [],
   "source": [
    "CLASSIFY_BASE_URL = \"https://api.argumentsearch.com/en/classify\"\n",
    "timeout = 5\n",
    "\n",
    "topic = \"climate change\"\n",
    "\n",
    "\n",
    "payload = {\n",
    "    \"topic\": topic,\n",
    "    \"userID\": user_id,\n",
    "    \"apiKey\": api_key,\n",
    "    \"targetUrl\": url,\n",
    "    \"topicRelevance\": \"word2vec\",\n",
    "    \"predictStance\": True,\n",
    "    \"computeAttention\": True,\n",
    "    \"showOnlyArguments\": False,\n",
    "}\n",
    "\n",
    "response = requests.post(\n",
    "    CLASSIFY_BASE_URL,\n",
    "    json=payload,\n",
    "    timeout=timeout,\n",
    ")\n",
    "response.raise_for_status()"
   ]
  },
  {
   "cell_type": "code",
   "execution_count": 7,
   "metadata": {},
   "outputs": [],
   "source": [
    "out = response.json()"
   ]
  },
  {
   "cell_type": "code",
   "execution_count": null,
   "metadata": {},
   "outputs": [],
   "source": []
  },
  {
   "cell_type": "code",
   "execution_count": null,
   "metadata": {},
   "outputs": [],
   "source": []
  },
  {
   "cell_type": "code",
   "execution_count": 8,
   "metadata": {},
   "outputs": [],
   "source": [
    "response = classify.classify_url_sentences(topic, url_df.content_url.values[0], user_id, api_key)"
   ]
  },
  {
   "cell_type": "code",
   "execution_count": 9,
   "metadata": {},
   "outputs": [
    {
     "data": {
      "text/plain": [
       "ClassifiedSentence(url='https://www.smh.com.au/politics/federal/liberals-speak-out-to-back-science-minister-on-climate-change-action-20200115-p53rs1.html', doc_id='657f9dd95eb97597e34d0c05b5a93ba6', topic='climate change', sentence_id='c68493474ee7757287eeff11ac1bd1ea', argument_confidence=0.8324097394943237, argument_label='argument', sentence_original='\"So she\\'s right - there is no point wasting time discussing climate change - because we are not going to stop it from happening,\" he said of the minister\\'s comments.', sentence_preprocessed='\"So she\\'s right - there is no point wasting time discussing climate change - because we are not going to stop it from happening,\" he said of the minister\\'s comments.', sort_confidence=0.9131057365821765, stance_confidence=0.9938017336700293, stance_label='pro')"
      ]
     },
     "execution_count": 9,
     "metadata": {},
     "output_type": "execute_result"
    }
   ],
   "source": [
    "classify.ClassifiedSentence.from_dict(url, topic, response['sentences'][0])"
   ]
  },
  {
   "cell_type": "code",
   "execution_count": 10,
   "metadata": {},
   "outputs": [
    {
     "data": {
      "text/plain": [
       "{'argumentConfidence': 0.8324097394943237,\n",
       " 'argumentLabel': 'argument',\n",
       " 'sentenceOriginal': '\"So she\\'s right - there is no point wasting time discussing climate change - because we are not going to stop it from happening,\" he said of the minister\\'s comments.',\n",
       " 'sentencePreprocessed': '\"So she\\'s right - there is no point wasting time discussing climate change - because we are not going to stop it from happening,\" he said of the minister\\'s comments.',\n",
       " 'sortConfidence': 0.9131057365821765,\n",
       " 'stanceConfidence': 0.9938017336700293,\n",
       " 'stanceLabel': 'pro'}"
      ]
     },
     "execution_count": 10,
     "metadata": {},
     "output_type": "execute_result"
    }
   ],
   "source": [
    "response['sentences'][0]"
   ]
  },
  {
   "cell_type": "code",
   "execution_count": null,
   "metadata": {},
   "outputs": [],
   "source": []
  },
  {
   "cell_type": "code",
   "execution_count": 11,
   "metadata": {},
   "outputs": [
    {
     "name": "stdout",
     "output_type": "stream",
     "text": [
      "Refused: 400: Website could not be crawled or returned an empty result. Please contact an administrator.\n"
     ]
    }
   ],
   "source": [
    "# good example of a link that is no longer valid\n",
    "url = url_df.content_url.values[3]\n",
    "try: \n",
    "    response = classify.classify_url_sentences(topic, url, user_id, api_key)\n",
    "except errors.Refused as e:\n",
    "    print(e)"
   ]
  },
  {
   "cell_type": "code",
   "execution_count": null,
   "metadata": {},
   "outputs": [],
   "source": []
  },
  {
   "cell_type": "code",
   "execution_count": null,
   "metadata": {},
   "outputs": [],
   "source": []
  },
  {
   "cell_type": "markdown",
   "metadata": {},
   "source": [
    "## Run a batch of urls"
   ]
  },
  {
   "cell_type": "code",
   "execution_count": 12,
   "metadata": {},
   "outputs": [
    {
     "data": {
      "text/plain": [
       "(108459,)"
      ]
     },
     "execution_count": 12,
     "metadata": {},
     "output_type": "execute_result"
    }
   ],
   "source": [
    "url_df.content_url.shape"
   ]
  },
  {
   "cell_type": "code",
   "execution_count": 13,
   "metadata": {},
   "outputs": [
    {
     "name": "stderr",
     "output_type": "stream",
     "text": [
      "DEBUG:2020-06-18 21:17:14,615:arg_mine.api.classify: Attempting url 1 of 20\n",
      "DEBUG:2020-06-18 21:17:16,265:arg_mine.api.classify: Attempting url 2 of 20\n",
      "DEBUG:2020-06-18 21:17:17,934:arg_mine.api.classify: Attempting url 3 of 20\n",
      "DEBUG:2020-06-18 21:17:20,002:arg_mine.api.classify: Attempting url 4 of 20\n",
      "WARNING:2020-06-18 21:17:21,186:arg_mine.api.classify: Refused: Refused: 400: Website could not be crawled or returned an empty result. Please contact an administrator., url=https://www.heraldmailmedia.com/news/nation/australia-sending-aid-to-wildfire-towns-as-death-toll-rises/article_883fa793-6c0a-547e-8f77-b5964f1d7182.html\n",
      "DEBUG:2020-06-18 21:17:21,188:arg_mine.api.classify: Attempting url 5 of 20\n",
      "DEBUG:2020-06-18 21:17:23,111:arg_mine.api.classify: Attempting url 6 of 20\n",
      "DEBUG:2020-06-18 21:17:25,751:arg_mine.api.classify: Attempting url 7 of 20\n",
      "WARNING:2020-06-18 21:17:26,538:arg_mine.api.classify: Refused: Refused: 400: Website could not be crawled or returned an empty result. Please contact an administrator., url=https://www.seattlepi.com/news/world/article/Cooler-weather-brings-respite-in-Australian-14950114.php\n",
      "DEBUG:2020-06-18 21:17:26,541:arg_mine.api.classify: Attempting url 8 of 20\n",
      "WARNING:2020-06-18 21:17:27,511:arg_mine.api.classify: Refused: Refused: 400: Website could not be crawled or returned an empty result. Please contact an administrator., url=https://www.airdrietoday.com/national-business/starbucks-goals-for-sustainability-will-require-significant-consumer-buy-in-2037947\n",
      "DEBUG:2020-06-18 21:17:27,514:arg_mine.api.classify: Attempting url 9 of 20\n",
      "WARNING:2020-06-18 21:17:28,695:arg_mine.api.classify: Refused: Refused: 400: Website could not be crawled or returned an empty result. Please contact an administrator., url=https://www.heraldbulletin.com/news/nation_world/davos-chief-welcomes-views-of-trump-greta-thunberg-at-forum/article_24dbb151-7132-5c48-a7df-c13b67004ec0.html\n",
      "DEBUG:2020-06-18 21:17:28,697:arg_mine.api.classify: Attempting url 10 of 20\n",
      "DEBUG:2020-06-18 21:17:30,413:arg_mine.api.classify: Attempting url 11 of 20\n",
      "DEBUG:2020-06-18 21:17:32,215:arg_mine.api.classify: Attempting url 12 of 20\n",
      "DEBUG:2020-06-18 21:17:33,900:arg_mine.api.classify: Attempting url 13 of 20\n",
      "DEBUG:2020-06-18 21:17:35,936:arg_mine.api.classify: Attempting url 14 of 20\n",
      "WARNING:2020-06-18 21:17:37,383:arg_mine.api.classify: Refused: Refused: 400: Website could not be crawled or returned an empty result. Please contact an administrator., url=https://ravallirepublic.com/news/local/article_cb291465-d430-5477-8b41-1bedda9beaea.html\n",
      "DEBUG:2020-06-18 21:17:37,385:arg_mine.api.classify: Attempting url 15 of 20\n",
      "WARNING:2020-06-18 21:17:38,783:arg_mine.api.classify: Refused: Refused: 400: Website could not be crawled or returned an empty result. Please contact an administrator., url=https://www.caledonianrecord.com/opinion/columns/shawn-shouldice-small-business-owners-prepare-to-dodge-bullets-during/article_9f1b6399-7ca9-59bc-8788-b4d05ec5825c.html\n",
      "DEBUG:2020-06-18 21:17:38,785:arg_mine.api.classify: Attempting url 16 of 20\n",
      "DEBUG:2020-06-18 21:17:40,424:arg_mine.api.classify: Attempting url 17 of 20\n",
      "WARNING:2020-06-18 21:17:41,963:arg_mine.api.classify: Refused: Refused: 400: Website could not be crawled or returned an empty result. Please contact an administrator., url=https://www.nsnews.com/trudeau-meets-pallister-and-the-meng-hearing-in-the-news-for-jan-20-1.24056357\n",
      "DEBUG:2020-06-18 21:17:41,965:arg_mine.api.classify: Attempting url 18 of 20\n",
      "DEBUG:2020-06-18 21:17:44,074:arg_mine.api.classify: Attempting url 19 of 20\n",
      "DEBUG:2020-06-18 21:17:45,792:arg_mine.api.classify: Attempting url 20 of 20\n"
     ]
    }
   ],
   "source": [
    "doc_list, sentence_list, refused_doc_list = classify.collect_sentences_by_topic(topic, url_df.content_url.values[:20])"
   ]
  },
  {
   "cell_type": "code",
   "execution_count": 14,
   "metadata": {},
   "outputs": [
    {
     "name": "stdout",
     "output_type": "stream",
     "text": [
      "7\n"
     ]
    },
    {
     "data": {
      "text/plain": [
       "['https://www.heraldmailmedia.com/news/nation/australia-sending-aid-to-wildfire-towns-as-death-toll-rises/article_883fa793-6c0a-547e-8f77-b5964f1d7182.html',\n",
       " 'https://www.seattlepi.com/news/world/article/Cooler-weather-brings-respite-in-Australian-14950114.php',\n",
       " 'https://www.airdrietoday.com/national-business/starbucks-goals-for-sustainability-will-require-significant-consumer-buy-in-2037947',\n",
       " 'https://www.heraldbulletin.com/news/nation_world/davos-chief-welcomes-views-of-trump-greta-thunberg-at-forum/article_24dbb151-7132-5c48-a7df-c13b67004ec0.html',\n",
       " 'https://ravallirepublic.com/news/local/article_cb291465-d430-5477-8b41-1bedda9beaea.html',\n",
       " 'https://www.caledonianrecord.com/opinion/columns/shawn-shouldice-small-business-owners-prepare-to-dodge-bullets-during/article_9f1b6399-7ca9-59bc-8788-b4d05ec5825c.html',\n",
       " 'https://www.nsnews.com/trudeau-meets-pallister-and-the-meng-hearing-in-the-news-for-jan-20-1.24056357']"
      ]
     },
     "execution_count": 14,
     "metadata": {},
     "output_type": "execute_result"
    }
   ],
   "source": [
    "print(len(refused_doc_list))\n",
    "refused_doc_list"
   ]
  },
  {
   "cell_type": "code",
   "execution_count": null,
   "metadata": {},
   "outputs": [],
   "source": []
  },
  {
   "cell_type": "code",
   "execution_count": 15,
   "metadata": {},
   "outputs": [
    {
     "ename": "RetryError",
     "evalue": "None: Max retries exceeded with url: /en/classify (Caused by None)",
     "output_type": "error",
     "traceback": [
      "\u001b[0;31m-------------------------------------------------\u001b[0m",
      "\u001b[0;31mRemoteTraceback\u001b[0m Traceback (most recent call last)",
      "\u001b[0;31mRemoteTraceback\u001b[0m: \n\"\"\"\nTraceback (most recent call last):\n  File \"/usr/local/lib/python3.8/site-packages/requests/adapters.py\", line 439, in send\n    resp = conn.urlopen(\n  File \"/usr/local/lib/python3.8/site-packages/urllib3/connectionpool.py\", line 815, in urlopen\n    return self.urlopen(\n  File \"/usr/local/lib/python3.8/site-packages/urllib3/connectionpool.py\", line 815, in urlopen\n    return self.urlopen(\n  File \"/usr/local/lib/python3.8/site-packages/urllib3/connectionpool.py\", line 815, in urlopen\n    return self.urlopen(\n  File \"/usr/local/lib/python3.8/site-packages/urllib3/connectionpool.py\", line 805, in urlopen\n    retries = retries.increment(method, url, response=response, _pool=self)\n  File \"/usr/local/lib/python3.8/site-packages/urllib3/util/retry.py\", line 439, in increment\n    raise MaxRetryError(_pool, url, error or ResponseError(cause))\nurllib3.exceptions.MaxRetryError: HTTPSConnectionPool(host='api.argumentsearch.com', port=443): Max retries exceeded with url: /en/classify (Caused by ResponseError('too many 500 error responses'))\n\nDuring handling of the above exception, another exception occurred:\n\nTraceback (most recent call last):\n  File \"/usr/local/lib/python3.8/multiprocessing/pool.py\", line 125, in worker\n    result = (True, func(*args, **kwds))\n  File \"/usr/local/lib/python3.8/multiprocessing/pool.py\", line 48, in mapstar\n    return list(map(*args))\n  File \"/opt/workspace/arg_mine/api/classify.py\", line 242, in collect_sentences_for_url\n    out_dict = classify_url_sentences(topic, url, user_id, api_key)\n  File \"/opt/workspace/arg_mine/api/classify.py\", line 192, in classify_url_sentences\n    json_response = session.fetch(session.ApiUrl.CLASSIFY_BASE_URL, payload, timeout, request_session=request_session)\n  File \"/opt/workspace/arg_mine/api/session.py\", line 109, in fetch\n    response = post_fn(base_url, json=payload, timeout=timeout)\n  File \"/usr/local/lib/python3.8/site-packages/requests/sessions.py\", line 578, in post\n    return self.request('POST', url, data=data, json=json, **kwargs)\n  File \"/usr/local/lib/python3.8/site-packages/requests/sessions.py\", line 530, in request\n    resp = self.send(prep, **send_kwargs)\n  File \"/usr/local/lib/python3.8/site-packages/requests/sessions.py\", line 643, in send\n    r = adapter.send(request, **kwargs)\n  File \"/opt/workspace/arg_mine/api/session.py\", line 43, in send\n    return super().send(request, **kwargs)\n  File \"/usr/local/lib/python3.8/site-packages/requests/adapters.py\", line 507, in send\n    raise RetryError(e, request=request)\nrequests.exceptions.RetryError: HTTPSConnectionPool(host='api.argumentsearch.com', port=443): Max retries exceeded with url: /en/classify (Caused by ResponseError('too many 500 error responses'))\n\"\"\"",
      "\nThe above exception was the direct cause of the following exception:\n",
      "\u001b[0;31mRetryError\u001b[0m      Traceback (most recent call last)",
      "\u001b[0;32m<ipython-input-15-f61d34451a4c>\u001b[0m in \u001b[0;36m<module>\u001b[0;34m\u001b[0m\n\u001b[0;32m----> 1\u001b[0;31m \u001b[0mresults\u001b[0m \u001b[0;34m=\u001b[0m \u001b[0mclassify\u001b[0m\u001b[0;34m.\u001b[0m\u001b[0mcollect_sentences_by_topic_parallel\u001b[0m\u001b[0;34m(\u001b[0m\u001b[0mtopic\u001b[0m\u001b[0;34m,\u001b[0m \u001b[0murl_df\u001b[0m\u001b[0;34m.\u001b[0m\u001b[0mcontent_url\u001b[0m\u001b[0;34m.\u001b[0m\u001b[0mvalues\u001b[0m\u001b[0;34m[\u001b[0m\u001b[0;34m:\u001b[0m\u001b[0;36m10\u001b[0m\u001b[0;34m]\u001b[0m\u001b[0;34m)\u001b[0m\u001b[0;34m\u001b[0m\u001b[0;34m\u001b[0m\u001b[0m\n\u001b[0m",
      "\u001b[0;32m/opt/workspace/arg_mine/api/classify.py\u001b[0m in \u001b[0;36mcollect_sentences_by_topic_parallel\u001b[0;34m(topic, url_list, proc_count)\u001b[0m\n\u001b[1;32m    278\u001b[0m \u001b[0;34m\u001b[0m\u001b[0m\n\u001b[1;32m    279\u001b[0m     \u001b[0;32mwith\u001b[0m \u001b[0mmultiprocessing\u001b[0m\u001b[0;34m.\u001b[0m\u001b[0mPool\u001b[0m\u001b[0;34m(\u001b[0m\u001b[0mprocesses\u001b[0m\u001b[0;34m=\u001b[0m\u001b[0mproc_count\u001b[0m\u001b[0;34m)\u001b[0m \u001b[0;32mas\u001b[0m \u001b[0mpool\u001b[0m\u001b[0;34m:\u001b[0m\u001b[0;34m\u001b[0m\u001b[0;34m\u001b[0m\u001b[0m\n\u001b[0;32m--> 280\u001b[0;31m         \u001b[0mresults\u001b[0m \u001b[0;34m=\u001b[0m \u001b[0mpool\u001b[0m\u001b[0;34m.\u001b[0m\u001b[0mmap\u001b[0m\u001b[0;34m(\u001b[0m\u001b[0mwrapper\u001b[0m\u001b[0;34m,\u001b[0m \u001b[0murl_list\u001b[0m\u001b[0;34m)\u001b[0m\u001b[0;34m\u001b[0m\u001b[0;34m\u001b[0m\u001b[0m\n\u001b[0m\u001b[1;32m    281\u001b[0m \u001b[0;34m\u001b[0m\u001b[0m\n\u001b[1;32m    282\u001b[0m     \u001b[0;32mreturn\u001b[0m \u001b[0mresults\u001b[0m\u001b[0;34m\u001b[0m\u001b[0;34m\u001b[0m\u001b[0m\n",
      "\u001b[0;32m/usr/local/lib/python3.8/multiprocessing/pool.py\u001b[0m in \u001b[0;36mmap\u001b[0;34m(self, func, iterable, chunksize)\u001b[0m\n\u001b[1;32m    362\u001b[0m         \u001b[0;32min\u001b[0m \u001b[0ma\u001b[0m \u001b[0mlist\u001b[0m \u001b[0mthat\u001b[0m \u001b[0;32mis\u001b[0m \u001b[0mreturned\u001b[0m\u001b[0;34m.\u001b[0m\u001b[0;34m\u001b[0m\u001b[0;34m\u001b[0m\u001b[0m\n\u001b[1;32m    363\u001b[0m         '''\n\u001b[0;32m--> 364\u001b[0;31m         \u001b[0;32mreturn\u001b[0m \u001b[0mself\u001b[0m\u001b[0;34m.\u001b[0m\u001b[0m_map_async\u001b[0m\u001b[0;34m(\u001b[0m\u001b[0mfunc\u001b[0m\u001b[0;34m,\u001b[0m \u001b[0miterable\u001b[0m\u001b[0;34m,\u001b[0m \u001b[0mmapstar\u001b[0m\u001b[0;34m,\u001b[0m \u001b[0mchunksize\u001b[0m\u001b[0;34m)\u001b[0m\u001b[0;34m.\u001b[0m\u001b[0mget\u001b[0m\u001b[0;34m(\u001b[0m\u001b[0;34m)\u001b[0m\u001b[0;34m\u001b[0m\u001b[0;34m\u001b[0m\u001b[0m\n\u001b[0m\u001b[1;32m    365\u001b[0m \u001b[0;34m\u001b[0m\u001b[0m\n\u001b[1;32m    366\u001b[0m     \u001b[0;32mdef\u001b[0m \u001b[0mstarmap\u001b[0m\u001b[0;34m(\u001b[0m\u001b[0mself\u001b[0m\u001b[0;34m,\u001b[0m \u001b[0mfunc\u001b[0m\u001b[0;34m,\u001b[0m \u001b[0miterable\u001b[0m\u001b[0;34m,\u001b[0m \u001b[0mchunksize\u001b[0m\u001b[0;34m=\u001b[0m\u001b[0;32mNone\u001b[0m\u001b[0;34m)\u001b[0m\u001b[0;34m:\u001b[0m\u001b[0;34m\u001b[0m\u001b[0;34m\u001b[0m\u001b[0m\n",
      "\u001b[0;32m/usr/local/lib/python3.8/multiprocessing/pool.py\u001b[0m in \u001b[0;36mget\u001b[0;34m(self, timeout)\u001b[0m\n\u001b[1;32m    769\u001b[0m             \u001b[0;32mreturn\u001b[0m \u001b[0mself\u001b[0m\u001b[0;34m.\u001b[0m\u001b[0m_value\u001b[0m\u001b[0;34m\u001b[0m\u001b[0;34m\u001b[0m\u001b[0m\n\u001b[1;32m    770\u001b[0m         \u001b[0;32melse\u001b[0m\u001b[0;34m:\u001b[0m\u001b[0;34m\u001b[0m\u001b[0;34m\u001b[0m\u001b[0m\n\u001b[0;32m--> 771\u001b[0;31m             \u001b[0;32mraise\u001b[0m \u001b[0mself\u001b[0m\u001b[0;34m.\u001b[0m\u001b[0m_value\u001b[0m\u001b[0;34m\u001b[0m\u001b[0;34m\u001b[0m\u001b[0m\n\u001b[0m\u001b[1;32m    772\u001b[0m \u001b[0;34m\u001b[0m\u001b[0m\n\u001b[1;32m    773\u001b[0m     \u001b[0;32mdef\u001b[0m \u001b[0m_set\u001b[0m\u001b[0;34m(\u001b[0m\u001b[0mself\u001b[0m\u001b[0;34m,\u001b[0m \u001b[0mi\u001b[0m\u001b[0;34m,\u001b[0m \u001b[0mobj\u001b[0m\u001b[0;34m)\u001b[0m\u001b[0;34m:\u001b[0m\u001b[0;34m\u001b[0m\u001b[0;34m\u001b[0m\u001b[0m\n",
      "\u001b[0;31mRetryError\u001b[0m: None: Max retries exceeded with url: /en/classify (Caused by None)"
     ]
    }
   ],
   "source": [
    "results = classify.collect_sentences_by_topic_parallel(topic, url_df.content_url.values[:10])"
   ]
  },
  {
   "cell_type": "code",
   "execution_count": null,
   "metadata": {},
   "outputs": [],
   "source": []
  },
  {
   "cell_type": "code",
   "execution_count": null,
   "metadata": {},
   "outputs": [],
   "source": []
  },
  {
   "cell_type": "code",
   "execution_count": null,
   "metadata": {},
   "outputs": [],
   "source": []
  },
  {
   "cell_type": "markdown",
   "metadata": {},
   "source": [
    "## collect data for unit tests\n",
    "Using tools in the package, run queries that give known responses, and save those responses as json fixtures for unit tests"
   ]
  },
  {
   "cell_type": "code",
   "execution_count": 16,
   "metadata": {},
   "outputs": [],
   "source": [
    "import pkg_resources\n",
    "import json\n",
    "from tests.fixtures import save_json_request_fixture, load_json_fixture\n",
    "import logging\n",
    "\n",
    "logger = logging.basicConfig()\n",
    "\n",
    "SAVE_FIXTURES = False"
   ]
  },
  {
   "cell_type": "code",
   "execution_count": 17,
   "metadata": {},
   "outputs": [],
   "source": [
    "url  = url_df.content_url.values[0]\n",
    "payload = {\n",
    "    \"topic\": topic,\n",
    "    \"userID\": user_id,\n",
    "    \"apiKey\": api_key,\n",
    "    \"targetUrl\": url,\n",
    "    \"model\": \"default\",\n",
    "    \"topicRelevance\": classify.TopicRelevance.WORD2VEC,\n",
    "    \"predictStance\": True,  # we don't want to predict stance without context\n",
    "    \"computeAttention\": False,  # doesnt work for BERT-based models (the default model)\n",
    "    \"showOnlyArguments\": True,  # only return sentences classified as arguments\n",
    "    \"userMetadata\": url,\n",
    "}\n",
    "\n",
    "result = session.fetch(session.ApiUrl.CLASSIFY_BASE_URL, payload)"
   ]
  },
  {
   "cell_type": "code",
   "execution_count": 18,
   "metadata": {},
   "outputs": [
    {
     "data": {
      "text/plain": [
       "dict_keys(['metadata', 'sentences'])"
      ]
     },
     "execution_count": 18,
     "metadata": {},
     "output_type": "execute_result"
    }
   ],
   "source": [
    "result.keys()"
   ]
  },
  {
   "cell_type": "code",
   "execution_count": 19,
   "metadata": {},
   "outputs": [],
   "source": [
    "if SAVE_FIXTURES:\n",
    "    save_json_request_fixture(\"response_classify_only_args.json\", payload, result, status_code=200, drop_keys=['apiKey'])"
   ]
  },
  {
   "cell_type": "markdown",
   "metadata": {},
   "source": [
    "### known bad article request, gives 404 on server"
   ]
  },
  {
   "cell_type": "code",
   "execution_count": 20,
   "metadata": {},
   "outputs": [
    {
     "name": "stdout",
     "output_type": "stream",
     "text": [
      "https://www.heraldmailmedia.com/news/nation/australia-sending-aid-to-wildfire-towns-as-death-toll-rises/article_883fa793-6c0a-547e-8f77-b5964f1d7182.html\n"
     ]
    },
    {
     "name": "stderr",
     "output_type": "stream",
     "text": [
      "ERROR:arg_mine.api.session:400 : {'error': 'Website could not be crawled or returned an empty result. Please contact an administrator.'}\n"
     ]
    },
    {
     "name": "stdout",
     "output_type": "stream",
     "text": [
      "None\n",
      "Refused: 400: Website could not be crawled or returned an empty result. Please contact an administrator.\n"
     ]
    }
   ],
   "source": [
    "# this url gives a known 404 on the article server\n",
    "url = url_df.content_url.values[3]\n",
    "result = None\n",
    "print(url)\n",
    "payload = {\n",
    "    \"topic\": topic,\n",
    "    \"userID\": user_id,\n",
    "    \"apiKey\": api_key,\n",
    "    \"targetUrl\": url,\n",
    "    \"model\": \"default\",\n",
    "    \"topicRelevance\": classify.TopicRelevance.WORD2VEC,\n",
    "    \"predictStance\": True,  # we don't want to predict stance without context\n",
    "    \"computeAttention\": False,  # doesnt work for BERT-based models (the default model)\n",
    "    \"showOnlyArguments\": True,  # only return sentences classified as arguments\n",
    "    \"userMetadata\": url,\n",
    "}\n",
    "\n",
    "try: \n",
    "    result = session.fetch(session.ApiUrl.CLASSIFY_BASE_URL, payload)\n",
    "except errors.Refused as e:\n",
    "    print(result)\n",
    "    print(e)"
   ]
  },
  {
   "cell_type": "code",
   "execution_count": 21,
   "metadata": {},
   "outputs": [
    {
     "name": "stdout",
     "output_type": "stream",
     "text": [
      "{'error': 'Website could not be crawled or returned an empty result. Please contact an administrator.'}\n"
     ]
    }
   ],
   "source": [
    "response = requests.post(session.ApiUrl.CLASSIFY_BASE_URL, json=payload)\n",
    "print(response.json())\n",
    "error_response = response.json()\n",
    "if SAVE_FIXTURES:\n",
    "    save_json_request_fixture(\"response_classify_refused_remote_404.json\", payload, error_response, status_code=400, drop_keys=['apiKey'])"
   ]
  },
  {
   "cell_type": "markdown",
   "metadata": {},
   "source": [
    "### Bad parameters test"
   ]
  },
  {
   "cell_type": "code",
   "execution_count": 22,
   "metadata": {},
   "outputs": [
    {
     "name": "stdout",
     "output_type": "stream",
     "text": [
      "https://www.smh.com.au/politics/federal/liberals-speak-out-to-back-science-minister-on-climate-change-action-20200115-p53rs1.html\n"
     ]
    },
    {
     "name": "stderr",
     "output_type": "stream",
     "text": [
      "ERROR:arg_mine.api.session:500 : Server Error: INTERNAL SERVER ERROR for url: https://api.argumentsearch.com/en/classify, check payload contents?\n"
     ]
    },
    {
     "name": "stdout",
     "output_type": "stream",
     "text": [
      "None\n",
      "InternalGatewayError: 500: Server Error: INTERNAL SERVER ERROR for url: https://api.argumentsearch.com/en/classify, check payload contents?\n"
     ]
    }
   ],
   "source": [
    "# good url\n",
    "url = url_df.content_url.values[0]\n",
    "result = None\n",
    "print(url)\n",
    "payload = {\n",
    "    \"topic\": topic,\n",
    "    \"userID\": user_id,\n",
    "    \"apiKey\": api_key,\n",
    "    \"targetUrl\": url,\n",
    "    \"model\": \"i_am_a_ bad_model\",\n",
    "    \"userMetadata\": url,\n",
    "}\n",
    "try:\n",
    "    result = session.fetch(session.ApiUrl.CLASSIFY_BASE_URL, payload)\n",
    "except errors.InternalGatewayError as e:\n",
    "    print(result)\n",
    "    print(e)"
   ]
  },
  {
   "cell_type": "code",
   "execution_count": 23,
   "metadata": {},
   "outputs": [],
   "source": [
    "response = requests.post(session.ApiUrl.CLASSIFY_BASE_URL, json=payload)\n",
    "if SAVE_FIXTURES:\n",
    "    save_json_request_fixture(\"response_classify_500_bad_payload.json\", payload, \"\", status_code=response.status_code, drop_keys=['apiKey'])"
   ]
  },
  {
   "cell_type": "markdown",
   "metadata": {},
   "source": [
    "### timeout test"
   ]
  },
  {
   "cell_type": "code",
   "execution_count": 24,
   "metadata": {},
   "outputs": [
    {
     "name": "stdout",
     "output_type": "stream",
     "text": [
      "https://www.smh.com.au/politics/federal/liberals-speak-out-to-back-science-minister-on-climate-change-action-20200115-p53rs1.html\n",
      "None\n",
      "Server not responding, ConnectionError or Timeout (0.1 s)\n"
     ]
    }
   ],
   "source": [
    "url = url_df.content_url.values[0]\n",
    "result = None\n",
    "print(url)\n",
    "payload = {\n",
    "    \"topic\": topic,\n",
    "    \"userID\": user_id,\n",
    "    \"apiKey\": api_key,\n",
    "    \"targetUrl\": url,\n",
    "    \"model\": \"default\",\n",
    "    \"topicRelevance\": classify.TopicRelevance.WORD2VEC,\n",
    "    \"predictStance\": True,  # we don't want to predict stance without context\n",
    "    \"computeAttention\": False,  # doesnt work for BERT-based models (the default model)\n",
    "    \"showOnlyArguments\": True,  # only return sentences classified as arguments\n",
    "    \"userMetadata\": url,\n",
    "}\n",
    "try:\n",
    "    result = session.fetch(session.ApiUrl.CLASSIFY_BASE_URL, payload, timeout=0.1)\n",
    "except errors.NotResponding as e:\n",
    "    print(result)\n",
    "    print(e)"
   ]
  },
  {
   "cell_type": "code",
   "execution_count": 25,
   "metadata": {},
   "outputs": [
    {
     "name": "stdout",
     "output_type": "stream",
     "text": [
      "HTTPSConnectionPool(host='api.argumentsearch.com', port=443): Max retries exceeded with url: /en/classify (Caused by ConnectTimeoutError(<urllib3.connection.HTTPSConnection object at 0x7f6eabb47640>, 'Connection to api.argumentsearch.com timed out. (connect timeout=0.1)'))\n"
     ]
    }
   ],
   "source": [
    "try:\n",
    "    response = requests.post(session.ApiUrl.CLASSIFY_BASE_URL, json=payload, timeout=0.1)\n",
    "except requests.Timeout as e:\n",
    "    print(e)"
   ]
  },
  {
   "cell_type": "code",
   "execution_count": null,
   "metadata": {},
   "outputs": [],
   "source": []
  },
  {
   "cell_type": "code",
   "execution_count": null,
   "metadata": {},
   "outputs": [],
   "source": []
  },
  {
   "cell_type": "code",
   "execution_count": null,
   "metadata": {},
   "outputs": [],
   "source": []
  },
  {
   "cell_type": "code",
   "execution_count": null,
   "metadata": {},
   "outputs": [],
   "source": []
  },
  {
   "cell_type": "code",
   "execution_count": null,
   "metadata": {},
   "outputs": [],
   "source": []
  }
 ],
 "metadata": {
  "kernelspec": {
   "display_name": "Python 3",
   "language": "python",
   "name": "python3"
  },
  "language_info": {
   "codemirror_mode": {
    "name": "ipython",
    "version": 3
   },
   "file_extension": ".py",
   "mimetype": "text/x-python",
   "name": "python",
   "nbconvert_exporter": "python",
   "pygments_lexer": "ipython3",
   "version": "3.8.3"
  }
 },
 "nbformat": 4,
 "nbformat_minor": 4
}
