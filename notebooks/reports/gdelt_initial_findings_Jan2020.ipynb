{
 "cells": [
  {
   "cell_type": "markdown",
   "metadata": {},
   "source": [
    "# GDELT initial findings from articles in January 2020\n",
    "\n",
    "Author: Mike Pesavento  \n",
    "Email: mike@peztek.com  \n",
    "Date: 2020-06-29  \n",
    "\n",
    "\n",
    "This report isolates and mines the [GDELT collection of news articles](https://blog.gdeltproject.org/a-new-contextual-dataset-for-exploring-climate-change-narratives-6-3m-english-news-urls-with-contextual-snippets-2015-2020/) containing information on climate change.  This collection consists of roughly 1 million articles spanning 5 years, from 2015 to 2020.\n",
    "\n",
    "As a preliminary study, we use the (Argument Unit Recognition and Classification)[https://aaai.org/Papers/AAAI/2020GB/AAAI-TrautmannD.7498.pdf] (RESTful API)[https://api.argumentsearch.com/en/doc] to scrape sentences from the given articles and classify them as being PRO (for) or CONTRA (against) the given topic key words.\n",
    "\n",
    "For the purposes here, we will focus on the keyword `climate change`, and use the API's similarity score based on the [`word2vec`](https://en.wikipedia.org/wiki/Word2vec) class of models for identifying word similarity. \n"
   ]
  },
  {
   "cell_type": "markdown",
   "metadata": {},
   "source": [
    "## Goals\n",
    "\n",
    "1. Use the API to extract sentences from the first 1000 URLs, along with the model's classification of PRO or CONTRA for each sentence\n",
    "1. Examine the distribution of articles FOR and AGAINST the given topic. If an article has more sentences PRO than CONTRA we claim the article is FOR the topic, and vice versa.\n",
    "\n"
   ]
  },
  {
   "cell_type": "code",
   "execution_count": 1,
   "metadata": {},
   "outputs": [],
   "source": [
    "# reload local package definitions for each cell\n",
    "%load_ext autoreload\n",
    "%autoreload 2"
   ]
  },
  {
   "cell_type": "code",
   "execution_count": 2,
   "metadata": {},
   "outputs": [
    {
     "name": "stderr",
     "output_type": "stream",
     "text": [
      "/usr/local/lib/python3.8/site-packages/grequests.py:22: MonkeyPatchWarning: Monkey-patching ssl after ssl has already been imported may lead to errors, including RecursionError on Python 3.6. It may also silently lead to incorrect behaviour on Python 3.7. Please monkey-patch earlier. See https://github.com/gevent/gevent/issues/1016. Modules that had direct imports (NOT patched): ['urllib3.contrib.pyopenssl (/usr/local/lib/python3.8/site-packages/urllib3/contrib/pyopenssl.py)']. \n",
      "  curious_george.patch_all(thread=False, select=False)\n"
     ]
    }
   ],
   "source": [
    "import os\n",
    "import time\n",
    "\n",
    "from dotenv import find_dotenv, load_dotenv\n",
    "\n",
    "import numpy as np\n",
    "import pandas as pd\n",
    "import matplotlib.pyplot as plt\n",
    "import seaborn as sns\n",
    "\n",
    "from arg_mine import DATA_DIR, FIGURES_DIR\n",
    "from arg_mine.data import loaders, labelers\n",
    "from arg_mine.api import classify, auth, session, errors\n",
    "from arg_mine import utils\n",
    "\n",
    "sns.set_style(\"whitegrid\")"
   ]
  },
  {
   "cell_type": "code",
   "execution_count": 3,
   "metadata": {},
   "outputs": [
    {
     "name": "stderr",
     "output_type": "stream",
     "text": [
      "INFO:2020-07-09 21:05:10,396:arg_mine.data.loaders: reading data from: /opt/workspace/data/raw/2020-climate-change-narrative/WebNewsEnglishSnippets.2020.csv\n"
     ]
    }
   ],
   "source": [
    "# load the 2020 context snippet, for access later\n",
    "csv_datapath = os.path.join(DATA_DIR, \"raw\", \"2020-climate-change-narrative\")\n",
    "csv_filepath = os.path.join(csv_datapath, \"WebNewsEnglishSnippets.2020.csv\")\n",
    "\n",
    "url_df = loaders.get_gdelt_df(csv_filepath)"
   ]
  },
  {
   "cell_type": "code",
   "execution_count": 4,
   "metadata": {},
   "outputs": [
    {
     "name": "stdout",
     "output_type": "stream",
     "text": [
      "data load and concatenation took 0.1 s\n"
     ]
    }
   ],
   "source": [
    "start_time = time.time()\n",
    "base_path = os.path.join(DATA_DIR, \"processed\", \"gdelt-climate-change-docs\")\n",
    "docs_df = loaders.concat_csvs(\"gdelt_2020_docs_docs*.csv\", base_path)\n",
    "\n",
    "##  This line takes a long time! adds around 7 minutes to the load\n",
    "# sentences_df = loaders.concat_csvs(\"gdelt_2020_sentences_docs*.csv\", base_path)\n",
    "\n",
    "# # need to drop empty sentences!\n",
    "# sentences_df.dropna(subset=['sentence_original'], inplace=True)\n",
    "\n",
    "# # add the context labels\n",
    "# sentences_df = labelers.label_gdelt_context(url_df, docs_df, sentences_df)\n",
    "\n",
    "print(\"data load and concatenation took {:0.1f} s\".format(time.time() - start_time))"
   ]
  },
  {
   "cell_type": "markdown",
   "metadata": {},
   "source": [
    "## First finding: data attrition & descriptive stats\n",
    "As expected, we find that there is some loss of data from the URL extraction. For example, some URLs point to articles that are no longer accessible, returning a 404 (page not found) error. This accounts for the overwhelming majority of the missing data."
   ]
  },
  {
   "cell_type": "code",
   "execution_count": 5,
   "metadata": {},
   "outputs": [
    {
     "name": "stdout",
     "output_type": "stream",
     "text": [
      "Number of valid articles: 7460/10000  (25.40% data loss)\n"
     ]
    }
   ],
   "source": [
    "total_number_articles = 10000  # from the current extraction\n",
    "percent_data_loss = (1 - docs_df.shape[0]/total_number_articles) * 100\n",
    "print(\"Number of valid articles: {}/{}  ({:0.2f}% data loss)\".format(\n",
    "    docs_df.shape[0],\n",
    "    total_number_articles,\n",
    "    percent_data_loss\n",
    "))"
   ]
  },
  {
   "cell_type": "code",
   "execution_count": 6,
   "metadata": {},
   "outputs": [
    {
     "name": "stdout",
     "output_type": "stream",
     "text": [
      "Total number of classified sentences: 314263\n"
     ]
    },
    {
     "data": {
      "text/html": [
       "<div>\n",
       "<style scoped>\n",
       "    .dataframe tbody tr th:only-of-type {\n",
       "        vertical-align: middle;\n",
       "    }\n",
       "\n",
       "    .dataframe tbody tr th {\n",
       "        vertical-align: top;\n",
       "    }\n",
       "\n",
       "    .dataframe thead th {\n",
       "        text-align: right;\n",
       "    }\n",
       "</style>\n",
       "<table border=\"1\" class=\"dataframe\">\n",
       "  <thead>\n",
       "    <tr style=\"text-align: right;\">\n",
       "      <th></th>\n",
       "      <th>total_classified_sentences</th>\n",
       "      <th>total_arguments</th>\n",
       "      <th>total_non_arguments</th>\n",
       "      <th>total_contra_arguments</th>\n",
       "      <th>total_pro_arguments</th>\n",
       "    </tr>\n",
       "  </thead>\n",
       "  <tbody>\n",
       "    <tr>\n",
       "      <th>count</th>\n",
       "      <td>7460.000000</td>\n",
       "      <td>7460.000000</td>\n",
       "      <td>7460.000000</td>\n",
       "      <td>7460.000000</td>\n",
       "      <td>7460.000000</td>\n",
       "    </tr>\n",
       "    <tr>\n",
       "      <th>mean</th>\n",
       "      <td>42.126408</td>\n",
       "      <td>9.134718</td>\n",
       "      <td>32.991689</td>\n",
       "      <td>5.819839</td>\n",
       "      <td>3.314879</td>\n",
       "    </tr>\n",
       "    <tr>\n",
       "      <th>std</th>\n",
       "      <td>68.995005</td>\n",
       "      <td>11.436949</td>\n",
       "      <td>62.894992</td>\n",
       "      <td>8.274904</td>\n",
       "      <td>4.718278</td>\n",
       "    </tr>\n",
       "    <tr>\n",
       "      <th>min</th>\n",
       "      <td>1.000000</td>\n",
       "      <td>0.000000</td>\n",
       "      <td>0.000000</td>\n",
       "      <td>0.000000</td>\n",
       "      <td>0.000000</td>\n",
       "    </tr>\n",
       "    <tr>\n",
       "      <th>25%</th>\n",
       "      <td>18.000000</td>\n",
       "      <td>2.000000</td>\n",
       "      <td>12.000000</td>\n",
       "      <td>1.000000</td>\n",
       "      <td>0.000000</td>\n",
       "    </tr>\n",
       "    <tr>\n",
       "      <th>50%</th>\n",
       "      <td>30.000000</td>\n",
       "      <td>6.000000</td>\n",
       "      <td>21.000000</td>\n",
       "      <td>3.000000</td>\n",
       "      <td>2.000000</td>\n",
       "    </tr>\n",
       "    <tr>\n",
       "      <th>75%</th>\n",
       "      <td>46.000000</td>\n",
       "      <td>13.000000</td>\n",
       "      <td>35.000000</td>\n",
       "      <td>8.000000</td>\n",
       "      <td>5.000000</td>\n",
       "    </tr>\n",
       "    <tr>\n",
       "      <th>max</th>\n",
       "      <td>2535.000000</td>\n",
       "      <td>328.000000</td>\n",
       "      <td>2468.000000</td>\n",
       "      <td>238.000000</td>\n",
       "      <td>93.000000</td>\n",
       "    </tr>\n",
       "  </tbody>\n",
       "</table>\n",
       "</div>"
      ],
      "text/plain": [
       "       total_classified_sentences  total_arguments  total_non_arguments  \\\n",
       "count                 7460.000000      7460.000000          7460.000000   \n",
       "mean                    42.126408         9.134718            32.991689   \n",
       "std                     68.995005        11.436949            62.894992   \n",
       "min                      1.000000         0.000000             0.000000   \n",
       "25%                     18.000000         2.000000            12.000000   \n",
       "50%                     30.000000         6.000000            21.000000   \n",
       "75%                     46.000000        13.000000            35.000000   \n",
       "max                   2535.000000       328.000000          2468.000000   \n",
       "\n",
       "       total_contra_arguments  total_pro_arguments  \n",
       "count             7460.000000          7460.000000  \n",
       "mean                 5.819839             3.314879  \n",
       "std                  8.274904             4.718278  \n",
       "min                  0.000000             0.000000  \n",
       "25%                  1.000000             0.000000  \n",
       "50%                  3.000000             2.000000  \n",
       "75%                  8.000000             5.000000  \n",
       "max                238.000000            93.000000  "
      ]
     },
     "execution_count": 6,
     "metadata": {},
     "output_type": "execute_result"
    }
   ],
   "source": [
    "sentence_ct_cols = ['total_classified_sentences', 'total_arguments', 'total_non_arguments', 'total_contra_arguments', 'total_pro_arguments']\n",
    "\n",
    "print(\"Total number of classified sentences: {}\".format(docs_df['total_classified_sentences'].sum()))\n",
    "\n",
    "docs_df[sentence_ct_cols].describe()"
   ]
  },
  {
   "cell_type": "markdown",
   "metadata": {},
   "source": [
    "## Distribution of argument sentences\n",
    "\n",
    "What is the density of sentences that are making an argument for or against the topic, given all of the classified sentences?"
   ]
  },
  {
   "cell_type": "code",
   "execution_count": 7,
   "metadata": {},
   "outputs": [],
   "source": [
    "docs_df[\"pct_arg\"] = docs_df.total_arguments / docs_df.total_classified_sentences\n",
    "\n",
    "# estimate if doc is PRO or CON\n",
    "docs_df[\"is_pro\"] = docs_df['total_pro_arguments'] > docs_df['total_contra_arguments']"
   ]
  },
  {
   "cell_type": "code",
   "execution_count": 8,
   "metadata": {},
   "outputs": [
    {
     "data": {
      "text/plain": [
       "Text(0, 0.5, '# of documents')"
      ]
     },
     "execution_count": 8,
     "metadata": {},
     "output_type": "execute_result"
    },
    {
     "data": {
      "image/png": "[encoded data removed]",
      "text/plain": [
       "<Figure size 432x288 with 1 Axes>"
      ]
     },
     "metadata": {},
     "output_type": "display_data"
    }
   ],
   "source": [
    "docs_df[\"pct_arg\"].hist(bins=20)\n",
    "plt.xlabel(\"percent of document containing argument sentences\")\n",
    "plt.ylabel(\"# of documents\")"
   ]
  },
  {
   "cell_type": "code",
   "execution_count": 9,
   "metadata": {},
   "outputs": [
    {
     "data": {
      "image/png": "[encoded data removed]",
      "text/plain": [
       "<Figure size 792x576 with 1 Axes>"
      ]
     },
     "metadata": {},
     "output_type": "display_data"
    }
   ],
   "source": [
    "fig, ax = plt.subplots(figsize=(11, 8))\n",
    "alpha=0.6\n",
    "bins=np.linspace(0, 1, 20)\n",
    "plt.hist(docs_df[\"pct_arg\"], bins=bins, color=[0.2, 0.2, 0.2], alpha=0.5, label=\"ALL\")\n",
    "plt.hist(docs_df.loc[~docs_df[\"is_pro\"], \"pct_arg\"], bins=bins, alpha=alpha, label=\"CON\")\n",
    "plt.hist(docs_df.loc[docs_df[\"is_pro\"], \"pct_arg\"], bins=bins, alpha=alpha, label=\"PRO\")\n",
    "plt.xlabel(\"percent of document containing argument sentences\")\n",
    "plt.ylabel(\"# of documents\")\n",
    "plt.title(\"Document argument density, pro vs con \")\n",
    "plt.legend()\n",
    "fig.savefig(os.path.join(FIGURES_DIR, \"doc_arg_density_1000docs_Jan2020.png\"))"
   ]
  },
  {
   "cell_type": "markdown",
   "metadata": {},
   "source": [
    "## Number of arguments by hostname"
   ]
  },
  {
   "cell_type": "code",
   "execution_count": 10,
   "metadata": {},
   "outputs": [],
   "source": [
    "docs_df['netloc'] = utils.get_url_hostnames(docs_df.url)"
   ]
  },
  {
   "cell_type": "code",
   "execution_count": 11,
   "metadata": {},
   "outputs": [
    {
     "data": {
      "text/plain": [
       "<matplotlib.axes._subplots.AxesSubplot at 0x7f8b58506580>"
      ]
     },
     "execution_count": 11,
     "metadata": {},
     "output_type": "execute_result"
    },
    {
     "data": {
      "image/png": "[encoded data removed]",
      "text/plain": [
       "<Figure size 432x288 with 1 Axes>"
      ]
     },
     "metadata": {},
     "output_type": "display_data"
    }
   ],
   "source": [
    "netloc_hist = docs_df.netloc.value_counts()\n",
    "netloc_hist.plot(kind=\"line\")"
   ]
  },
  {
   "cell_type": "code",
   "execution_count": null,
   "metadata": {},
   "outputs": [],
   "source": []
  },
  {
   "cell_type": "markdown",
   "metadata": {},
   "source": [
    "# Spot-check on arguments\n",
    "How do we check whether a sentence is a claim or an argument?\n",
    "\n",
    "We have docs on this!\n",
    "An argument is a combination of claims (2 or more). One of those claims is the premise, which justifies the conclusion.\n",
    "\n",
    "Two types of statements. One is implied (\"Climate change is occuring\")\n",
    "\n",
    "Argument is creating reasoning to justify conclusion.\n",
    "\n",
    "A claim is any assertion of truth, fact or opinion, right or wrong. It implies the truth of something.\n",
    "\n",
    "## What i need to do\n",
    "Spot check is to detect whether a sentence is a argument or claim.\n",
    "reason for argument is not valid if claim.\n",
    "\n",
    "Get examples of claim and arg extraction from Jamie?\n",
    "Read `Making Arguments` guide\n",
    "\n",
    "Want to know accuracy of the API.\n",
    "if is accurate at pulling out arguments & claims\n",
    "\n",
    "We may have a labeled dataset as well\n",
    "done so line by line!\n",
    "\n",
    "Sentences are listed because claim or arugment can be derived from them.\n",
    "\n",
    "* Jamie will share labeled dataset\n",
    "There is a tag added that has \"implied\". These need to be omitted as a label.\n",
    "\n"
   ]
  },
  {
   "cell_type": "code",
   "execution_count": null,
   "metadata": {},
   "outputs": [],
   "source": []
  },
  {
   "cell_type": "code",
   "execution_count": null,
   "metadata": {},
   "outputs": [],
   "source": []
  },
  {
   "cell_type": "code",
   "execution_count": null,
   "metadata": {},
   "outputs": [],
   "source": []
  }
 ],
 "metadata": {
  "kernelspec": {
   "display_name": "Python 3",
   "language": "python",
   "name": "python3"
  },
  "language_info": {
   "codemirror_mode": {
    "name": "ipython",
    "version": 3
   },
   "file_extension": ".py",
   "mimetype": "text/x-python",
   "name": "python",
   "nbconvert_exporter": "python",
   "pygments_lexer": "ipython3",
   "version": "3.8.3"
  }
 },
 "nbformat": 4,
 "nbformat_minor": 4
}
