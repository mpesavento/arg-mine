{
 "cells": [
  {
   "cell_type": "markdown",
   "metadata": {},
   "source": [
    "# Make sentence evaluation sample dataset\n",
    "\n",
    "We want to sanity check the accuracy of the [ArgumenText](https://api.argumentsearch.com/en/doc) API. One way to do this is spot checks on the results, and using those spot checks to estimate precision and recall.\n",
    "\n",
    "**Precision**  \n",
    "Also known as \"positive predictive value.\"  \n",
    "Out of all of the retrieved instances, how many of them are correctly retrieved/classified?  \n",
    "For argument mining, this is evaluated by looking at all of the sentences classified as an argument, and verifying how many of them actually contain an argument.\n",
    "\n",
    "**Recall / Sensitivity**  \n",
    "Also known as the true positive rate.  \n",
    "What is the proportion of classified positives given all of the labeled positives. The extend of how often actual positives are not overlooked.\n",
    "High sensitivity means that a true positive is rarely overlooked. This often comes at a loss of specificity.\n",
    "\n",
    "\n",
    "**Specificity**  \n",
    "Also known as the true negative rate.  \n",
    "What is the proportion of classified negatives given all of the labeled negatives.\n",
    "High specificity means that a true negative is rarely overlooked."
   ]
  },
  {
   "cell_type": "code",
   "execution_count": 1,
   "metadata": {},
   "outputs": [],
   "source": [
    "# reload local package definitions for each cell\n",
    "%load_ext autoreload\n",
    "%autoreload 2"
   ]
  },
  {
   "cell_type": "code",
   "execution_count": 2,
   "metadata": {},
   "outputs": [
    {
     "name": "stderr",
     "output_type": "stream",
     "text": [
      "/usr/local/lib/python3.8/site-packages/grequests.py:22: MonkeyPatchWarning: Monkey-patching ssl after ssl has already been imported may lead to errors, including RecursionError on Python 3.6. It may also silently lead to incorrect behaviour on Python 3.7. Please monkey-patch earlier. See https://github.com/gevent/gevent/issues/1016. Modules that had direct imports (NOT patched): ['urllib3.contrib.pyopenssl (/usr/local/lib/python3.8/site-packages/urllib3/contrib/pyopenssl.py)']. \n",
      "  curious_george.patch_all(thread=False, select=False)\n"
     ]
    }
   ],
   "source": [
    "import os\n",
    "import time\n",
    "\n",
    "from dotenv import find_dotenv, load_dotenv\n",
    "\n",
    "import numpy as np\n",
    "import pandas as pd\n",
    "import matplotlib.pyplot as plt\n",
    "import seaborn as sns\n",
    "\n",
    "from arg_mine import DATA_DIR, FIGURES_DIR\n",
    "from arg_mine.data import loaders, labelers\n",
    "from arg_mine.api import classify, auth, session, errors\n",
    "from arg_mine.visualization.plot_utils import make_confusion_matrix\n",
    "from arg_mine import utils\n",
    "\n",
    "SEED = 12345\n",
    "\n",
    "sns.set_style(\"whitegrid\")"
   ]
  },
  {
   "cell_type": "code",
   "execution_count": 3,
   "metadata": {},
   "outputs": [
    {
     "name": "stderr",
     "output_type": "stream",
     "text": [
      "INFO:2020-07-20 23:09:32,304:arg_mine.data.loaders: reading data from: /opt/workspace/data/raw/2020-climate-change-narrative/WebNewsEnglishSnippets.2020.csv\n"
     ]
    }
   ],
   "source": [
    "# load the 2020 context snippet, for access later\n",
    "csv_datapath = os.path.join(DATA_DIR, \"raw\", \"2020-climate-change-narrative\")\n",
    "csv_filepath = os.path.join(csv_datapath, \"WebNewsEnglishSnippets.2020.csv\")\n",
    "\n",
    "url_df = loaders.get_gdelt_df(csv_filepath)"
   ]
  },
  {
   "cell_type": "code",
   "execution_count": 4,
   "metadata": {},
   "outputs": [
    {
     "name": "stderr",
     "output_type": "stream",
     "text": [
      "INFO:2020-07-20 23:09:33,728:arg_mine.data.loaders: reading data from: /opt/workspace/data/processed/gdelt-climate-change-docs/gdelt_2020_docs_docs0-999.csv\n",
      "INFO:2020-07-20 23:09:33,743:arg_mine.data.loaders: reading data from: /opt/workspace/data/processed/gdelt-climate-change-docs/gdelt_2020_sentences_docs0-999.csv\n"
     ]
    },
    {
     "name": "stdout",
     "output_type": "stream",
     "text": [
      "data load took 0.0 s\n"
     ]
    }
   ],
   "source": [
    "start_time = time.time()\n",
    "data_processed_project = \"gdelt-climate-change-docs\"\n",
    "base_path = os.path.join(DATA_DIR, \"processed\", data_processed_project)\n",
    "docs_df = loaders.load_processed_csv(\"gdelt_2020_docs_docs0-999.csv\", data_processed_project)\n",
    "\n",
    "print(\"data load took {:0.1f} s\".format(time.time() - start_time))\n",
    "\n",
    "sentences_full_df = loaders.load_processed_csv(\"gdelt_2020_sentences_docs0-999.csv\", data_processed_project, drop_nan_cols='sentence_original')"
   ]
  },
  {
   "cell_type": "code",
   "execution_count": 5,
   "metadata": {},
   "outputs": [],
   "source": [
    "# downsample the docs to something manageable\n",
    "docs_sampled = docs_df.sample(n=30, random_state=SEED)\n",
    "doc_ids = docs_sampled.doc_id.values"
   ]
  },
  {
   "cell_type": "code",
   "execution_count": 6,
   "metadata": {},
   "outputs": [
    {
     "data": {
      "text/plain": [
       "<matplotlib.axes._subplots.AxesSubplot at 0x7ffb200f1fd0>"
      ]
     },
     "execution_count": 6,
     "metadata": {},
     "output_type": "execute_result"
    },
    {
     "data": {
      "image/png": "[encoded data removed]",
      "text/plain": [
       "<Figure size 432x288 with 1 Axes>"
      ]
     },
     "metadata": {},
     "output_type": "display_data"
    }
   ],
   "source": [
    "# how many sentences per doc in our sample? is this representative of the whole population?\n",
    "fig, ax = plt.subplots()\n",
    "n_bin = 20\n",
    "sns.distplot(docs_sampled['total_classified_sentences'], bins=n_bin, kde=True, rug=False, ax=ax)\n",
    "sns.distplot(docs_df.loc[docs_df['total_classified_sentences']<100, 'total_classified_sentences'], bins=n_bin, kde=True, rug=False, ax=ax)"
   ]
  },
  {
   "cell_type": "code",
   "execution_count": 7,
   "metadata": {},
   "outputs": [
    {
     "data": {
      "text/plain": [
       "Ks_2sampResult(statistic=0.12655367231638417, pvalue=0.6983380593399297)"
      ]
     },
     "execution_count": 7,
     "metadata": {},
     "output_type": "execute_result"
    }
   ],
   "source": [
    "# quick sanity check if our sample is representative of the whole\n",
    "from scipy.stats import ks_2samp\n",
    "ks_2samp(docs_sampled['total_classified_sentences'], docs_df.loc[docs_df['total_classified_sentences']<100, 'total_classified_sentences'])\n",
    "\n",
    "# it's not :("
   ]
  },
  {
   "cell_type": "code",
   "execution_count": 8,
   "metadata": {},
   "outputs": [],
   "source": [
    "# filter the sentences to only our subsampled dataset\n",
    "sentences_df = sentences_full_df[sentences_full_df.doc_id.isin(doc_ids)].copy()\n",
    "# add the context labels\n",
    "sentences_df = labelers.label_gdelt_context(url_df, docs_sampled, sentences_df)"
   ]
  },
  {
   "cell_type": "code",
   "execution_count": 9,
   "metadata": {},
   "outputs": [
    {
     "name": "stdout",
     "output_type": "stream",
     "text": [
      "no argument    24701\n",
      "argument        6750\n",
      "Name: argument_label, dtype: int64\n",
      "\n",
      "Total # of sentences: 31451\n",
      "no argument    0.78538\n",
      "argument       0.21462\n",
      "Name: argument_label, dtype: float64\n"
     ]
    },
    {
     "data": {
      "image/png": "[encoded data removed]",
      "text/plain": [
       "<Figure size 432x288 with 1 Axes>"
      ]
     },
     "metadata": {},
     "output_type": "display_data"
    }
   ],
   "source": [
    "arg_label_counts = sentences_full_df.argument_label.value_counts()\n",
    "print(arg_label_counts)\n",
    "print(\"\\nTotal # of sentences: {}\".format( sentences_full_df.shape[0]))\n",
    "class_pct = arg_label_counts / sentences_full_df.shape[0]\n",
    "print(class_pct)\n",
    "class_pct.plot(kind=\"bar\")\n",
    "_ = plt.title(\"percentage of sentence classes\")"
   ]
  },
  {
   "cell_type": "code",
   "execution_count": 10,
   "metadata": {},
   "outputs": [
    {
     "data": {
      "image/png": "[encoded data removed]",
      "text/plain": [
       "<Figure size 432x288 with 1 Axes>"
      ]
     },
     "metadata": {},
     "output_type": "display_data"
    }
   ],
   "source": [
    "n_bins = 20\n",
    "fig, ax = plt.subplots()\n",
    "_ = plt.hist(\n",
    "    sentences_df.loc[sentences_df['argument_label'] == classify.ArgumentLabel.NO_ARGUMENT, 'argument_confidence'],\n",
    "    bins=n_bins, label='not arg')\n",
    "_ = plt.hist(\n",
    "    sentences_df.loc[sentences_df['argument_label'] == classify.ArgumentLabel.ARGUMENT, 'argument_confidence'],\n",
    "    bins=n_bins, label='arg')\n",
    "plt.xlabel(\"probability is arg\")\n",
    "plt.title(\"Probability sentence is argument, by class\")\n",
    "_ = plt.legend()"
   ]
  },
  {
   "cell_type": "markdown",
   "metadata": {},
   "source": [
    "# Downsample the sentences\n",
    "We have 921 sentences, with roughly a quarter of them classified as containing an argument relating to the topic `climate change`.\n",
    "\n",
    "We can downsample this dataset again to make it more manageable for a human to look through."
   ]
  },
  {
   "cell_type": "code",
   "execution_count": 11,
   "metadata": {},
   "outputs": [],
   "source": [
    "# downsample to something manageable\n",
    "N_SENTENCES = 100\n",
    "\n",
    "keep_columns = [\n",
    "    \"doc_id\", \"topic\", \"sentence_id\", \"argument_confidence\", \"argument_label\", \"sentence_preprocessed\"\n",
    "]\n",
    "\n",
    "sentence_sample_df = sentences_df.sample(n=N_SENTENCES, random_state=SEED)[keep_columns]\n",
    "\n",
    "# some sentences have newlines in them. Let's remove those.\n",
    "sentence_sample_df['sentence_preprocessed'] = sentence_sample_df['sentence_preprocessed'].str.replace(\"\\n\", \" \")"
   ]
  },
  {
   "cell_type": "code",
   "execution_count": 12,
   "metadata": {},
   "outputs": [
    {
     "data": {
      "text/plain": [
       "no argument    84\n",
       "argument       16\n",
       "Name: argument_label, dtype: int64"
      ]
     },
     "execution_count": 12,
     "metadata": {},
     "output_type": "execute_result"
    }
   ],
   "source": [
    "sentence_sample_df.argument_label.value_counts()"
   ]
  },
  {
   "cell_type": "code",
   "execution_count": 13,
   "metadata": {},
   "outputs": [],
   "source": [
    "# write out the sampled sentences\n",
    "\n",
    "review_filename = \"argtext_sentences_manual_review.csv\"\n",
    "review_filename = os.path.join(DATA_DIR, \"interim\", review_filename)\n",
    "sentence_sample_df.reset_index().to_csv(review_filename, index_label=\"row_number\")"
   ]
  },
  {
   "cell_type": "code",
   "execution_count": 14,
   "metadata": {},
   "outputs": [
    {
     "data": {
      "text/html": [
       "<div>\n",
       "<style scoped>\n",
       "    .dataframe tbody tr th:only-of-type {\n",
       "        vertical-align: middle;\n",
       "    }\n",
       "\n",
       "    .dataframe tbody tr th {\n",
       "        vertical-align: top;\n",
       "    }\n",
       "\n",
       "    .dataframe thead th {\n",
       "        text-align: right;\n",
       "    }\n",
       "</style>\n",
       "<table border=\"1\" class=\"dataframe\">\n",
       "  <thead>\n",
       "    <tr style=\"text-align: right;\">\n",
       "      <th></th>\n",
       "      <th>doc_id</th>\n",
       "      <th>topic</th>\n",
       "      <th>sentence_id</th>\n",
       "      <th>argument_confidence</th>\n",
       "      <th>argument_label</th>\n",
       "      <th>sentence_preprocessed</th>\n",
       "    </tr>\n",
       "  </thead>\n",
       "  <tbody>\n",
       "    <tr>\n",
       "      <th>3616</th>\n",
       "      <td>55b52545354300be300fdcbe8350661f</td>\n",
       "      <td>climate change</td>\n",
       "      <td>aa9cc2b5dabdff113d4d8a01932b227a</td>\n",
       "      <td>0.714489</td>\n",
       "      <td>argument</td>\n",
       "      <td>Akanksha Khatri, head of WEF’s nature and biod...</td>\n",
       "    </tr>\n",
       "    <tr>\n",
       "      <th>28265</th>\n",
       "      <td>12cdddec7f658c7085a3b34aacf14cae</td>\n",
       "      <td>climate change</td>\n",
       "      <td>6942b531afd974edda93932dd5126ea5</td>\n",
       "      <td>0.004897</td>\n",
       "      <td>no argument</td>\n",
       "      <td>“All you have seen the upside down flag,” Ward...</td>\n",
       "    </tr>\n",
       "    <tr>\n",
       "      <th>28243</th>\n",
       "      <td>12cdddec7f658c7085a3b34aacf14cae</td>\n",
       "      <td>climate change</td>\n",
       "      <td>9e26ac043712fec35b21469762dd824a</td>\n",
       "      <td>0.005150</td>\n",
       "      <td>no argument</td>\n",
       "      <td>Hundreds of opponents to the Thirty Meter Tele...</td>\n",
       "    </tr>\n",
       "    <tr>\n",
       "      <th>12176</th>\n",
       "      <td>0315e2ee06ea460dcd4b0e790dd23623</td>\n",
       "      <td>climate change</td>\n",
       "      <td>04ef2f4623e27e480af203a24b5eaf3b</td>\n",
       "      <td>0.004153</td>\n",
       "      <td>no argument</td>\n",
       "      <td>You can find out more about our policy and you...</td>\n",
       "    </tr>\n",
       "    <tr>\n",
       "      <th>27971</th>\n",
       "      <td>4d84047d2d8929a8e5db3c2ba07c6b71</td>\n",
       "      <td>climate change</td>\n",
       "      <td>d6d77c1b9f8e0d950f79b1f98f5a0ce2</td>\n",
       "      <td>0.009404</td>\n",
       "      <td>no argument</td>\n",
       "      <td>\"But look, this question about whether or not ...</td>\n",
       "    </tr>\n",
       "    <tr>\n",
       "      <th>...</th>\n",
       "      <td>...</td>\n",
       "      <td>...</td>\n",
       "      <td>...</td>\n",
       "      <td>...</td>\n",
       "      <td>...</td>\n",
       "      <td>...</td>\n",
       "    </tr>\n",
       "    <tr>\n",
       "      <th>5991</th>\n",
       "      <td>6e018df8352302b5a7f5077b60781e05</td>\n",
       "      <td>climate change</td>\n",
       "      <td>3b9e15c3e8869be35ab4e070101e54c2</td>\n",
       "      <td>0.004817</td>\n",
       "      <td>no argument</td>\n",
       "      <td>Tue 21 Jan 2020 04:38 PM</td>\n",
       "    </tr>\n",
       "    <tr>\n",
       "      <th>17272</th>\n",
       "      <td>af63ba495706eac74021b32ee6abe612</td>\n",
       "      <td>climate change</td>\n",
       "      <td>24d277268db19e92015c98416d5e2675</td>\n",
       "      <td>0.004218</td>\n",
       "      <td>no argument</td>\n",
       "      <td>This website and associated newspapers adhere ...</td>\n",
       "    </tr>\n",
       "    <tr>\n",
       "      <th>12582</th>\n",
       "      <td>5af7d4c14e33e48e81a7a6bf1501d247</td>\n",
       "      <td>climate change</td>\n",
       "      <td>b22e3ad514bf84999d2ba110bc8e66b5</td>\n",
       "      <td>0.949133</td>\n",
       "      <td>argument</td>\n",
       "      <td>One thing that we also know is that we're goin...</td>\n",
       "    </tr>\n",
       "    <tr>\n",
       "      <th>4163</th>\n",
       "      <td>3d1cdb2952022d737697520a28de09bb</td>\n",
       "      <td>climate change</td>\n",
       "      <td>80a2a156d300fe2dbf3151be8bd0268a</td>\n",
       "      <td>0.006120</td>\n",
       "      <td>no argument</td>\n",
       "      <td>Be boastful in regards to teaching others how ...</td>\n",
       "    </tr>\n",
       "    <tr>\n",
       "      <th>23591</th>\n",
       "      <td>db37c54d8b0efc8e0590f016d5bfbf91</td>\n",
       "      <td>climate change</td>\n",
       "      <td>bfbdf5148b132d808bdfd28532ef3b72</td>\n",
       "      <td>0.012910</td>\n",
       "      <td>no argument</td>\n",
       "      <td>\"This year, we aim to strengthen efforts in fi...</td>\n",
       "    </tr>\n",
       "  </tbody>\n",
       "</table>\n",
       "<p>100 rows × 6 columns</p>\n",
       "</div>"
      ],
      "text/plain": [
       "                                 doc_id           topic  \\\n",
       "3616   55b52545354300be300fdcbe8350661f  climate change   \n",
       "28265  12cdddec7f658c7085a3b34aacf14cae  climate change   \n",
       "28243  12cdddec7f658c7085a3b34aacf14cae  climate change   \n",
       "12176  0315e2ee06ea460dcd4b0e790dd23623  climate change   \n",
       "27971  4d84047d2d8929a8e5db3c2ba07c6b71  climate change   \n",
       "...                                 ...             ...   \n",
       "5991   6e018df8352302b5a7f5077b60781e05  climate change   \n",
       "17272  af63ba495706eac74021b32ee6abe612  climate change   \n",
       "12582  5af7d4c14e33e48e81a7a6bf1501d247  climate change   \n",
       "4163   3d1cdb2952022d737697520a28de09bb  climate change   \n",
       "23591  db37c54d8b0efc8e0590f016d5bfbf91  climate change   \n",
       "\n",
       "                            sentence_id  argument_confidence argument_label  \\\n",
       "3616   aa9cc2b5dabdff113d4d8a01932b227a             0.714489       argument   \n",
       "28265  6942b531afd974edda93932dd5126ea5             0.004897    no argument   \n",
       "28243  9e26ac043712fec35b21469762dd824a             0.005150    no argument   \n",
       "12176  04ef2f4623e27e480af203a24b5eaf3b             0.004153    no argument   \n",
       "27971  d6d77c1b9f8e0d950f79b1f98f5a0ce2             0.009404    no argument   \n",
       "...                                 ...                  ...            ...   \n",
       "5991   3b9e15c3e8869be35ab4e070101e54c2             0.004817    no argument   \n",
       "17272  24d277268db19e92015c98416d5e2675             0.004218    no argument   \n",
       "12582  b22e3ad514bf84999d2ba110bc8e66b5             0.949133       argument   \n",
       "4163   80a2a156d300fe2dbf3151be8bd0268a             0.006120    no argument   \n",
       "23591  bfbdf5148b132d808bdfd28532ef3b72             0.012910    no argument   \n",
       "\n",
       "                                   sentence_preprocessed  \n",
       "3616   Akanksha Khatri, head of WEF’s nature and biod...  \n",
       "28265  “All you have seen the upside down flag,” Ward...  \n",
       "28243  Hundreds of opponents to the Thirty Meter Tele...  \n",
       "12176  You can find out more about our policy and you...  \n",
       "27971  \"But look, this question about whether or not ...  \n",
       "...                                                  ...  \n",
       "5991                            Tue 21 Jan 2020 04:38 PM  \n",
       "17272  This website and associated newspapers adhere ...  \n",
       "12582  One thing that we also know is that we're goin...  \n",
       "4163   Be boastful in regards to teaching others how ...  \n",
       "23591  \"This year, we aim to strengthen efforts in fi...  \n",
       "\n",
       "[100 rows x 6 columns]"
      ]
     },
     "execution_count": 14,
     "metadata": {},
     "output_type": "execute_result"
    }
   ],
   "source": [
    "sentence_sample_df"
   ]
  },
  {
   "cell_type": "markdown",
   "metadata": {},
   "source": [
    "## Write out more sentences for evaluation\n",
    "Sampling 100 sentences isnt much, let's make a bigger dataset.\n",
    "\n",
    "To make this a bit easier and make the classes balanced, let's select N/2 positive and N/2 negative examples"
   ]
  },
  {
   "cell_type": "code",
   "execution_count": 15,
   "metadata": {},
   "outputs": [
    {
     "data": {
      "text/plain": [
       "Index(['url', 'doc_id', 'topic', 'sentence_id', 'argument_confidence',\n",
       "       'argument_label', 'sentence_original', 'sentence_preprocessed',\n",
       "       'sort_confidence', 'stance_confidence', 'stance_label'],\n",
       "      dtype='object')"
      ]
     },
     "execution_count": 15,
     "metadata": {},
     "output_type": "execute_result"
    }
   ],
   "source": [
    "sentences_full_df.columns"
   ]
  },
  {
   "cell_type": "code",
   "execution_count": 16,
   "metadata": {},
   "outputs": [
    {
     "data": {
      "text/html": [
       "<div>\n",
       "<style scoped>\n",
       "    .dataframe tbody tr th:only-of-type {\n",
       "        vertical-align: middle;\n",
       "    }\n",
       "\n",
       "    .dataframe tbody tr th {\n",
       "        vertical-align: top;\n",
       "    }\n",
       "\n",
       "    .dataframe thead th {\n",
       "        text-align: right;\n",
       "    }\n",
       "</style>\n",
       "<table border=\"1\" class=\"dataframe\">\n",
       "  <thead>\n",
       "    <tr style=\"text-align: right;\">\n",
       "      <th></th>\n",
       "      <th>url</th>\n",
       "      <th>doc_id</th>\n",
       "      <th>topic</th>\n",
       "      <th>sentence_id</th>\n",
       "      <th>argument_confidence</th>\n",
       "      <th>argument_label</th>\n",
       "      <th>sentence_original</th>\n",
       "      <th>sentence_preprocessed</th>\n",
       "      <th>sort_confidence</th>\n",
       "      <th>stance_confidence</th>\n",
       "      <th>stance_label</th>\n",
       "      <th>has_context</th>\n",
       "    </tr>\n",
       "  </thead>\n",
       "  <tbody>\n",
       "    <tr>\n",
       "      <th>3601</th>\n",
       "      <td>http://www.ipsnews.net/2020/01/nature-losses-t...</td>\n",
       "      <td>55b52545354300be300fdcbe8350661f</td>\n",
       "      <td>climate change</td>\n",
       "      <td>90ed1a2e37bee295dc71ff0b5697ebe3</td>\n",
       "      <td>0.003377</td>\n",
       "      <td>no argument</td>\n",
       "      <td>Credit: Mario Osava/IPS.</td>\n",
       "      <td>Credit: Mario Osava/IPS.</td>\n",
       "      <td>False</td>\n",
       "      <td>0.0</td>\n",
       "      <td>False</td>\n",
       "      <td>False</td>\n",
       "    </tr>\n",
       "    <tr>\n",
       "      <th>3604</th>\n",
       "      <td>http://www.ipsnews.net/2020/01/nature-losses-t...</td>\n",
       "      <td>55b52545354300be300fdcbe8350661f</td>\n",
       "      <td>climate change</td>\n",
       "      <td>9e7699f8a2247d92ead2028a4b0e69d6</td>\n",
       "      <td>0.090706</td>\n",
       "      <td>no argument</td>\n",
       "      <td>Around one-third of the GDP of India and Indon...</td>\n",
       "      <td>Around one-third of the GDP of India and Indon...</td>\n",
       "      <td>False</td>\n",
       "      <td>0.0</td>\n",
       "      <td>False</td>\n",
       "      <td>False</td>\n",
       "    </tr>\n",
       "    <tr>\n",
       "      <th>3605</th>\n",
       "      <td>http://www.ipsnews.net/2020/01/nature-losses-t...</td>\n",
       "      <td>55b52545354300be300fdcbe8350661f</td>\n",
       "      <td>climate change</td>\n",
       "      <td>31d76c947f982363d5ae7f981e1e4755</td>\n",
       "      <td>0.005638</td>\n",
       "      <td>no argument</td>\n",
       "      <td>Africa generates 23 per cent of its GDP in suc...</td>\n",
       "      <td>Africa generates 23 per cent of its GDP in suc...</td>\n",
       "      <td>False</td>\n",
       "      <td>0.0</td>\n",
       "      <td>False</td>\n",
       "      <td>False</td>\n",
       "    </tr>\n",
       "    <tr>\n",
       "      <th>3612</th>\n",
       "      <td>http://www.ipsnews.net/2020/01/nature-losses-t...</td>\n",
       "      <td>55b52545354300be300fdcbe8350661f</td>\n",
       "      <td>climate change</td>\n",
       "      <td>510831592918ef8ff41290ea6c445a81</td>\n",
       "      <td>0.138649</td>\n",
       "      <td>no argument</td>\n",
       "      <td>The report also highlights the pharmaceutical ...</td>\n",
       "      <td>The report also highlights the pharmaceutical ...</td>\n",
       "      <td>False</td>\n",
       "      <td>0.0</td>\n",
       "      <td>False</td>\n",
       "      <td>False</td>\n",
       "    </tr>\n",
       "    <tr>\n",
       "      <th>3614</th>\n",
       "      <td>http://www.ipsnews.net/2020/01/nature-losses-t...</td>\n",
       "      <td>55b52545354300be300fdcbe8350661f</td>\n",
       "      <td>climate change</td>\n",
       "      <td>3bb564c900c27b6f5632c3d7940943de</td>\n",
       "      <td>0.023448</td>\n",
       "      <td>no argument</td>\n",
       "      <td>It says that 75 per cent of approved anti-tumo...</td>\n",
       "      <td>It says that 75 per cent of approved anti-tumo...</td>\n",
       "      <td>False</td>\n",
       "      <td>0.0</td>\n",
       "      <td>False</td>\n",
       "      <td>False</td>\n",
       "    </tr>\n",
       "    <tr>\n",
       "      <th>...</th>\n",
       "      <td>...</td>\n",
       "      <td>...</td>\n",
       "      <td>...</td>\n",
       "      <td>...</td>\n",
       "      <td>...</td>\n",
       "      <td>...</td>\n",
       "      <td>...</td>\n",
       "      <td>...</td>\n",
       "      <td>...</td>\n",
       "      <td>...</td>\n",
       "      <td>...</td>\n",
       "      <td>...</td>\n",
       "    </tr>\n",
       "    <tr>\n",
       "      <th>28282</th>\n",
       "      <td>https://www.staradvertiser.com/2020/01/16/hawa...</td>\n",
       "      <td>12cdddec7f658c7085a3b34aacf14cae</td>\n",
       "      <td>climate change</td>\n",
       "      <td>1cc138b4086bccacfa60f9b65a090d2e</td>\n",
       "      <td>0.005267</td>\n",
       "      <td>no argument</td>\n",
       "      <td>Comments (56)</td>\n",
       "      <td>Comments (56)</td>\n",
       "      <td>False</td>\n",
       "      <td>0.0</td>\n",
       "      <td>False</td>\n",
       "      <td>False</td>\n",
       "    </tr>\n",
       "    <tr>\n",
       "      <th>28283</th>\n",
       "      <td>https://www.staradvertiser.com/2020/01/16/hawa...</td>\n",
       "      <td>12cdddec7f658c7085a3b34aacf14cae</td>\n",
       "      <td>climate change</td>\n",
       "      <td>f56df8d3bb16ac9721c1d1f7975af526</td>\n",
       "      <td>0.003269</td>\n",
       "      <td>no argument</td>\n",
       "      <td>By participating in online discussions you ack...</td>\n",
       "      <td>By participating in online discussions you ack...</td>\n",
       "      <td>False</td>\n",
       "      <td>0.0</td>\n",
       "      <td>False</td>\n",
       "      <td>False</td>\n",
       "    </tr>\n",
       "    <tr>\n",
       "      <th>28284</th>\n",
       "      <td>https://www.staradvertiser.com/2020/01/16/hawa...</td>\n",
       "      <td>12cdddec7f658c7085a3b34aacf14cae</td>\n",
       "      <td>climate change</td>\n",
       "      <td>c5de143409107d37a16c0e144a7d56f1</td>\n",
       "      <td>0.003497</td>\n",
       "      <td>no argument</td>\n",
       "      <td>An insightful discussion of ideas and viewpoin...</td>\n",
       "      <td>An insightful discussion of ideas and viewpoin...</td>\n",
       "      <td>False</td>\n",
       "      <td>0.0</td>\n",
       "      <td>False</td>\n",
       "      <td>False</td>\n",
       "    </tr>\n",
       "    <tr>\n",
       "      <th>28285</th>\n",
       "      <td>https://www.staradvertiser.com/2020/01/16/hawa...</td>\n",
       "      <td>12cdddec7f658c7085a3b34aacf14cae</td>\n",
       "      <td>climate change</td>\n",
       "      <td>c251707917f2ce00a6839daf5a5cad7e</td>\n",
       "      <td>0.004000</td>\n",
       "      <td>no argument</td>\n",
       "      <td>If your comments are inappropriate, you may be...</td>\n",
       "      <td>If your comments are inappropriate, you may be...</td>\n",
       "      <td>False</td>\n",
       "      <td>0.0</td>\n",
       "      <td>False</td>\n",
       "      <td>False</td>\n",
       "    </tr>\n",
       "    <tr>\n",
       "      <th>28286</th>\n",
       "      <td>https://www.staradvertiser.com/2020/01/16/hawa...</td>\n",
       "      <td>12cdddec7f658c7085a3b34aacf14cae</td>\n",
       "      <td>climate change</td>\n",
       "      <td>4fbfef598a7e4d302fe5a93340ed4615</td>\n",
       "      <td>0.003511</td>\n",
       "      <td>no argument</td>\n",
       "      <td>Report comments if you believe they do not fol...</td>\n",
       "      <td>Report comments if you believe they do not fol...</td>\n",
       "      <td>False</td>\n",
       "      <td>0.0</td>\n",
       "      <td>False</td>\n",
       "      <td>False</td>\n",
       "    </tr>\n",
       "  </tbody>\n",
       "</table>\n",
       "<p>677 rows × 12 columns</p>\n",
       "</div>"
      ],
      "text/plain": [
       "                                                     url  \\\n",
       "3601   http://www.ipsnews.net/2020/01/nature-losses-t...   \n",
       "3604   http://www.ipsnews.net/2020/01/nature-losses-t...   \n",
       "3605   http://www.ipsnews.net/2020/01/nature-losses-t...   \n",
       "3612   http://www.ipsnews.net/2020/01/nature-losses-t...   \n",
       "3614   http://www.ipsnews.net/2020/01/nature-losses-t...   \n",
       "...                                                  ...   \n",
       "28282  https://www.staradvertiser.com/2020/01/16/hawa...   \n",
       "28283  https://www.staradvertiser.com/2020/01/16/hawa...   \n",
       "28284  https://www.staradvertiser.com/2020/01/16/hawa...   \n",
       "28285  https://www.staradvertiser.com/2020/01/16/hawa...   \n",
       "28286  https://www.staradvertiser.com/2020/01/16/hawa...   \n",
       "\n",
       "                                 doc_id           topic  \\\n",
       "3601   55b52545354300be300fdcbe8350661f  climate change   \n",
       "3604   55b52545354300be300fdcbe8350661f  climate change   \n",
       "3605   55b52545354300be300fdcbe8350661f  climate change   \n",
       "3612   55b52545354300be300fdcbe8350661f  climate change   \n",
       "3614   55b52545354300be300fdcbe8350661f  climate change   \n",
       "...                                 ...             ...   \n",
       "28282  12cdddec7f658c7085a3b34aacf14cae  climate change   \n",
       "28283  12cdddec7f658c7085a3b34aacf14cae  climate change   \n",
       "28284  12cdddec7f658c7085a3b34aacf14cae  climate change   \n",
       "28285  12cdddec7f658c7085a3b34aacf14cae  climate change   \n",
       "28286  12cdddec7f658c7085a3b34aacf14cae  climate change   \n",
       "\n",
       "                            sentence_id  argument_confidence argument_label  \\\n",
       "3601   90ed1a2e37bee295dc71ff0b5697ebe3             0.003377    no argument   \n",
       "3604   9e7699f8a2247d92ead2028a4b0e69d6             0.090706    no argument   \n",
       "3605   31d76c947f982363d5ae7f981e1e4755             0.005638    no argument   \n",
       "3612   510831592918ef8ff41290ea6c445a81             0.138649    no argument   \n",
       "3614   3bb564c900c27b6f5632c3d7940943de             0.023448    no argument   \n",
       "...                                 ...                  ...            ...   \n",
       "28282  1cc138b4086bccacfa60f9b65a090d2e             0.005267    no argument   \n",
       "28283  f56df8d3bb16ac9721c1d1f7975af526             0.003269    no argument   \n",
       "28284  c5de143409107d37a16c0e144a7d56f1             0.003497    no argument   \n",
       "28285  c251707917f2ce00a6839daf5a5cad7e             0.004000    no argument   \n",
       "28286  4fbfef598a7e4d302fe5a93340ed4615             0.003511    no argument   \n",
       "\n",
       "                                       sentence_original  \\\n",
       "3601                            Credit: Mario Osava/IPS.   \n",
       "3604   Around one-third of the GDP of India and Indon...   \n",
       "3605   Africa generates 23 per cent of its GDP in suc...   \n",
       "3612   The report also highlights the pharmaceutical ...   \n",
       "3614   It says that 75 per cent of approved anti-tumo...   \n",
       "...                                                  ...   \n",
       "28282                                      Comments (56)   \n",
       "28283  By participating in online discussions you ack...   \n",
       "28284  An insightful discussion of ideas and viewpoin...   \n",
       "28285  If your comments are inappropriate, you may be...   \n",
       "28286  Report comments if you believe they do not fol...   \n",
       "\n",
       "                                   sentence_preprocessed  sort_confidence  \\\n",
       "3601                            Credit: Mario Osava/IPS.            False   \n",
       "3604   Around one-third of the GDP of India and Indon...            False   \n",
       "3605   Africa generates 23 per cent of its GDP in suc...            False   \n",
       "3612   The report also highlights the pharmaceutical ...            False   \n",
       "3614   It says that 75 per cent of approved anti-tumo...            False   \n",
       "...                                                  ...              ...   \n",
       "28282                                      Comments (56)            False   \n",
       "28283  By participating in online discussions you ack...            False   \n",
       "28284  An insightful discussion of ideas and viewpoin...            False   \n",
       "28285  If your comments are inappropriate, you may be...            False   \n",
       "28286  Report comments if you believe they do not fol...            False   \n",
       "\n",
       "       stance_confidence stance_label  has_context  \n",
       "3601                 0.0        False        False  \n",
       "3604                 0.0        False        False  \n",
       "3605                 0.0        False        False  \n",
       "3612                 0.0        False        False  \n",
       "3614                 0.0        False        False  \n",
       "...                  ...          ...          ...  \n",
       "28282                0.0        False        False  \n",
       "28283                0.0        False        False  \n",
       "28284                0.0        False        False  \n",
       "28285                0.0        False        False  \n",
       "28286                0.0        False        False  \n",
       "\n",
       "[677 rows x 12 columns]"
      ]
     },
     "execution_count": 16,
     "metadata": {},
     "output_type": "execute_result"
    }
   ],
   "source": [
    "sentences_df.loc[sentences_df['argument_label'] == classify.ArgumentLabel.NO_ARGUMENT]"
   ]
  },
  {
   "cell_type": "code",
   "execution_count": null,
   "metadata": {},
   "outputs": [],
   "source": []
  },
  {
   "cell_type": "code",
   "execution_count": 17,
   "metadata": {},
   "outputs": [],
   "source": [
    "# downsample to something manageable\n",
    "N_SENTENCES = 1000\n",
    "class_sample_len = N_SENTENCES // 2\n",
    "\n",
    "keep_columns = [\n",
    "    \"doc_id\", \"topic\", \"sentence_id\", \"argument_confidence\", \"argument_label\", \"sentence_preprocessed\"\n",
    "]\n",
    "\n",
    "sentence_sample_df_neg = sentences_full_df.loc[sentences_full_df['argument_label'] == classify.ArgumentLabel.NO_ARGUMENT].sample(n=class_sample_len, random_state=SEED)[keep_columns]\n",
    "sentence_sample_df_pos = sentences_full_df.loc[sentences_full_df['argument_label'] == classify.ArgumentLabel.ARGUMENT].sample(n=class_sample_len, random_state=SEED)[keep_columns]\n",
    "sentence_sample_df = pd.concat([sentence_sample_df_neg, sentence_sample_df_pos], axis=0)\n",
    "\n",
    "# some sentences have newlines in them. Let's remove those.\n",
    "sentence_sample_df['sentence_preprocessed'] = sentence_sample_df['sentence_preprocessed'].str.replace(\"\\n\", \" \")\n",
    "\n",
    "# shuffle, so we arent looking at the same class in a row.\n",
    "sentence_sample_df = sentence_sample_df.sample(frac=1, random_state=SEED)"
   ]
  },
  {
   "cell_type": "code",
   "execution_count": 18,
   "metadata": {},
   "outputs": [
    {
     "data": {
      "image/png": "[encoded data removed]",
      "text/plain": [
       "<Figure size 432x288 with 1 Axes>"
      ]
     },
     "metadata": {},
     "output_type": "display_data"
    }
   ],
   "source": [
    "n_bins = 20\n",
    "fig, ax = plt.subplots()\n",
    "_ = plt.hist(\n",
    "    sentence_sample_df.loc[sentence_sample_df['argument_label'] == classify.ArgumentLabel.NO_ARGUMENT, 'argument_confidence'],\n",
    "    bins=n_bins, label='not arg')\n",
    "_ = plt.hist(\n",
    "    sentence_sample_df.loc[sentence_sample_df['argument_label'] == classify.ArgumentLabel.ARGUMENT, 'argument_confidence'],\n",
    "    bins=n_bins, label='arg')\n",
    "plt.xlabel(\"probability is arg\")\n",
    "plt.title(\"Probability sentence is argument, by class\")\n",
    "_ = plt.legend()"
   ]
  },
  {
   "cell_type": "code",
   "execution_count": 19,
   "metadata": {},
   "outputs": [
    {
     "data": {
      "text/plain": [
       "no argument    500\n",
       "argument       500\n",
       "Name: argument_label, dtype: int64"
      ]
     },
     "execution_count": 19,
     "metadata": {},
     "output_type": "execute_result"
    }
   ],
   "source": [
    "sentence_sample_df.argument_label.value_counts()"
   ]
  },
  {
   "cell_type": "code",
   "execution_count": 20,
   "metadata": {},
   "outputs": [],
   "source": [
    "# write out the sampled sentences\n",
    "\n",
    "review_filename = \"argtext_sentences_manual_review_1k.csv\"\n",
    "review_filename = os.path.join(DATA_DIR, \"interim\", review_filename)\n",
    "sentence_sample_df.reset_index().to_csv(review_filename, index_label=\"row_number\")"
   ]
  },
  {
   "cell_type": "code",
   "execution_count": null,
   "metadata": {},
   "outputs": [],
   "source": []
  },
  {
   "cell_type": "code",
   "execution_count": null,
   "metadata": {},
   "outputs": [],
   "source": []
  },
  {
   "cell_type": "markdown",
   "metadata": {},
   "source": [
    "# Evaluate the ArgText classification vs human labels\n",
    "## N=100 sentence sample\n",
    "Let's look at accuracy, precision, and recall for the model.\n",
    "\n",
    "precision: how many true positives are there out of all predicted positives?  \n",
    "recall: how many predicted positives are there out of all true positives?"
   ]
  },
  {
   "cell_type": "code",
   "execution_count": 21,
   "metadata": {},
   "outputs": [],
   "source": [
    "from sklearn.metrics import confusion_matrix, roc_curve, auc, precision_recall_curve"
   ]
  },
  {
   "cell_type": "code",
   "execution_count": 22,
   "metadata": {},
   "outputs": [],
   "source": [
    "review_output_filename = \"argtext_gdelt_sentence_manual_review_100-reviewed.csv\"\n",
    "review_output_filename = os.path.join(DATA_DIR, \"interim\", review_output_filename)\n",
    "\n",
    "reviewed_sent_df = pd.read_csv(review_output_filename)\n",
    "reviewed_sent_df.dropna(inplace=True)\n",
    "\n",
    "y_model = reviewed_sent_df.is_arg.astype(int)\n",
    "y_model_conf = reviewed_sent_df.argument_confidence\n",
    "y_label = reviewed_sent_df.binarized.astype(int)\n"
   ]
  },
  {
   "cell_type": "markdown",
   "metadata": {},
   "source": [
    "### Confusion matrix"
   ]
  },
  {
   "cell_type": "code",
   "execution_count": 23,
   "metadata": {},
   "outputs": [
    {
     "data": {
      "image/png": "[encoded data removed]",
      "text/plain": [
       "<Figure size 432x288 with 2 Axes>"
      ]
     },
     "metadata": {},
     "output_type": "display_data"
    }
   ],
   "source": [
    "cf_matrix = confusion_matrix(y_label, y_model)\n",
    "\n",
    "fig = make_confusion_matrix(cf_matrix, categories=[\"not arg\", \"arg\"], title=\"confusion matrix\")\n",
    "plt.savefig(os.path.join(FIGURES_DIR, \"argtext_validation_100sentence_cm.png\"))"
   ]
  },
  {
   "cell_type": "markdown",
   "metadata": {},
   "source": [
    "### ROC curve\n",
    "Typically, we want to have as low of a FPR and as high of a TPR as possible, effectively pushing the curve up and to the left. The unity line denotes random chance for this binomial problem."
   ]
  },
  {
   "cell_type": "code",
   "execution_count": 24,
   "metadata": {},
   "outputs": [
    {
     "name": "stdout",
     "output_type": "stream",
     "text": [
      "Default threshold (0.5) => FPR=0.078, TPR=0.478\n"
     ]
    }
   ],
   "source": [
    "fpr, tpr, thresholds = roc_curve(y_label, y_model_conf)\n",
    "roc_auc = auc(fpr, tpr)\n",
    "\n",
    "# select the point that is used as the default threshold = 0.5\n",
    "selected_thresh = 0.5\n",
    "thresh_ix = np.argmin(np.abs(thresholds-selected_thresh))\n",
    "thresh_fpr = fpr[thresh_ix]\n",
    "thresh_tpr = tpr[thresh_ix]\n",
    "print(\"Default threshold ({}) => FPR={:0.3f}, TPR={:0.3f}\".format(selected_thresh, thresh_fpr, thresh_tpr))"
   ]
  },
  {
   "cell_type": "code",
   "execution_count": 25,
   "metadata": {},
   "outputs": [
    {
     "data": {
      "image/png": "[encoded data removed]",
      "text/plain": [
       "<Figure size 432x432 with 1 Axes>"
      ]
     },
     "metadata": {},
     "output_type": "display_data"
    }
   ],
   "source": [
    "fig, ax = plt.subplots(figsize=(6,6))\n",
    "lw = 2\n",
    "plt.plot([0, 1], [0, 1], color='gray', lw=lw, linestyle='--')\n",
    "plt.plot(\n",
    "    fpr, tpr, \n",
    "    lw=lw, label='ROC curve (AUC = {:0.2f})'.format(roc_auc))\n",
    "plt.plot(thresh_fpr, thresh_tpr, 'ro')\n",
    "plt.xlim([0.0, 1.0])\n",
    "plt.ylim([0.0, 1.05])\n",
    "plt.xlabel('False Positive Rate')\n",
    "plt.ylabel('True Positive Rate')\n",
    "plt.title('ROC curve')\n",
    "plt.legend(loc=\"lower right\")\n",
    "ax.set_aspect('equal', 'box')"
   ]
  },
  {
   "cell_type": "markdown",
   "metadata": {},
   "source": [
    "### Precision Recall"
   ]
  },
  {
   "cell_type": "code",
   "execution_count": 26,
   "metadata": {},
   "outputs": [],
   "source": [
    "precision, recall, thresholds = precision_recall_curve(y_label, y_model_conf)"
   ]
  },
  {
   "cell_type": "code",
   "execution_count": 27,
   "metadata": {},
   "outputs": [
    {
     "name": "stdout",
     "output_type": "stream",
     "text": [
      "Default threshold (0.5) => recall=0.48, precision=0.69\n"
     ]
    }
   ],
   "source": [
    "thresh_ix = np.argmin(np.abs(thresholds-selected_thresh))\n",
    "thresh_recall = recall[thresh_ix]\n",
    "thresh_precision = precision[thresh_ix]\n",
    "print(\"Default threshold ({}) => recall={:0.2f}, precision={:0.2f}\".format(selected_thresh, thresh_recall, thresh_precision))"
   ]
  },
  {
   "cell_type": "code",
   "execution_count": 28,
   "metadata": {},
   "outputs": [
    {
     "name": "stdout",
     "output_type": "stream",
     "text": [
      "Default threshold (0.5) => recall=0.478, precision=0.688\n"
     ]
    },
    {
     "data": {
      "image/png": "[encoded data removed]",
      "text/plain": [
       "<Figure size 432x432 with 1 Axes>"
      ]
     },
     "metadata": {},
     "output_type": "display_data"
    }
   ],
   "source": [
    "fig, ax = plt.subplots(figsize=(6,6))\n",
    "plt.plot(recall, precision, label=\"precision-recall curve\")\n",
    "plt.plot(thresh_recall, thresh_precision, 'ro')\n",
    "plt.xlim((0, 1.0))\n",
    "plt.ylim((0, 1.05))\n",
    "ax.set_aspect('equal', 'box')\n",
    "plt.xlabel(\"recall\")\n",
    "plt.ylabel(\"precision\")\n",
    "_ = plt.title(\"Precision-recall\")\n",
    "print(\"Default threshold ({}) => recall={:0.3f}, precision={:0.3f}\".format(selected_thresh, thresh_recall, thresh_precision))"
   ]
  },
  {
   "cell_type": "markdown",
   "metadata": {},
   "source": [
    "# 600 sentence sanity check"
   ]
  },
  {
   "cell_type": "code",
   "execution_count": 29,
   "metadata": {},
   "outputs": [],
   "source": [
    "review_output_filename = \"argtext_sentences_manual_review_1k_reviewed600.csv\"\n",
    "review_output_filename = os.path.join(DATA_DIR, \"interim\", review_output_filename)\n",
    "\n",
    "reviewed_sent_df = pd.read_csv(review_output_filename)\n",
    "reviewed_sent_df.dropna(inplace=True)\n",
    "\n",
    "y_model = reviewed_sent_df.is_arg.astype(int)\n",
    "y_model_conf = reviewed_sent_df.argument_confidence\n",
    "y_label = reviewed_sent_df.binarized.astype(int)\n"
   ]
  },
  {
   "cell_type": "markdown",
   "metadata": {},
   "source": [
    "### Confusion matrix"
   ]
  },
  {
   "cell_type": "code",
   "execution_count": 30,
   "metadata": {},
   "outputs": [
    {
     "data": {
      "image/png": "[encoded data removed]",
      "text/plain": [
       "<Figure size 432x288 with 2 Axes>"
      ]
     },
     "metadata": {},
     "output_type": "display_data"
    }
   ],
   "source": [
    "cf_matrix = confusion_matrix(y_label, y_model)\n",
    "\n",
    "fig = make_confusion_matrix(cf_matrix, categories=[\"not arg\", \"arg\"], title=\"confusion matrix\")\n",
    "plt.savefig(os.path.join(FIGURES_DIR, \"argtext_validation_600sentence_cm.png\"))"
   ]
  },
  {
   "cell_type": "markdown",
   "metadata": {},
   "source": [
    "### ROC curve\n",
    "Typically, we want to have as low of a FPR and as high of a TPR as possible, effectively pushing the curve up and to the left. The unity line denotes random chance for this binomial problem."
   ]
  },
  {
   "cell_type": "code",
   "execution_count": 31,
   "metadata": {},
   "outputs": [
    {
     "name": "stdout",
     "output_type": "stream",
     "text": [
      "Default threshold (0.5) => FPR=0.182, TPR=0.801\n"
     ]
    }
   ],
   "source": [
    "fpr, tpr, thresholds = roc_curve(y_label, y_model_conf)\n",
    "roc_auc = auc(fpr, tpr)\n",
    "\n",
    "# select the point that is used as the default threshold = 0.5\n",
    "selected_thresh = 0.5\n",
    "thresh_ix = np.argmin(np.abs(thresholds-selected_thresh))\n",
    "thresh_fpr = fpr[thresh_ix]\n",
    "thresh_tpr = tpr[thresh_ix]\n",
    "print(\"Default threshold ({}) => FPR={:0.3f}, TPR={:0.3f}\".format(selected_thresh, thresh_fpr, thresh_tpr))"
   ]
  },
  {
   "cell_type": "code",
   "execution_count": 32,
   "metadata": {},
   "outputs": [
    {
     "data": {
      "image/png": "[encoded data removed]",
      "text/plain": [
       "<Figure size 432x432 with 1 Axes>"
      ]
     },
     "metadata": {},
     "output_type": "display_data"
    }
   ],
   "source": [
    "fig, ax = plt.subplots(figsize=(6,6))\n",
    "lw = 2\n",
    "plt.plot([0, 1], [0, 1], color='gray', lw=lw, linestyle='--')\n",
    "plt.plot(\n",
    "    fpr, tpr, \n",
    "    lw=lw, label='ROC curve (AUC = {:0.2f})'.format(roc_auc))\n",
    "plt.plot(thresh_fpr, thresh_tpr, 'ro')\n",
    "plt.xlim([0.0, 1.0])\n",
    "plt.ylim([0.0, 1.05])\n",
    "plt.xlabel('False Positive Rate')\n",
    "plt.ylabel('True Positive Rate')\n",
    "plt.title('ROC curve')\n",
    "plt.legend(loc=\"lower right\")\n",
    "ax.set_aspect('equal', 'box')"
   ]
  },
  {
   "cell_type": "markdown",
   "metadata": {},
   "source": [
    "### Precision Recall"
   ]
  },
  {
   "cell_type": "code",
   "execution_count": 33,
   "metadata": {},
   "outputs": [],
   "source": [
    "precision, recall, thresholds = precision_recall_curve(y_label, y_model_conf)"
   ]
  },
  {
   "cell_type": "code",
   "execution_count": 34,
   "metadata": {},
   "outputs": [
    {
     "name": "stdout",
     "output_type": "stream",
     "text": [
      "Default threshold (0.5) => recall=0.79, precision=0.83\n"
     ]
    }
   ],
   "source": [
    "thresh_ix = np.argmin(np.abs(thresholds-selected_thresh))\n",
    "thresh_recall = recall[thresh_ix]\n",
    "thresh_precision = precision[thresh_ix]\n",
    "print(\"Default threshold ({}) => recall={:0.2f}, precision={:0.2f}\".format(selected_thresh, thresh_recall, thresh_precision))"
   ]
  },
  {
   "cell_type": "code",
   "execution_count": 35,
   "metadata": {},
   "outputs": [
    {
     "name": "stdout",
     "output_type": "stream",
     "text": [
      "Default threshold (0.5) => recall=0.794, precision=0.828\n"
     ]
    },
    {
     "data": {
      "image/png": "[encoded data removed]",
      "text/plain": [
       "<Figure size 432x432 with 1 Axes>"
      ]
     },
     "metadata": {},
     "output_type": "display_data"
    }
   ],
   "source": [
    "fig, ax = plt.subplots(figsize=(6,6))\n",
    "plt.plot(recall, precision, label=\"precision-recall curve\")\n",
    "plt.plot(thresh_recall, thresh_precision, 'ro')\n",
    "plt.xlim((0, 1.0))\n",
    "plt.ylim((0, 1.05))\n",
    "ax.set_aspect('equal', 'box')\n",
    "plt.xlabel(\"recall\")\n",
    "plt.ylabel(\"precision\")\n",
    "_ = plt.title(\"Precision-recall\")\n",
    "print(\"Default threshold ({}) => recall={:0.3f}, precision={:0.3f}\".format(selected_thresh, thresh_recall, thresh_precision))"
   ]
  },
  {
   "cell_type": "markdown",
   "metadata": {},
   "source": [
    "## Naturalized sample from 600\n",
    "The above analysis was to look at overall recall/precision for a balanced dataset. But the classes aren't balanced. What do these numbers look like if we downsample the `argument` class to match the natural distribution, around 21%"
   ]
  },
  {
   "cell_type": "code",
   "execution_count": 36,
   "metadata": {},
   "outputs": [
    {
     "data": {
      "text/plain": [
       "no argument    0.78538\n",
       "argument       0.21462\n",
       "Name: argument_label, dtype: float64"
      ]
     },
     "execution_count": 36,
     "metadata": {},
     "output_type": "execute_result"
    }
   ],
   "source": [
    "class_pct"
   ]
  },
  {
   "cell_type": "code",
   "execution_count": 37,
   "metadata": {},
   "outputs": [],
   "source": [
    "negative_samples = reviewed_sent_df.loc[reviewed_sent_df.is_arg == 0]\n",
    "n_negative = negative_samples.shape[0]\n",
    "n_positive = np.round(n_negative/class_pct['no argument'] - n_negative).astype(int)\n",
    "total_samples = np.round(n_negative / class_pct['no argument']).astype(int)\n",
    "positive_samples = reviewed_sent_df.loc[reviewed_sent_df.is_arg == 1].sample(n=n_positive)\n",
    "reviewed_natural_df = pd.concat([negative_samples, positive_samples]).sample(frac=1).reset_index(drop=True)\n",
    "\n",
    "y_model = reviewed_natural_df.is_arg.astype(int)\n",
    "y_model_conf = reviewed_natural_df.argument_confidence\n",
    "y_label = reviewed_natural_df.binarized.astype(int)"
   ]
  },
  {
   "cell_type": "markdown",
   "metadata": {},
   "source": [
    "### Confusion matrix"
   ]
  },
  {
   "cell_type": "code",
   "execution_count": 38,
   "metadata": {},
   "outputs": [
    {
     "data": {
      "image/png": "[encoded data removed]",
      "text/plain": [
       "<Figure size 432x288 with 2 Axes>"
      ]
     },
     "metadata": {},
     "output_type": "display_data"
    }
   ],
   "source": [
    "cf_matrix = confusion_matrix(y_label, y_model)\n",
    "\n",
    "fig = make_confusion_matrix(cf_matrix, categories=[\"not arg\", \"arg\"], title=\"confusion matrix\")\n",
    "plt.savefig(os.path.join(FIGURES_DIR, \"argtext_validation_382sentence_cm_natural.png\"))"
   ]
  },
  {
   "cell_type": "markdown",
   "metadata": {},
   "source": [
    "### ROC curve\n",
    "Typically, we want to have as low of a FPR and as high of a TPR as possible, effectively pushing the curve up and to the left. The unity line denotes random chance for this binomial problem."
   ]
  },
  {
   "cell_type": "code",
   "execution_count": 44,
   "metadata": {},
   "outputs": [
    {
     "name": "stdout",
     "output_type": "stream",
     "text": [
      "Default threshold (0.5) => FPR=0.068, TPR=0.519\n"
     ]
    }
   ],
   "source": [
    "fpr, tpr, thresholds = roc_curve(y_label, y_model_conf)\n",
    "roc_auc = auc(fpr, tpr)\n",
    "\n",
    "# select the point that is used as the default threshold = 0.5\n",
    "selected_thresh = 0.5\n",
    "# selected_thresh = 0.1\n",
    "thresh_ix = np.argmin(np.abs(thresholds-selected_thresh))\n",
    "thresh_fpr = fpr[thresh_ix]\n",
    "thresh_tpr = tpr[thresh_ix]\n",
    "print(\"Default threshold ({}) => FPR={:0.3f}, TPR={:0.3f}\".format(selected_thresh, thresh_fpr, thresh_tpr))"
   ]
  },
  {
   "cell_type": "code",
   "execution_count": 45,
   "metadata": {},
   "outputs": [
    {
     "data": {
      "image/png": "[encoded data removed]",
      "text/plain": [
       "<Figure size 432x432 with 1 Axes>"
      ]
     },
     "metadata": {},
     "output_type": "display_data"
    }
   ],
   "source": [
    "fig, ax = plt.subplots(figsize=(6,6))\n",
    "lw = 2\n",
    "plt.plot([0, 1], [0, 1], color='gray', lw=lw, linestyle='--')\n",
    "plt.plot(\n",
    "    fpr, tpr, \n",
    "    lw=lw, label='ROC curve (AUC = {:0.2f})'.format(roc_auc))\n",
    "plt.plot(thresh_fpr, thresh_tpr, 'ro')\n",
    "plt.xlim([0.0, 1.0])\n",
    "plt.ylim([0.0, 1.05])\n",
    "plt.xlabel('False Positive Rate')\n",
    "plt.ylabel('True Positive Rate')\n",
    "plt.title('ROC curve')\n",
    "plt.legend(loc=\"lower right\")\n",
    "ax.set_aspect('equal', 'box')"
   ]
  },
  {
   "cell_type": "markdown",
   "metadata": {},
   "source": [
    "### Precision Recall"
   ]
  },
  {
   "cell_type": "code",
   "execution_count": 46,
   "metadata": {},
   "outputs": [],
   "source": [
    "precision, recall, thresholds = precision_recall_curve(y_label, y_model_conf)"
   ]
  },
  {
   "cell_type": "code",
   "execution_count": 47,
   "metadata": {},
   "outputs": [
    {
     "name": "stdout",
     "output_type": "stream",
     "text": [
      "Default threshold (0.5) => recall=0.50, precision=0.80\n"
     ]
    }
   ],
   "source": [
    "thresh_ix = np.argmin(np.abs(thresholds-selected_thresh))\n",
    "thresh_recall = recall[thresh_ix]\n",
    "thresh_precision = precision[thresh_ix]\n",
    "print(\"Default threshold ({}) => recall={:0.2f}, precision={:0.2f}\".format(selected_thresh, thresh_recall, thresh_precision))"
   ]
  },
  {
   "cell_type": "code",
   "execution_count": 48,
   "metadata": {},
   "outputs": [
    {
     "name": "stdout",
     "output_type": "stream",
     "text": [
      "Default threshold (0.5) => recall=0.504, precision=0.795\n"
     ]
    },
    {
     "data": {
      "image/png": "[encoded data removed]",
      "text/plain": [
       "<Figure size 432x432 with 1 Axes>"
      ]
     },
     "metadata": {},
     "output_type": "display_data"
    }
   ],
   "source": [
    "fig, ax = plt.subplots(figsize=(6,6))\n",
    "plt.plot(recall, precision, label=\"precision-recall curve\")\n",
    "plt.plot(thresh_recall, thresh_precision, 'ro')\n",
    "plt.xlim((0, 1.0))\n",
    "plt.ylim((0, 1.05))\n",
    "ax.set_aspect('equal', 'box')\n",
    "plt.xlabel(\"recall\")\n",
    "plt.ylabel(\"precision\")\n",
    "_ = plt.title(\"Precision-recall\")\n",
    "print(\"Default threshold ({}) => recall={:0.3f}, precision={:0.3f}\".format(selected_thresh, thresh_recall, thresh_precision))"
   ]
  },
  {
   "cell_type": "code",
   "execution_count": null,
   "metadata": {},
   "outputs": [],
   "source": []
  },
  {
   "cell_type": "code",
   "execution_count": null,
   "metadata": {},
   "outputs": [],
   "source": []
  }
 ],
 "metadata": {
  "kernelspec": {
   "display_name": "Python 3",
   "language": "python",
   "name": "python3"
  },
  "language_info": {
   "codemirror_mode": {
    "name": "ipython",
    "version": 3
   },
   "file_extension": ".py",
   "mimetype": "text/x-python",
   "name": "python",
   "nbconvert_exporter": "python",
   "pygments_lexer": "ipython3",
   "version": "3.8.3"
  }
 },
 "nbformat": 4,
 "nbformat_minor": 4
}
